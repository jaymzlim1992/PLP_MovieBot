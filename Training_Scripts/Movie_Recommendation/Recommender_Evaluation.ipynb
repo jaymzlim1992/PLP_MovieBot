{
  "cells": [
    {
      "cell_type": "markdown",
      "id": "8b8fe0ac-cfdb-49fa-8a23-bf341f1f79ec",
      "metadata": {
        "id": "8b8fe0ac-cfdb-49fa-8a23-bf341f1f79ec"
      },
      "source": [
        "# Recommender Evaluation Function\n",
        "---\n",
        "\n",
        "Takes in slot values and prediction function as input \\\n",
        "Perform token match to count number match \\\n",
        "Higher match count should appear in higher rankings of prediction results\n"
      ]
    },
    {
      "cell_type": "markdown",
      "id": "e3f5660b-21ff-49e5-8a93-c7f6eaeba439",
      "metadata": {
        "id": "e3f5660b-21ff-49e5-8a93-c7f6eaeba439"
      },
      "source": [
        "# Imports"
      ]
    },
    {
      "cell_type": "code",
      "execution_count": 1,
      "id": "93f8cba2-62b7-418b-94db-0e8176ed60d3",
      "metadata": {
        "id": "93f8cba2-62b7-418b-94db-0e8176ed60d3"
      },
      "outputs": [],
      "source": [
        "import os\n",
        "import pandas as pd\n",
        "import numpy as np"
      ]
    },
    {
      "cell_type": "markdown",
      "id": "231514b8-7444-4fe0-8c43-8073451c7f0d",
      "metadata": {
        "id": "231514b8-7444-4fe0-8c43-8073451c7f0d"
      },
      "source": [
        "# Load Data"
      ]
    },
    {
      "cell_type": "code",
      "execution_count": 2,
      "id": "47be679a-6079-4709-80d4-d3e8d09e060b",
      "metadata": {
        "id": "47be679a-6079-4709-80d4-d3e8d09e060b"
      },
      "outputs": [],
      "source": [
        "basedir = os.getcwd()\n",
        "data_path = os.path.join(basedir, 'fullset_BoW.csv')"
      ]
    },
    {
      "cell_type": "code",
      "execution_count": 3,
      "id": "cc178bc3-6f6e-43e5-a073-1fe5ee9bf55c",
      "metadata": {
        "colab": {
          "base_uri": "https://localhost:8080/",
          "height": 756
        },
        "id": "cc178bc3-6f6e-43e5-a073-1fe5ee9bf55c",
        "outputId": "090960f8-a102-4df4-c651-e7ae8137ea72"
      },
      "outputs": [
        {
          "output_type": "execute_result",
          "data": {
            "text/plain": [
              "                                Title  \\\n",
              "0                    Toy Story (1995)   \n",
              "1                      Jumanji (1995)   \n",
              "2             Grumpier Old Men (1995)   \n",
              "3            Waiting to Exhale (1995)   \n",
              "4  Father of the Bride Part II (1995)   \n",
              "\n",
              "                                         Genre         Director  \\\n",
              "0  Adventure,Animation,Children,Comedy,Fantasy    John Lasseter   \n",
              "1                   Adventure,Children,Fantasy     Joe Johnston   \n",
              "2                               Comedy,Romance    Howard Deutch   \n",
              "3                         Comedy,Drama,Romance  Forest Whitaker   \n",
              "4                                       Comedy    Charles Shyer   \n",
              "\n",
              "                                              Actors  \\\n",
              "0  Tim Allen, Tom Hanks, Don Rickles, Jim Varney,...   \n",
              "1  Jonathan Hyde, Bradley Pierce, Robin Williams,...   \n",
              "2  Jack Lemmon, Walter Matthau, Ann-Margret , Sop...   \n",
              "3  Angela Bassett, Loretta Devine, Whitney Housto...   \n",
              "4  Steve Martin, Martin Short, Diane Keaton, Kimb...   \n",
              "\n",
              "                                     BoW_genre     BoW_director  \\\n",
              "0  adventure animation children comedy fantasy    john lasseter   \n",
              "1                   adventure children fantasy     joe johnston   \n",
              "2                               comedy romance    howard deutch   \n",
              "3                         comedy drama romance  forest whitaker   \n",
              "4                                       comedy    charles shyer   \n",
              "\n",
              "                                          BoW_actors  \\\n",
              "0  tim allen  tom hanks  don rickles  jim varney ...   \n",
              "1  jonathan hyde  bradley pierce  robin williams ...   \n",
              "2  jack lemmon  walter matthau  ann-margret   sop...   \n",
              "3  angela bassett  loretta devine  whitney housto...   \n",
              "4  steve martin  martin short  diane keaton  kimb...   \n",
              "\n",
              "                                  BoW_genre_director  \\\n",
              "0  adventure animation children comedy fantasy jo...   \n",
              "1           adventure children fantasy joe johnston    \n",
              "2                      comedy romance howard deutch    \n",
              "3              comedy drama romance forest whitaker    \n",
              "4                              comedy charles shyer    \n",
              "\n",
              "                                    BoW_genre_actors  \\\n",
              "0  adventure animation children comedy fantasy ti...   \n",
              "1  adventure children fantasy jonathan hyde  brad...   \n",
              "2  comedy romance jack lemmon  walter matthau  an...   \n",
              "3  comedy drama romance angela bassett  loretta d...   \n",
              "4   comedy steve martin  martin short  diane keaton    \n",
              "\n",
              "                                 BoW_director_actors  \\\n",
              "0   john lasseter tim allen  tom hanks  don rickles    \n",
              "1  joe johnston jonathan hyde  bradley pierce  ro...   \n",
              "2  howard deutch jack lemmon  walter matthau  ann...   \n",
              "3  forest whitaker angela bassett  loretta devine...   \n",
              "4  charles shyer steve martin  martin short  dian...   \n",
              "\n",
              "                                        Bag_of_words  \n",
              "0  adventure animation children comedy fantasy jo...  \n",
              "1  adventure children fantasy joe johnston jonath...  \n",
              "2  comedy romance howard deutch jack lemmon  walt...  \n",
              "3  comedy drama romance forest whitaker angela ba...  \n",
              "4  comedy charles shyer steve martin  martin shor...  "
            ],
            "text/html": [
              "\n",
              "  <div id=\"df-a8017433-a4df-4282-b244-be264044169e\">\n",
              "    <div class=\"colab-df-container\">\n",
              "      <div>\n",
              "<style scoped>\n",
              "    .dataframe tbody tr th:only-of-type {\n",
              "        vertical-align: middle;\n",
              "    }\n",
              "\n",
              "    .dataframe tbody tr th {\n",
              "        vertical-align: top;\n",
              "    }\n",
              "\n",
              "    .dataframe thead th {\n",
              "        text-align: right;\n",
              "    }\n",
              "</style>\n",
              "<table border=\"1\" class=\"dataframe\">\n",
              "  <thead>\n",
              "    <tr style=\"text-align: right;\">\n",
              "      <th></th>\n",
              "      <th>Title</th>\n",
              "      <th>Genre</th>\n",
              "      <th>Director</th>\n",
              "      <th>Actors</th>\n",
              "      <th>BoW_genre</th>\n",
              "      <th>BoW_director</th>\n",
              "      <th>BoW_actors</th>\n",
              "      <th>BoW_genre_director</th>\n",
              "      <th>BoW_genre_actors</th>\n",
              "      <th>BoW_director_actors</th>\n",
              "      <th>Bag_of_words</th>\n",
              "    </tr>\n",
              "  </thead>\n",
              "  <tbody>\n",
              "    <tr>\n",
              "      <th>0</th>\n",
              "      <td>Toy Story (1995)</td>\n",
              "      <td>Adventure,Animation,Children,Comedy,Fantasy</td>\n",
              "      <td>John Lasseter</td>\n",
              "      <td>Tim Allen, Tom Hanks, Don Rickles, Jim Varney,...</td>\n",
              "      <td>adventure animation children comedy fantasy</td>\n",
              "      <td>john lasseter</td>\n",
              "      <td>tim allen  tom hanks  don rickles  jim varney ...</td>\n",
              "      <td>adventure animation children comedy fantasy jo...</td>\n",
              "      <td>adventure animation children comedy fantasy ti...</td>\n",
              "      <td>john lasseter tim allen  tom hanks  don rickles</td>\n",
              "      <td>adventure animation children comedy fantasy jo...</td>\n",
              "    </tr>\n",
              "    <tr>\n",
              "      <th>1</th>\n",
              "      <td>Jumanji (1995)</td>\n",
              "      <td>Adventure,Children,Fantasy</td>\n",
              "      <td>Joe Johnston</td>\n",
              "      <td>Jonathan Hyde, Bradley Pierce, Robin Williams,...</td>\n",
              "      <td>adventure children fantasy</td>\n",
              "      <td>joe johnston</td>\n",
              "      <td>jonathan hyde  bradley pierce  robin williams ...</td>\n",
              "      <td>adventure children fantasy joe johnston</td>\n",
              "      <td>adventure children fantasy jonathan hyde  brad...</td>\n",
              "      <td>joe johnston jonathan hyde  bradley pierce  ro...</td>\n",
              "      <td>adventure children fantasy joe johnston jonath...</td>\n",
              "    </tr>\n",
              "    <tr>\n",
              "      <th>2</th>\n",
              "      <td>Grumpier Old Men (1995)</td>\n",
              "      <td>Comedy,Romance</td>\n",
              "      <td>Howard Deutch</td>\n",
              "      <td>Jack Lemmon, Walter Matthau, Ann-Margret , Sop...</td>\n",
              "      <td>comedy romance</td>\n",
              "      <td>howard deutch</td>\n",
              "      <td>jack lemmon  walter matthau  ann-margret   sop...</td>\n",
              "      <td>comedy romance howard deutch</td>\n",
              "      <td>comedy romance jack lemmon  walter matthau  an...</td>\n",
              "      <td>howard deutch jack lemmon  walter matthau  ann...</td>\n",
              "      <td>comedy romance howard deutch jack lemmon  walt...</td>\n",
              "    </tr>\n",
              "    <tr>\n",
              "      <th>3</th>\n",
              "      <td>Waiting to Exhale (1995)</td>\n",
              "      <td>Comedy,Drama,Romance</td>\n",
              "      <td>Forest Whitaker</td>\n",
              "      <td>Angela Bassett, Loretta Devine, Whitney Housto...</td>\n",
              "      <td>comedy drama romance</td>\n",
              "      <td>forest whitaker</td>\n",
              "      <td>angela bassett  loretta devine  whitney housto...</td>\n",
              "      <td>comedy drama romance forest whitaker</td>\n",
              "      <td>comedy drama romance angela bassett  loretta d...</td>\n",
              "      <td>forest whitaker angela bassett  loretta devine...</td>\n",
              "      <td>comedy drama romance forest whitaker angela ba...</td>\n",
              "    </tr>\n",
              "    <tr>\n",
              "      <th>4</th>\n",
              "      <td>Father of the Bride Part II (1995)</td>\n",
              "      <td>Comedy</td>\n",
              "      <td>Charles Shyer</td>\n",
              "      <td>Steve Martin, Martin Short, Diane Keaton, Kimb...</td>\n",
              "      <td>comedy</td>\n",
              "      <td>charles shyer</td>\n",
              "      <td>steve martin  martin short  diane keaton  kimb...</td>\n",
              "      <td>comedy charles shyer</td>\n",
              "      <td>comedy steve martin  martin short  diane keaton</td>\n",
              "      <td>charles shyer steve martin  martin short  dian...</td>\n",
              "      <td>comedy charles shyer steve martin  martin shor...</td>\n",
              "    </tr>\n",
              "  </tbody>\n",
              "</table>\n",
              "</div>\n",
              "      <button class=\"colab-df-convert\" onclick=\"convertToInteractive('df-a8017433-a4df-4282-b244-be264044169e')\"\n",
              "              title=\"Convert this dataframe to an interactive table.\"\n",
              "              style=\"display:none;\">\n",
              "        \n",
              "  <svg xmlns=\"http://www.w3.org/2000/svg\" height=\"24px\"viewBox=\"0 0 24 24\"\n",
              "       width=\"24px\">\n",
              "    <path d=\"M0 0h24v24H0V0z\" fill=\"none\"/>\n",
              "    <path d=\"M18.56 5.44l.94 2.06.94-2.06 2.06-.94-2.06-.94-.94-2.06-.94 2.06-2.06.94zm-11 1L8.5 8.5l.94-2.06 2.06-.94-2.06-.94L8.5 2.5l-.94 2.06-2.06.94zm10 10l.94 2.06.94-2.06 2.06-.94-2.06-.94-.94-2.06-.94 2.06-2.06.94z\"/><path d=\"M17.41 7.96l-1.37-1.37c-.4-.4-.92-.59-1.43-.59-.52 0-1.04.2-1.43.59L10.3 9.45l-7.72 7.72c-.78.78-.78 2.05 0 2.83L4 21.41c.39.39.9.59 1.41.59.51 0 1.02-.2 1.41-.59l7.78-7.78 2.81-2.81c.8-.78.8-2.07 0-2.86zM5.41 20L4 18.59l7.72-7.72 1.47 1.35L5.41 20z\"/>\n",
              "  </svg>\n",
              "      </button>\n",
              "      \n",
              "  <style>\n",
              "    .colab-df-container {\n",
              "      display:flex;\n",
              "      flex-wrap:wrap;\n",
              "      gap: 12px;\n",
              "    }\n",
              "\n",
              "    .colab-df-convert {\n",
              "      background-color: #E8F0FE;\n",
              "      border: none;\n",
              "      border-radius: 50%;\n",
              "      cursor: pointer;\n",
              "      display: none;\n",
              "      fill: #1967D2;\n",
              "      height: 32px;\n",
              "      padding: 0 0 0 0;\n",
              "      width: 32px;\n",
              "    }\n",
              "\n",
              "    .colab-df-convert:hover {\n",
              "      background-color: #E2EBFA;\n",
              "      box-shadow: 0px 1px 2px rgba(60, 64, 67, 0.3), 0px 1px 3px 1px rgba(60, 64, 67, 0.15);\n",
              "      fill: #174EA6;\n",
              "    }\n",
              "\n",
              "    [theme=dark] .colab-df-convert {\n",
              "      background-color: #3B4455;\n",
              "      fill: #D2E3FC;\n",
              "    }\n",
              "\n",
              "    [theme=dark] .colab-df-convert:hover {\n",
              "      background-color: #434B5C;\n",
              "      box-shadow: 0px 1px 3px 1px rgba(0, 0, 0, 0.15);\n",
              "      filter: drop-shadow(0px 1px 2px rgba(0, 0, 0, 0.3));\n",
              "      fill: #FFFFFF;\n",
              "    }\n",
              "  </style>\n",
              "\n",
              "      <script>\n",
              "        const buttonEl =\n",
              "          document.querySelector('#df-a8017433-a4df-4282-b244-be264044169e button.colab-df-convert');\n",
              "        buttonEl.style.display =\n",
              "          google.colab.kernel.accessAllowed ? 'block' : 'none';\n",
              "\n",
              "        async function convertToInteractive(key) {\n",
              "          const element = document.querySelector('#df-a8017433-a4df-4282-b244-be264044169e');\n",
              "          const dataTable =\n",
              "            await google.colab.kernel.invokeFunction('convertToInteractive',\n",
              "                                                     [key], {});\n",
              "          if (!dataTable) return;\n",
              "\n",
              "          const docLinkHtml = 'Like what you see? Visit the ' +\n",
              "            '<a target=\"_blank\" href=https://colab.research.google.com/notebooks/data_table.ipynb>data table notebook</a>'\n",
              "            + ' to learn more about interactive tables.';\n",
              "          element.innerHTML = '';\n",
              "          dataTable['output_type'] = 'display_data';\n",
              "          await google.colab.output.renderOutput(dataTable, element);\n",
              "          const docLink = document.createElement('div');\n",
              "          docLink.innerHTML = docLinkHtml;\n",
              "          element.appendChild(docLink);\n",
              "        }\n",
              "      </script>\n",
              "    </div>\n",
              "  </div>\n",
              "  "
            ]
          },
          "metadata": {},
          "execution_count": 3
        }
      ],
      "source": [
        "df = pd.read_csv(data_path, index_col=0)\n",
        "df.head()"
      ]
    },
    {
      "cell_type": "code",
      "execution_count": 4,
      "id": "a6a04afe-c70e-415e-ac63-5c33df491ad9",
      "metadata": {
        "id": "a6a04afe-c70e-415e-ac63-5c33df491ad9"
      },
      "outputs": [],
      "source": [
        "data_title = df['Title'].to_numpy()\n",
        "data_genre = df['Genre'].apply(lambda x: \", \".join(x.lower().split(','))).to_numpy()\n",
        "data_director = df['Director'].apply(lambda x: ', '.join([name.strip() for name in x.lower().split(',')[:3]])).to_numpy()\n",
        "data_actor = df['Actors'].apply(lambda x: ', '.join([name.strip() for name in x.lower().split(',')[:3]])).to_numpy()"
      ]
    },
    {
      "cell_type": "code",
      "execution_count": 5,
      "id": "ce4635c5-8034-4b05-aacd-278c9f6849fe",
      "metadata": {
        "colab": {
          "base_uri": "https://localhost:8080/"
        },
        "id": "ce4635c5-8034-4b05-aacd-278c9f6849fe",
        "outputId": "76881776-6eb9-4bb7-f39a-3b2fc97dc20f"
      },
      "outputs": [
        {
          "output_type": "execute_result",
          "data": {
            "text/plain": [
              "array(['adventure, animation, children, comedy, fantasy',\n",
              "       'adventure, children, fantasy', 'comedy, romance', ...,\n",
              "       'documentary', 'comedy, drama', 'action, adventure, drama'],\n",
              "      dtype=object)"
            ]
          },
          "metadata": {},
          "execution_count": 5
        }
      ],
      "source": [
        "data_genre"
      ]
    },
    {
      "cell_type": "markdown",
      "id": "7689c398-4099-40c2-9b90-1a0fb2347f1f",
      "metadata": {
        "id": "7689c398-4099-40c2-9b90-1a0fb2347f1f"
      },
      "source": [
        "# Token Match Function"
      ]
    },
    {
      "cell_type": "code",
      "execution_count": 6,
      "id": "7c8f5ab5-791a-4676-b7ae-e0c3be9dedfb",
      "metadata": {
        "colab": {
          "base_uri": "https://localhost:8080/"
        },
        "id": "7c8f5ab5-791a-4676-b7ae-e0c3be9dedfb",
        "outputId": "92ab0664-26fa-4a9f-8237-c2d167c48a31"
      },
      "outputs": [
        {
          "output_type": "execute_result",
          "data": {
            "text/plain": [
              "0"
            ]
          },
          "metadata": {},
          "execution_count": 6
        }
      ],
      "source": [
        "a = ['a', 'b', 'c']\n",
        "b = 'd'\n",
        "(b in a)*1"
      ]
    },
    {
      "cell_type": "code",
      "execution_count": 7,
      "id": "c0da8259-eeba-4395-a760-9300c459997a",
      "metadata": {
        "id": "c0da8259-eeba-4395-a760-9300c459997a"
      },
      "outputs": [],
      "source": [
        "def token_match_score(genre_input, director_input, actor_input, data):\n",
        "    data_title = data['Title'].to_numpy()\n",
        "    data_genre = data['Genre'].apply(lambda x: ', '.join(x.split(','))).to_numpy()\n",
        "    data_director = data['Director'].apply(lambda x: ', '.join([name.strip() for name in x.split(',')[:3]])).to_numpy()\n",
        "    data_actor = data['Actors'].apply(lambda x: ', '.join([name.strip() for name in x.split(',')[:3]])).to_numpy()\n",
        "    \n",
        "    genre_score = []\n",
        "    director_score = []\n",
        "    actor_score = []\n",
        "    total_score = []\n",
        "    \n",
        "    for i in range(len(data_title)):\n",
        "        if genre_input is not None:\n",
        "            sample_genre_score = (genre_input in data_genre[i].split(', '))*1\n",
        "        else:\n",
        "            sample_genre_score = 0\n",
        "        \n",
        "        if director_input is not None:\n",
        "            sample_director_score = (director_input in data_director[i].split(', '))*1\n",
        "        else:\n",
        "            sample_director_score = 0\n",
        "        \n",
        "        if actor_input is not None:\n",
        "            sample_actor_score = (actor_input in data_director[i].split(', '))*1\n",
        "        else:\n",
        "            sample_actor_score = 0\n",
        "        \n",
        "        sample_total_score = sample_genre_score + sample_director_score + sample_actor_score\n",
        "        \n",
        "        genre_score.append(sample_genre_score)\n",
        "        director_score.append(sample_director_score)\n",
        "        actor_score.append(sample_actor_score)\n",
        "        total_score.append(sample_total_score)\n",
        "        \n",
        "    \n",
        "    result_df = pd.DataFrame(np.array([data_title, data_genre, data_director, data_actor, genre_score, director_score, actor_score, total_score]).T, \n",
        "                            columns=['Title', 'Genre', 'Director', 'Actor', 'Pred_Genre_Score', 'Pred_Director_Score', 'Pred_Actor_Score', 'Pred_Total_Score'])\n",
        "    \n",
        "    return result_df\n",
        "    "
      ]
    },
    {
      "cell_type": "code",
      "execution_count": 15,
      "id": "853e4c83-1f27-453c-8df0-3c3ede10d1ca",
      "metadata": {
        "id": "853e4c83-1f27-453c-8df0-3c3ede10d1ca"
      },
      "outputs": [],
      "source": [
        "# Example\n",
        "\n",
        "# genre_input = 'Crime'\n",
        "# director_input = 'Francis Ford Coppola'\n",
        "# genre_input = 'Adventure'\n",
        "# director_input = 'John Lasseter'\n",
        "genre_input = None\n",
        "director_input = None\n",
        "actor_input = 'Ben Affleck'\n",
        "\n",
        "example_result_df = token_match_score(genre_input, director_input, actor_input, df)\n"
      ]
    },
    {
      "cell_type": "code",
      "execution_count": 17,
      "id": "655e0757-7194-47cf-8986-ac9e9331bf21",
      "metadata": {
        "colab": {
          "base_uri": "https://localhost:8080/",
          "height": 288
        },
        "id": "655e0757-7194-47cf-8986-ac9e9331bf21",
        "outputId": "de59e383-5b2a-47cc-bf40-e503598083f5"
      },
      "outputs": [
        {
          "output_type": "execute_result",
          "data": {
            "text/plain": [
              "                       Title                   Genre     Director  \\\n",
              "11771  Gone Baby Gone (2007)   Crime, Drama, Mystery  Ben Affleck   \n",
              "15080       Town, The (2010)  Crime, Drama, Thriller  Ben Affleck   \n",
              "18347            Argo (2012)         Drama, Thriller  Ben Affleck   \n",
              "38748   Live by Night (2017)            Crime, Drama  Ben Affleck   \n",
              "\n",
              "                                          Actor Pred_Genre_Score  \\\n",
              "11771  Casey Affleck, Morgan Freeman, Ed Harris                0   \n",
              "15080  Ben Affleck, Rebecca Hall, Jeremy Renner                0   \n",
              "18347   Ben Affleck, Bryan Cranston, Alan Arkin                0   \n",
              "38748    Ben Affleck, Zoe Saldana, Elle Fanning                0   \n",
              "\n",
              "      Pred_Director_Score Pred_Actor_Score Pred_Total_Score  \n",
              "11771                   0                1                1  \n",
              "15080                   0                1                1  \n",
              "18347                   0                1                1  \n",
              "38748                   0                1                1  "
            ],
            "text/html": [
              "\n",
              "  <div id=\"df-d3c42617-0b46-41a2-be6f-70670632d122\">\n",
              "    <div class=\"colab-df-container\">\n",
              "      <div>\n",
              "<style scoped>\n",
              "    .dataframe tbody tr th:only-of-type {\n",
              "        vertical-align: middle;\n",
              "    }\n",
              "\n",
              "    .dataframe tbody tr th {\n",
              "        vertical-align: top;\n",
              "    }\n",
              "\n",
              "    .dataframe thead th {\n",
              "        text-align: right;\n",
              "    }\n",
              "</style>\n",
              "<table border=\"1\" class=\"dataframe\">\n",
              "  <thead>\n",
              "    <tr style=\"text-align: right;\">\n",
              "      <th></th>\n",
              "      <th>Title</th>\n",
              "      <th>Genre</th>\n",
              "      <th>Director</th>\n",
              "      <th>Actor</th>\n",
              "      <th>Pred_Genre_Score</th>\n",
              "      <th>Pred_Director_Score</th>\n",
              "      <th>Pred_Actor_Score</th>\n",
              "      <th>Pred_Total_Score</th>\n",
              "    </tr>\n",
              "  </thead>\n",
              "  <tbody>\n",
              "    <tr>\n",
              "      <th>11771</th>\n",
              "      <td>Gone Baby Gone (2007)</td>\n",
              "      <td>Crime, Drama, Mystery</td>\n",
              "      <td>Ben Affleck</td>\n",
              "      <td>Casey Affleck, Morgan Freeman, Ed Harris</td>\n",
              "      <td>0</td>\n",
              "      <td>0</td>\n",
              "      <td>1</td>\n",
              "      <td>1</td>\n",
              "    </tr>\n",
              "    <tr>\n",
              "      <th>15080</th>\n",
              "      <td>Town, The (2010)</td>\n",
              "      <td>Crime, Drama, Thriller</td>\n",
              "      <td>Ben Affleck</td>\n",
              "      <td>Ben Affleck, Rebecca Hall, Jeremy Renner</td>\n",
              "      <td>0</td>\n",
              "      <td>0</td>\n",
              "      <td>1</td>\n",
              "      <td>1</td>\n",
              "    </tr>\n",
              "    <tr>\n",
              "      <th>18347</th>\n",
              "      <td>Argo (2012)</td>\n",
              "      <td>Drama, Thriller</td>\n",
              "      <td>Ben Affleck</td>\n",
              "      <td>Ben Affleck, Bryan Cranston, Alan Arkin</td>\n",
              "      <td>0</td>\n",
              "      <td>0</td>\n",
              "      <td>1</td>\n",
              "      <td>1</td>\n",
              "    </tr>\n",
              "    <tr>\n",
              "      <th>38748</th>\n",
              "      <td>Live by Night (2017)</td>\n",
              "      <td>Crime, Drama</td>\n",
              "      <td>Ben Affleck</td>\n",
              "      <td>Ben Affleck, Zoe Saldana, Elle Fanning</td>\n",
              "      <td>0</td>\n",
              "      <td>0</td>\n",
              "      <td>1</td>\n",
              "      <td>1</td>\n",
              "    </tr>\n",
              "  </tbody>\n",
              "</table>\n",
              "</div>\n",
              "      <button class=\"colab-df-convert\" onclick=\"convertToInteractive('df-d3c42617-0b46-41a2-be6f-70670632d122')\"\n",
              "              title=\"Convert this dataframe to an interactive table.\"\n",
              "              style=\"display:none;\">\n",
              "        \n",
              "  <svg xmlns=\"http://www.w3.org/2000/svg\" height=\"24px\"viewBox=\"0 0 24 24\"\n",
              "       width=\"24px\">\n",
              "    <path d=\"M0 0h24v24H0V0z\" fill=\"none\"/>\n",
              "    <path d=\"M18.56 5.44l.94 2.06.94-2.06 2.06-.94-2.06-.94-.94-2.06-.94 2.06-2.06.94zm-11 1L8.5 8.5l.94-2.06 2.06-.94-2.06-.94L8.5 2.5l-.94 2.06-2.06.94zm10 10l.94 2.06.94-2.06 2.06-.94-2.06-.94-.94-2.06-.94 2.06-2.06.94z\"/><path d=\"M17.41 7.96l-1.37-1.37c-.4-.4-.92-.59-1.43-.59-.52 0-1.04.2-1.43.59L10.3 9.45l-7.72 7.72c-.78.78-.78 2.05 0 2.83L4 21.41c.39.39.9.59 1.41.59.51 0 1.02-.2 1.41-.59l7.78-7.78 2.81-2.81c.8-.78.8-2.07 0-2.86zM5.41 20L4 18.59l7.72-7.72 1.47 1.35L5.41 20z\"/>\n",
              "  </svg>\n",
              "      </button>\n",
              "      \n",
              "  <style>\n",
              "    .colab-df-container {\n",
              "      display:flex;\n",
              "      flex-wrap:wrap;\n",
              "      gap: 12px;\n",
              "    }\n",
              "\n",
              "    .colab-df-convert {\n",
              "      background-color: #E8F0FE;\n",
              "      border: none;\n",
              "      border-radius: 50%;\n",
              "      cursor: pointer;\n",
              "      display: none;\n",
              "      fill: #1967D2;\n",
              "      height: 32px;\n",
              "      padding: 0 0 0 0;\n",
              "      width: 32px;\n",
              "    }\n",
              "\n",
              "    .colab-df-convert:hover {\n",
              "      background-color: #E2EBFA;\n",
              "      box-shadow: 0px 1px 2px rgba(60, 64, 67, 0.3), 0px 1px 3px 1px rgba(60, 64, 67, 0.15);\n",
              "      fill: #174EA6;\n",
              "    }\n",
              "\n",
              "    [theme=dark] .colab-df-convert {\n",
              "      background-color: #3B4455;\n",
              "      fill: #D2E3FC;\n",
              "    }\n",
              "\n",
              "    [theme=dark] .colab-df-convert:hover {\n",
              "      background-color: #434B5C;\n",
              "      box-shadow: 0px 1px 3px 1px rgba(0, 0, 0, 0.15);\n",
              "      filter: drop-shadow(0px 1px 2px rgba(0, 0, 0, 0.3));\n",
              "      fill: #FFFFFF;\n",
              "    }\n",
              "  </style>\n",
              "\n",
              "      <script>\n",
              "        const buttonEl =\n",
              "          document.querySelector('#df-d3c42617-0b46-41a2-be6f-70670632d122 button.colab-df-convert');\n",
              "        buttonEl.style.display =\n",
              "          google.colab.kernel.accessAllowed ? 'block' : 'none';\n",
              "\n",
              "        async function convertToInteractive(key) {\n",
              "          const element = document.querySelector('#df-d3c42617-0b46-41a2-be6f-70670632d122');\n",
              "          const dataTable =\n",
              "            await google.colab.kernel.invokeFunction('convertToInteractive',\n",
              "                                                     [key], {});\n",
              "          if (!dataTable) return;\n",
              "\n",
              "          const docLinkHtml = 'Like what you see? Visit the ' +\n",
              "            '<a target=\"_blank\" href=https://colab.research.google.com/notebooks/data_table.ipynb>data table notebook</a>'\n",
              "            + ' to learn more about interactive tables.';\n",
              "          element.innerHTML = '';\n",
              "          dataTable['output_type'] = 'display_data';\n",
              "          await google.colab.output.renderOutput(dataTable, element);\n",
              "          const docLink = document.createElement('div');\n",
              "          docLink.innerHTML = docLinkHtml;\n",
              "          element.appendChild(docLink);\n",
              "        }\n",
              "      </script>\n",
              "    </div>\n",
              "  </div>\n",
              "  "
            ]
          },
          "metadata": {},
          "execution_count": 17
        }
      ],
      "source": [
        "example_result_df[example_result_df['Pred_Total_Score']==1]"
      ]
    },
    {
      "cell_type": "code",
      "source": [
        "import os\n",
        "# from google.colab import drive\n",
        "\n",
        "import numpy as np\n",
        "import pandas as pd\n",
        "import json\n",
        "import random\n",
        "import time\n",
        "import datetime\n",
        "# from rake_nltk import Rake\n",
        "import pandas as pd\n",
        "from scipy import spatial\n",
        "\n",
        "from sklearn.preprocessing import LabelEncoder, OneHotEncoder\n",
        "from sklearn.model_selection import train_test_split\n",
        "from sklearn.metrics.pairwise import cosine_similarity\n",
        "from sklearn.feature_extraction.text import CountVectorizer, TfidfVectorizer"
      ],
      "metadata": {
        "id": "FgiKJTMj7vIR"
      },
      "execution_count": 18,
      "outputs": [],
      "id": "FgiKJTMj7vIR"
    },
    {
      "cell_type": "code",
      "source": [
        "dict={\n",
        "    \"GDA\" : 'Bag_of_words',\n",
        "    \"GD\"  : 'BoW_genre_director',\n",
        "    \"GA\"  : 'BoW_genre_actors',\n",
        "    \"DA\"  : 'BoW_director_actors',\n",
        "    \"G\"   : 'BoW_genre',\n",
        "    \"D\"   : 'BoW_director',\n",
        "    \"A\"   : 'BoW_actors',\n",
        "}"
      ],
      "metadata": {
        "id": "3bMjhhpFc6IN"
      },
      "execution_count": 19,
      "outputs": [],
      "id": "3bMjhhpFc6IN"
    },
    {
      "cell_type": "code",
      "source": [
        "def recommender(genre, director, actors):\n",
        "  combo = \"\"\n",
        "  search_term=\"\"\n",
        "  if genre != None:\n",
        "    combo += \"G\"\n",
        "    search_term += genre.lower() +\" \"\n",
        "  if director != None:\n",
        "    combo += \"D\"\n",
        "    search_term += director.lower() + \" \"\n",
        "  if actors != None:\n",
        "    combo += \"A\"\n",
        "    search_term += actors.lower()\n",
        "\n",
        "  # count = CountVectorizer()\n",
        "  count = TfidfVectorizer()\n",
        "  count_matrix = count.fit_transform(df[dict[combo]])\n",
        "\n",
        "  count_matrix_search=count.transform([search_term])\n",
        "  cosine_sim = cosine_similarity(count_matrix, count_matrix_search)\n",
        "\n",
        "  def recommend_search(cosine_sim = cosine_sim):\n",
        "    recommended_movies = []\n",
        "    score_series = pd.Series(cosine_sim).sort_values(ascending = False)\n",
        "    top_10_indices = list(score_series.iloc[:10].index)\n",
        "    \n",
        "    #return df.iloc[top_10_indices]\n",
        "    for i in top_10_indices:\n",
        "      recommended_movies.append(f\"Title: {list(df['Title'])[i]}\\nGenre: {list(df['Genre'])[i]}\\nDirector: {list(df['Director'])[i]}\\nActors: {','.join(df['Actors'][i].split(',')[:3])}\")\n",
        "\n",
        "    return recommended_movies\n",
        "\n",
        "  return recommend_search(cosine_sim.flatten())\n",
        "\n",
        "recommender(genre_input,director_input, actor_input)"
      ],
      "metadata": {
        "colab": {
          "base_uri": "https://localhost:8080/"
        },
        "id": "vBnzzJ0kcu6s",
        "outputId": "10dcc872-20c1-4978-e164-80aff652ecf9"
      },
      "execution_count": 40,
      "outputs": [
        {
          "output_type": "execute_result",
          "data": {
            "text/plain": [
              "['Title: Paycheck (2003)\\nGenre: Action,Sci-Fi,Thriller\\nDirector: John Woo\\nActors: Ben Affleck, Uma Thurman, Aaron Eckhart',\n",
              " 'Title: Changing Lanes (2002)\\nGenre: Drama,Thriller\\nDirector: Roger Michell\\nActors: Ben Affleck, Samuel L. Jackson, Toni Collette',\n",
              " \"Title: The Accountant (2016)\\nGenre: Crime,Drama,Thriller\\nDirector: Gavin O'Connor\\nActors: Anna Kendrick,Ben Affleck,J.K. Simmons\",\n",
              " 'Title: Forces of Nature (1999)\\nGenre: Comedy,Romance\\nDirector: Bronwen Hughes\\nActors: Ben Affleck, Steve Zahn, Sandra Bullock',\n",
              " 'Title: Gerry (2002)\\nGenre: Adventure,Drama\\nDirector: Gus Van Sant\\nActors: Matt Damon, Casey Affleck',\n",
              " 'Title: Reindeer Games (2000)\\nGenre: Action,Thriller\\nDirector: John Frankenheimer\\nActors: Ben Affleck, Dennis Farina, Gary Sinise',\n",
              " 'Title: Good Will Hunting (1997)\\nGenre: Drama,Romance\\nDirector: Gus Van Sant\\nActors: Ben Affleck, Matt Damon, Stellan Skarsgård',\n",
              " 'Title: Hollywoodland (2006)\\nGenre: Crime,Drama,Mystery,Thriller\\nDirector: Allen Coulter\\nActors: Adrien Brody, Diane Lane, Ben Affleck',\n",
              " 'Title: Live by Night (2017)\\nGenre: Crime,Drama\\nDirector: Ben Affleck\\nActors: Ben Affleck,Zoe Saldana,Elle Fanning',\n",
              " 'Title: Going All the Way (1997)\\nGenre: Comedy,Drama\\nDirector: Mark Pellington\\nActors: Ben Affleck, Jeremy Davies, Amy Locane']"
            ]
          },
          "metadata": {},
          "execution_count": 40
        }
      ],
      "id": "vBnzzJ0kcu6s"
    },
    {
      "cell_type": "code",
      "source": [
        ""
      ],
      "metadata": {
        "id": "LZcGYKR-673b"
      },
      "id": "LZcGYKR-673b",
      "execution_count": null,
      "outputs": []
    }
  ],
  "metadata": {
    "kernelspec": {
      "display_name": "Python [conda env:py39_gpu1]",
      "language": "python",
      "name": "conda-env-py39_gpu1-py"
    },
    "language_info": {
      "codemirror_mode": {
        "name": "ipython",
        "version": 3
      },
      "file_extension": ".py",
      "mimetype": "text/x-python",
      "name": "python",
      "nbconvert_exporter": "python",
      "pygments_lexer": "ipython3",
      "version": "3.9.7"
    },
    "colab": {
      "name": "Recommender_Evaluation.ipynb",
      "provenance": [],
      "collapsed_sections": []
    }
  },
  "nbformat": 4,
  "nbformat_minor": 5
}