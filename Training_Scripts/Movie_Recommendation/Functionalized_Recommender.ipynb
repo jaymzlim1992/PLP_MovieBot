{
  "nbformat": 4,
  "nbformat_minor": 0,
  "metadata": {
    "colab": {
      "name": "Functionalized_Recommender.ipynb",
      "provenance": [],
      "collapsed_sections": []
    },
    "kernelspec": {
      "name": "python3",
      "display_name": "Python 3"
    },
    "language_info": {
      "name": "python"
    }
  },
  "cells": [
    {
      "cell_type": "markdown",
      "source": [
        "Prerequisites"
      ],
      "metadata": {
        "id": "wFe4iqif_4_x"
      }
    },
    {
      "cell_type": "code",
      "source": [
        "import os\n",
        "# from google.colab import drive\n",
        "\n",
        "import numpy as np\n",
        "import pandas as pd\n",
        "import json\n",
        "import random\n",
        "import time\n",
        "import datetime\n",
        "# from rake_nltk import Rake\n",
        "import pandas as pd\n",
        "from scipy import spatial\n",
        "\n",
        "from sklearn.preprocessing import LabelEncoder, OneHotEncoder\n",
        "from sklearn.model_selection import train_test_split\n",
        "from sklearn.metrics.pairwise import cosine_similarity\n",
        "from sklearn.feature_extraction.text import CountVectorizer, TfidfVectorizer"
      ],
      "metadata": {
        "id": "FgiKJTMj7vIR"
      },
      "execution_count": 5,
      "outputs": []
    },
    {
      "cell_type": "code",
      "source": [
        "df = pd.read_csv('fullset_BoW.csv')"
      ],
      "metadata": {
        "id": "z7ppOFY77qjY"
      },
      "execution_count": 6,
      "outputs": []
    },
    {
      "cell_type": "code",
      "source": [
        "dict={\n",
        "    \"GDA\" : 'Bag_of_words',\n",
        "    \"GD\"  : 'BoW_genre_director',\n",
        "    \"GA\"  : 'BoW_genre_actors',\n",
        "    \"DA\"  : 'BoW_director_actors',\n",
        "    \"G\"   : 'BoW_genre',\n",
        "    \"D\"   : 'BoW_director',\n",
        "    \"A\"   : 'BoW_actors',\n",
        "}"
      ],
      "metadata": {
        "id": "3bMjhhpFc6IN"
      },
      "execution_count": 7,
      "outputs": []
    },
    {
      "cell_type": "markdown",
      "source": [
        "**Function Definition**"
      ],
      "metadata": {
        "id": "GOl0HFSK_9Ad"
      }
    },
    {
      "cell_type": "code",
      "source": [
        "def recommender(genre, director, actors):\n",
        "  combo = \"\"\n",
        "  search_term=\"\"\n",
        "  if genre != None:\n",
        "    combo += \"G\"\n",
        "    search_term += genre.lower() +\" \"\n",
        "  if director != None:\n",
        "    combo += \"D\"\n",
        "    search_term += director.lower() + \" \"\n",
        "  if actors != None:\n",
        "    combo += \"A\"\n",
        "    search_term += actors.lower()\n",
        "\n",
        "  print(combo)\n",
        "  print(search_term)\n",
        "\n",
        "  count = CountVectorizer()\n",
        "  count_matrix = count.fit_transform(df[dict[combo]])\n",
        "\n",
        "  count_matrix_search=count.transform([search_term])\n",
        "  cosine_sim = cosine_similarity(count_matrix, count_matrix_search)\n",
        "\n",
        "  def recommend_search(cosine_sim = cosine_sim):\n",
        "    recommended_movies = []\n",
        "    score_series = pd.Series(cosine_sim).sort_values(ascending = False)\n",
        "    top_10_indices = list(score_series.iloc[:10].index)\n",
        "    \n",
        "    #return df.iloc[top_10_indices]\n",
        "    for i in top_10_indices:\n",
        "      recommended_movies.append(f\"Title: {list(df['Title'])[i]}\\nGenre: {list(df['Genre'])[i]}\\nDirector: {list(df['Director'])[i]}\\nActors: {','.join(df['Actors'][i].split(',')[:3])}\")\n",
        "\n",
        "    return recommended_movies\n",
        "\n",
        "  return recommend_search(cosine_sim.flatten())\n",
        "\n",
        "recommender(\"Crime drama\",\"Francis Ford Coppola\", \"Marlon Brando\")\n",
        "recommender(\"Crime drama\",\"Francis Ford Coppola\", None)\n",
        "recommender(\"Crime drama\",None, \"Marlon Brando\")\n",
        "recommender(None,\"Francis Ford Coppola\", \"Marlon Brando\")\n",
        "recommender(\"Crime drama\",None, None)\n",
        "recommender(None,\"Francis Ford Coppola\", None)\n",
        "recommender(None,None, \"Ben Affleck\")"
      ],
      "metadata": {
        "colab": {
          "base_uri": "https://localhost:8080/"
        },
        "id": "vBnzzJ0kcu6s",
        "outputId": "0b3bb82b-21ea-42bf-89b4-a9d258d9665b"
      },
      "execution_count": 8,
      "outputs": [
        {
          "output_type": "stream",
          "name": "stdout",
          "text": [
            "GDA\n",
            "crime drama francis ford coppola marlon brando\n",
            "GD\n",
            "crime drama francis ford coppola \n",
            "GA\n",
            "crime drama marlon brando\n",
            "DA\n",
            "francis ford coppola marlon brando\n",
            "G\n",
            "crime drama \n",
            "D\n",
            "francis ford coppola \n",
            "A\n",
            "ben affleck\n"
          ]
        },
        {
          "output_type": "execute_result",
          "data": {
            "text/plain": [
              "['Title: Ben Gleib: Neurotic Gangster (2016)\\nGenre: Comedy\\nDirector: Scott L. Montoya\\nActors: Ben Gleib',\n",
              " 'Title: Paycheck (2003)\\nGenre: Action,Sci-Fi,Thriller\\nDirector: John Woo\\nActors: Ben Affleck, Uma Thurman, Aaron Eckhart',\n",
              " 'Title: Forces of Nature (1999)\\nGenre: Comedy,Romance\\nDirector: Bronwen Hughes\\nActors: Ben Affleck, Steve Zahn, Sandra Bullock',\n",
              " 'Title: Changing Lanes (2002)\\nGenre: Drama,Thriller\\nDirector: Roger Michell\\nActors: Ben Affleck, Samuel L. Jackson, Toni Collette',\n",
              " 'Title: Reindeer Games (2000)\\nGenre: Action,Thriller\\nDirector: John Frankenheimer\\nActors: Ben Affleck, Dennis Farina, Gary Sinise',\n",
              " 'Title: Winston Churchill: Walking with Destiny (2010)\\nGenre: Documentary\\nDirector: Richard Trank\\nActors: Ben Kingsley',\n",
              " 'Title: Strapped (2010)\\nGenre: Drama\\nDirector: Joseph Graham\\nActors: Ben Bonenfant',\n",
              " 'Title: Kymatica (2009)\\nGenre: Documentary\\nDirector: Ben Stewart\\nActors: Ben Stewart',\n",
              " 'Title: Bugs (2016)\\nGenre: Documentary\\nDirector: Andreas Johnsen\\nActors: Ben Reade',\n",
              " 'Title: Expelled: No Intelligence Allowed (2008)\\nGenre: Documentary\\nDirector: Nathan Frankowski\\nActors: Ben Stein']"
            ]
          },
          "metadata": {},
          "execution_count": 8
        }
      ]
    },
    {
      "cell_type": "code",
      "source": [
        ""
      ],
      "metadata": {
        "id": "GY7S-uC-v89q"
      },
      "execution_count": null,
      "outputs": []
    }
  ]
}