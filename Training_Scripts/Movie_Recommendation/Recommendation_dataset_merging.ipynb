{
  "nbformat": 4,
  "nbformat_minor": 0,
  "metadata": {
    "colab": {
      "name": "Recommendation_dataset_merging.ipynb",
      "provenance": [],
      "collapsed_sections": []
    },
    "kernelspec": {
      "name": "python3",
      "display_name": "Python 3"
    },
    "language_info": {
      "name": "python"
    }
  },
  "cells": [
    {
      "cell_type": "markdown",
      "metadata": {
        "id": "rlMvQ887kCgN"
      },
      "source": [
        "**JSON**"
      ]
    },
    {
      "cell_type": "code",
      "execution_count": null,
      "metadata": {
        "id": "U6tiZwELX2Ot"
      },
      "outputs": [],
      "source": [
        "import json\n",
        "\n",
        "title=[]\n",
        "actors=[]\n",
        "director=[]\n",
        "gnre=[]\n",
        "\n",
        "f = open('metadata.json')\n",
        "\n",
        "data = [json.loads(line) for line in f]\n",
        "\n",
        "for i in range(len(data)):\n",
        "  title.append(data[i]['title'])\n",
        "  actors.append(data[i]['starring'])\n",
        "  director.append(data[i]['directedBy'])\n",
        "\n",
        "\n",
        "f.close"
      ]
    },
    {
      "cell_type": "code",
      "execution_count": null,
      "metadata": {
        "id": "sEKWR2u6czOB"
      },
      "outputs": [],
      "source": [
        "for index, item in enumerate(actors):\n",
        "    if type(item) != str:\n",
        "      if item.isnan():\n",
        "        actors[index] = \"No one listed\"\n",
        "    elif item == \"\":\n",
        "        actors[index] = \"No one listed\""
      ]
    },
    {
      "cell_type": "code",
      "execution_count": null,
      "metadata": {
        "id": "O7RrU1dS6pVS"
      },
      "outputs": [],
      "source": [
        "for index, item in enumerate(director):\n",
        "    if type(item) != str:\n",
        "      if item.isnan():\n",
        "        director[index] = \"No one listed\"\n",
        "    elif item == \"\":\n",
        "        director[index] = \"No one listed\""
      ]
    },
    {
      "cell_type": "code",
      "execution_count": null,
      "metadata": {
        "id": "yPDEVfNyWAoN"
      },
      "outputs": [],
      "source": [
        "director[3700:3750]"
      ]
    },
    {
      "cell_type": "code",
      "execution_count": null,
      "metadata": {
        "id": "Rype-LNQWAoN"
      },
      "outputs": [],
      "source": [
        "import pandas as pd\n",
        "\n",
        "# movieLens_df = pd.DataFrame (title, columns = ['Title'])\n",
        "# movieLens_df = pd.DataFrame (director, columns = ['Director'])\n",
        "\n",
        "products_list = [title,director,actors]\n",
        "\n",
        "movieLens_df = pd.DataFrame (products_list).transpose()\n",
        "movieLens_df.columns = ['title', 'Director','Actors']\n",
        "\n",
        "\n",
        "movieLens_df.head()"
      ]
    },
    {
      "cell_type": "markdown",
      "metadata": {
        "id": "nmPmthr3Syuy"
      },
      "source": [
        "**Construct Genre dataset**"
      ]
    },
    {
      "cell_type": "code",
      "execution_count": null,
      "metadata": {
        "id": "n2z9Z48gS2Rx"
      },
      "outputs": [],
      "source": [
        "import csv\n",
        "import pandas as pd\n",
        "\n",
        "movies_df = pd.read_csv('movies.csv', usecols = ['title','genres'])\n",
        "\n",
        "movies_df.head()\n"
      ]
    },
    {
      "cell_type": "code",
      "execution_count": null,
      "metadata": {
        "id": "Rx3VoEApW3YU"
      },
      "outputs": [],
      "source": [
        "fullset_df = pd.merge(movies_df,movieLens_df,on='title')"
      ]
    },
    {
      "cell_type": "code",
      "execution_count": null,
      "metadata": {
        "id": "pC7fp6jI0hev"
      },
      "outputs": [],
      "source": [
        "fullset_df.head()"
      ]
    },
    {
      "cell_type": "code",
      "execution_count": null,
      "metadata": {
        "id": "VleSmXY20d8p"
      },
      "outputs": [],
      "source": [
        "fullset_df=fullset_df.rename(columns={\"title\": \"Title\", \"genres\": \"Genre\"})"
      ]
    },
    {
      "cell_type": "code",
      "execution_count": null,
      "metadata": {
        "id": "UYsV0zT57nCE"
      },
      "outputs": [],
      "source": [
        "fullset_df['Title'][0]=='Toy Story (1995)'"
      ]
    },
    {
      "cell_type": "code",
      "execution_count": null,
      "metadata": {
        "id": "2V3eRNcyaeCa"
      },
      "outputs": [],
      "source": [
        "fullset_df.to_csv('fullset.csv')"
      ]
    },
    {
      "cell_type": "markdown",
      "metadata": {
        "id": "m6kmEamJgiFc"
      },
      "source": [
        "**Fix empty data**"
      ]
    },
    {
      "cell_type": "code",
      "execution_count": null,
      "metadata": {
        "id": "SAnhfaaVghi9"
      },
      "outputs": [],
      "source": [
        "df = pd.read_csv('fullset.csv', usecols=['Title','Genre','Director','Actors'])"
      ]
    },
    {
      "cell_type": "code",
      "execution_count": null,
      "metadata": {
        "colab": {
          "base_uri": "https://localhost:8080/",
          "height": 206
        },
        "id": "gSM7NdwbhKWi",
        "outputId": "3fde9ad7-86c9-4b45-be1c-a3da1e71fc54"
      },
      "outputs": [
        {
          "data": {
            "text/html": [
              "\n",
              "  <div id=\"df-fa47bc32-554d-4aa7-9899-b4fd6643a29b\">\n",
              "    <div class=\"colab-df-container\">\n",
              "      <div>\n",
              "<style scoped>\n",
              "    .dataframe tbody tr th:only-of-type {\n",
              "        vertical-align: middle;\n",
              "    }\n",
              "\n",
              "    .dataframe tbody tr th {\n",
              "        vertical-align: top;\n",
              "    }\n",
              "\n",
              "    .dataframe thead th {\n",
              "        text-align: right;\n",
              "    }\n",
              "</style>\n",
              "<table border=\"1\" class=\"dataframe\">\n",
              "  <thead>\n",
              "    <tr style=\"text-align: right;\">\n",
              "      <th></th>\n",
              "      <th>Title</th>\n",
              "      <th>Genre</th>\n",
              "      <th>Director</th>\n",
              "      <th>Actors</th>\n",
              "    </tr>\n",
              "  </thead>\n",
              "  <tbody>\n",
              "    <tr>\n",
              "      <th>0</th>\n",
              "      <td>Toy Story (1995)</td>\n",
              "      <td>Adventure|Animation|Children|Comedy|Fantasy</td>\n",
              "      <td>John Lasseter</td>\n",
              "      <td>Tim Allen, Tom Hanks, Don Rickles, Jim Varney,...</td>\n",
              "    </tr>\n",
              "    <tr>\n",
              "      <th>1</th>\n",
              "      <td>Jumanji (1995)</td>\n",
              "      <td>Adventure|Children|Fantasy</td>\n",
              "      <td>Joe Johnston</td>\n",
              "      <td>Jonathan Hyde, Bradley Pierce, Robin Williams,...</td>\n",
              "    </tr>\n",
              "    <tr>\n",
              "      <th>2</th>\n",
              "      <td>Grumpier Old Men (1995)</td>\n",
              "      <td>Comedy|Romance</td>\n",
              "      <td>Howard Deutch</td>\n",
              "      <td>Jack Lemmon, Walter Matthau, Ann-Margret , Sop...</td>\n",
              "    </tr>\n",
              "    <tr>\n",
              "      <th>3</th>\n",
              "      <td>Waiting to Exhale (1995)</td>\n",
              "      <td>Comedy|Drama|Romance</td>\n",
              "      <td>Forest Whitaker</td>\n",
              "      <td>Angela Bassett, Loretta Devine, Whitney Housto...</td>\n",
              "    </tr>\n",
              "    <tr>\n",
              "      <th>4</th>\n",
              "      <td>Father of the Bride Part II (1995)</td>\n",
              "      <td>Comedy</td>\n",
              "      <td>Charles Shyer</td>\n",
              "      <td>Steve Martin, Martin Short, Diane Keaton, Kimb...</td>\n",
              "    </tr>\n",
              "  </tbody>\n",
              "</table>\n",
              "</div>\n",
              "      <button class=\"colab-df-convert\" onclick=\"convertToInteractive('df-fa47bc32-554d-4aa7-9899-b4fd6643a29b')\"\n",
              "              title=\"Convert this dataframe to an interactive table.\"\n",
              "              style=\"display:none;\">\n",
              "        \n",
              "  <svg xmlns=\"http://www.w3.org/2000/svg\" height=\"24px\"viewBox=\"0 0 24 24\"\n",
              "       width=\"24px\">\n",
              "    <path d=\"M0 0h24v24H0V0z\" fill=\"none\"/>\n",
              "    <path d=\"M18.56 5.44l.94 2.06.94-2.06 2.06-.94-2.06-.94-.94-2.06-.94 2.06-2.06.94zm-11 1L8.5 8.5l.94-2.06 2.06-.94-2.06-.94L8.5 2.5l-.94 2.06-2.06.94zm10 10l.94 2.06.94-2.06 2.06-.94-2.06-.94-.94-2.06-.94 2.06-2.06.94z\"/><path d=\"M17.41 7.96l-1.37-1.37c-.4-.4-.92-.59-1.43-.59-.52 0-1.04.2-1.43.59L10.3 9.45l-7.72 7.72c-.78.78-.78 2.05 0 2.83L4 21.41c.39.39.9.59 1.41.59.51 0 1.02-.2 1.41-.59l7.78-7.78 2.81-2.81c.8-.78.8-2.07 0-2.86zM5.41 20L4 18.59l7.72-7.72 1.47 1.35L5.41 20z\"/>\n",
              "  </svg>\n",
              "      </button>\n",
              "      \n",
              "  <style>\n",
              "    .colab-df-container {\n",
              "      display:flex;\n",
              "      flex-wrap:wrap;\n",
              "      gap: 12px;\n",
              "    }\n",
              "\n",
              "    .colab-df-convert {\n",
              "      background-color: #E8F0FE;\n",
              "      border: none;\n",
              "      border-radius: 50%;\n",
              "      cursor: pointer;\n",
              "      display: none;\n",
              "      fill: #1967D2;\n",
              "      height: 32px;\n",
              "      padding: 0 0 0 0;\n",
              "      width: 32px;\n",
              "    }\n",
              "\n",
              "    .colab-df-convert:hover {\n",
              "      background-color: #E2EBFA;\n",
              "      box-shadow: 0px 1px 2px rgba(60, 64, 67, 0.3), 0px 1px 3px 1px rgba(60, 64, 67, 0.15);\n",
              "      fill: #174EA6;\n",
              "    }\n",
              "\n",
              "    [theme=dark] .colab-df-convert {\n",
              "      background-color: #3B4455;\n",
              "      fill: #D2E3FC;\n",
              "    }\n",
              "\n",
              "    [theme=dark] .colab-df-convert:hover {\n",
              "      background-color: #434B5C;\n",
              "      box-shadow: 0px 1px 3px 1px rgba(0, 0, 0, 0.15);\n",
              "      filter: drop-shadow(0px 1px 2px rgba(0, 0, 0, 0.3));\n",
              "      fill: #FFFFFF;\n",
              "    }\n",
              "  </style>\n",
              "\n",
              "      <script>\n",
              "        const buttonEl =\n",
              "          document.querySelector('#df-fa47bc32-554d-4aa7-9899-b4fd6643a29b button.colab-df-convert');\n",
              "        buttonEl.style.display =\n",
              "          google.colab.kernel.accessAllowed ? 'block' : 'none';\n",
              "\n",
              "        async function convertToInteractive(key) {\n",
              "          const element = document.querySelector('#df-fa47bc32-554d-4aa7-9899-b4fd6643a29b');\n",
              "          const dataTable =\n",
              "            await google.colab.kernel.invokeFunction('convertToInteractive',\n",
              "                                                     [key], {});\n",
              "          if (!dataTable) return;\n",
              "\n",
              "          const docLinkHtml = 'Like what you see? Visit the ' +\n",
              "            '<a target=\"_blank\" href=https://colab.research.google.com/notebooks/data_table.ipynb>data table notebook</a>'\n",
              "            + ' to learn more about interactive tables.';\n",
              "          element.innerHTML = '';\n",
              "          dataTable['output_type'] = 'display_data';\n",
              "          await google.colab.output.renderOutput(dataTable, element);\n",
              "          const docLink = document.createElement('div');\n",
              "          docLink.innerHTML = docLinkHtml;\n",
              "          element.appendChild(docLink);\n",
              "        }\n",
              "      </script>\n",
              "    </div>\n",
              "  </div>\n",
              "  "
            ],
            "text/plain": [
              "                                Title  \\\n",
              "0                    Toy Story (1995)   \n",
              "1                      Jumanji (1995)   \n",
              "2             Grumpier Old Men (1995)   \n",
              "3            Waiting to Exhale (1995)   \n",
              "4  Father of the Bride Part II (1995)   \n",
              "\n",
              "                                         Genre         Director  \\\n",
              "0  Adventure|Animation|Children|Comedy|Fantasy    John Lasseter   \n",
              "1                   Adventure|Children|Fantasy     Joe Johnston   \n",
              "2                               Comedy|Romance    Howard Deutch   \n",
              "3                         Comedy|Drama|Romance  Forest Whitaker   \n",
              "4                                       Comedy    Charles Shyer   \n",
              "\n",
              "                                              Actors  \n",
              "0  Tim Allen, Tom Hanks, Don Rickles, Jim Varney,...  \n",
              "1  Jonathan Hyde, Bradley Pierce, Robin Williams,...  \n",
              "2  Jack Lemmon, Walter Matthau, Ann-Margret , Sop...  \n",
              "3  Angela Bassett, Loretta Devine, Whitney Housto...  \n",
              "4  Steve Martin, Martin Short, Diane Keaton, Kimb...  "
            ]
          },
          "execution_count": 26,
          "metadata": {},
          "output_type": "execute_result"
        }
      ],
      "source": [
        "df.head()"
      ]
    },
    {
      "cell_type": "code",
      "execution_count": null,
      "metadata": {
        "colab": {
          "base_uri": "https://localhost:8080/"
        },
        "id": "ZSsFAsjqg0VZ",
        "outputId": "455fbdeb-51fc-4682-bb13-a9b2d1c160d6"
      },
      "outputs": [
        {
          "data": {
            "text/plain": [
              "0        Adventure|Animation|Children|Comedy|Fantasy\n",
              "1                         Adventure|Children|Fantasy\n",
              "2                                     Comedy|Romance\n",
              "3                               Comedy|Drama|Romance\n",
              "4                                             Comedy\n",
              "                            ...                     \n",
              "62669                                          Drama\n",
              "62670                                    Documentary\n",
              "62671                                   Comedy|Drama\n",
              "62672                             (no genres listed)\n",
              "62673                         Action|Adventure|Drama\n",
              "Name: Genre, Length: 62674, dtype: object"
            ]
          },
          "execution_count": 17,
          "metadata": {},
          "output_type": "execute_result"
        }
      ],
      "source": [
        "df.Genre"
      ]
    },
    {
      "cell_type": "code",
      "execution_count": null,
      "metadata": {
        "id": "Icy0PR1cgrL1"
      },
      "outputs": [],
      "source": [
        "df = df[df.Genre != '(no genres listed)']"
      ]
    },
    {
      "cell_type": "code",
      "execution_count": null,
      "metadata": {
        "id": "OqoN9hwChIOb"
      },
      "outputs": [],
      "source": [
        "df = df[df.Actors != 'No one listed']"
      ]
    },
    {
      "cell_type": "code",
      "execution_count": null,
      "metadata": {
        "id": "T2kdeQW_hO-S"
      },
      "outputs": [],
      "source": [
        "df = df[df.Director != 'No one listed']"
      ]
    },
    {
      "cell_type": "code",
      "execution_count": null,
      "metadata": {
        "colab": {
          "base_uri": "https://localhost:8080/"
        },
        "id": "ExwvJIvThFYI",
        "outputId": "82e5ba12-0637-4d30-bc4c-ec4e3f40cc41"
      },
      "outputs": [
        {
          "data": {
            "text/plain": [
              "53858"
            ]
          },
          "execution_count": 22,
          "metadata": {},
          "output_type": "execute_result"
        }
      ],
      "source": [
        "len(df)"
      ]
    },
    {
      "cell_type": "code",
      "execution_count": null,
      "metadata": {
        "id": "a3_ipXiGif9M"
      },
      "outputs": [],
      "source": [
        "df.reset_index(inplace=True)"
      ]
    },
    {
      "cell_type": "code",
      "execution_count": null,
      "metadata": {
        "id": "Hjgvvs_LiosM"
      },
      "outputs": [],
      "source": [
        "df.drop(columns = 'index', inplace=True)"
      ]
    },
    {
      "cell_type": "code",
      "execution_count": null,
      "metadata": {
        "colab": {
          "base_uri": "https://localhost:8080/",
          "height": 423
        },
        "id": "_UFxczzpjASU",
        "outputId": "57e99ad3-b6ff-46a7-ac54-0c65816909eb"
      },
      "outputs": [
        {
          "data": {
            "text/html": [
              "\n",
              "  <div id=\"df-cfbd89b8-9dc3-44be-a1fd-886cbb55ae79\">\n",
              "    <div class=\"colab-df-container\">\n",
              "      <div>\n",
              "<style scoped>\n",
              "    .dataframe tbody tr th:only-of-type {\n",
              "        vertical-align: middle;\n",
              "    }\n",
              "\n",
              "    .dataframe tbody tr th {\n",
              "        vertical-align: top;\n",
              "    }\n",
              "\n",
              "    .dataframe thead th {\n",
              "        text-align: right;\n",
              "    }\n",
              "</style>\n",
              "<table border=\"1\" class=\"dataframe\">\n",
              "  <thead>\n",
              "    <tr style=\"text-align: right;\">\n",
              "      <th></th>\n",
              "      <th>Title</th>\n",
              "      <th>Genre</th>\n",
              "      <th>Director</th>\n",
              "      <th>Actors</th>\n",
              "    </tr>\n",
              "  </thead>\n",
              "  <tbody>\n",
              "    <tr>\n",
              "      <th>0</th>\n",
              "      <td>Toy Story (1995)</td>\n",
              "      <td>Adventure|Animation|Children|Comedy|Fantasy</td>\n",
              "      <td>John Lasseter</td>\n",
              "      <td>Tim Allen, Tom Hanks, Don Rickles, Jim Varney,...</td>\n",
              "    </tr>\n",
              "    <tr>\n",
              "      <th>1</th>\n",
              "      <td>Jumanji (1995)</td>\n",
              "      <td>Adventure|Children|Fantasy</td>\n",
              "      <td>Joe Johnston</td>\n",
              "      <td>Jonathan Hyde, Bradley Pierce, Robin Williams,...</td>\n",
              "    </tr>\n",
              "    <tr>\n",
              "      <th>2</th>\n",
              "      <td>Grumpier Old Men (1995)</td>\n",
              "      <td>Comedy|Romance</td>\n",
              "      <td>Howard Deutch</td>\n",
              "      <td>Jack Lemmon, Walter Matthau, Ann-Margret , Sop...</td>\n",
              "    </tr>\n",
              "    <tr>\n",
              "      <th>3</th>\n",
              "      <td>Waiting to Exhale (1995)</td>\n",
              "      <td>Comedy|Drama|Romance</td>\n",
              "      <td>Forest Whitaker</td>\n",
              "      <td>Angela Bassett, Loretta Devine, Whitney Housto...</td>\n",
              "    </tr>\n",
              "    <tr>\n",
              "      <th>4</th>\n",
              "      <td>Father of the Bride Part II (1995)</td>\n",
              "      <td>Comedy</td>\n",
              "      <td>Charles Shyer</td>\n",
              "      <td>Steve Martin, Martin Short, Diane Keaton, Kimb...</td>\n",
              "    </tr>\n",
              "    <tr>\n",
              "      <th>...</th>\n",
              "      <td>...</td>\n",
              "      <td>...</td>\n",
              "      <td>...</td>\n",
              "      <td>...</td>\n",
              "    </tr>\n",
              "    <tr>\n",
              "      <th>53853</th>\n",
              "      <td>Santosh Subramaniam (2008)</td>\n",
              "      <td>Action|Comedy|Romance</td>\n",
              "      <td>M. Raja</td>\n",
              "      <td>Jayam Ravi,Genelia D'Souza,Prakash Raj,Sayaji ...</td>\n",
              "    </tr>\n",
              "    <tr>\n",
              "      <th>53854</th>\n",
              "      <td>We (2018)</td>\n",
              "      <td>Drama</td>\n",
              "      <td>Rene Eller</td>\n",
              "      <td>Pauline Casteleyn,Aimé Claeys,Gaia Sofia Cozij...</td>\n",
              "    </tr>\n",
              "    <tr>\n",
              "      <th>53855</th>\n",
              "      <td>Window of the Soul (2001)</td>\n",
              "      <td>Documentary</td>\n",
              "      <td>João Jardim</td>\n",
              "      <td>José Saramago,Marieta Severo,Agnès Varda,Wim W...</td>\n",
              "    </tr>\n",
              "    <tr>\n",
              "      <th>53856</th>\n",
              "      <td>Bad Poems (2018)</td>\n",
              "      <td>Comedy|Drama</td>\n",
              "      <td>Gábor Reisz</td>\n",
              "      <td>Gábor Reisz,Katica Nagy,Niels Schneider,Zsolt ...</td>\n",
              "    </tr>\n",
              "    <tr>\n",
              "      <th>53857</th>\n",
              "      <td>Women of Devil's Island (1962)</td>\n",
              "      <td>Action|Adventure|Drama</td>\n",
              "      <td>Domenico Paolella</td>\n",
              "      <td>Guy Madison,Michèle Mercier,Federica Ranchi,Ma...</td>\n",
              "    </tr>\n",
              "  </tbody>\n",
              "</table>\n",
              "<p>53858 rows × 4 columns</p>\n",
              "</div>\n",
              "      <button class=\"colab-df-convert\" onclick=\"convertToInteractive('df-cfbd89b8-9dc3-44be-a1fd-886cbb55ae79')\"\n",
              "              title=\"Convert this dataframe to an interactive table.\"\n",
              "              style=\"display:none;\">\n",
              "        \n",
              "  <svg xmlns=\"http://www.w3.org/2000/svg\" height=\"24px\"viewBox=\"0 0 24 24\"\n",
              "       width=\"24px\">\n",
              "    <path d=\"M0 0h24v24H0V0z\" fill=\"none\"/>\n",
              "    <path d=\"M18.56 5.44l.94 2.06.94-2.06 2.06-.94-2.06-.94-.94-2.06-.94 2.06-2.06.94zm-11 1L8.5 8.5l.94-2.06 2.06-.94-2.06-.94L8.5 2.5l-.94 2.06-2.06.94zm10 10l.94 2.06.94-2.06 2.06-.94-2.06-.94-.94-2.06-.94 2.06-2.06.94z\"/><path d=\"M17.41 7.96l-1.37-1.37c-.4-.4-.92-.59-1.43-.59-.52 0-1.04.2-1.43.59L10.3 9.45l-7.72 7.72c-.78.78-.78 2.05 0 2.83L4 21.41c.39.39.9.59 1.41.59.51 0 1.02-.2 1.41-.59l7.78-7.78 2.81-2.81c.8-.78.8-2.07 0-2.86zM5.41 20L4 18.59l7.72-7.72 1.47 1.35L5.41 20z\"/>\n",
              "  </svg>\n",
              "      </button>\n",
              "      \n",
              "  <style>\n",
              "    .colab-df-container {\n",
              "      display:flex;\n",
              "      flex-wrap:wrap;\n",
              "      gap: 12px;\n",
              "    }\n",
              "\n",
              "    .colab-df-convert {\n",
              "      background-color: #E8F0FE;\n",
              "      border: none;\n",
              "      border-radius: 50%;\n",
              "      cursor: pointer;\n",
              "      display: none;\n",
              "      fill: #1967D2;\n",
              "      height: 32px;\n",
              "      padding: 0 0 0 0;\n",
              "      width: 32px;\n",
              "    }\n",
              "\n",
              "    .colab-df-convert:hover {\n",
              "      background-color: #E2EBFA;\n",
              "      box-shadow: 0px 1px 2px rgba(60, 64, 67, 0.3), 0px 1px 3px 1px rgba(60, 64, 67, 0.15);\n",
              "      fill: #174EA6;\n",
              "    }\n",
              "\n",
              "    [theme=dark] .colab-df-convert {\n",
              "      background-color: #3B4455;\n",
              "      fill: #D2E3FC;\n",
              "    }\n",
              "\n",
              "    [theme=dark] .colab-df-convert:hover {\n",
              "      background-color: #434B5C;\n",
              "      box-shadow: 0px 1px 3px 1px rgba(0, 0, 0, 0.15);\n",
              "      filter: drop-shadow(0px 1px 2px rgba(0, 0, 0, 0.3));\n",
              "      fill: #FFFFFF;\n",
              "    }\n",
              "  </style>\n",
              "\n",
              "      <script>\n",
              "        const buttonEl =\n",
              "          document.querySelector('#df-cfbd89b8-9dc3-44be-a1fd-886cbb55ae79 button.colab-df-convert');\n",
              "        buttonEl.style.display =\n",
              "          google.colab.kernel.accessAllowed ? 'block' : 'none';\n",
              "\n",
              "        async function convertToInteractive(key) {\n",
              "          const element = document.querySelector('#df-cfbd89b8-9dc3-44be-a1fd-886cbb55ae79');\n",
              "          const dataTable =\n",
              "            await google.colab.kernel.invokeFunction('convertToInteractive',\n",
              "                                                     [key], {});\n",
              "          if (!dataTable) return;\n",
              "\n",
              "          const docLinkHtml = 'Like what you see? Visit the ' +\n",
              "            '<a target=\"_blank\" href=https://colab.research.google.com/notebooks/data_table.ipynb>data table notebook</a>'\n",
              "            + ' to learn more about interactive tables.';\n",
              "          element.innerHTML = '';\n",
              "          dataTable['output_type'] = 'display_data';\n",
              "          await google.colab.output.renderOutput(dataTable, element);\n",
              "          const docLink = document.createElement('div');\n",
              "          docLink.innerHTML = docLinkHtml;\n",
              "          element.appendChild(docLink);\n",
              "        }\n",
              "      </script>\n",
              "    </div>\n",
              "  </div>\n",
              "  "
            ],
            "text/plain": [
              "                                    Title  \\\n",
              "0                        Toy Story (1995)   \n",
              "1                          Jumanji (1995)   \n",
              "2                 Grumpier Old Men (1995)   \n",
              "3                Waiting to Exhale (1995)   \n",
              "4      Father of the Bride Part II (1995)   \n",
              "...                                   ...   \n",
              "53853          Santosh Subramaniam (2008)   \n",
              "53854                           We (2018)   \n",
              "53855           Window of the Soul (2001)   \n",
              "53856                    Bad Poems (2018)   \n",
              "53857      Women of Devil's Island (1962)   \n",
              "\n",
              "                                             Genre           Director  \\\n",
              "0      Adventure|Animation|Children|Comedy|Fantasy      John Lasseter   \n",
              "1                       Adventure|Children|Fantasy       Joe Johnston   \n",
              "2                                   Comedy|Romance      Howard Deutch   \n",
              "3                             Comedy|Drama|Romance    Forest Whitaker   \n",
              "4                                           Comedy      Charles Shyer   \n",
              "...                                            ...                ...   \n",
              "53853                        Action|Comedy|Romance            M. Raja   \n",
              "53854                                        Drama         Rene Eller   \n",
              "53855                                  Documentary        João Jardim   \n",
              "53856                                 Comedy|Drama        Gábor Reisz   \n",
              "53857                       Action|Adventure|Drama  Domenico Paolella   \n",
              "\n",
              "                                                  Actors  \n",
              "0      Tim Allen, Tom Hanks, Don Rickles, Jim Varney,...  \n",
              "1      Jonathan Hyde, Bradley Pierce, Robin Williams,...  \n",
              "2      Jack Lemmon, Walter Matthau, Ann-Margret , Sop...  \n",
              "3      Angela Bassett, Loretta Devine, Whitney Housto...  \n",
              "4      Steve Martin, Martin Short, Diane Keaton, Kimb...  \n",
              "...                                                  ...  \n",
              "53853  Jayam Ravi,Genelia D'Souza,Prakash Raj,Sayaji ...  \n",
              "53854  Pauline Casteleyn,Aimé Claeys,Gaia Sofia Cozij...  \n",
              "53855  José Saramago,Marieta Severo,Agnès Varda,Wim W...  \n",
              "53856  Gábor Reisz,Katica Nagy,Niels Schneider,Zsolt ...  \n",
              "53857  Guy Madison,Michèle Mercier,Federica Ranchi,Ma...  \n",
              "\n",
              "[53858 rows x 4 columns]"
            ]
          },
          "execution_count": 34,
          "metadata": {},
          "output_type": "execute_result"
        }
      ],
      "source": [
        "df"
      ]
    },
    {
      "cell_type": "code",
      "execution_count": null,
      "metadata": {
        "id": "AOBtYHYthV09"
      },
      "outputs": [],
      "source": [
        "df.to_csv('fullset_clean.csv')"
      ]
    }
  ]
}