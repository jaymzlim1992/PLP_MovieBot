{
 "cells": [
  {
   "cell_type": "markdown",
   "metadata": {
    "id": "ue_FXUYkkYqp"
   },
   "source": [
    "# T5 Fine Tuning on Custom Chatbot Dataset\n",
    "\n",
    "Data-to-Text Conditional Generation \\\n",
    "System Response Text Generation\n",
    "\n",
    "---\n",
    "\n",
    "\n",
    "**Practice Module: Practical Language Processing (PLP)**\n",
    "\n",
    "**Group: 17**\n",
    "\n",
    "Members:\n",
    "\n",
    "`Lim Jun Ming`, `A0231523U`\n",
    "\n",
    "`Tadhg Kennedy`, \n",
    "\n",
    "`Gopan Ravikumar Girija`,"
   ]
  },
  {
   "cell_type": "markdown",
   "metadata": {
    "id": "b-in_pUAkjZu"
   },
   "source": [
    "# 0. Initialization"
   ]
  },
  {
   "cell_type": "markdown",
   "metadata": {
    "id": "EFGELXpYkqFy"
   },
   "source": [
    "## Install necessary modules"
   ]
  },
  {
   "cell_type": "code",
   "execution_count": 1,
   "metadata": {
    "colab": {
     "base_uri": "https://localhost:8080/"
    },
    "id": "eMj5ahZFkWOR",
    "outputId": "5070a8f2-6c14-4d91-c694-919e1a4283fa"
   },
   "outputs": [],
   "source": [
    "# !pip install -U transformers"
   ]
  },
  {
   "cell_type": "code",
   "execution_count": 2,
   "metadata": {
    "colab": {
     "base_uri": "https://localhost:8080/"
    },
    "id": "xqjNUmDH2JVo",
    "outputId": "fe6544cc-2768-48ae-c5fc-726675240c5b"
   },
   "outputs": [],
   "source": [
    "# !pip install sentencepiece"
   ]
  },
  {
   "cell_type": "code",
   "execution_count": 3,
   "metadata": {
    "colab": {
     "base_uri": "https://localhost:8080/"
    },
    "id": "LjRn4bRx0nlB",
    "outputId": "50b457ff-ad22-414c-9a38-78462fbbe1d0"
   },
   "outputs": [],
   "source": [
    "# !pip install datasets"
   ]
  },
  {
   "cell_type": "code",
   "execution_count": 4,
   "metadata": {
    "colab": {
     "base_uri": "https://localhost:8080/"
    },
    "id": "W8ehmZKuOfcD",
    "outputId": "733cb793-2bef-4b90-b508-92ca7a205352"
   },
   "outputs": [],
   "source": [
    "# !pip install sacrebleu"
   ]
  },
  {
   "cell_type": "code",
   "execution_count": 5,
   "metadata": {
    "colab": {
     "base_uri": "https://localhost:8080/"
    },
    "id": "NfW22mTwknC2",
    "outputId": "27789440-ee02-4b60-ce4c-5940fad9d951"
   },
   "outputs": [],
   "source": [
    "# !pip install torchinfo"
   ]
  },
  {
   "cell_type": "markdown",
   "metadata": {
    "id": "Xvj3piW4kwhH"
   },
   "source": [
    "## Imports"
   ]
  },
  {
   "cell_type": "code",
   "execution_count": 6,
   "metadata": {
    "id": "zrHrcrBiknjs"
   },
   "outputs": [],
   "source": [
    "import os\n",
    "# from google.colab import drive\n",
    "\n",
    "import numpy as np\n",
    "import pandas as pd\n",
    "import json\n",
    "import random\n",
    "import time\n",
    "import datetime\n",
    "import matplotlib.pyplot as plt\n",
    "import pickle\n",
    "from sklearn.model_selection import train_test_split\n",
    "\n",
    "# from sklearn.preprocessing import LabelEncoder, OneHotEncoder\n",
    "# from sklearn.model_selection import train_test_split\n",
    "\n",
    "from transformers import T5Tokenizer, T5ForConditionalGeneration, T5Config\n",
    "import datasets\n",
    "\n",
    "import torch\n",
    "import torch.nn as nn\n",
    "from torchinfo import summary\n",
    "from torch.utils.data import Dataset, DataLoader, RandomSampler, SequentialSampler\n"
   ]
  },
  {
   "cell_type": "markdown",
   "metadata": {
    "id": "9N_IM3Snk1uC"
   },
   "source": [
    "## Mounting Drive"
   ]
  },
  {
   "cell_type": "code",
   "execution_count": 7,
   "metadata": {
    "colab": {
     "base_uri": "https://localhost:8080/"
    },
    "id": "kFpLfwFMknoI",
    "outputId": "720e7054-bf29-41d2-9e89-1b402763c889"
   },
   "outputs": [],
   "source": [
    "# # Mounting to Google Driveg\n",
    "# drive.mount('/content/gdrive')\n",
    "\n",
    "# # Change Working Directory\n",
    "# os.chdir('/content/gdrive/My Drive/iss/plp_pm/')"
   ]
  },
  {
   "cell_type": "markdown",
   "metadata": {
    "id": "zEqJ7Vy8k5uR"
   },
   "source": [
    "## Pytorch Setup"
   ]
  },
  {
   "cell_type": "code",
   "execution_count": 8,
   "metadata": {
    "colab": {
     "base_uri": "https://localhost:8080/"
    },
    "id": "4GdwS1BoknrB",
    "outputId": "1c0e744a-a019-45e7-f412-599360649259"
   },
   "outputs": [
    {
     "name": "stdout",
     "output_type": "stream",
     "text": [
      "1.10.1+cu113\n",
      "11.3\n",
      "8200\n",
      "----------\n",
      "There are 1 GPU(s) available.\n",
      "We will use the GPU: NVIDIA GeForce RTX 2080 Ti\n"
     ]
    }
   ],
   "source": [
    "# Print Torch version\n",
    "print(torch.__version__)\n",
    "print(torch.version.cuda)\n",
    "print(torch.backends.cudnn.version())\n",
    "print('-' * 10)\n",
    "\n",
    "# Check GPU\n",
    "if torch.cuda.is_available():    \n",
    "    device = torch.device(\"cuda\")\n",
    "    print('There are %d GPU(s) available.' % torch.cuda.device_count())\n",
    "    print('We will use the GPU:', torch.cuda.get_device_name(0))\n",
    "else:\n",
    "    print('No GPU available, using the CPU instead.')\n",
    "    device = torch.device(\"cpu\")"
   ]
  },
  {
   "cell_type": "code",
   "execution_count": 9,
   "metadata": {
    "id": "GTA7FVf8kntv"
   },
   "outputs": [],
   "source": [
    "seed=17\n",
    "\n",
    "random.seed(seed)\n",
    "np.random.seed(seed)\n",
    "torch.manual_seed(seed)\n",
    "torch.cuda.manual_seed_all(seed)\n",
    "\n",
    "# Device configuration\n",
    "device = torch.device(\"cuda\" if torch.cuda.is_available() else \"cpu\")\n",
    "\n",
    "os.environ['CUDA_VISIBLE_DEVICES'] = '0'\n",
    "torch.cuda.empty_cache()\n",
    "\n"
   ]
  },
  {
   "cell_type": "code",
   "execution_count": 10,
   "metadata": {
    "colab": {
     "base_uri": "https://localhost:8080/"
    },
    "id": "BdAOsqX-knwW",
    "outputId": "536c0005-4913-494a-eace-9d596baa11c7"
   },
   "outputs": [
    {
     "name": "stdout",
     "output_type": "stream",
     "text": [
      "Tue Apr 12 01:23:02 2022       \n",
      "+-----------------------------------------------------------------------------+\n",
      "| NVIDIA-SMI 512.15       Driver Version: 512.15       CUDA Version: 11.6     |\n",
      "|-------------------------------+----------------------+----------------------+\n",
      "| GPU  Name            TCC/WDDM | Bus-Id        Disp.A | Volatile Uncorr. ECC |\n",
      "| Fan  Temp  Perf  Pwr:Usage/Cap|         Memory-Usage | GPU-Util  Compute M. |\n",
      "|                               |                      |               MIG M. |\n",
      "|===============================+======================+======================|\n",
      "|   0  NVIDIA GeForce ... WDDM  | 00000000:01:00.0  On |                  N/A |\n",
      "| 18%   59C    P0    50W / 400W |   2816MiB / 11264MiB |      0%      Default |\n",
      "|                               |                      |                  N/A |\n",
      "+-------------------------------+----------------------+----------------------+\n",
      "                                                                               \n",
      "+-----------------------------------------------------------------------------+\n",
      "| Processes:                                                                  |\n",
      "|  GPU   GI   CI        PID   Type   Process name                  GPU Memory |\n",
      "|        ID   ID                                                   Usage      |\n",
      "|=============================================================================|\n",
      "|    0   N/A  N/A      2000    C+G   ...t\\Teams\\current\\Teams.exe    N/A      |\n",
      "|    0   N/A  N/A      4864    C+G   ...me\\Application\\chrome.exe    N/A      |\n",
      "|    0   N/A  N/A      6852    C+G   ...oot\\Office16\\POWERPNT.EXE    N/A      |\n",
      "|    0   N/A  N/A      7824    C+G   ...2txyewy\\TextInputHost.exe    N/A      |\n",
      "|    0   N/A  N/A     11304    C+G   ...ekyb3d8bbwe\\YourPhone.exe    N/A      |\n",
      "|    0   N/A  N/A     13592    C+G   ...cw5n1h2txyewy\\LockApp.exe    N/A      |\n",
      "|    0   N/A  N/A     14476    C+G                                   N/A      |\n",
      "|    0   N/A  N/A     15964    C+G   ...wekyb3d8bbwe\\Video.UI.exe    N/A      |\n",
      "|    0   N/A  N/A     16764    C+G   ...artMenuExperienceHost.exe    N/A      |\n",
      "|    0   N/A  N/A     17700    C+G   ...bbwe\\Microsoft.Photos.exe    N/A      |\n",
      "|    0   N/A  N/A     20456    C+G   ...t\\Teams\\current\\Teams.exe    N/A      |\n",
      "|    0   N/A  N/A     21752    C+G   C:\\Windows\\explorer.exe         N/A      |\n",
      "|    0   N/A  N/A     23248    C+G   ...y\\ShellExperienceHost.exe    N/A      |\n",
      "|    0   N/A  N/A     23616    C+G   ...root\\Office16\\OUTLOOK.EXE    N/A      |\n",
      "|    0   N/A  N/A     25088    C+G   ...ogi\\LogiBolt\\LogiBolt.exe    N/A      |\n",
      "|    0   N/A  N/A     25168    C+G   ...e\\Current\\LogiOverlay.exe    N/A      |\n",
      "|    0   N/A  N/A     25720    C+G   ...in7x64\\steamwebhelper.exe    N/A      |\n",
      "|    0   N/A  N/A     28456    C+G   ...8wekyb3d8bbwe\\Cortana.exe    N/A      |\n",
      "|    0   N/A  N/A     31076    C+G   ...5n1h2txyewy\\SearchApp.exe    N/A      |\n",
      "|    0   N/A  N/A     31144    C+G   ...kyb3d8bbwe\\Calculator.exe    N/A      |\n",
      "|    0   N/A  N/A     31248    C+G   ...lPanel\\SystemSettings.exe    N/A      |\n",
      "|    0   N/A  N/A     31720    C+G   ...ram Files\\LGHUB\\lghub.exe    N/A      |\n",
      "|    0   N/A  N/A     32048    C+G   ...IR iCUE Software\\iCUE.exe    N/A      |\n",
      "+-----------------------------------------------------------------------------+\n"
     ]
    }
   ],
   "source": [
    "!nvidia-smi"
   ]
  },
  {
   "cell_type": "markdown",
   "metadata": {
    "id": "pOp-89dhk_7U"
   },
   "source": [
    "## File Paths"
   ]
  },
  {
   "cell_type": "code",
   "execution_count": 11,
   "metadata": {
    "colab": {
     "base_uri": "https://localhost:8080/"
    },
    "id": "Ik5MxuMNknzE",
    "outputId": "8b989d32-f51c-4d12-d728-650eda4ff0cc"
   },
   "outputs": [
    {
     "name": "stdout",
     "output_type": "stream",
     "text": [
      "D:\\Personal\\Education\\NUS-ISS Mtech IS\\Course Materials\\4. Practical Language Processing (PLP)\\0. PLP Project\\Code\\NLG\n",
      "D:\\Personal\\Education\\NUS-ISS Mtech IS\\Course Materials\\4. Practical Language Processing (PLP)\\0. PLP Project\\Code\\NLG\\Data\n"
     ]
    }
   ],
   "source": [
    "basedir = os.getcwd()\n",
    "datadir = os.path.join(basedir, 'Data')\n",
    "print(basedir)\n",
    "print(datadir)\n",
    "\n"
   ]
  },
  {
   "cell_type": "markdown",
   "metadata": {
    "id": "USxnP5vzlwEm"
   },
   "source": [
    "# 1. Data Preparation"
   ]
  },
  {
   "cell_type": "markdown",
   "metadata": {},
   "source": [
    "## >> DATA PARAMETERS"
   ]
  },
  {
   "cell_type": "code",
   "execution_count": 12,
   "metadata": {},
   "outputs": [],
   "source": [
    "# Data Parameters\n",
    "\n",
    "BATCH_SIZE = 64\n",
    "MAX_LENGTH = 64 # With some buffer given the longest input number of token = 28\n",
    "MODEL_NAME = 't5-small'"
   ]
  },
  {
   "cell_type": "markdown",
   "metadata": {
    "id": "41flDj3Sl0F5"
   },
   "source": [
    "## Load Data"
   ]
  },
  {
   "cell_type": "code",
   "execution_count": 13,
   "metadata": {},
   "outputs": [
    {
     "name": "stdout",
     "output_type": "stream",
     "text": [
      "Number of data points : 1030\n",
      "--------------------------------------------------\n",
      "<class 'pandas.core.frame.DataFrame'>\n",
      "Int64Index: 1030 entries, 0 to 1029\n",
      "Data columns (total 4 columns):\n",
      " #   Column    Non-Null Count  Dtype \n",
      "---  ------    --------------  ----- \n",
      " 0   Code      1030 non-null   object\n",
      " 1   Text      1030 non-null   object\n",
      " 2   Type      1030 non-null   object\n",
      " 3   Sub-Type  1030 non-null   object\n",
      "dtypes: object(4)\n",
      "memory usage: 40.2+ KB\n",
      "None\n"
     ]
    },
    {
     "data": {
      "text/html": [
       "<div>\n",
       "<style scoped>\n",
       "    .dataframe tbody tr th:only-of-type {\n",
       "        vertical-align: middle;\n",
       "    }\n",
       "\n",
       "    .dataframe tbody tr th {\n",
       "        vertical-align: top;\n",
       "    }\n",
       "\n",
       "    .dataframe thead th {\n",
       "        text-align: right;\n",
       "    }\n",
       "</style>\n",
       "<table border=\"1\" class=\"dataframe\">\n",
       "  <thead>\n",
       "    <tr style=\"text-align: right;\">\n",
       "      <th></th>\n",
       "      <th>Code</th>\n",
       "      <th>Text</th>\n",
       "      <th>Type</th>\n",
       "      <th>Sub-Type</th>\n",
       "    </tr>\n",
       "  </thead>\n",
       "  <tbody>\n",
       "    <tr>\n",
       "      <th>0</th>\n",
       "      <td>MOVIE_RECOMMEND REQUEST ( genre = ? ; directed...</td>\n",
       "      <td>Do you have any preference on the movie genre,...</td>\n",
       "      <td>MOVIE_RECOMMEND REQUEST</td>\n",
       "      <td>MOVIE_RECOMMEND REQUEST</td>\n",
       "    </tr>\n",
       "    <tr>\n",
       "      <th>1</th>\n",
       "      <td>MOVIE_RECOMMEND REQUEST ( genre = ? ; directed...</td>\n",
       "      <td>Any preference on the genre, directors or acto...</td>\n",
       "      <td>MOVIE_RECOMMEND REQUEST</td>\n",
       "      <td>MOVIE_RECOMMEND REQUEST</td>\n",
       "    </tr>\n",
       "    <tr>\n",
       "      <th>2</th>\n",
       "      <td>MOVIE_RECOMMEND REQUEST ( genre = ? ; directed...</td>\n",
       "      <td>What kind of movie do you like? Any movie genr...</td>\n",
       "      <td>MOVIE_RECOMMEND REQUEST</td>\n",
       "      <td>MOVIE_RECOMMEND REQUEST</td>\n",
       "    </tr>\n",
       "    <tr>\n",
       "      <th>3</th>\n",
       "      <td>MOVIE_RECOMMEND REQUEST ( genre = ? ; directed...</td>\n",
       "      <td>Any movie genre, directors or actors you have ...</td>\n",
       "      <td>MOVIE_RECOMMEND REQUEST</td>\n",
       "      <td>MOVIE_RECOMMEND REQUEST</td>\n",
       "    </tr>\n",
       "    <tr>\n",
       "      <th>4</th>\n",
       "      <td>MOVIE_RECOMMEND REQUEST ( genre = ? ; directed...</td>\n",
       "      <td>What type of movie do you like? Any movie genr...</td>\n",
       "      <td>MOVIE_RECOMMEND REQUEST</td>\n",
       "      <td>MOVIE_RECOMMEND REQUEST</td>\n",
       "    </tr>\n",
       "  </tbody>\n",
       "</table>\n",
       "</div>"
      ],
      "text/plain": [
       "                                                Code  \\\n",
       "0  MOVIE_RECOMMEND REQUEST ( genre = ? ; directed...   \n",
       "1  MOVIE_RECOMMEND REQUEST ( genre = ? ; directed...   \n",
       "2  MOVIE_RECOMMEND REQUEST ( genre = ? ; directed...   \n",
       "3  MOVIE_RECOMMEND REQUEST ( genre = ? ; directed...   \n",
       "4  MOVIE_RECOMMEND REQUEST ( genre = ? ; directed...   \n",
       "\n",
       "                                                Text                     Type  \\\n",
       "0  Do you have any preference on the movie genre,...  MOVIE_RECOMMEND REQUEST   \n",
       "1  Any preference on the genre, directors or acto...  MOVIE_RECOMMEND REQUEST   \n",
       "2  What kind of movie do you like? Any movie genr...  MOVIE_RECOMMEND REQUEST   \n",
       "3  Any movie genre, directors or actors you have ...  MOVIE_RECOMMEND REQUEST   \n",
       "4  What type of movie do you like? Any movie genr...  MOVIE_RECOMMEND REQUEST   \n",
       "\n",
       "                  Sub-Type  \n",
       "0  MOVIE_RECOMMEND REQUEST  \n",
       "1  MOVIE_RECOMMEND REQUEST  \n",
       "2  MOVIE_RECOMMEND REQUEST  \n",
       "3  MOVIE_RECOMMEND REQUEST  \n",
       "4  MOVIE_RECOMMEND REQUEST  "
      ]
     },
     "execution_count": 13,
     "metadata": {},
     "output_type": "execute_result"
    }
   ],
   "source": [
    "# Read Data File\n",
    "\n",
    "data_path = os.path.join(datadir, 'Custom_Dataset')\n",
    "data_path = os.path.join(data_path, 'SYSTEM_NLG_Custom_Dataset_Clean.xlsx')\n",
    "\n",
    "df = pd.read_excel(data_path, index_col=0)\n",
    "\n",
    "print('Number of data points :', len(df))\n",
    "print('-'* 50)\n",
    "print(df.info())\n",
    "df.head()"
   ]
  },
  {
   "cell_type": "code",
   "execution_count": 14,
   "metadata": {},
   "outputs": [
    {
     "name": "stdout",
     "output_type": "stream",
     "text": [
      "Distribution by Type\n",
      "----------------------------------------------------------------------\n",
      "MOVIE_RECOMMEND NOTIFY_SEARCHING    160\n",
      "MOVIE_RECOMMEND NOTIFY_SUCCESS      160\n",
      "MOVIE_RECOMMEND NOTIFY_FAILURE      160\n",
      "MOVIE_RECOMMEND REQUEST             100\n",
      "MOVIE_SENTIMENT REQUEST             100\n",
      "MOVIE_SENTIMENT NOTIFY_SEARCHING     50\n",
      "MOVIE_SENTIMENT NOTIFY_SUCCESS       50\n",
      "MOVIE_SENTIMENT NOTIFY_FAILURE       50\n",
      "MOVIE_RECOMMEND REQ_MORE             50\n",
      "MOVIE_SENTIMENT REQ_MORE             50\n",
      "MOVIE_RECOMMEND GOODBYE              50\n",
      "MOVIE_SENTIMENT GOODBYE              50\n",
      "Name: Type, dtype: int64\n",
      "====================================================================================================\n",
      "Distribution by Sub-type\n",
      "----------------------------------------------------------------------\n",
      "MOVIE_RECOMMEND REQUEST                                  100\n",
      "MOVIE_SENTIMENT REQUEST                                  100\n",
      "MOVIE_SENTIMENT NOTIFY_SEARCHING                          50\n",
      "MOVIE_RECOMMEND GOODBYE                                   50\n",
      "MOVIE_SENTIMENT REQ_MORE                                  50\n",
      "MOVIE_RECOMMEND REQ_MORE                                  50\n",
      "MOVIE_SENTIMENT NOTIFY_FAILURE                            50\n",
      "MOVIE_SENTIMENT NOTIFY_SUCCESS                            50\n",
      "MOVIE_SENTIMENT GOODBYE                                   50\n",
      "MOVIE_RECOMMEND NOTIFY_FAILURE director                   25\n",
      "MOVIE_RECOMMEND NOTIFY_SUCCESS genre                      25\n",
      "MOVIE_RECOMMEND NOTIFY_SEARCHING genre                    25\n",
      "MOVIE_RECOMMEND NOTIFY_SEARCHING director                 25\n",
      "MOVIE_RECOMMEND NOTIFY_SEARCHING actor                    25\n",
      "MOVIE_RECOMMEND NOTIFY_SEARCHING genre director           25\n",
      "MOVIE_RECOMMEND NOTIFY_FAILURE director actor             25\n",
      "MOVIE_RECOMMEND NOTIFY_FAILURE genre actor                25\n",
      "MOVIE_RECOMMEND NOTIFY_FAILURE genre director             25\n",
      "MOVIE_RECOMMEND NOTIFY_FAILURE actor                      25\n",
      "MOVIE_RECOMMEND NOTIFY_SUCCESS director actor             25\n",
      "MOVIE_RECOMMEND NOTIFY_FAILURE genre                      25\n",
      "MOVIE_RECOMMEND NOTIFY_SEARCHING genre actor              25\n",
      "MOVIE_RECOMMEND NOTIFY_SEARCHING director actor           25\n",
      "MOVIE_RECOMMEND NOTIFY_SUCCESS genre actor                25\n",
      "MOVIE_RECOMMEND NOTIFY_SUCCESS genre director             25\n",
      "MOVIE_RECOMMEND NOTIFY_SUCCESS actor                      25\n",
      "MOVIE_RECOMMEND NOTIFY_SUCCESS director                   25\n",
      "MOVIE_RECOMMEND NOTIFY_SUCCESS genre director actor       10\n",
      "MOVIE_RECOMMEND NOTIFY_FAILURE genre director actor       10\n",
      "MOVIE_RECOMMEND NOTIFY_SEARCHING genre director actor     10\n",
      "Name: Sub-Type, dtype: int64\n"
     ]
    }
   ],
   "source": [
    "# Data Code and Data Text\n",
    "\n",
    "df_code = df['Code']\n",
    "df_text = df['Text']\n",
    "data_df = df[['Code', 'Text']]\n",
    "# Code Type and Sub-type (for stratify train-test split)\n",
    "\n",
    "df_type = df['Type']\n",
    "df_subtype = df['Sub-Type']\n",
    "\n",
    "print('Distribution by Type')\n",
    "print('-' * 70)\n",
    "print(df_type.value_counts())\n",
    "print('=' * 100)\n",
    "print('Distribution by Sub-type')\n",
    "print('-' * 70)\n",
    "print(df_subtype.value_counts())\n"
   ]
  },
  {
   "cell_type": "code",
   "execution_count": 15,
   "metadata": {},
   "outputs": [
    {
     "name": "stdout",
     "output_type": "stream",
     "text": [
      "Longest tokens of Control Code : 18\n",
      "Shorted tokens of Control Code : 2\n",
      "Longest tokens of Target Text  : 26\n",
      "Shorted tokens of Target Text  : 2\n"
     ]
    }
   ],
   "source": [
    "# Quick check for token length\n",
    "\n",
    "code_len = np.array([len(x.split(' ')) for x in df_code])\n",
    "text_len = np.array([len(x.split(' ')) for x in df_text])\n",
    "\n",
    "print('Longest tokens of Control Code :', code_len.max())\n",
    "print('Shorted tokens of Control Code :', code_len.min())\n",
    "print('Longest tokens of Target Text  :', text_len.max())\n",
    "print('Shorted tokens of Target Text  :', text_len.min())"
   ]
  },
  {
   "cell_type": "markdown",
   "metadata": {},
   "source": [
    "## Train-Val Split"
   ]
  },
  {
   "cell_type": "markdown",
   "metadata": {},
   "source": [
    "For Fine-Tuning on custom dataset"
   ]
  },
  {
   "cell_type": "code",
   "execution_count": 16,
   "metadata": {},
   "outputs": [
    {
     "name": "stdout",
     "output_type": "stream",
     "text": [
      "Number of training samples   : 824\n",
      "Number of validation samples : 206\n"
     ]
    }
   ],
   "source": [
    "# Train-Val Split\n",
    "idx = range(len(data_df))\n",
    "stratify_label = df_type\n",
    "\n",
    "VAL_RATIO = 0.2\n",
    "\n",
    "train_idx, val_idx, _, _ = train_test_split(idx, stratify_label, stratify=stratify_label, test_size=VAL_RATIO, random_state=seed)\n",
    "\n",
    "data_train_df = data_df.iloc[train_idx, :].reset_index(drop=True)\n",
    "data_val_df = data_df.iloc[val_idx, :].reset_index(drop=True)\n",
    "\n",
    "print('Number of training samples   :', len(data_train_df))\n",
    "print('Number of validation samples :', len(data_val_df))"
   ]
  },
  {
   "cell_type": "markdown",
   "metadata": {
    "id": "Peh4iyREmq4k"
   },
   "source": [
    "## Load T5 Tokenizer"
   ]
  },
  {
   "cell_type": "code",
   "execution_count": 17,
   "metadata": {
    "colab": {
     "base_uri": "https://localhost:8080/"
    },
    "id": "mqFJa0oslkHi",
    "outputId": "8fadae42-c2f7-40fb-b9b9-3553970d47b4"
   },
   "outputs": [
    {
     "name": "stdout",
     "output_type": "stream",
     "text": [
      "Special Tokens Added, vocab size = 32100\n"
     ]
    }
   ],
   "source": [
    "# Initialize GPT2 Tokenizer from HuggingFace-Transformer\n",
    "\n",
    "tokenizer = T5Tokenizer.from_pretrained(MODEL_NAME)\n",
    "# num_special_tokens = tokenizer.add_special_tokens(SPECIAL_TOKENS)\n",
    "print(f'Special Tokens Added, vocab size = {len(tokenizer)}')"
   ]
  },
  {
   "cell_type": "code",
   "execution_count": 18,
   "metadata": {
    "colab": {
     "base_uri": "https://localhost:8080/"
    },
    "id": "HlWtaccslkFF",
    "outputId": "4083752b-dd15-4fd0-89ca-c1ee4f5aaa9d"
   },
   "outputs": [
    {
     "name": "stdout",
     "output_type": "stream",
     "text": [
      "----------------------------------------------------------------------------------------------------\n",
      "Original Text:\n",
      "----------------------------------------------------------------------------------------------------\n",
      "MOVIE_RECOMMEND NOTIFY_FAILURE ( genre = comedy )\n",
      "Sorry, but I wasn't able to find any match for comedy films\n",
      "\n",
      "----------------------------------------------------------------------------------------------------\n",
      "Tokenization Outputs:\n",
      "----------------------------------------------------------------------------------------------------\n",
      "{'input_ids': tensor([[11342,     6,    68,    27,  2088,    31,    17,     3,   179,    12,\n",
      "           253,   136,  1588,    21, 12373,  4852,     1,     0,     0,     0,\n",
      "             0,     0,     0,     0,     0,     0,     0,     0,     0,     0,\n",
      "             0,     0,     0,     0,     0,     0,     0,     0,     0,     0,\n",
      "             0,     0,     0,     0,     0,     0,     0,     0,     0,     0,\n",
      "             0,     0,     0,     0,     0,     0,     0,     0,     0,     0,\n",
      "             0,     0,     0,     0]]), 'attention_mask': tensor([[1, 1, 1, 1, 1, 1, 1, 1, 1, 1, 1, 1, 1, 1, 1, 1, 1, 0, 0, 0, 0, 0, 0, 0,\n",
      "         0, 0, 0, 0, 0, 0, 0, 0, 0, 0, 0, 0, 0, 0, 0, 0, 0, 0, 0, 0, 0, 0, 0, 0,\n",
      "         0, 0, 0, 0, 0, 0, 0, 0, 0, 0, 0, 0, 0, 0, 0, 0]])}\n",
      "Decoded Text:\n",
      "----------------------------------------------------------------------------------------------------\n",
      "Sorry, but I wasn't able to find any match for comedy films</s> <pad> <pad> <pad> <pad> <pad> <pad> <pad> <pad> <pad> <pad> <pad> <pad> <pad> <pad> <pad> <pad> <pad> <pad> <pad> <pad> <pad> <pad> <pad> <pad> <pad> <pad> <pad> <pad> <pad> <pad> <pad> <pad> <pad> <pad> <pad> <pad> <pad> <pad> <pad> <pad> <pad> <pad> <pad> <pad> <pad> <pad> <pad>\n"
     ]
    }
   ],
   "source": [
    "# Test Tokenizer\n",
    "\n",
    "sample_id = 625\n",
    "try_code = df_code[sample_id]\n",
    "try_text = df_text[sample_id]\n",
    "test_tokenized = tokenizer(try_text, \n",
    "                           padding='max_length', \n",
    "                           max_length=MAX_LENGTH, \n",
    "                           truncation=True, \n",
    "                           return_attention_mask = True,\n",
    "                           return_tensors = 'pt')\n",
    "print('-' * 100)\n",
    "print('Original Text:')\n",
    "print('-' * 100)\n",
    "print(try_code)\n",
    "print(try_text)\n",
    "print('')\n",
    "print('-' * 100)\n",
    "print('Tokenization Outputs:')\n",
    "print('-' * 100)\n",
    "print(test_tokenized)\n",
    "print('Decoded Text:')\n",
    "print('-' * 100)\n",
    "print(tokenizer.decode(token_ids=test_tokenized['input_ids'][0]))"
   ]
  },
  {
   "cell_type": "markdown",
   "metadata": {
    "id": "lfv-wD8WvBdF"
   },
   "source": [
    "## Pytorch Dataset"
   ]
  },
  {
   "cell_type": "code",
   "execution_count": 19,
   "metadata": {
    "id": "MoSy-bXGtJOh"
   },
   "outputs": [],
   "source": [
    "# Pytorch Dataset\n",
    "# >> Encodes original text with GPT2 Tokenizer\n",
    "# >> The control code and target utterance are structured into the following form:\n",
    "# >> [BOS] CONTROL_CODE [SEP] TARGET_UTTERANCE [EOS]\n",
    "\n",
    "\n",
    "class TOD_Dataset(torch.utils.data.Dataset):\n",
    "    def __init__(self, data, tokenizer, process_length):\n",
    "\n",
    "        self.input_code = data['Code']\n",
    "        self.output_target = data['Text']\n",
    "\n",
    "        # Tokenizer Input_code\n",
    "        self.input_tokenized = tokenizer.batch_encode_plus(self.input_code,\n",
    "                                                           padding='max_length',\n",
    "                                                           max_length=process_length,\n",
    "                                                           truncation=True, \n",
    "                                                           return_attention_mask = True, \n",
    "                                                           return_tensors = 'pt')\n",
    "\n",
    "        self.input_ids = self.input_tokenized['input_ids']\n",
    "        self.input_attn = self.input_tokenized['attention_mask']\n",
    "\n",
    "        # Tokenizer Input_code\n",
    "        self.target_tokenized = tokenizer.batch_encode_plus(self.output_target,\n",
    "                                                            padding='max_length',\n",
    "                                                            max_length=process_length,\n",
    "                                                            truncation=True, \n",
    "                                                            return_attention_mask = True, \n",
    "                                                            return_tensors = 'pt')\n",
    "\n",
    "        self.target_ids = self.target_tokenized['input_ids']\n",
    "        self.target_ids[self.target_ids == tokenizer.pad_token_id] = -100\n",
    "\n",
    "\n",
    "    def __len__(self):\n",
    "        return len(self.input_code)\n",
    "\n",
    "    def __getitem__(self, idx):\n",
    "        input_ids   = self.input_ids[idx]\n",
    "        input_mask  = self.input_attn[idx]\n",
    "        target_ids  = self.target_ids[idx]\n",
    "\n",
    "        return input_ids, input_mask, target_ids"
   ]
  },
  {
   "cell_type": "markdown",
   "metadata": {
    "id": "6KD64aGSt0dt"
   },
   "source": [
    "## Dataset & Dataloader"
   ]
  },
  {
   "cell_type": "code",
   "execution_count": 20,
   "metadata": {
    "colab": {
     "base_uri": "https://localhost:8080/"
    },
    "id": "AmYshWNVlkCv",
    "outputId": "ea15466e-2e7f-4638-c9bd-96b458af4206"
   },
   "outputs": [],
   "source": [
    "# # Create Dataset\n",
    "# st = time.time()\n",
    "\n",
    "# train_dataset = TOD_Dataset(train_df, tokenizer, MAX_LENGTH)\n",
    "# val_dataset = TOD_Dataset(val_df, tokenizer, MAX_LENGTH)\n",
    "# test_dataset = TOD_Dataset(test_df, tokenizer, MAX_LENGTH)\n",
    "\n",
    "# en = time.time()\n",
    "\n",
    "# print('Total Processing Time : {0:d} secs'.format(int(en-st)))\n",
    "# # print('Average Processing Time per data point : {0:.2f} secs'.format(round((en-st)/(len(train_dataset) + len(val_dataset) + len(test_dataset))),2))\n"
   ]
  },
  {
   "cell_type": "code",
   "execution_count": 21,
   "metadata": {
    "id": "PSTDmeZg7PBf"
   },
   "outputs": [],
   "source": [
    "# # Create Dataloader\n",
    "# train_loader = torch.utils.data.DataLoader(train_dataset, batch_size=BATCH_SIZE, shuffle=True)\n",
    "# val_loader   = torch.utils.data.DataLoader(val_dataset, batch_size=BATCH_SIZE, shuffle=False)\n",
    "# test_loader  = torch.utils.data.DataLoader(test_dataset, batch_size=BATCH_SIZE, shuffle=False)\n"
   ]
  },
  {
   "cell_type": "code",
   "execution_count": 22,
   "metadata": {},
   "outputs": [
    {
     "name": "stdout",
     "output_type": "stream",
     "text": [
      "Total Processing Time : 0 secs\n"
     ]
    }
   ],
   "source": [
    "# Create Dataset (FUll for pre-training)\n",
    "\n",
    "st = time.time()\n",
    "\n",
    "train_dataset = TOD_Dataset(data_train_df, tokenizer, MAX_LENGTH)\n",
    "val_dataset = TOD_Dataset(data_val_df, tokenizer, MAX_LENGTH)\n",
    "\n",
    "en = time.time()\n",
    "\n",
    "print('Total Processing Time : {0:d} secs'.format(int(en-st)))\n",
    "\n"
   ]
  },
  {
   "cell_type": "code",
   "execution_count": 23,
   "metadata": {},
   "outputs": [],
   "source": [
    "# # Create Dataloader (FUll for pre-training)\n",
    "train_loader = torch.utils.data.DataLoader(train_dataset, batch_size=BATCH_SIZE, shuffle=True)\n",
    "val_loader   = torch.utils.data.DataLoader(val_dataset, batch_size=BATCH_SIZE, shuffle=False)\n"
   ]
  },
  {
   "cell_type": "markdown",
   "metadata": {
    "id": "6DWuZsejvsmo"
   },
   "source": [
    "## Check Dataloader"
   ]
  },
  {
   "cell_type": "code",
   "execution_count": 24,
   "metadata": {
    "colab": {
     "base_uri": "https://localhost:8080/"
    },
    "id": "7jne1aEZlkAV",
    "outputId": "3c9a2031-811d-4306-ce17-56ae88b968f2"
   },
   "outputs": [
    {
     "name": "stdout",
     "output_type": "stream",
     "text": [
      "824\n",
      "13\n",
      "64\n",
      "0\n",
      "torch.Size([64, 64])\n",
      "torch.Size([64, 64])\n",
      "torch.Size([64, 64])\n",
      "tensor([[7109,  553, 5091,  ...,    0,    0,    0],\n",
      "        [7109,  553, 5091,  ...,    0,    0,    0],\n",
      "        [7109,  553, 5091,  ...,    0,    0,    0],\n",
      "        ...,\n",
      "        [7109,  553, 5091,  ...,    0,    0,    0],\n",
      "        [7109,  553, 5091,  ...,    0,    0,    0],\n",
      "        [7109,  553, 5091,  ...,    0,    0,    0]])\n",
      "tensor([[1, 1, 1,  ..., 0, 0, 0],\n",
      "        [1, 1, 1,  ..., 0, 0, 0],\n",
      "        [1, 1, 1,  ..., 0, 0, 0],\n",
      "        ...,\n",
      "        [1, 1, 1,  ..., 0, 0, 0],\n",
      "        [1, 1, 1,  ..., 0, 0, 0],\n",
      "        [1, 1, 1,  ..., 0, 0, 0]])\n",
      "tensor([[   27,   183,    59,  ...,  -100,  -100,  -100],\n",
      "        [ 5085,  4137,     7,  ...,  -100,  -100,  -100],\n",
      "        [11342,     6,    27,  ...,  -100,  -100,  -100],\n",
      "        ...,\n",
      "        [10625,     6,    19,  ...,  -100,  -100,  -100],\n",
      "        [   27,   183,  8032,  ...,  -100,  -100,  -100],\n",
      "        [  947,    33,   128,  ...,  -100,  -100,  -100]])\n"
     ]
    }
   ],
   "source": [
    "# Check Dataloader\n",
    "print(len(train_dataset))\n",
    "print(len(train_loader))\n",
    "print(train_loader.batch_size)\n",
    "\n",
    "for idx, (input_ids, input_mask, target_ids) in enumerate(train_loader):\n",
    "    print(idx)\n",
    "    print(input_ids.size())\n",
    "    print(input_mask.size())\n",
    "    print(target_ids.size())\n",
    "    # print(target_mask.size())\n",
    "\n",
    "    print(input_ids) \n",
    "    print(input_mask)\n",
    "    print(target_ids)\n",
    "    # print(target_mask)\n",
    "\n",
    "    break"
   ]
  },
  {
   "cell_type": "markdown",
   "metadata": {
    "id": "x4-IC12H4mfk"
   },
   "source": [
    "# 2. Model Defintion & Functions"
   ]
  },
  {
   "cell_type": "markdown",
   "metadata": {
    "id": "YbAoTmRYtPWF"
   },
   "source": [
    "## Test Model Run"
   ]
  },
  {
   "cell_type": "code",
   "execution_count": 25,
   "metadata": {
    "colab": {
     "base_uri": "https://localhost:8080/"
    },
    "id": "rTXj_255lj5a",
    "outputId": "cd220e1c-dcf3-48ff-a87d-3b91c32a869b"
   },
   "outputs": [
    {
     "name": "stdout",
     "output_type": "stream",
     "text": [
      "================================================================================\n",
      "Layer (type:depth-idx)                                  Param #\n",
      "================================================================================\n",
      "T5ForConditionalGeneration                              --\n",
      "├─Embedding: 1-1                                        16,449,536\n",
      "├─T5Stack: 1-2                                          --\n",
      "│    └─Embedding: 2-1                                   (recursive)\n",
      "│    └─ModuleList: 2-2                                  --\n",
      "│    │    └─T5Block: 3-1                                3,147,008\n",
      "│    │    └─T5Block: 3-2                                3,146,752\n",
      "│    │    └─T5Block: 3-3                                3,146,752\n",
      "│    │    └─T5Block: 3-4                                3,146,752\n",
      "│    │    └─T5Block: 3-5                                3,146,752\n",
      "│    │    └─T5Block: 3-6                                3,146,752\n",
      "│    └─T5LayerNorm: 2-3                                 512\n",
      "│    └─Dropout: 2-4                                     --\n",
      "├─T5Stack: 1-3                                          --\n",
      "│    └─Embedding: 2-5                                   (recursive)\n",
      "│    └─ModuleList: 2-6                                  --\n",
      "│    │    └─T5Block: 3-7                                4,196,096\n",
      "│    │    └─T5Block: 3-8                                4,195,840\n",
      "│    │    └─T5Block: 3-9                                4,195,840\n",
      "│    │    └─T5Block: 3-10                               4,195,840\n",
      "│    │    └─T5Block: 3-11                               4,195,840\n",
      "│    │    └─T5Block: 3-12                               4,195,840\n",
      "│    └─T5LayerNorm: 2-7                                 512\n",
      "│    └─Dropout: 2-8                                     --\n",
      "├─Linear: 1-4                                           16,449,536\n",
      "================================================================================\n",
      "Total params: 76,956,160\n",
      "Trainable params: 76,956,160\n",
      "Non-trainable params: 0\n",
      "================================================================================\n",
      "torch.Size([64, 43])\n",
      "torch.Size([])\n",
      "torch.Size([64, 64, 32128])\n",
      "MOVIE_RECOMMEND REQUEST ( genre =? ; directed_by =? ; starring =? )\n",
      "MOVIE_RECOMMEND REQUEST ( genre =? ; directed_by =? ; starring =? )\n"
     ]
    },
    {
     "data": {
      "text/plain": [
       "{'score': 100.00000000000004,\n",
       " 'counts': [19, 19, 18, 17],\n",
       " 'totals': [19, 19, 18, 17],\n",
       " 'precisions': [100.0, 100.0, 100.0, 100.0],\n",
       " 'bp': 1.0,\n",
       " 'sys_len': 19,\n",
       " 'ref_len': 19}"
      ]
     },
     "execution_count": 25,
     "metadata": {},
     "output_type": "execute_result"
    }
   ],
   "source": [
    "# Test Model - Fast Run Single Batch\n",
    "testmodel_name = 't5-small'\n",
    "# testmodel = GPT2_Fine_Tune(model_name, tokenizer)\n",
    "\n",
    "config = T5Config.from_pretrained(testmodel_name, output_hidden_states=False)\n",
    "testmodel = T5ForConditionalGeneration.from_pretrained(testmodel_name, config=config)\n",
    "\n",
    "# if ADD_SPECIAL_TOKENS:\n",
    "#   testmodel.resize_token_embeddings(len(tokenizer))\n",
    "\n",
    "testmodel.eval()\n",
    "with torch.no_grad():\n",
    "    print(summary(testmodel))\n",
    "\n",
    "    for load_input_ids, load_input_mask, load_target_ids in train_loader:\n",
    "        test_loader_input_ids = load_input_ids\n",
    "        test_loader_input_mask = load_input_mask\n",
    "        test_loader_target_ids = load_target_ids\n",
    "        break\n",
    "\n",
    "    test_output = testmodel(input_ids=load_input_ids , attention_mask=load_input_mask, labels=load_target_ids)\n",
    "    test_generate = testmodel.generate(input_ids=load_input_ids, max_length=MAX_LENGTH)\n",
    "    print(test_generate.size())\n",
    "    print(test_output[0].size())\n",
    "    print(test_output[1].size())\n",
    "    print(tokenizer.decode(load_input_ids[0], skip_special_tokens=True))\n",
    "    print(tokenizer.decode(test_generate[0], skip_special_tokens=True))\n",
    "metric = datasets.load_metric('sacrebleu')\n",
    "metric.add_batch(predictions=[tokenizer.decode(test_generate[0], skip_special_tokens=True)], references=[[tokenizer.decode(load_input_ids[0], skip_special_tokens=True)]])\n",
    "metric.compute(smooth_method=\"add-k\")"
   ]
  },
  {
   "cell_type": "markdown",
   "metadata": {
    "id": "uj6coS1OGT6c"
   },
   "source": [
    "## Train Step Function"
   ]
  },
  {
   "cell_type": "code",
   "execution_count": 26,
   "metadata": {
    "id": "kLJmhCoWlj3B"
   },
   "outputs": [],
   "source": [
    "# Train Function\n",
    "\n",
    "def train_model(model, tokenizer, dataloaders, optimizer, bleu_scorer, num_epochs, decode_beam, decode_topp, callback_path_greedy, callback_path_beam, callback_path_topp):\n",
    "    start_time = time.time()\n",
    "\n",
    "    train_hist = {'train_loss'      : [],\n",
    "                  'val_loss'        : [],\n",
    "                  'val_bleu_greedy' : [],\n",
    "                  'val_bleu_beam'   : [],\n",
    "                  'val_bleu_topp'   : []}\n",
    "    \n",
    "    best_val_bleu_greedy = 0\n",
    "    best_val_bleu_beam = 0\n",
    "    best_val_bleu_topp = 0\n",
    "    best_model_state_greedy = None\n",
    "    best_model_state_beam = None\n",
    "    best_model_state_topp = None\n",
    "\n",
    "    for epoch in range(num_epochs):\n",
    "        time_0 = time.time()\n",
    "\n",
    "        print('======== Epoch {:} / {:} ========'.format(epoch + 1, num_epochs))\n",
    "\n",
    "        for phase in ['train', 'val']:\n",
    "            if phase == 'train':\n",
    "                model.train()\n",
    "            else:\n",
    "                model.eval()\n",
    "\n",
    "            running_loss = 0.0\n",
    "            running_sample_count = 0\n",
    "            running_bleu_greedy = 0.0\n",
    "            running_bleu_beam = 0.0\n",
    "            running_bleu_topp = 0.0\n",
    "\n",
    "            # iterate over dataloader\n",
    "            for input_ids, attention_mask, labels in dataloaders[phase]:\n",
    "                # Send to GPU\n",
    "                input_ids = input_ids.to(device)\n",
    "                attention_mask = attention_mask.to(device)\n",
    "                labels = labels.to(device)\n",
    "\n",
    "                # Initialize gradients\n",
    "                model.zero_grad()\n",
    "\n",
    "                # Fit to model\n",
    "                output = model(input_ids=input_ids, attention_mask=attention_mask, labels=labels)\n",
    "                loss = output[0]\n",
    "                logits = output[1]\n",
    "\n",
    "                # Calculate Gradients & Backpropagation\n",
    "                if phase == 'train':\n",
    "                    loss.backward()\n",
    "                    optimizer.step()\n",
    "\n",
    "                # Update Loss History\n",
    "                sample_count = input_ids.size()[0] # Batch size\n",
    "                running_loss += loss.detach().cpu() * sample_count\n",
    "                running_sample_count += sample_count\n",
    "\n",
    "                # Calculate BLEU Score for validation\n",
    "                if phase == 'val':\n",
    "                    preds_greedy = model.generate(input_ids=input_ids, max_length=labels.size()[-1]).detach().cpu()\n",
    "                    preds_beam   = model.generate(input_ids=input_ids, max_length=labels.size()[-1], num_beams=decode_beam, early_stopping=True).detach().cpu()\n",
    "                    preds_topp   = model.generate(input_ids=input_ids, max_length=labels.size()[-1], top_p=decode_topp, top_k=0).detach().cpu()\n",
    "\n",
    "                    for i in range(preds_greedy.size()[0]):\n",
    "                        valid_ids_labels = torch.clone(labels[i]).detach().cpu()\n",
    "                        valid_ids_labels[valid_ids_labels==-100] = 0\n",
    "                        true_text = tokenizer.decode(valid_ids_labels, skip_special_tokens=True)\n",
    "\n",
    "                        pred_text_greedy = tokenizer.decode(preds_greedy[i], skip_special_tokens=True)\n",
    "                        pred_text_beam = tokenizer.decode(preds_beam[i], skip_special_tokens=True)\n",
    "                        pred_text_topp = tokenizer.decode(preds_topp[i], skip_special_tokens=True)\n",
    "\n",
    "                        # Greedy Search BLEU\n",
    "                        bleu_scorer.add_batch(predictions=[pred_text_greedy], references=[[true_text]])\n",
    "                        score = bleu_scorer.compute(smooth_method=\"add-k\")['score']\n",
    "                        running_bleu_greedy += score\n",
    "\n",
    "                        # Beam Search BLEU\n",
    "                        bleu_scorer.add_batch(predictions=[pred_text_beam], references=[[true_text]])\n",
    "                        score = bleu_scorer.compute(smooth_method=\"add-k\")['score']\n",
    "                        running_bleu_beam += score\n",
    "\n",
    "                        # Topp Search BLEU\n",
    "                        bleu_scorer.add_batch(predictions=[pred_text_topp], references=[[true_text]])\n",
    "                        score = bleu_scorer.compute(smooth_method=\"add-k\")['score']\n",
    "                        running_bleu_topp += score\n",
    "\n",
    "            # Calculate Epoch Statistics\n",
    "            epoch_loss = running_loss / running_sample_count\n",
    "            epoch_val_bleu_greedy = round(running_bleu_greedy / running_sample_count, 2)\n",
    "            epoch_val_bleu_beam = round(running_bleu_beam / running_sample_count, 2)\n",
    "            epoch_val_bleu_topp = round(running_bleu_topp / running_sample_count, 2)\n",
    "\n",
    "            print('{} - Loss: {:.4f}'.format(phase, epoch_loss))\n",
    "            if phase == 'val':\n",
    "                print('val - Greedy-BLEU: {:.2f} | Beam-BLEU: {:.2f} | Topp-BLEU: {:.2f}'.format(epoch_val_bleu_greedy, epoch_val_bleu_beam, epoch_val_bleu_topp))\n",
    "\n",
    "            # Update Callback for Best Loss Model State Dict - Greedy Search\n",
    "            if epoch_val_bleu_greedy > best_val_bleu_greedy:\n",
    "                best_val_bleu_greedy = epoch_val_bleu_greedy\n",
    "                best_model_state_greedy = model.state_dict()\n",
    "                torch.save(best_model_state_greedy, callback_path_greedy)\n",
    "\n",
    "            # Update Callback for Best Loss Model State Dict - Beam Search\n",
    "            if epoch_val_bleu_beam > best_val_bleu_beam:\n",
    "                best_val_bleu_beam = epoch_val_bleu_beam\n",
    "                best_model_state_beam = model.state_dict()\n",
    "                torch.save(best_model_state_beam, callback_path_beam)\n",
    "\n",
    "            # Update Callback for Best Loss Model State Dict - Top-p Search\n",
    "            if epoch_val_bleu_topp > best_val_bleu_topp:\n",
    "                best_val_bleu_topp = epoch_val_bleu_topp\n",
    "                best_model_state_topp = model.state_dict()\n",
    "                torch.save(best_model_state_topp, callback_path_topp)\n",
    "\n",
    "            # Update history\n",
    "            if phase == 'train':\n",
    "                train_hist['train_loss'].append(epoch_loss.detach().cpu())\n",
    "            if phase == 'val':\n",
    "                train_hist['val_loss'].append(epoch_loss.detach().cpu())\n",
    "                train_hist['val_bleu_greedy'].append(epoch_val_bleu_greedy)\n",
    "                train_hist['val_bleu_beam'].append(epoch_val_bleu_beam)\n",
    "                train_hist['val_bleu_topp'].append(epoch_val_bleu_topp)\n",
    "\n",
    "        # Printing Epoch training info\n",
    "        time_elapsed = round(time.time() - time_0,0)\n",
    "        print('Training complete in {:.0f}m {:.0f}s'.format(time_elapsed // 60, time_elapsed % 60))\n",
    "        print('')\n",
    "\n",
    "    load_dict = torch.load(callback_path_greedy)\n",
    "    model.load_state_dict(load_dict)\n",
    "\n",
    "    total_elapsed = round(time.time()-start_time,0)\n",
    "    avg_per_epoch = round((time.time()-start_time) / num_epochs, 0)\n",
    "    avg_per_batch = round((time.time()-start_time) / (num_epochs * dataloaders['train'].__len__()), 0)\n",
    "    total_training_time = str(datetime.timedelta(seconds=total_elapsed))\n",
    "    avg_epoch_training_time = str(datetime.timedelta(seconds=avg_per_epoch))\n",
    "    avg_batch_training_time = str(datetime.timedelta(seconds=avg_per_batch))\n",
    "\n",
    "    print('-' * 70)\n",
    "    print('Training Complete!')\n",
    "    print('-' * 70)\n",
    "    print('Batch Size used                 : {0:d}'.format(dataloaders['train'].batch_size))\n",
    "    print('Total training took             : {:} (h:mm:ss)'.format(total_training_time))              \n",
    "    print('Average Training Time per Epoch : {:} (h:mm:ss)'.format(avg_epoch_training_time))\n",
    "    print('Average Training Time per batch : {:} (h:mm:ss)'.format(avg_batch_training_time))  \n",
    "    print('')\n",
    "    print('-' * 70 )\n",
    "    print('Best Validation BLEU Score - Greedy Search : {0:.2f}'.format(best_val_bleu_greedy))\n",
    "    print('Best Validation BLEU Score - Beam Search   : {0:.2f}'.format(best_val_bleu_beam))\n",
    "    print('Best Validation BLEU Score - Topp Search   : {0:.2f}'.format(best_val_bleu_topp))\n",
    "    print('Model callback complete')\n",
    "    return model, train_hist\n",
    "\n"
   ]
  },
  {
   "cell_type": "markdown",
   "metadata": {
    "id": "WRRBGmJpJbYK"
   },
   "source": [
    "# 3. Model Training"
   ]
  },
  {
   "cell_type": "markdown",
   "metadata": {
    "id": "j4ruveCoJfkR"
   },
   "source": [
    "## >> MODEL PARAMETERS"
   ]
  },
  {
   "cell_type": "code",
   "execution_count": 27,
   "metadata": {
    "id": "GGyVTfS7J7zm"
   },
   "outputs": [],
   "source": [
    "# testrun_train_dataset = TOD_Dataset(data_train_df[:20], tokenizer, MAX_LENGTH)\n",
    "# testrun_train_loader = torch.utils.data.DataLoader(testrun_train_dataset, batch_size=BATCH_SIZE, shuffle=False)\n",
    "# testrun_val_dataset = TOD_Dataset(data_val_df[:2], tokenizer, MAX_LENGTH)\n",
    "# testrun_val_loader = torch.utils.data.DataLoader(testrun_val_dataset, batch_size=BATCH_SIZE, shuffle=False)\n",
    "# print(testrun_train_loader.batch_size)\n",
    "# print(testrun_train_loader.__len__())"
   ]
  },
  {
   "cell_type": "code",
   "execution_count": 32,
   "metadata": {
    "id": "nN_iIdU8lj0f",
    "tags": []
   },
   "outputs": [],
   "source": [
    "# Model Training Parameters\n",
    "MODEL_NAME = 't5-small'\n",
    "LR = 5e-4\n",
    "EPOCH = 10\n",
    "OPTIM = torch.optim.Adam\n",
    "\n",
    "# Text Generation Decoding Parameters\n",
    "DECODE_BEAM = 5\n",
    "DECODE_TOPP = 0.8\n",
    "\n",
    "# Callback Save Paths\n",
    "SAVE_FILE_NAME = MODEL_NAME + '_FINE_TUNING'\n",
    "CALLBACK_PATH_GREEDY = os.path.join(basedir, 'model_state\\\\'+ SAVE_FILE_NAME +'_GREEDY.pt')\n",
    "CALLBACK_PATH_BEAM   = os.path.join(basedir, 'model_state\\\\'+ SAVE_FILE_NAME +'_BEAM.pt')\n",
    "CALLBACK_PATH_TOPP   = os.path.join(basedir, 'model_state\\\\'+ SAVE_FILE_NAME +'_TOPP.pt')\n",
    "\n",
    "# Model State Parameters\n",
    "MODEL_SETUP_PATH = os.path.join(basedir, 'model_setup\\\\'+ SAVE_FILE_NAME + '_SETUP' +'.pt')\n",
    "LOAD_STATE_DICT = True\n",
    "LOAD_STATE_TYPE = 'TOPP'\n",
    "MODEL_STATE_LOAD_PATH = os.path.join(basedir, 'model_state\\\\'+ MODEL_NAME + '_lr4_FULL_PRETRAIN_' + LOAD_STATE_TYPE + '.pt')"
   ]
  },
  {
   "cell_type": "markdown",
   "metadata": {
    "id": "egTmlv6hJp2A"
   },
   "source": [
    "## Model Training"
   ]
  },
  {
   "cell_type": "code",
   "execution_count": 67,
   "metadata": {
    "colab": {
     "base_uri": "https://localhost:8080/"
    },
    "id": "RsbuMxj7JcTL",
    "outputId": "bf70adff-e873-4da7-cbe2-dc9c466797c2"
   },
   "outputs": [
    {
     "name": "stdout",
     "output_type": "stream",
     "text": [
      "Model States loaded ~\n",
      "======== Epoch 1 / 10 ========\n",
      "train - Loss: 1.7054\n",
      "val - Loss: 1.1037\n",
      "val - Greedy-BLEU: 34.29 | Beam-BLEU: 34.92 | Topp-BLEU: 34.29\n",
      "Training complete in 0m 20s\n",
      "\n",
      "======== Epoch 2 / 10 ========\n",
      "train - Loss: 1.0079\n",
      "val - Loss: 0.7647\n",
      "val - Greedy-BLEU: 37.23 | Beam-BLEU: 38.75 | Topp-BLEU: 37.23\n",
      "Training complete in 0m 23s\n",
      "\n",
      "======== Epoch 3 / 10 ========\n",
      "train - Loss: 0.7371\n",
      "val - Loss: 0.6432\n",
      "val - Greedy-BLEU: 39.22 | Beam-BLEU: 39.89 | Topp-BLEU: 39.22\n",
      "Training complete in 0m 23s\n",
      "\n",
      "======== Epoch 4 / 10 ========\n",
      "train - Loss: 0.6276\n",
      "val - Loss: 0.6063\n",
      "val - Greedy-BLEU: 37.47 | Beam-BLEU: 37.87 | Topp-BLEU: 37.47\n",
      "Training complete in 0m 20s\n",
      "\n",
      "======== Epoch 5 / 10 ========\n",
      "train - Loss: 0.5722\n",
      "val - Loss: 0.5810\n",
      "val - Greedy-BLEU: 38.47 | Beam-BLEU: 37.73 | Topp-BLEU: 38.47\n",
      "Training complete in 0m 21s\n",
      "\n",
      "======== Epoch 6 / 10 ========\n",
      "train - Loss: 0.5135\n",
      "val - Loss: 0.5495\n",
      "val - Greedy-BLEU: 36.71 | Beam-BLEU: 36.21 | Topp-BLEU: 36.71\n",
      "Training complete in 0m 20s\n",
      "\n",
      "======== Epoch 7 / 10 ========\n",
      "train - Loss: 0.4917\n",
      "val - Loss: 0.5387\n",
      "val - Greedy-BLEU: 36.95 | Beam-BLEU: 38.27 | Topp-BLEU: 36.95\n",
      "Training complete in 0m 19s\n",
      "\n",
      "======== Epoch 8 / 10 ========\n",
      "train - Loss: 0.4681\n",
      "val - Loss: 0.5255\n",
      "val - Greedy-BLEU: 35.38 | Beam-BLEU: 35.77 | Topp-BLEU: 35.38\n",
      "Training complete in 0m 19s\n",
      "\n",
      "======== Epoch 9 / 10 ========\n",
      "train - Loss: 0.4421\n",
      "val - Loss: 0.5199\n",
      "val - Greedy-BLEU: 34.23 | Beam-BLEU: 34.95 | Topp-BLEU: 34.23\n",
      "Training complete in 0m 19s\n",
      "\n",
      "======== Epoch 10 / 10 ========\n",
      "train - Loss: 0.4290\n",
      "val - Loss: 0.5253\n",
      "val - Greedy-BLEU: 36.77 | Beam-BLEU: 36.45 | Topp-BLEU: 36.77\n",
      "Training complete in 0m 19s\n",
      "\n",
      "----------------------------------------------------------------------\n",
      "Training Complete!\n",
      "----------------------------------------------------------------------\n",
      "Batch Size used                 : 64\n",
      "Total training took             : 0:03:24 (h:mm:ss)\n",
      "Average Training Time per Epoch : 0:00:20 (h:mm:ss)\n",
      "Average Training Time per batch : 0:00:02 (h:mm:ss)\n",
      "\n",
      "----------------------------------------------------------------------\n",
      "Best Validation BLEU Score - Greedy Search : 39.22\n",
      "Best Validation BLEU Score - Beam Search   : 39.89\n",
      "Best Validation BLEU Score - Topp Search   : 39.22\n",
      "Model callback complete\n"
     ]
    }
   ],
   "source": [
    "# Initialize Model\n",
    "\n",
    "config = T5Config.from_pretrained(MODEL_NAME, output_hidden_states=False)\n",
    "model = T5ForConditionalGeneration.from_pretrained(MODEL_NAME, config=config)\n",
    "\n",
    "# Continue from Previous Trainingtwq\n",
    "if LOAD_STATE_DICT:\n",
    "    load_dict = torch.load(MODEL_STATE_LOAD_PATH)\n",
    "    model.load_state_dict(load_dict)\n",
    "    print('Model States loaded ~')\n",
    "\n",
    "# Data Dictionary for training\n",
    "dataloaders_dict = {'train':train_loader, 'val':val_loader}\n",
    "\n",
    "# Optimizer Initialization\n",
    "params_to_update = model.parameters()\n",
    "optim_ft = OPTIM(params_to_update, lr=LR)\n",
    "\n",
    "# BLEU Metric Scorer\n",
    "bleu = datasets.load_metric('sacrebleu')\n",
    "\n",
    "# Secnd Model to GPU\n",
    "model.to(device)\n",
    "\n",
    "# Train Model\n",
    "model, hist = train_model(model, tokenizer, dataloaders_dict, optim_ft, bleu, EPOCH, DECODE_BEAM, DECODE_TOPP, CALLBACK_PATH_GREEDY, CALLBACK_PATH_BEAM, CALLBACK_PATH_TOPP)\n"
   ]
  },
  {
   "cell_type": "markdown",
   "metadata": {},
   "source": [
    "## Save Model Setup"
   ]
  },
  {
   "cell_type": "code",
   "execution_count": 88,
   "metadata": {},
   "outputs": [],
   "source": [
    "model_setup = {'BATCH_SIZE': BATCH_SIZE,\n",
    "               'EPOCH': EPOCH,\n",
    "               'OPTIMIZER': str(OPTIM),\n",
    "               'LEARNING_RATE:': LR,\n",
    "               'TRAINED_MODEL_STATE_FILE': SAVE_FILE_NAME,\n",
    "               'TRAINING_HISTORY': hist\n",
    "              }\n",
    "\n",
    "setup_file = open(MODEL_SETUP_PATH, 'wb')\n",
    "pickle.dump(model_setup, setup_file, protocol=pickle.HIGHEST_PROTOCOL)\n",
    "setup_file.close()"
   ]
  },
  {
   "cell_type": "code",
   "execution_count": 38,
   "metadata": {},
   "outputs": [],
   "source": [
    "load_file = open(MODEL_SETUP_PATH, 'rb')\n",
    "load_hist = pickle.load(load_file)\n",
    "load_file.close()"
   ]
  },
  {
   "cell_type": "code",
   "execution_count": 39,
   "metadata": {},
   "outputs": [
    {
     "data": {
      "image/png": "[encoded data removed]",
      "text/plain": [
       "<Figure size 720x576 with 1 Axes>"
      ]
     },
     "metadata": {
      "needs_background": "light"
     },
     "output_type": "display_data"
    },
    {
     "data": {
      "image/png": "[encoded data removed]",
      "text/plain": [
       "<Figure size 720x576 with 1 Axes>"
      ]
     },
     "metadata": {
      "needs_background": "light"
     },
     "output_type": "display_data"
    }
   ],
   "source": [
    "# Loss Chart\n",
    "train_loss = load_hist['TRAINING_HISTORY']['train_loss']\n",
    "val_loss = load_hist['TRAINING_HISTORY']['val_loss']\n",
    "val_BLEU_greedy = load_hist['TRAINING_HISTORY']['val_bleu_greedy']\n",
    "val_BLEU_beam = load_hist['TRAINING_HISTORY']['val_bleu_beam']\n",
    "val_BLEU_topp = load_hist['TRAINING_HISTORY']['val_bleu_topp']\n",
    "x = np.arange(10)+1\n",
    "plt.figure(figsize=(10,8))\n",
    "plt.plot(x, train_loss)\n",
    "plt.plot(x, val_loss)\n",
    "plt.xlabel('Epochs', fontsize=12)\n",
    "plt.ylabel('Loss', fontsize=12)\n",
    "plt.title('Loss vs Epoch', fontsize=20)\n",
    "plt.legend(['Training Loss', 'Validation Loss'])\n",
    "plt.show()\n",
    "plt.figure(figsize=(10,8))\n",
    "plt.plot(x, val_BLEU_greedy)\n",
    "plt.plot(x, val_BLEU_beam)\n",
    "plt.plot(x, val_BLEU_topp)\n",
    "plt.xlabel('Epochs', fontsize=12)\n",
    "plt.ylabel('BLEU Scores', fontsize=12)\n",
    "plt.title('BLEU Scores vs Epoch', fontsize=20)\n",
    "plt.legend(['Greedy Search', 'Beam Search', 'Topp Search'])\n",
    "plt.show()"
   ]
  },
  {
   "cell_type": "code",
   "execution_count": null,
   "metadata": {},
   "outputs": [],
   "source": []
  },
  {
   "cell_type": "markdown",
   "metadata": {},
   "source": [
    "# 4. Evaluation"
   ]
  },
  {
   "cell_type": "markdown",
   "metadata": {},
   "source": [
    "## Evaluation Function"
   ]
  },
  {
   "cell_type": "code",
   "execution_count": 197,
   "metadata": {},
   "outputs": [],
   "source": [
    "def calc_bleu(test_loader, model, tokenizer, text_length, beam_size, top_p):\n",
    "    \n",
    "    start_time = time.time()\n",
    "    \n",
    "    # Generate Predictions\n",
    "    input_code = []\n",
    "    actual_text = []\n",
    "    pred_text_greedy = []\n",
    "    pred_text_beam = []\n",
    "    pred_text_topp = []\n",
    "    \n",
    "    model.to(device)\n",
    "    model.eval()\n",
    "    \n",
    "    with torch.no_grad():\n",
    "        for input_ids, attention_mask, labels in test_loader:\n",
    "            \n",
    "            labels[labels==-100] = 0\n",
    "            batch_input_code = tokenizer.batch_decode(input_ids, skip_special_tokens=True)\n",
    "            batch_actual_text = tokenizer.batch_decode(labels, skip_special_tokens=True)\n",
    "            input_code.extend(batch_input_code)\n",
    "            actual_text.extend(batch_actual_text)\n",
    "            \n",
    "            \n",
    "            input_ids = input_ids.to(device)\n",
    "            \n",
    "            # Greedy Search Generation\n",
    "            batch_pred_ids_greedy = model.generate(input_ids=input_ids, max_length=text_length).detach().cpu()\n",
    "            \n",
    "            # Beam Search with Size = beam_size\n",
    "            batch_pred_ids_beam = model.generate(input_ids=input_ids, max_length=text_length, num_beams=beam_size, early_stopping=True).detach().cpu()\n",
    "            \n",
    "            # Top-p Sampling with probability = top_p\n",
    "            batch_pred_ids_topp = model.generate(input_ids=input_ids, max_length=text_length, top_p=top_p, top_k=0).detach().cpu()\n",
    "            \n",
    "            # Decoding\n",
    "            batch_pred_text_greedy = tokenizer.batch_decode(batch_pred_ids_greedy, skip_special_tokens=True)\n",
    "            batch_pred_text_beam = tokenizer.batch_decode(batch_pred_ids_beam, skip_special_tokens=True)\n",
    "            batch_pred_text_topp = tokenizer.batch_decode(batch_pred_ids_topp, skip_special_tokens=True)\n",
    "            \n",
    "            pred_text_greedy.extend(batch_pred_text_greedy)\n",
    "            pred_text_beam.extend(batch_pred_text_beam)\n",
    "            pred_text_topp.extend(batch_pred_text_topp)\n",
    "    \n",
    "    end_gen_time = time.time() \n",
    "    \n",
    "    print('Text Generation Completed ~')\n",
    "    \n",
    "    # Calculate BLEU Score\n",
    "    num_sample = len(actual_text)\n",
    "    bleu = datasets.load_metric('sacrebleu')\n",
    "    \n",
    "    # Greedy Search BLEU Score\n",
    "    score_greedy = []\n",
    "    for i in range(num_sample):\n",
    "        ref_text = actual_text[i]\n",
    "        single_pred = pred_text_greedy[i]\n",
    "        bleu.add_batch(predictions=[single_pred], references=[[ref_text]])\n",
    "        bleu_score = round(bleu.compute(smooth_method=\"add-k\")['score'],2)\n",
    "        score_greedy.append(bleu_score)\n",
    "        \n",
    "    # Beam Search BLEU Score\n",
    "    score_beam = []\n",
    "    for i in range(num_sample):\n",
    "        ref_text = actual_text[i]\n",
    "        single_pred = pred_text_beam[i]\n",
    "        bleu.add_batch(predictions=[single_pred], references=[[ref_text]])\n",
    "        bleu_score = round(bleu.compute(smooth_method=\"add-k\")['score'],2)\n",
    "        score_beam.append(bleu_score)\n",
    "        \n",
    "    # Top-p search generation BLEU Score\n",
    "    score_topp = []\n",
    "    for i in range(num_sample):\n",
    "        ref_text = actual_text[i]\n",
    "        single_pred = pred_text_topp[i]\n",
    "        bleu.add_batch(predictions=[single_pred], references=[[ref_text]])\n",
    "        bleu_score = round(bleu.compute(smooth_method=\"add-k\")['score'],2)\n",
    "        score_topp.append(bleu_score)\n",
    "        \n",
    "    \n",
    "    df = pd.DataFrame(np.array([input_code, actual_text, pred_text_greedy, score_greedy, pred_text_beam, score_beam, pred_text_topp, score_topp]).T, \n",
    "                      columns=['Input_Code', 'Original_Text', 'Generated_Text_Greedy', 'BLEU_Score_Greedy', 'Generated_Text_Beam', 'BLEU_Score_Beam', 'Generated_Text_Topp', 'BLEU_Score_Topp'])\n",
    "    \n",
    "    end_time = time.time()\n",
    "    \n",
    "    print('BLEU Score Calculation Completed ~')\n",
    "\n",
    "    total_time_elapsed = round(end_time-start_time)\n",
    "    text_generation_time = round(end_gen_time-start_time)\n",
    "    bleu_calculation_time = round(end_time-end_gen_time)\n",
    "    avg_generation_time = round(text_generation_time / num_sample, 5)\n",
    "    avg_bleu_time = round(bleu_calculation_time / num_sample, 5)\n",
    "    \n",
    "    print('-' * 70)\n",
    "    print('Total time taken for running evaluation           : {:.0f}m {:.0f}s'.format(total_time_elapsed // 60, total_time_elapsed % 60))\n",
    "    print('Total time taken for text generation              : {:.0f}m {:.0f}s'.format(text_generation_time // 60, text_generation_time % 60))\n",
    "    print('Total time taken for BLEU score calculations      : {:.0f}m {:.0f}s'.format(bleu_calculation_time // 60, bleu_calculation_time % 60))\n",
    "    print('Average time taken to generate text 1 sample      : {:.3f}s'.format(avg_generation_time))\n",
    "    print('Average time taken to calculate BLUE for 1 sample : {:.3f}s'.format(avg_bleu_time))\n",
    "    print('-' * 70)\n",
    "    print('Total number of samples generated  :', len(actual_text))\n",
    "    print('Batch size used in text generation :', test_loader.batch_size)\n",
    "    \n",
    "    return df"
   ]
  },
  {
   "cell_type": "code",
   "execution_count": 31,
   "metadata": {},
   "outputs": [
    {
     "name": "stdout",
     "output_type": "stream",
     "text": [
      "1030\n",
      "17\n"
     ]
    }
   ],
   "source": [
    "\n",
    "full_dataset = TOD_Dataset(data_df, tokenizer, MAX_LENGTH)\n",
    "full_loader = torch.utils.data.DataLoader(full_dataset, batch_size=BATCH_SIZE, shuffle=False)\n",
    "print(len(full_dataset))\n",
    "print(len(full_loader))"
   ]
  },
  {
   "cell_type": "markdown",
   "metadata": {},
   "source": [
    "## Run Evaluation on Full Dataset"
   ]
  },
  {
   "cell_type": "code",
   "execution_count": 196,
   "metadata": {},
   "outputs": [
    {
     "data": {
      "text/plain": [
       "'D:\\\\Personal\\\\Education\\\\NUS-ISS Mtech IS\\\\Course Materials\\\\4. Practical Language Processing (PLP)\\\\0. PLP Project\\\\Code\\\\NLG\\\\model_state\\\\t5-small_lr4_FINE_TUNING_TOPP.pt'"
      ]
     },
     "execution_count": 196,
     "metadata": {},
     "output_type": "execute_result"
    }
   ],
   "source": [
    "CALLBACK_PATH_TOPP"
   ]
  },
  {
   "cell_type": "code",
   "execution_count": 198,
   "metadata": {},
   "outputs": [
    {
     "name": "stdout",
     "output_type": "stream",
     "text": [
      "Text Generation Completed ~\n",
      "BLEU Score Calculation Completed ~\n",
      "----------------------------------------------------------------------\n",
      "Total time taken for running evaluation           : 1m 36s\n",
      "Total time taken for text generation              : 1m 17s\n",
      "Total time taken for BLEU score calculations      : 0m 19s\n",
      "Average time taken to generate text 1 sample      : 0.075s\n",
      "Average time taken to calculate BLUE for 1 sample : 0.018s\n",
      "----------------------------------------------------------------------\n",
      "Total number of samples generated  : 1030\n",
      "Batch size used in text generation : 64\n"
     ]
    }
   ],
   "source": [
    "# Load Model\n",
    "MODEL_NAME = 't5-small'\n",
    "EVAL_MODEL_LOAD_PATH = CALLBACK_PATH_TOPP\n",
    "eval_model = T5ForConditionalGeneration.from_pretrained(MODEL_NAME, config=config)\n",
    "\n",
    "load_dict = torch.load(EVAL_MODEL_LOAD_PATH)\n",
    "eval_model.load_state_dict(load_dict)\n",
    "\n",
    "# Generate Text and Calculate BLEU\n",
    "eval_df = calc_bleu(full_loader, eval_model, tokenizer, MAX_LENGTH, 4, 0.8)"
   ]
  },
  {
   "cell_type": "markdown",
   "metadata": {},
   "source": [
    "## BLEU Score Statistics"
   ]
  },
  {
   "cell_type": "code",
   "execution_count": 33,
   "metadata": {},
   "outputs": [
    {
     "data": {
      "text/html": [
       "<div>\n",
       "<style scoped>\n",
       "    .dataframe tbody tr th:only-of-type {\n",
       "        vertical-align: middle;\n",
       "    }\n",
       "\n",
       "    .dataframe tbody tr th {\n",
       "        vertical-align: top;\n",
       "    }\n",
       "\n",
       "    .dataframe thead th {\n",
       "        text-align: right;\n",
       "    }\n",
       "</style>\n",
       "<table border=\"1\" class=\"dataframe\">\n",
       "  <thead>\n",
       "    <tr style=\"text-align: right;\">\n",
       "      <th></th>\n",
       "      <th>Input_Code</th>\n",
       "      <th>Original_Text</th>\n",
       "      <th>Generated_Text_Greedy</th>\n",
       "      <th>BLEU_Score_Greedy</th>\n",
       "      <th>Generated_Text_Beam</th>\n",
       "      <th>BLEU_Score_Beam</th>\n",
       "      <th>Generated_Text_Topp</th>\n",
       "      <th>BLEU_Score_Topp</th>\n",
       "    </tr>\n",
       "  </thead>\n",
       "  <tbody>\n",
       "    <tr>\n",
       "      <th>0</th>\n",
       "      <td>MOVIE_RECOMMEND REQUEST ( genre =? ; directed_...</td>\n",
       "      <td>Do you have any preference on the movie genre,...</td>\n",
       "      <td>Do you have any movie genre, director or actor...</td>\n",
       "      <td>34.54</td>\n",
       "      <td>Do you have any movie genre, director or actor...</td>\n",
       "      <td>34.54</td>\n",
       "      <td>Do you have any movie genre, director or actor...</td>\n",
       "      <td>34.54</td>\n",
       "    </tr>\n",
       "    <tr>\n",
       "      <th>1</th>\n",
       "      <td>MOVIE_RECOMMEND REQUEST ( genre =? ; directed_...</td>\n",
       "      <td>Any preference on the genre, directors or acto...</td>\n",
       "      <td>Do you have any movie genre, director or actor...</td>\n",
       "      <td>11.2</td>\n",
       "      <td>Do you have any movie genre, director or actor...</td>\n",
       "      <td>11.2</td>\n",
       "      <td>Do you have any movie genre, director or actor...</td>\n",
       "      <td>11.2</td>\n",
       "    </tr>\n",
       "    <tr>\n",
       "      <th>2</th>\n",
       "      <td>MOVIE_RECOMMEND REQUEST ( genre =? ; directed_...</td>\n",
       "      <td>What kind of movie do you like? Any movie genr...</td>\n",
       "      <td>Do you have any movie genre, director or actor...</td>\n",
       "      <td>13.51</td>\n",
       "      <td>Do you have any movie genre, director or actor...</td>\n",
       "      <td>13.51</td>\n",
       "      <td>Do you have any movie genre, director or actor...</td>\n",
       "      <td>13.51</td>\n",
       "    </tr>\n",
       "    <tr>\n",
       "      <th>3</th>\n",
       "      <td>MOVIE_RECOMMEND REQUEST ( genre =? ; directed_...</td>\n",
       "      <td>Any movie genre, directors or actors you have ...</td>\n",
       "      <td>Do you have any movie genre, director or actor...</td>\n",
       "      <td>22.38</td>\n",
       "      <td>Do you have any movie genre, director or actor...</td>\n",
       "      <td>22.38</td>\n",
       "      <td>Do you have any movie genre, director or actor...</td>\n",
       "      <td>22.38</td>\n",
       "    </tr>\n",
       "    <tr>\n",
       "      <th>4</th>\n",
       "      <td>MOVIE_RECOMMEND REQUEST ( genre =? ; directed_...</td>\n",
       "      <td>What type of movie do you like? Any movie genr...</td>\n",
       "      <td>Do you have any movie genre, director or actor...</td>\n",
       "      <td>36.73</td>\n",
       "      <td>Do you have any movie genre, director or actor...</td>\n",
       "      <td>36.73</td>\n",
       "      <td>Do you have any movie genre, director or actor...</td>\n",
       "      <td>36.73</td>\n",
       "    </tr>\n",
       "    <tr>\n",
       "      <th>...</th>\n",
       "      <td>...</td>\n",
       "      <td>...</td>\n",
       "      <td>...</td>\n",
       "      <td>...</td>\n",
       "      <td>...</td>\n",
       "      <td>...</td>\n",
       "      <td>...</td>\n",
       "      <td>...</td>\n",
       "    </tr>\n",
       "    <tr>\n",
       "      <th>1025</th>\n",
       "      <td>MOVIE_SENTIMENT GOODBYE</td>\n",
       "      <td>Have a nice day</td>\n",
       "      <td>Have a good day.</td>\n",
       "      <td>37.61</td>\n",
       "      <td>Have a good day.</td>\n",
       "      <td>37.61</td>\n",
       "      <td>Have a good day.</td>\n",
       "      <td>37.61</td>\n",
       "    </tr>\n",
       "    <tr>\n",
       "      <th>1026</th>\n",
       "      <td>MOVIE_SENTIMENT GOODBYE</td>\n",
       "      <td>Have a nice day!</td>\n",
       "      <td>Have a good day.</td>\n",
       "      <td>37.61</td>\n",
       "      <td>Have a good day.</td>\n",
       "      <td>37.61</td>\n",
       "      <td>Have a good day.</td>\n",
       "      <td>37.61</td>\n",
       "    </tr>\n",
       "    <tr>\n",
       "      <th>1027</th>\n",
       "      <td>MOVIE_SENTIMENT GOODBYE</td>\n",
       "      <td>You're welcome. Enjoy the movie.</td>\n",
       "      <td>Have a good day.</td>\n",
       "      <td>16.11</td>\n",
       "      <td>Have a good day.</td>\n",
       "      <td>16.11</td>\n",
       "      <td>Have a good day.</td>\n",
       "      <td>16.11</td>\n",
       "    </tr>\n",
       "    <tr>\n",
       "      <th>1028</th>\n",
       "      <td>MOVIE_SENTIMENT GOODBYE</td>\n",
       "      <td>Have a good day.</td>\n",
       "      <td>Have a good day.</td>\n",
       "      <td>100.0</td>\n",
       "      <td>Have a good day.</td>\n",
       "      <td>100.0</td>\n",
       "      <td>Have a good day.</td>\n",
       "      <td>100.0</td>\n",
       "    </tr>\n",
       "    <tr>\n",
       "      <th>1029</th>\n",
       "      <td>MOVIE_SENTIMENT GOODBYE</td>\n",
       "      <td>Have a good one</td>\n",
       "      <td>Have a good day.</td>\n",
       "      <td>49.49</td>\n",
       "      <td>Have a good day.</td>\n",
       "      <td>49.49</td>\n",
       "      <td>Have a good day.</td>\n",
       "      <td>49.49</td>\n",
       "    </tr>\n",
       "  </tbody>\n",
       "</table>\n",
       "<p>1030 rows × 8 columns</p>\n",
       "</div>"
      ],
      "text/plain": [
       "                                             Input_Code  \\\n",
       "0     MOVIE_RECOMMEND REQUEST ( genre =? ; directed_...   \n",
       "1     MOVIE_RECOMMEND REQUEST ( genre =? ; directed_...   \n",
       "2     MOVIE_RECOMMEND REQUEST ( genre =? ; directed_...   \n",
       "3     MOVIE_RECOMMEND REQUEST ( genre =? ; directed_...   \n",
       "4     MOVIE_RECOMMEND REQUEST ( genre =? ; directed_...   \n",
       "...                                                 ...   \n",
       "1025                            MOVIE_SENTIMENT GOODBYE   \n",
       "1026                            MOVIE_SENTIMENT GOODBYE   \n",
       "1027                            MOVIE_SENTIMENT GOODBYE   \n",
       "1028                            MOVIE_SENTIMENT GOODBYE   \n",
       "1029                            MOVIE_SENTIMENT GOODBYE   \n",
       "\n",
       "                                          Original_Text  \\\n",
       "0     Do you have any preference on the movie genre,...   \n",
       "1     Any preference on the genre, directors or acto...   \n",
       "2     What kind of movie do you like? Any movie genr...   \n",
       "3     Any movie genre, directors or actors you have ...   \n",
       "4     What type of movie do you like? Any movie genr...   \n",
       "...                                                 ...   \n",
       "1025                                    Have a nice day   \n",
       "1026                                   Have a nice day!   \n",
       "1027                   You're welcome. Enjoy the movie.   \n",
       "1028                                   Have a good day.   \n",
       "1029                                    Have a good one   \n",
       "\n",
       "                                  Generated_Text_Greedy BLEU_Score_Greedy  \\\n",
       "0     Do you have any movie genre, director or actor...             34.54   \n",
       "1     Do you have any movie genre, director or actor...              11.2   \n",
       "2     Do you have any movie genre, director or actor...             13.51   \n",
       "3     Do you have any movie genre, director or actor...             22.38   \n",
       "4     Do you have any movie genre, director or actor...             36.73   \n",
       "...                                                 ...               ...   \n",
       "1025                                   Have a good day.             37.61   \n",
       "1026                                   Have a good day.             37.61   \n",
       "1027                                   Have a good day.             16.11   \n",
       "1028                                   Have a good day.             100.0   \n",
       "1029                                   Have a good day.             49.49   \n",
       "\n",
       "                                    Generated_Text_Beam BLEU_Score_Beam  \\\n",
       "0     Do you have any movie genre, director or actor...           34.54   \n",
       "1     Do you have any movie genre, director or actor...            11.2   \n",
       "2     Do you have any movie genre, director or actor...           13.51   \n",
       "3     Do you have any movie genre, director or actor...           22.38   \n",
       "4     Do you have any movie genre, director or actor...           36.73   \n",
       "...                                                 ...             ...   \n",
       "1025                                   Have a good day.           37.61   \n",
       "1026                                   Have a good day.           37.61   \n",
       "1027                                   Have a good day.           16.11   \n",
       "1028                                   Have a good day.           100.0   \n",
       "1029                                   Have a good day.           49.49   \n",
       "\n",
       "                                    Generated_Text_Topp BLEU_Score_Topp  \n",
       "0     Do you have any movie genre, director or actor...           34.54  \n",
       "1     Do you have any movie genre, director or actor...            11.2  \n",
       "2     Do you have any movie genre, director or actor...           13.51  \n",
       "3     Do you have any movie genre, director or actor...           22.38  \n",
       "4     Do you have any movie genre, director or actor...           36.73  \n",
       "...                                                 ...             ...  \n",
       "1025                                   Have a good day.           37.61  \n",
       "1026                                   Have a good day.           37.61  \n",
       "1027                                   Have a good day.           16.11  \n",
       "1028                                   Have a good day.           100.0  \n",
       "1029                                   Have a good day.           49.49  \n",
       "\n",
       "[1030 rows x 8 columns]"
      ]
     },
     "execution_count": 33,
     "metadata": {},
     "output_type": "execute_result"
    }
   ],
   "source": [
    "eval_df"
   ]
  },
  {
   "cell_type": "markdown",
   "metadata": {},
   "source": [
    "## Save Evaluation Results to File"
   ]
  },
  {
   "cell_type": "code",
   "execution_count": 100,
   "metadata": {},
   "outputs": [],
   "source": [
    "eval_result_savepath = os.path.join(basedir, 'eval_result\\\\' + MODEL_NAME + '_eval.csv')\n",
    "\n",
    "eval_df.to_csv(eval_result_savepath)"
   ]
  },
  {
   "cell_type": "markdown",
   "metadata": {},
   "source": [
    "## Text Generation Examples"
   ]
  },
  {
   "cell_type": "markdown",
   "metadata": {},
   "source": [
    "### Sample 1"
   ]
  },
  {
   "cell_type": "code",
   "execution_count": 200,
   "metadata": {},
   "outputs": [
    {
     "data": {
      "text/plain": [
       "tensor([[ 7109,   553,  5091,   834,  4386,  6657,   329, 14920,  4486,  6058,\n",
       "           476,   834,   134, 19356,  8360,  2365,    41,  5349,  3274, 14210,\n",
       "             3,    61,     1,     0,     0,     0,     0,     0,     0,     0,\n",
       "             0,     0,     0,     0,     0,     0,     0,     0,     0,     0,\n",
       "             0,     0,     0,     0,     0,     0,     0,     0,     0,     0,\n",
       "             0,     0,     0,     0,     0,     0,     0,     0,     0,     0,\n",
       "             0,     0,     0,     0]], device='cuda:0')"
      ]
     },
     "execution_count": 200,
     "metadata": {},
     "output_type": "execute_result"
    }
   ],
   "source": [
    "sample_input_ids"
   ]
  },
  {
   "cell_type": "code",
   "execution_count": 199,
   "metadata": {},
   "outputs": [
    {
     "name": "stdout",
     "output_type": "stream",
     "text": [
      "Total processing time                   :  0.17\n",
      "Total generation time for greedy search :  0.05\n",
      "Total generation time for beam search   :  0.08\n",
      "Total generation time for topp search   :  0.05\n",
      "----------------------------------------------------------------------\n",
      "Control Code (Input)     : MOVIE_RECOMMEND NOTIFY_SEARCHING ( genre = romance )\n",
      "Greedy Search Generation : Looking for romance movies\n",
      "Beam Search Generation   : Looking for some romance movies\n",
      "Topp Search Generation   : Looking for romance movies\n"
     ]
    }
   ],
   "source": [
    "sample_control_code = 'MOVIE_RECOMMEND NOTIFY_SEARCHING ( genre = romance )'\n",
    "sample_input_ids = tokenizer.encode(sample_control_code, padding='max_length', max_length=MAX_LENGTH, truncation=True, return_tensors = 'pt')\n",
    "\n",
    "sample_beam_size = 5\n",
    "sample_topp = 0.8\n",
    "sample_input_ids = sample_input_ids.to(device)\n",
    "\n",
    "# Generation by Greedy Search\n",
    "time_0 = time.time()\n",
    "sample_generated_ids_greedy = eval_model.generate(input_ids=sample_input_ids, max_length=MAX_LENGTH).detach().cpu()\n",
    "sample_generated_text_greedy = tokenizer.decode(sample_generated_ids_greedy[0], skip_special_tokens=True)\n",
    "\n",
    "# Generation by Beam Search\n",
    "time_1 = time.time()\n",
    "sample_generated_ids_beam = eval_model.generate(input_ids=sample_input_ids, max_length=MAX_LENGTH, num_beams=sample_beam_size, early_stopping=True).detach().cpu()\n",
    "sample_generated_text_beam = tokenizer.decode(sample_generated_ids_beam[0], skip_special_tokens=True)\n",
    "\n",
    "# Generation by Top-p Search\n",
    "time_2 = time.time()\n",
    "sample_generated_ids_topp = eval_model.generate(input_ids=sample_input_ids, max_length=MAX_LENGTH, top_p=sample_topp, top_k=0).detach().cpu()\n",
    "sample_generated_text_topp = tokenizer.decode(sample_generated_ids_topp[0], skip_special_tokens=True)\n",
    "\n",
    "time_3 = time.time()\n",
    "\n",
    "print('Total processing time                   : ', round(time_3 - time_0,2))\n",
    "print('Total generation time for greedy search : ', round(time_1 - time_0,2))\n",
    "print('Total generation time for beam search   : ', round(time_2 - time_1,2))\n",
    "print('Total generation time for topp search   : ', round(time_3 - time_2,2))\n",
    "\n",
    "print('-' * 70)\n",
    "print('Control Code (Input)     :', sample_control_code)\n",
    "print('Greedy Search Generation :', sample_generated_text_greedy)\n",
    "print('Beam Search Generation   :', sample_generated_text_beam) \n",
    "print('Topp Search Generation   :', sample_generated_text_topp)"
   ]
  },
  {
   "cell_type": "markdown",
   "metadata": {},
   "source": [
    "### Sample 2"
   ]
  },
  {
   "cell_type": "code",
   "execution_count": 132,
   "metadata": {},
   "outputs": [
    {
     "name": "stdout",
     "output_type": "stream",
     "text": [
      "Total processing time                   :  0.53\n",
      "Total generation time for greedy search :  0.16\n",
      "Total generation time for beam search   :  0.21\n",
      "Total generation time for topp search   :  0.16\n",
      "----------------------------------------------------------------------\n",
      "Control Code (Input)     : MOVIE_SENTIMENT NOTIFY_FAILURE ( title = SomeMovieName )\n",
      "Greedy Search Generation : I am sorry but I couldn't find any public comments about the movie named SomeMovieName\n",
      "Beam Search Generation   : I am sorry but I couldn't find any public comments about the movie named SomeMovieName\n",
      "Topp Search Generation   : I am sorry but I couldn't find any public comments about the movie named SomeMovieName\n"
     ]
    }
   ],
   "source": [
    "sample_control_code = 'MOVIE_SENTIMENT NOTIFY_FAILURE ( title = SomeMovieName )'\n",
    "sample_input_ids = tokenizer.encode(sample_control_code, padding='max_length', max_length=MAX_LENGTH, truncation=True, return_tensors = 'pt')\n",
    "\n",
    "sample_beam_size = 5\n",
    "sample_topp = 0.8\n",
    "sample_input_ids = sample_input_ids.to(device)\n",
    "\n",
    "# Generation by Greedy Search\n",
    "time_0 = time.time()\n",
    "sample_generated_ids_greedy = eval_model.generate(input_ids=sample_input_ids, max_length=MAX_LENGTH).detach().cpu()\n",
    "sample_generated_text_greedy = tokenizer.decode(sample_generated_ids_greedy[0], skip_special_tokens=True)\n",
    "\n",
    "# Generation by Beam Search\n",
    "time_1 = time.time()\n",
    "sample_generated_ids_beam = eval_model.generate(input_ids=sample_input_ids, max_length=MAX_LENGTH, num_beams=sample_beam_size, early_stopping=True).detach().cpu()\n",
    "sample_generated_text_beam = tokenizer.decode(sample_generated_ids_beam[0], skip_special_tokens=True)\n",
    "\n",
    "# Generation by Top-p Search\n",
    "time_2 = time.time()\n",
    "sample_generated_ids_topp = eval_model.generate(input_ids=sample_input_ids, max_length=MAX_LENGTH, top_p=sample_topp, top_k=0).detach().cpu()\n",
    "sample_generated_text_topp = tokenizer.decode(sample_generated_ids_topp[0], skip_special_tokens=True)\n",
    "\n",
    "time_3 = time.time()\n",
    "\n",
    "print('Total processing time                   : ', round(time_3 - time_0,2))\n",
    "print('Total generation time for greedy search : ', round(time_1 - time_0,2))\n",
    "print('Total generation time for beam search   : ', round(time_2 - time_1,2))\n",
    "print('Total generation time for topp search   : ', round(time_3 - time_2,2))\n",
    "\n",
    "print('-' * 70)\n",
    "print('Control Code (Input)     :', sample_control_code)\n",
    "print('Greedy Search Generation :', sample_generated_text_greedy)\n",
    "print('Beam Search Generation   :', sample_generated_text_beam) \n",
    "print('Topp Search Generation   :', sample_generated_text_topp)"
   ]
  },
  {
   "cell_type": "markdown",
   "metadata": {},
   "source": [
    "### Sample 3"
   ]
  },
  {
   "cell_type": "code",
   "execution_count": 206,
   "metadata": {},
   "outputs": [
    {
     "name": "stdout",
     "output_type": "stream",
     "text": [
      "Total processing time                   :  0.39\n",
      "Total generation time for greedy search :  0.12\n",
      "Total generation time for beam search   :  0.15\n",
      "Total generation time for topp search   :  0.12\n",
      "----------------------------------------------------------------------\n",
      "Control Code (Input)     : MOVIE_RECOMMEND NOTIFY_SUCCESS ( genre = crime ; director = Someone Name ; actor = Another Name )\n",
      "Greedy Search Generation : Below are some crime movies directed by Someone Name and acted by Another Name\n",
      "Beam Search Generation   : Below are some crime movies directed by Someone Name and acted by Another Name\n",
      "Topp Search Generation   : Below are some crime movies directed by Someone Name and acted by Another Name\n"
     ]
    }
   ],
   "source": [
    "sample_control_code = 'MOVIE_RECOMMEND NOTIFY_SUCCESS ( genre = crime ; director = Someone Name ; actor = Another Name )'\n",
    "sample_input_ids = tokenizer.encode(sample_control_code, padding='max_length', max_length=MAX_LENGTH, truncation=True, return_tensors = 'pt')\n",
    "\n",
    "sample_beam_size = 5\n",
    "sample_topp = 0.8\n",
    "sample_input_ids = sample_input_ids.to(device)\n",
    "\n",
    "# Generation by Greedy Search\n",
    "time_0 = time.time()\n",
    "sample_generated_ids_greedy = eval_model.generate(input_ids=sample_input_ids, max_length=MAX_LENGTH).detach().cpu()\n",
    "sample_generated_text_greedy = tokenizer.decode(sample_generated_ids_greedy[0], skip_special_tokens=True)\n",
    "\n",
    "# Generation by Beam Search\n",
    "time_1 = time.time()\n",
    "sample_generated_ids_beam = eval_model.generate(input_ids=sample_input_ids, max_length=MAX_LENGTH, num_beams=sample_beam_size, early_stopping=True).detach().cpu()\n",
    "sample_generated_text_beam = tokenizer.decode(sample_generated_ids_beam[0], skip_special_tokens=True)\n",
    "\n",
    "# Generation by Top-p Search\n",
    "time_2 = time.time()\n",
    "sample_generated_ids_topp = eval_model.generate(input_ids=sample_input_ids, max_length=MAX_LENGTH, top_p=sample_topp, top_k=0).detach().cpu()\n",
    "sample_generated_text_topp = tokenizer.decode(sample_generated_ids_topp[0], skip_special_tokens=True)\n",
    "\n",
    "time_3 = time.time()\n",
    "\n",
    "print('Total processing time                   : ', round(time_3 - time_0,2))\n",
    "print('Total generation time for greedy search : ', round(time_1 - time_0,2))\n",
    "print('Total generation time for beam search   : ', round(time_2 - time_1,2))\n",
    "print('Total generation time for topp search   : ', round(time_3 - time_2,2))\n",
    "\n",
    "print('-' * 70)\n",
    "print('Control Code (Input)     :', sample_control_code)\n",
    "print('Greedy Search Generation :', sample_generated_text_greedy)\n",
    "print('Beam Search Generation   :', sample_generated_text_beam) \n",
    "print('Topp Search Generation   :', sample_generated_text_topp)"
   ]
  },
  {
   "cell_type": "markdown",
   "metadata": {},
   "source": [
    "### Sample 4"
   ]
  },
  {
   "cell_type": "code",
   "execution_count": 137,
   "metadata": {},
   "outputs": [
    {
     "name": "stdout",
     "output_type": "stream",
     "text": [
      "Total processing time                   :  0.49\n",
      "Total generation time for greedy search :  0.15\n",
      "Total generation time for beam search   :  0.2\n",
      "Total generation time for topp search   :  0.14\n",
      "----------------------------------------------------------------------\n",
      "Control Code (Input)     : MOVIE_SENTIMENT NOTIFY_SUCCESS ( title = Some Movie )\n",
      "Greedy Search Generation : Below is a summary of what people have been discussing about the movie named Some Movie\n",
      "Beam Search Generation   : Below is a summary of what people have been talking about the movie named Some Movie\n",
      "Topp Search Generation   : Below is a summary of what people have been discussing about the movie named Some Movie\n"
     ]
    }
   ],
   "source": [
    "sample_control_code = 'MOVIE_SENTIMENT NOTIFY_SUCCESS ( title = Some Movie )'\n",
    "sample_input_ids = tokenizer.encode(sample_control_code, padding='max_length', max_length=MAX_LENGTH, truncation=True, return_tensors = 'pt')\n",
    "\n",
    "sample_beam_size = 5\n",
    "sample_topp = 0.8\n",
    "sample_input_ids = sample_input_ids.to(device)\n",
    "\n",
    "# Generation by Greedy Search\n",
    "time_0 = time.time()\n",
    "sample_generated_ids_greedy = eval_model.generate(input_ids=sample_input_ids, max_length=MAX_LENGTH).detach().cpu()\n",
    "sample_generated_text_greedy = tokenizer.decode(sample_generated_ids_greedy[0], skip_special_tokens=True)\n",
    "\n",
    "# Generation by Beam Search\n",
    "time_1 = time.time()\n",
    "sample_generated_ids_beam = eval_model.generate(input_ids=sample_input_ids, max_length=MAX_LENGTH, num_beams=sample_beam_size, early_stopping=True).detach().cpu()\n",
    "sample_generated_text_beam = tokenizer.decode(sample_generated_ids_beam[0], skip_special_tokens=True)\n",
    "\n",
    "# Generation by Top-p Search\n",
    "time_2 = time.time()\n",
    "sample_generated_ids_topp = eval_model.generate(input_ids=sample_input_ids, max_length=MAX_LENGTH, top_p=sample_topp, top_k=0).detach().cpu()\n",
    "sample_generated_text_topp = tokenizer.decode(sample_generated_ids_topp[0], skip_special_tokens=True)\n",
    "\n",
    "time_3 = time.time()\n",
    "\n",
    "print('Total processing time                   : ', round(time_3 - time_0,2))\n",
    "print('Total generation time for greedy search : ', round(time_1 - time_0,2))\n",
    "print('Total generation time for beam search   : ', round(time_2 - time_1,2))\n",
    "print('Total generation time for topp search   : ', round(time_3 - time_2,2))\n",
    "\n",
    "print('-' * 70)\n",
    "print('Control Code (Input)     :', sample_control_code)\n",
    "print('Greedy Search Generation :', sample_generated_text_greedy)\n",
    "print('Beam Search Generation   :', sample_generated_text_beam) \n",
    "print('Topp Search Generation   :', sample_generated_text_topp)"
   ]
  },
  {
   "cell_type": "markdown",
   "metadata": {},
   "source": [
    "### Sample 5"
   ]
  },
  {
   "cell_type": "code",
   "execution_count": 138,
   "metadata": {},
   "outputs": [
    {
     "name": "stdout",
     "output_type": "stream",
     "text": [
      "Total processing time                   :  0.31\n",
      "Total generation time for greedy search :  0.1\n",
      "Total generation time for beam search   :  0.12\n",
      "Total generation time for topp search   :  0.1\n",
      "----------------------------------------------------------------------\n",
      "Control Code (Input)     : MOVIE_RECOMMEND REQ_MORE\n",
      "Greedy Search Generation : Is there anything else I can help you with?\n",
      "Beam Search Generation   : Can I help with anything else?\n",
      "Topp Search Generation   : Is there anything else I can help you with?\n"
     ]
    }
   ],
   "source": [
    "sample_control_code = 'MOVIE_RECOMMEND REQ_MORE'\n",
    "sample_input_ids = tokenizer.encode(sample_control_code, padding='max_length', max_length=MAX_LENGTH, truncation=True, return_tensors = 'pt')\n",
    "\n",
    "sample_beam_size = 5\n",
    "sample_topp = 0.8\n",
    "sample_input_ids = sample_input_ids.to(device)\n",
    "\n",
    "# Generation by Greedy Search\n",
    "time_0 = time.time()\n",
    "sample_generated_ids_greedy = eval_model.generate(input_ids=sample_input_ids, max_length=MAX_LENGTH).detach().cpu()\n",
    "sample_generated_text_greedy = tokenizer.decode(sample_generated_ids_greedy[0], skip_special_tokens=True)\n",
    "\n",
    "# Generation by Beam Search\n",
    "time_1 = time.time()\n",
    "sample_generated_ids_beam = eval_model.generate(input_ids=sample_input_ids, max_length=MAX_LENGTH, num_beams=sample_beam_size, early_stopping=True).detach().cpu()\n",
    "sample_generated_text_beam = tokenizer.decode(sample_generated_ids_beam[0], skip_special_tokens=True)\n",
    "\n",
    "# Generation by Top-p Search\n",
    "time_2 = time.time()\n",
    "sample_generated_ids_topp = eval_model.generate(input_ids=sample_input_ids, max_length=MAX_LENGTH, top_p=sample_topp, top_k=0).detach().cpu()\n",
    "sample_generated_text_topp = tokenizer.decode(sample_generated_ids_topp[0], skip_special_tokens=True)\n",
    "\n",
    "time_3 = time.time()\n",
    "\n",
    "print('Total processing time                   : ', round(time_3 - time_0,2))\n",
    "print('Total generation time for greedy search : ', round(time_1 - time_0,2))\n",
    "print('Total generation time for beam search   : ', round(time_2 - time_1,2))\n",
    "print('Total generation time for topp search   : ', round(time_3 - time_2,2))\n",
    "\n",
    "print('-' * 70)\n",
    "print('Control Code (Input)     :', sample_control_code)\n",
    "print('Greedy Search Generation :', sample_generated_text_greedy)\n",
    "print('Beam Search Generation   :', sample_generated_text_beam) \n",
    "print('Topp Search Generation   :', sample_generated_text_topp)"
   ]
  },
  {
   "cell_type": "markdown",
   "metadata": {},
   "source": [
    "### Sample 6"
   ]
  },
  {
   "cell_type": "code",
   "execution_count": 139,
   "metadata": {},
   "outputs": [
    {
     "name": "stdout",
     "output_type": "stream",
     "text": [
      "Total processing time                   :  0.2\n",
      "Total generation time for greedy search :  0.06\n",
      "Total generation time for beam search   :  0.08\n",
      "Total generation time for topp search   :  0.06\n",
      "----------------------------------------------------------------------\n",
      "Control Code (Input)     : MOVIE_SENTIMENT GOODBYE\n",
      "Greedy Search Generation : Have a good day.\n",
      "Beam Search Generation   : Have a good day.\n",
      "Topp Search Generation   : Have a good day.\n"
     ]
    }
   ],
   "source": [
    "sample_control_code = 'MOVIE_SENTIMENT GOODBYE'\n",
    "sample_input_ids = tokenizer.encode(sample_control_code, padding='max_length', max_length=MAX_LENGTH, truncation=True, return_tensors = 'pt')\n",
    "\n",
    "sample_beam_size = 5\n",
    "sample_topp = 0.8\n",
    "sample_input_ids = sample_input_ids.to(device)\n",
    "\n",
    "# Generation by Greedy Search\n",
    "time_0 = time.time()\n",
    "sample_generated_ids_greedy = eval_model.generate(input_ids=sample_input_ids, max_length=MAX_LENGTH).detach().cpu()\n",
    "sample_generated_text_greedy = tokenizer.decode(sample_generated_ids_greedy[0], skip_special_tokens=True)\n",
    "\n",
    "# Generation by Beam Search\n",
    "time_1 = time.time()\n",
    "sample_generated_ids_beam = eval_model.generate(input_ids=sample_input_ids, max_length=MAX_LENGTH, num_beams=sample_beam_size, early_stopping=True).detach().cpu()\n",
    "sample_generated_text_beam = tokenizer.decode(sample_generated_ids_beam[0], skip_special_tokens=True)\n",
    "\n",
    "# Generation by Top-p Search\n",
    "time_2 = time.time()\n",
    "sample_generated_ids_topp = eval_model.generate(input_ids=sample_input_ids, max_length=MAX_LENGTH, top_p=sample_topp, top_k=0).detach().cpu()\n",
    "sample_generated_text_topp = tokenizer.decode(sample_generated_ids_topp[0], skip_special_tokens=True)\n",
    "\n",
    "time_3 = time.time()\n",
    "\n",
    "print('Total processing time                   : ', round(time_3 - time_0,2))\n",
    "print('Total generation time for greedy search : ', round(time_1 - time_0,2))\n",
    "print('Total generation time for beam search   : ', round(time_2 - time_1,2))\n",
    "print('Total generation time for topp search   : ', round(time_3 - time_2,2))\n",
    "\n",
    "print('-' * 70)\n",
    "print('Control Code (Input)     :', sample_control_code)\n",
    "print('Greedy Search Generation :', sample_generated_text_greedy)\n",
    "print('Beam Search Generation   :', sample_generated_text_beam) \n",
    "print('Topp Search Generation   :', sample_generated_text_topp)"
   ]
  },
  {
   "cell_type": "markdown",
   "metadata": {},
   "source": [
    "### Sample 7"
   ]
  },
  {
   "cell_type": "code",
   "execution_count": 140,
   "metadata": {},
   "outputs": [
    {
     "name": "stdout",
     "output_type": "stream",
     "text": [
      "Total processing time                   :  0.56\n",
      "Total generation time for greedy search :  0.17\n",
      "Total generation time for beam search   :  0.21\n",
      "Total generation time for topp search   :  0.17\n",
      "----------------------------------------------------------------------\n",
      "Control Code (Input)     : MOVIE_SENTIMENT REQUEST ( title = ? )\n",
      "Greedy Search Generation : Do you have a particular movie title in mind you want to know what people are talking about it?\n",
      "Beam Search Generation   : Do you have a particular movie title in mind you want the sentiment analysis on?\n",
      "Topp Search Generation   : Do you have a particular movie title in mind you want to know what people are talking about it?\n"
     ]
    }
   ],
   "source": [
    "sample_control_code = 'MOVIE_SENTIMENT REQUEST ( title = ? )'\n",
    "sample_input_ids = tokenizer.encode(sample_control_code, padding='max_length', max_length=MAX_LENGTH, truncation=True, return_tensors = 'pt')\n",
    "\n",
    "sample_beam_size = 5\n",
    "sample_topp = 0.8\n",
    "sample_input_ids = sample_input_ids.to(device)\n",
    "\n",
    "# Generation by Greedy Search\n",
    "time_0 = time.time()\n",
    "sample_generated_ids_greedy = eval_model.generate(input_ids=sample_input_ids, max_length=MAX_LENGTH).detach().cpu()\n",
    "sample_generated_text_greedy = tokenizer.decode(sample_generated_ids_greedy[0], skip_special_tokens=True)\n",
    "\n",
    "# Generation by Beam Search\n",
    "time_1 = time.time()\n",
    "sample_generated_ids_beam = eval_model.generate(input_ids=sample_input_ids, max_length=MAX_LENGTH, num_beams=sample_beam_size, early_stopping=True).detach().cpu()\n",
    "sample_generated_text_beam = tokenizer.decode(sample_generated_ids_beam[0], skip_special_tokens=True)\n",
    "\n",
    "# Generation by Top-p Search\n",
    "time_2 = time.time()\n",
    "sample_generated_ids_topp = eval_model.generate(input_ids=sample_input_ids, max_length=MAX_LENGTH, top_p=sample_topp, top_k=0).detach().cpu()\n",
    "sample_generated_text_topp = tokenizer.decode(sample_generated_ids_topp[0], skip_special_tokens=True)\n",
    "\n",
    "time_3 = time.time()\n",
    "\n",
    "print('Total processing time                   : ', round(time_3 - time_0,2))\n",
    "print('Total generation time for greedy search : ', round(time_1 - time_0,2))\n",
    "print('Total generation time for beam search   : ', round(time_2 - time_1,2))\n",
    "print('Total generation time for topp search   : ', round(time_3 - time_2,2))\n",
    "\n",
    "print('-' * 70)\n",
    "print('Control Code (Input)     :', sample_control_code)\n",
    "print('Greedy Search Generation :', sample_generated_text_greedy)\n",
    "print('Beam Search Generation   :', sample_generated_text_beam) \n",
    "print('Topp Search Generation   :', sample_generated_text_topp)"
   ]
  },
  {
   "cell_type": "code",
   "execution_count": 141,
   "metadata": {},
   "outputs": [
    {
     "name": "stdout",
     "output_type": "stream",
     "text": [
      "Total processing time                   :  0.4\n",
      "Total generation time for greedy search :  0.11\n",
      "Total generation time for beam search   :  0.18\n",
      "Total generation time for topp search   :  0.11\n",
      "----------------------------------------------------------------------\n",
      "Control Code (Input)     : MOVIE_RECOMMEND REQUEST ( genre = ? ; directed_by = ? ; starring = ? )\n",
      "Greedy Search Generation : Do you have any movie genre, director or actor you prefer?\n",
      "Beam Search Generation   : Do you have any movie genre, director or actor you prefer?\n",
      "Topp Search Generation   : Do you have any movie genre, director or actor you prefer?\n"
     ]
    }
   ],
   "source": [
    "sample_control_code = 'MOVIE_RECOMMEND REQUEST ( genre = ? ; directed_by = ? ; starring = ? )'\n",
    "sample_input_ids = tokenizer.encode(sample_control_code, padding='max_length', max_length=MAX_LENGTH, truncation=True, return_tensors = 'pt')\n",
    "\n",
    "sample_beam_size = 5\n",
    "sample_topp = 0.8\n",
    "sample_input_ids = sample_input_ids.to(device)\n",
    "\n",
    "# Generation by Greedy Search\n",
    "time_0 = time.time()\n",
    "sample_generated_ids_greedy = eval_model.generate(input_ids=sample_input_ids, max_length=MAX_LENGTH).detach().cpu()\n",
    "sample_generated_text_greedy = tokenizer.decode(sample_generated_ids_greedy[0], skip_special_tokens=True)\n",
    "\n",
    "# Generation by Beam Search\n",
    "time_1 = time.time()\n",
    "sample_generated_ids_beam = eval_model.generate(input_ids=sample_input_ids, max_length=MAX_LENGTH, num_beams=sample_beam_size, early_stopping=True).detach().cpu()\n",
    "sample_generated_text_beam = tokenizer.decode(sample_generated_ids_beam[0], skip_special_tokens=True)\n",
    "\n",
    "# Generation by Top-p Search\n",
    "time_2 = time.time()\n",
    "sample_generated_ids_topp = eval_model.generate(input_ids=sample_input_ids, max_length=MAX_LENGTH, top_p=sample_topp, top_k=0).detach().cpu()\n",
    "sample_generated_text_topp = tokenizer.decode(sample_generated_ids_topp[0], skip_special_tokens=True)\n",
    "\n",
    "time_3 = time.time()\n",
    "\n",
    "print('Total processing time                   : ', round(time_3 - time_0,2))\n",
    "print('Total generation time for greedy search : ', round(time_1 - time_0,2))\n",
    "print('Total generation time for beam search   : ', round(time_2 - time_1,2))\n",
    "print('Total generation time for topp search   : ', round(time_3 - time_2,2))\n",
    "\n",
    "print('-' * 70)\n",
    "print('Control Code (Input)     :', sample_control_code)\n",
    "print('Greedy Search Generation :', sample_generated_text_greedy)\n",
    "print('Beam Search Generation   :', sample_generated_text_beam) \n",
    "print('Topp Search Generation   :', sample_generated_text_topp)"
   ]
  },
  {
   "cell_type": "markdown",
   "metadata": {},
   "source": [
    "# 5. Model Serialization"
   ]
  },
  {
   "cell_type": "code",
   "execution_count": 130,
   "metadata": {},
   "outputs": [],
   "source": [
    "# Load Model\n",
    "MODEL_NAME = 't5-small'\n",
    "DEPLOY_MODEL_LOAD_PATH = CALLBACK_PATH_TOPP\n",
    "deploy_model_gpu = T5ForConditionalGeneration.from_pretrained(MODEL_NAME, config=config)\n",
    "deploy_model_cpu = T5ForConditionalGeneration.from_pretrained(MODEL_NAME, config=config)\n",
    "\n",
    "load_dict = torch.load(DEPLOY_MODEL_LOAD_PATH)\n",
    "deploy_model_gpu.load_state_dict(load_dict)\n",
    "deploy_model_cpu.load_state_dict(load_dict)\n",
    "\n",
    "# Load Tokenizer\n",
    "deploy_tokenizer = T5Tokenizer.from_pretrained(MODEL_NAME)"
   ]
  },
  {
   "cell_type": "code",
   "execution_count": 135,
   "metadata": {},
   "outputs": [
    {
     "name": "stdout",
     "output_type": "stream",
     "text": [
      "Sample text input     : MOVIE_RECOMMEND REQ_MORE\n",
      "Sample input ids      : tensor([[ 7109,   553,  5091,   834,  4386,  6657,   329, 14920,  4083,  2247,\n",
      "           834,   329, 20888,     1,     0,     0,     0,     0,     0,     0,\n",
      "             0,     0,     0,     0,     0,     0,     0,     0,     0,     0,\n",
      "             0,     0,     0,     0,     0,     0,     0,     0,     0,     0,\n",
      "             0,     0,     0,     0,     0,     0,     0,     0,     0,     0,\n",
      "             0,     0,     0,     0,     0,     0,     0,     0,     0,     0,\n",
      "             0,     0,     0,     0]]) | torch.Size([1, 64])\n",
      "Sample attention mask : tensor([[1, 1, 1, 1, 1, 1, 1, 1, 1, 1, 1, 1, 1, 1, 0, 0, 0, 0, 0, 0, 0, 0, 0, 0,\n",
      "         0, 0, 0, 0, 0, 0, 0, 0, 0, 0, 0, 0, 0, 0, 0, 0, 0, 0, 0, 0, 0, 0, 0, 0,\n",
      "         0, 0, 0, 0, 0, 0, 0, 0, 0, 0, 0, 0, 0, 0, 0, 0]]) | torch.Size([1, 64])\n"
     ]
    }
   ],
   "source": [
    "# Create Input Samples\n",
    "random.seed(seed)\n",
    "deploy_sample_idx = random.randint(0, len(df))\n",
    "deploy_sample_text = df['Code'].tolist()[deploy_sample_idx]\n",
    "\n",
    "# Tokenized sample inputs\n",
    "deploy_sample_tokenized = tokenizer(deploy_sample_text,\n",
    "                                    padding='max_length',\n",
    "                                    max_length=MAX_LENGTH,\n",
    "                                    truncation=True, \n",
    "                                    return_attention_mask = True, \n",
    "                                    return_tensors = 'pt')\n",
    "deploy_sample_input_ids = deploy_sample_tokenized['input_ids']\n",
    "deploy_sample_attn_mask = deploy_sample_tokenized['attention_mask']\n",
    "deploy_sample_jit_input_gpu = (deploy_sample_input_ids.to(device), deploy_sample_attn_mask.to(device))\n",
    "deploy_sample_jit_input_cpu = (deploy_sample_input_ids, deploy_sample_attn_mask)\n",
    "\n",
    "print('Sample text input     :', deploy_sample_text)\n",
    "print('Sample input ids      :', deploy_sample_input_ids, '|', deploy_sample_input_ids.size())\n",
    "print('Sample attention mask :', deploy_sample_attn_mask, '|', deploy_sample_attn_mask.size())\n"
   ]
  },
  {
   "cell_type": "code",
   "execution_count": 195,
   "metadata": {},
   "outputs": [
    {
     "name": "stdout",
     "output_type": "stream",
     "text": [
      "0.08779\n",
      "Is there anything else I can help you with?\n"
     ]
    }
   ],
   "source": [
    "# Save GPU model using TorchScript - Trace\n",
    "deploy_model_gpu.eval()\n",
    "deploy_model_gpu.to(device)\n",
    "start = time.time()\n",
    "# module_output  = torch.jit.trace_module(deploy_model_gpu.generate, deploy_sample_jit_input_gpu)\n",
    "\n",
    "output = deploy_model_gpu.generate(input_ids=deploy_sample_input_ids.to(device))\n",
    "print(round(time.time()-start,5))\n",
    "print(tokenizer.decode(output[0], skip_special_tokens=True))"
   ]
  }
 ],
 "metadata": {
  "accelerator": "GPU",
  "colab": {
   "collapsed_sections": [],
   "name": "T5_Fine_Tune.ipynb",
   "provenance": [],
   "toc_visible": true
  },
  "kernelspec": {
   "display_name": "Python [conda env:py39_gpu1]",
   "language": "python",
   "name": "conda-env-py39_gpu1-py"
  },
  "language_info": {
   "codemirror_mode": {
    "name": "ipython",
    "version": 3
   },
   "file_extension": ".py",
   "mimetype": "text/x-python",
   "name": "python",
   "nbconvert_exporter": "python",
   "pygments_lexer": "ipython3",
   "version": "3.9.0"
  }
 },
 "nbformat": 4,
 "nbformat_minor": 4
}
