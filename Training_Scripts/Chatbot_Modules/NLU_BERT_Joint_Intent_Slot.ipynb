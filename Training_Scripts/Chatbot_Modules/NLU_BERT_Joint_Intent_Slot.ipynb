{
 "cells": [
  {
   "cell_type": "markdown",
   "metadata": {
    "id": "frtUc6Ky4nCe"
   },
   "source": [
    "# Intent Recognition Using BERT\n",
    "\n",
    "\n",
    "---\n",
    "\n",
    "\n",
    "**Practice Module: Practical Language Processing (PLP)**\n",
    "\n",
    "**Group: 17**\n",
    "\n",
    "Members:\n",
    "\n",
    "`Lim Jun Ming`, `A0231523U`\n",
    "\n",
    "`Tadhg Kennedy`, \n",
    "\n",
    "`Gopan Ravikumar Girija`,"
   ]
  },
  {
   "cell_type": "markdown",
   "metadata": {
    "id": "Y3sK_sYl4rUI"
   },
   "source": [
    "# 0. Initialization"
   ]
  },
  {
   "cell_type": "code",
   "execution_count": 1,
   "metadata": {
    "colab": {
     "base_uri": "https://localhost:8080/"
    },
    "id": "3P3eQAQk58Ci",
    "outputId": "f0db3c3e-14e4-4b90-9e33-3d3128db85a1"
   },
   "outputs": [],
   "source": [
    "# !pip install transformers"
   ]
  },
  {
   "cell_type": "code",
   "execution_count": 2,
   "metadata": {
    "colab": {
     "base_uri": "https://localhost:8080/"
    },
    "id": "fsQsO7-y6ROU",
    "outputId": "0030c386-4545-4d92-d7c6-782a9f2d4bbd"
   },
   "outputs": [],
   "source": [
    "# !pip install torchinfo"
   ]
  },
  {
   "cell_type": "markdown",
   "metadata": {
    "id": "_5Bt27SB4ub5"
   },
   "source": [
    "## Imports"
   ]
  },
  {
   "cell_type": "code",
   "execution_count": 1,
   "metadata": {
    "id": "BG6XZytX4jt6"
   },
   "outputs": [],
   "source": [
    "import os\n",
    "# from google.colab import drive\n",
    "\n",
    "import numpy as np\n",
    "import pandas as pd\n",
    "import json\n",
    "import random\n",
    "import time\n",
    "import datetime\n",
    "import pickle\n",
    "from nltk.tokenize import word_tokenize\n",
    "\n",
    "from sklearn.preprocessing import LabelEncoder, OneHotEncoder\n",
    "from sklearn.model_selection import train_test_split\n",
    "from sklearn.metrics import confusion_matrix, classification_report\n",
    "\n",
    "from transformers import BertTokenizerFast, BertModel\n",
    "\n",
    "import torch\n",
    "import torch.nn as nn\n",
    "from torchinfo import summary\n",
    "from torch.utils.data import Dataset, DataLoader, RandomSampler, SequentialSampler\n"
   ]
  },
  {
   "cell_type": "markdown",
   "metadata": {
    "id": "3EjAgFd_52NZ"
   },
   "source": [
    "## Mounting Drive"
   ]
  },
  {
   "cell_type": "code",
   "execution_count": 4,
   "metadata": {
    "colab": {
     "base_uri": "https://localhost:8080/"
    },
    "id": "EJLdY7Wb52d9",
    "outputId": "125f790c-71ff-4c12-9194-7b04eee74468"
   },
   "outputs": [],
   "source": [
    "# # Mounting to Google Drive\n",
    "# drive.mount('/content/gdrive')\n",
    "\n",
    "# # Change Working Directory\n",
    "# os.chdir('/content/gdrive/My Drive/iss/plp_pm/')"
   ]
  },
  {
   "cell_type": "markdown",
   "metadata": {
    "id": "hUc8Du074xSr"
   },
   "source": [
    "## Pytorch Setups"
   ]
  },
  {
   "cell_type": "code",
   "execution_count": 2,
   "metadata": {
    "colab": {
     "base_uri": "https://localhost:8080/"
    },
    "id": "5ZZu3UHs4kCH",
    "outputId": "40763e35-4e40-4843-a0e4-b448843553f2"
   },
   "outputs": [
    {
     "name": "stdout",
     "output_type": "stream",
     "text": [
      "1.10.1+cu113\n",
      "11.3\n",
      "8200\n",
      "----------\n",
      "There are 1 GPU(s) available.\n",
      "We will use the GPU: NVIDIA GeForce RTX 2080 Ti\n"
     ]
    }
   ],
   "source": [
    "# Print Torch version\n",
    "print(torch.__version__)\n",
    "print(torch.version.cuda)\n",
    "print(torch.backends.cudnn.version())\n",
    "print('-' * 10)\n",
    "\n",
    "# Check GPU\n",
    "if torch.cuda.is_available():    \n",
    "    device = torch.device(\"cuda\")\n",
    "    print('There are %d GPU(s) available.' % torch.cuda.device_count())\n",
    "    print('We will use the GPU:', torch.cuda.get_device_name(0))\n",
    "else:\n",
    "    print('No GPU available, using the CPU instead.')\n",
    "    device = torch.device(\"cpu\")"
   ]
  },
  {
   "cell_type": "code",
   "execution_count": 3,
   "metadata": {
    "id": "tU6OFDar4kjB"
   },
   "outputs": [],
   "source": [
    "seed=17\n",
    "\n",
    "random.seed(seed)\n",
    "np.random.seed(seed)\n",
    "torch.manual_seed(seed)\n",
    "torch.cuda.manual_seed_all(seed)\n",
    "\n",
    "# Device configuration\n",
    "device = torch.device(\"cuda\" if torch.cuda.is_available() else \"cpu\")\n",
    "\n",
    "os.environ['CUDA_VISIBLE_DEVICES'] = '0'\n",
    "torch.cuda.empty_cache()\n",
    "\n"
   ]
  },
  {
   "cell_type": "code",
   "execution_count": 4,
   "metadata": {
    "colab": {
     "base_uri": "https://localhost:8080/"
    },
    "id": "-QfnGRp44kg4",
    "outputId": "51db468d-9ffd-400a-fa57-1263d1f40ca9"
   },
   "outputs": [
    {
     "name": "stdout",
     "output_type": "stream",
     "text": [
      "Mon Apr 11 17:36:01 2022       \n",
      "+-----------------------------------------------------------------------------+\n",
      "| NVIDIA-SMI 512.15       Driver Version: 512.15       CUDA Version: 11.6     |\n",
      "|-------------------------------+----------------------+----------------------+\n",
      "| GPU  Name            TCC/WDDM | Bus-Id        Disp.A | Volatile Uncorr. ECC |\n",
      "| Fan  Temp  Perf  Pwr:Usage/Cap|         Memory-Usage | GPU-Util  Compute M. |\n",
      "|                               |                      |               MIG M. |\n",
      "|===============================+======================+======================|\n",
      "|   0  NVIDIA GeForce ... WDDM  | 00000000:01:00.0  On |                  N/A |\n",
      "| 18%   59C    P0    49W / 400W |   2238MiB / 11264MiB |      2%      Default |\n",
      "|                               |                      |                  N/A |\n",
      "+-------------------------------+----------------------+----------------------+\n",
      "                                                                               \n",
      "+-----------------------------------------------------------------------------+\n",
      "| Processes:                                                                  |\n",
      "|  GPU   GI   CI        PID   Type   Process name                  GPU Memory |\n",
      "|        ID   ID                                                   Usage      |\n",
      "|=============================================================================|\n",
      "|    0   N/A  N/A      2000    C+G   ...t\\Teams\\current\\Teams.exe    N/A      |\n",
      "|    0   N/A  N/A      4864    C+G   ...me\\Application\\chrome.exe    N/A      |\n",
      "|    0   N/A  N/A      6852    C+G   ...oot\\Office16\\POWERPNT.EXE    N/A      |\n",
      "|    0   N/A  N/A      7824    C+G   ...2txyewy\\TextInputHost.exe    N/A      |\n",
      "|    0   N/A  N/A     11304    C+G   ...ekyb3d8bbwe\\YourPhone.exe    N/A      |\n",
      "|    0   N/A  N/A     13592    C+G   ...cw5n1h2txyewy\\LockApp.exe    N/A      |\n",
      "|    0   N/A  N/A     14476    C+G                                   N/A      |\n",
      "|    0   N/A  N/A     15964    C+G   ...wekyb3d8bbwe\\Video.UI.exe    N/A      |\n",
      "|    0   N/A  N/A     16764    C+G   ...artMenuExperienceHost.exe    N/A      |\n",
      "|    0   N/A  N/A     18604    C+G   ...e\\root\\Office16\\EXCEL.EXE    N/A      |\n",
      "|    0   N/A  N/A     19576    C+G   ...3159kp73c\\app\\draw.io.exe    N/A      |\n",
      "|    0   N/A  N/A     20456    C+G   ...t\\Teams\\current\\Teams.exe    N/A      |\n",
      "|    0   N/A  N/A     21752    C+G   C:\\Windows\\explorer.exe         N/A      |\n",
      "|    0   N/A  N/A     21768    C+G   ...bbwe\\Microsoft.Photos.exe    N/A      |\n",
      "|    0   N/A  N/A     23248    C+G   ...y\\ShellExperienceHost.exe    N/A      |\n",
      "|    0   N/A  N/A     23616    C+G   ...root\\Office16\\OUTLOOK.EXE    N/A      |\n",
      "|    0   N/A  N/A     25088    C+G   ...ogi\\LogiBolt\\LogiBolt.exe    N/A      |\n",
      "|    0   N/A  N/A     25168    C+G   ...e\\Current\\LogiOverlay.exe    N/A      |\n",
      "|    0   N/A  N/A     28456    C+G   ...8wekyb3d8bbwe\\Cortana.exe    N/A      |\n",
      "|    0   N/A  N/A     31076    C+G   ...5n1h2txyewy\\SearchApp.exe    N/A      |\n",
      "|    0   N/A  N/A     31144    C+G   ...kyb3d8bbwe\\Calculator.exe    N/A      |\n",
      "|    0   N/A  N/A     31248    C+G   ...lPanel\\SystemSettings.exe    N/A      |\n",
      "|    0   N/A  N/A     31720    C+G   ...ram Files\\LGHUB\\lghub.exe    N/A      |\n",
      "|    0   N/A  N/A     32048    C+G   ...IR iCUE Software\\iCUE.exe    N/A      |\n",
      "+-----------------------------------------------------------------------------+\n"
     ]
    }
   ],
   "source": [
    "!nvidia-smi"
   ]
  },
  {
   "cell_type": "markdown",
   "metadata": {
    "id": "HOG24c4l43KG"
   },
   "source": [
    "## Data Paths"
   ]
  },
  {
   "cell_type": "code",
   "execution_count": 5,
   "metadata": {
    "colab": {
     "base_uri": "https://localhost:8080/"
    },
    "id": "oL-6ssgt4kej",
    "outputId": "3e5d199c-10d3-4ce6-da77-98c08ae2918b"
   },
   "outputs": [
    {
     "name": "stdout",
     "output_type": "stream",
     "text": [
      "D:\\Personal\\Education\\NUS-ISS Mtech IS\\Course Materials\\4. Practical Language Processing (PLP)\\0. PLP Project\\Code\\NLU\n",
      "D:\\Personal\\Education\\NUS-ISS Mtech IS\\Course Materials\\4. Practical Language Processing (PLP)\\0. PLP Project\\Code\\NLU\\Data\\Custom_Dataset\n"
     ]
    }
   ],
   "source": [
    "basedir = os.getcwd()\n",
    "datadir = os.path.join(basedir, 'Data\\\\Custom_Dataset')\n",
    "print(basedir)\n",
    "print(datadir)\n"
   ]
  },
  {
   "cell_type": "markdown",
   "metadata": {
    "id": "GdTZMeHW450Z"
   },
   "source": [
    "# 1. Data Preparation"
   ]
  },
  {
   "cell_type": "markdown",
   "metadata": {
    "id": "HyHJg7fi48BE"
   },
   "source": [
    "## Load Data"
   ]
  },
  {
   "cell_type": "code",
   "execution_count": 6,
   "metadata": {
    "colab": {
     "base_uri": "https://localhost:8080/",
     "height": 362
    },
    "id": "BTdnjKQPr5bJ",
    "outputId": "870bced2-3f34-4d2c-b4d4-a923643fee0e"
   },
   "outputs": [
    {
     "name": "stdout",
     "output_type": "stream",
     "text": [
      "(790, 27)\n",
      "Index(['Text', 'Intent', 'Token_1', 'Token_2', 'Token_3', 'Token_4', 'Token_5',\n",
      "       'Token_6', 'Token_7', 'Token_8', 'Token_9', 'Token_10', 'Token_11',\n",
      "       'Token_12', 'Token_13', 'Token_14', 'Token_15', 'Token_16', 'Token_17',\n",
      "       'Token_18', 'Token_19', 'Token_20', 'Token_21', 'Token_22', 'Token_23',\n",
      "       'Token_24', 'Token_25'],\n",
      "      dtype='object')\n"
     ]
    },
    {
     "data": {
      "text/html": [
       "<div>\n",
       "<style scoped>\n",
       "    .dataframe tbody tr th:only-of-type {\n",
       "        vertical-align: middle;\n",
       "    }\n",
       "\n",
       "    .dataframe tbody tr th {\n",
       "        vertical-align: top;\n",
       "    }\n",
       "\n",
       "    .dataframe thead th {\n",
       "        text-align: right;\n",
       "    }\n",
       "</style>\n",
       "<table border=\"1\" class=\"dataframe\">\n",
       "  <thead>\n",
       "    <tr style=\"text-align: right;\">\n",
       "      <th></th>\n",
       "      <th>Text</th>\n",
       "      <th>Intent</th>\n",
       "      <th>Token_1</th>\n",
       "      <th>Token_2</th>\n",
       "      <th>Token_3</th>\n",
       "      <th>Token_4</th>\n",
       "      <th>Token_5</th>\n",
       "      <th>Token_6</th>\n",
       "      <th>Token_7</th>\n",
       "      <th>Token_8</th>\n",
       "      <th>...</th>\n",
       "      <th>Token_16</th>\n",
       "      <th>Token_17</th>\n",
       "      <th>Token_18</th>\n",
       "      <th>Token_19</th>\n",
       "      <th>Token_20</th>\n",
       "      <th>Token_21</th>\n",
       "      <th>Token_22</th>\n",
       "      <th>Token_23</th>\n",
       "      <th>Token_24</th>\n",
       "      <th>Token_25</th>\n",
       "    </tr>\n",
       "  </thead>\n",
       "  <tbody>\n",
       "    <tr>\n",
       "      <th>0</th>\n",
       "      <td>Can you recommend me some movies?</td>\n",
       "      <td>INFORM_INTENT_MOVIE_RECOMMENDATION</td>\n",
       "      <td>O</td>\n",
       "      <td>O</td>\n",
       "      <td>O</td>\n",
       "      <td>O</td>\n",
       "      <td>O</td>\n",
       "      <td>O</td>\n",
       "      <td>O</td>\n",
       "      <td>NaN</td>\n",
       "      <td>...</td>\n",
       "      <td>NaN</td>\n",
       "      <td>NaN</td>\n",
       "      <td>NaN</td>\n",
       "      <td>NaN</td>\n",
       "      <td>NaN</td>\n",
       "      <td>NaN</td>\n",
       "      <td>NaN</td>\n",
       "      <td>NaN</td>\n",
       "      <td>NaN</td>\n",
       "      <td>NaN</td>\n",
       "    </tr>\n",
       "    <tr>\n",
       "      <th>1</th>\n",
       "      <td>Recommend me some movies</td>\n",
       "      <td>INFORM_INTENT_MOVIE_RECOMMENDATION</td>\n",
       "      <td>O</td>\n",
       "      <td>O</td>\n",
       "      <td>O</td>\n",
       "      <td>O</td>\n",
       "      <td>NaN</td>\n",
       "      <td>NaN</td>\n",
       "      <td>NaN</td>\n",
       "      <td>NaN</td>\n",
       "      <td>...</td>\n",
       "      <td>NaN</td>\n",
       "      <td>NaN</td>\n",
       "      <td>NaN</td>\n",
       "      <td>NaN</td>\n",
       "      <td>NaN</td>\n",
       "      <td>NaN</td>\n",
       "      <td>NaN</td>\n",
       "      <td>NaN</td>\n",
       "      <td>NaN</td>\n",
       "      <td>NaN</td>\n",
       "    </tr>\n",
       "    <tr>\n",
       "      <th>2</th>\n",
       "      <td>Recommend me a good movie</td>\n",
       "      <td>INFORM_INTENT_MOVIE_RECOMMENDATION</td>\n",
       "      <td>O</td>\n",
       "      <td>O</td>\n",
       "      <td>O</td>\n",
       "      <td>O</td>\n",
       "      <td>O</td>\n",
       "      <td>NaN</td>\n",
       "      <td>NaN</td>\n",
       "      <td>NaN</td>\n",
       "      <td>...</td>\n",
       "      <td>NaN</td>\n",
       "      <td>NaN</td>\n",
       "      <td>NaN</td>\n",
       "      <td>NaN</td>\n",
       "      <td>NaN</td>\n",
       "      <td>NaN</td>\n",
       "      <td>NaN</td>\n",
       "      <td>NaN</td>\n",
       "      <td>NaN</td>\n",
       "      <td>NaN</td>\n",
       "    </tr>\n",
       "    <tr>\n",
       "      <th>3</th>\n",
       "      <td>Give me a movie to watch</td>\n",
       "      <td>INFORM_INTENT_MOVIE_RECOMMENDATION</td>\n",
       "      <td>O</td>\n",
       "      <td>O</td>\n",
       "      <td>O</td>\n",
       "      <td>O</td>\n",
       "      <td>O</td>\n",
       "      <td>O</td>\n",
       "      <td>NaN</td>\n",
       "      <td>NaN</td>\n",
       "      <td>...</td>\n",
       "      <td>NaN</td>\n",
       "      <td>NaN</td>\n",
       "      <td>NaN</td>\n",
       "      <td>NaN</td>\n",
       "      <td>NaN</td>\n",
       "      <td>NaN</td>\n",
       "      <td>NaN</td>\n",
       "      <td>NaN</td>\n",
       "      <td>NaN</td>\n",
       "      <td>NaN</td>\n",
       "    </tr>\n",
       "    <tr>\n",
       "      <th>4</th>\n",
       "      <td>What should I watch today?</td>\n",
       "      <td>INFORM_INTENT_MOVIE_RECOMMENDATION</td>\n",
       "      <td>O</td>\n",
       "      <td>O</td>\n",
       "      <td>O</td>\n",
       "      <td>O</td>\n",
       "      <td>O</td>\n",
       "      <td>O</td>\n",
       "      <td>NaN</td>\n",
       "      <td>NaN</td>\n",
       "      <td>...</td>\n",
       "      <td>NaN</td>\n",
       "      <td>NaN</td>\n",
       "      <td>NaN</td>\n",
       "      <td>NaN</td>\n",
       "      <td>NaN</td>\n",
       "      <td>NaN</td>\n",
       "      <td>NaN</td>\n",
       "      <td>NaN</td>\n",
       "      <td>NaN</td>\n",
       "      <td>NaN</td>\n",
       "    </tr>\n",
       "  </tbody>\n",
       "</table>\n",
       "<p>5 rows × 27 columns</p>\n",
       "</div>"
      ],
      "text/plain": [
       "                                Text                              Intent  \\\n",
       "0  Can you recommend me some movies?  INFORM_INTENT_MOVIE_RECOMMENDATION   \n",
       "1           Recommend me some movies  INFORM_INTENT_MOVIE_RECOMMENDATION   \n",
       "2          Recommend me a good movie  INFORM_INTENT_MOVIE_RECOMMENDATION   \n",
       "3           Give me a movie to watch  INFORM_INTENT_MOVIE_RECOMMENDATION   \n",
       "4         What should I watch today?  INFORM_INTENT_MOVIE_RECOMMENDATION   \n",
       "\n",
       "  Token_1 Token_2 Token_3 Token_4 Token_5 Token_6 Token_7 Token_8  ...  \\\n",
       "0       O       O       O       O       O       O       O     NaN  ...   \n",
       "1       O       O       O       O     NaN     NaN     NaN     NaN  ...   \n",
       "2       O       O       O       O       O     NaN     NaN     NaN  ...   \n",
       "3       O       O       O       O       O       O     NaN     NaN  ...   \n",
       "4       O       O       O       O       O       O     NaN     NaN  ...   \n",
       "\n",
       "  Token_16 Token_17 Token_18 Token_19 Token_20 Token_21 Token_22 Token_23  \\\n",
       "0      NaN      NaN      NaN      NaN      NaN      NaN      NaN      NaN   \n",
       "1      NaN      NaN      NaN      NaN      NaN      NaN      NaN      NaN   \n",
       "2      NaN      NaN      NaN      NaN      NaN      NaN      NaN      NaN   \n",
       "3      NaN      NaN      NaN      NaN      NaN      NaN      NaN      NaN   \n",
       "4      NaN      NaN      NaN      NaN      NaN      NaN      NaN      NaN   \n",
       "\n",
       "  Token_24 Token_25  \n",
       "0      NaN      NaN  \n",
       "1      NaN      NaN  \n",
       "2      NaN      NaN  \n",
       "3      NaN      NaN  \n",
       "4      NaN      NaN  \n",
       "\n",
       "[5 rows x 27 columns]"
      ]
     },
     "execution_count": 6,
     "metadata": {},
     "output_type": "execute_result"
    }
   ],
   "source": [
    "# Read Data File\n",
    "\n",
    "data_path = os.path.join(datadir, 'USER_NLU_Custom_Dataset_INTENT_SLOTS_1_Clean.xlsx')\n",
    "df = pd.read_excel(data_path, index_col=0)\n",
    "print(df.shape)\n",
    "print(df.columns)\n",
    "df.head()"
   ]
  },
  {
   "cell_type": "code",
   "execution_count": 7,
   "metadata": {
    "colab": {
     "base_uri": "https://localhost:8080/"
    },
    "id": "HpXm8B46FXSX",
    "outputId": "a861576f-4471-4829-e1e4-ead9fa3d5ce7"
   },
   "outputs": [
    {
     "data": {
      "text/plain": [
       "0                      Can you recommend me some movies?\n",
       "1                               Recommend me some movies\n",
       "2                              Recommend me a good movie\n",
       "3                               Give me a movie to watch\n",
       "4                             What should I watch today?\n",
       "                             ...                        \n",
       "785               how much money would my house sell for\n",
       "786        what's the best hand to have in texas hold em\n",
       "787    set a warning for when my bank account starts ...\n",
       "788               find instructions on how to play taboo\n",
       "789              give me the news on the newspaper today\n",
       "Name: Text, Length: 790, dtype: object"
      ]
     },
     "execution_count": 7,
     "metadata": {},
     "output_type": "execute_result"
    }
   ],
   "source": [
    "# Original Text (Utterances)\n",
    "\n",
    "text = df['Text']\n",
    "text"
   ]
  },
  {
   "cell_type": "code",
   "execution_count": 8,
   "metadata": {
    "colab": {
     "base_uri": "https://localhost:8080/"
    },
    "id": "WAlbIIpfE5AF",
    "outputId": "5c7dfbc8-d8d3-41ee-e894-04474188b611"
   },
   "outputs": [
    {
     "data": {
      "text/plain": [
       "0      INFORM_INTENT_MOVIE_RECOMMENDATION\n",
       "1      INFORM_INTENT_MOVIE_RECOMMENDATION\n",
       "2      INFORM_INTENT_MOVIE_RECOMMENDATION\n",
       "3      INFORM_INTENT_MOVIE_RECOMMENDATION\n",
       "4      INFORM_INTENT_MOVIE_RECOMMENDATION\n",
       "                      ...                \n",
       "785                                   OOS\n",
       "786                                   OOS\n",
       "787                                   OOS\n",
       "788                                   OOS\n",
       "789                                   OOS\n",
       "Name: Intent, Length: 790, dtype: object"
      ]
     },
     "execution_count": 8,
     "metadata": {},
     "output_type": "execute_result"
    }
   ],
   "source": [
    "# Intent Labels\n",
    "\n",
    "data_intent = df['Intent']\n",
    "data_intent\n"
   ]
  },
  {
   "cell_type": "code",
   "execution_count": 10,
   "metadata": {},
   "outputs": [
    {
     "data": {
      "text/plain": [
       "INFORM_INTENT_MOVIE_RECOMMENDATION    250\n",
       "INFORM                                250\n",
       "INFORM_INTENT_MOVIE_SENTIMENT          80\n",
       "OOS                                    50\n",
       "CONFIRM                                40\n",
       "NEGATE                                 40\n",
       "CLOSING                                40\n",
       "THANK_YOU                              40\n",
       "Name: Intent, dtype: int64"
      ]
     },
     "execution_count": 10,
     "metadata": {},
     "output_type": "execute_result"
    }
   ],
   "source": [
    "data_intent.value_counts()"
   ]
  },
  {
   "cell_type": "code",
   "execution_count": 11,
   "metadata": {
    "colab": {
     "base_uri": "https://localhost:8080/"
    },
    "id": "bm6ivbbu4kcQ",
    "outputId": "6de32e40-227d-4024-bb1b-10eaed4eb857"
   },
   "outputs": [
    {
     "data": {
      "text/plain": [
       "0                     [O, O, O, O, O, O, O]\n",
       "1                              [O, O, O, O]\n",
       "2                           [O, O, O, O, O]\n",
       "3                        [O, O, O, O, O, O]\n",
       "4                        [O, O, O, O, O, O]\n",
       "                       ...                 \n",
       "785                [O, O, O, O, O, O, O, O]\n",
       "786    [O, O, O, O, O, O, O, O, O, O, O, O]\n",
       "787       [O, O, O, O, O, O, O, O, O, O, O]\n",
       "788                   [O, O, O, O, O, O, O]\n",
       "789                [O, O, O, O, O, O, O, O]\n",
       "Length: 790, dtype: object"
      ]
     },
     "execution_count": 11,
     "metadata": {},
     "output_type": "execute_result"
    }
   ],
   "source": [
    "# Slots Labels\n",
    "# Combine BIO labels into string for each sample\n",
    "\n",
    "BIO_columns = df.columns[2:]\n",
    "num_tokens = len(BIO_columns)\n",
    "df_BIO = df[BIO_columns]\n",
    "\n",
    "def combine_BIO(rows):\n",
    "    BIO_labels = []\n",
    "    # print(len(rows))\n",
    "    for i in range(num_tokens):\n",
    "        # print(pd.isna(rows[i]))\n",
    "        if not(pd.isna(rows[i])):\n",
    "            BIO_labels.append(rows[i])\n",
    "    return BIO_labels\n",
    "\n",
    "bio_labels = df_BIO.apply(combine_BIO, axis=1)\n",
    "bio_labels\n"
   ]
  },
  {
   "cell_type": "markdown",
   "metadata": {
    "id": "JrKhcZrHFFhd"
   },
   "source": [
    "## Intent & Slot Dictionary Mapping"
   ]
  },
  {
   "cell_type": "code",
   "execution_count": 12,
   "metadata": {
    "colab": {
     "base_uri": "https://localhost:8080/"
    },
    "id": "Adp6RBCmI84c",
    "outputId": "84e295f4-7d04-4ee2-f213-1f7258554ebe"
   },
   "outputs": [
    {
     "name": "stdout",
     "output_type": "stream",
     "text": [
      "----------------------------------------------------------------------------------------------------\n",
      "Intent to Index Mapping:\n",
      "----------------------------------------------------------------------------------------------------\n",
      "CLOSING : 0\n",
      "CONFIRM : 1\n",
      "INFORM : 2\n",
      "INFORM_INTENT_MOVIE_RECOMMENDATION : 3\n",
      "INFORM_INTENT_MOVIE_SENTIMENT : 4\n",
      "NEGATE : 5\n",
      "OOS : 6\n",
      "THANK_YOU : 7\n",
      "\n",
      "----------------------------------------------------------------------------------------------------\n",
      "Index to Intent Mapping:\n",
      "----------------------------------------------------------------------------------------------------\n",
      "0 : CLOSING\n",
      "1 : CONFIRM\n",
      "2 : INFORM\n",
      "3 : INFORM_INTENT_MOVIE_RECOMMENDATION\n",
      "4 : INFORM_INTENT_MOVIE_SENTIMENT\n",
      "5 : NEGATE\n",
      "6 : OOS\n",
      "7 : THANK_YOU\n"
     ]
    }
   ],
   "source": [
    "# Label Encode Intent Labels\n",
    "intent_le = LabelEncoder()\n",
    "intent = intent_le.fit_transform(data_intent)\n",
    "\n",
    "# Create a dictionary for mappings\n",
    "intent_to_idx = {label:idx for idx, label in enumerate(intent_le.classes_)}\n",
    "idx_to_intent = {idx:label for idx, label in enumerate(intent_le.classes_)}\n",
    "\n",
    "print('-' * 100)\n",
    "print('Intent to Index Mapping:')\n",
    "print('-' * 100)\n",
    "for key in intent_to_idx.keys():\n",
    "    print(key, \":\", intent_to_idx[key])\n",
    "\n",
    "print(\"\")\n",
    "print('-' * 100)\n",
    "print('Index to Intent Mapping:')\n",
    "print('-' * 100)\n",
    "for key in idx_to_intent.keys():\n",
    "    print(key, \":\", idx_to_intent[key])"
   ]
  },
  {
   "cell_type": "code",
   "execution_count": 13,
   "metadata": {
    "colab": {
     "base_uri": "https://localhost:8080/"
    },
    "id": "4OsE_zGjI8x6",
    "outputId": "8e6c4287-d908-4a15-ccaa-afa6d0f3fbe5"
   },
   "outputs": [
    {
     "name": "stdout",
     "output_type": "stream",
     "text": [
      "----------------------------------------------------------------------------------------------------\n",
      "BIO to Index Mapping:\n",
      "----------------------------------------------------------------------------------------------------\n",
      "B-actor : 0\n",
      "B-director : 1\n",
      "B-genre : 2\n",
      "B-title : 3\n",
      "I-actor : 4\n",
      "I-director : 5\n",
      "I-genre : 6\n",
      "I-title : 7\n",
      "O : 8\n",
      "\n",
      "----------------------------------------------------------------------------------------------------\n",
      "Index to BIO Mapping:\n",
      "----------------------------------------------------------------------------------------------------\n",
      "0 : B-actor\n",
      "1 : B-director\n",
      "2 : B-genre\n",
      "3 : B-title\n",
      "4 : I-actor\n",
      "5 : I-director\n",
      "6 : I-genre\n",
      "7 : I-title\n",
      "8 : O\n"
     ]
    }
   ],
   "source": [
    "# Label Encode BIO labels\n",
    "bio_le = LabelEncoder()\n",
    "\n",
    "concat_bio = []\n",
    "for sample in bio_labels:\n",
    "    concat_bio.extend(sample)\n",
    "\n",
    "unique_bio = np.unique(np.array(concat_bio))\n",
    "bio_fit = bio_le.fit(unique_bio)\n",
    "\n",
    "# Create a dictionary for mappings\n",
    "bio_to_idx = {label:idx for idx, label in enumerate(bio_le.classes_)}\n",
    "idx_to_bio = {idx:label for idx, label in enumerate(bio_le.classes_)}\n",
    "\n",
    "# Encode BIO labels\n",
    "def cvt_bio_labels(tokens_bio):\n",
    "    encoded_bio = []\n",
    "    for token in tokens_bio:\n",
    "        encoded_bio.append(bio_to_idx[token])\n",
    "    return encoded_bio\n",
    "\n",
    "bio = bio_labels.apply(lambda x: cvt_bio_labels(x))\n",
    "\n",
    "print('-' * 100)\n",
    "print('BIO to Index Mapping:')\n",
    "print('-' * 100)\n",
    "for key in bio_to_idx.keys():\n",
    "    print(key, \":\", bio_to_idx[key])\n",
    "\n",
    "print(\"\")\n",
    "print('-' * 100)\n",
    "print('Index to BIO Mapping:')\n",
    "print('-' * 100)\n",
    "for key in idx_to_bio.keys():\n",
    "    print(key, \":\", idx_to_bio[key])"
   ]
  },
  {
   "cell_type": "code",
   "execution_count": 16,
   "metadata": {},
   "outputs": [
    {
     "name": "stdout",
     "output_type": "stream",
     "text": [
      "6754\n"
     ]
    }
   ],
   "source": [
    "print(pd.Series(concat_bio).value_counts().sum())"
   ]
  },
  {
   "cell_type": "code",
   "execution_count": 14,
   "metadata": {},
   "outputs": [
    {
     "name": "stdout",
     "output_type": "stream",
     "text": [
      "Distribution of BIO Labels:\n",
      "O             0.687148\n",
      "I-director    0.082025\n",
      "I-actor       0.081729\n",
      "B-genre       0.035534\n",
      "B-director    0.035534\n",
      "B-actor       0.035534\n",
      "I-title       0.022061\n",
      "B-title       0.011845\n",
      "I-genre       0.008588\n",
      "dtype: float64\n"
     ]
    }
   ],
   "source": [
    "print('Distribution of BIO Labels:')\n",
    "print(pd.Series(concat_bio).value_counts()/pd.Series(concat_bio).value_counts().sum())"
   ]
  },
  {
   "cell_type": "code",
   "execution_count": 16,
   "metadata": {},
   "outputs": [
    {
     "name": "stdout",
     "output_type": "stream",
     "text": [
      "Looking for some film-noir films by director Frank Darabont and actor Ali Astin\n",
      "INFORM_INTENT_MOVIE_RECOMMENDATION -> 3\n",
      "['O', 'O', 'O', 'B-genre', 'I-genre', 'I-genre', 'O', 'O', 'O', 'B-director', 'I-director', 'I-director', 'I-director', 'O', 'O', 'B-actor', 'I-actor', 'I-actor'] -> [8, 8, 8, 2, 6, 6, 8, 8, 8, 1, 5, 5, 5, 8, 8, 0, 4, 4]\n"
     ]
    }
   ],
   "source": [
    "# Intent and BIO Encoding Samples:\n",
    "sample_idx = 221\n",
    "sample_text = text[sample_idx]\n",
    "sample_intent = df['Intent'][sample_idx]\n",
    "sample_intent_encoded = intent[sample_idx]\n",
    "sample_bio = bio_labels[sample_idx]\n",
    "sample_bio_encoded = bio[sample_idx]\n",
    "print(sample_text)\n",
    "print(sample_intent, '->', sample_intent_encoded)\n",
    "print(sample_bio, '->', sample_bio_encoded)\n"
   ]
  },
  {
   "cell_type": "markdown",
   "metadata": {},
   "source": [
    "## >> DATA PARAMETERS"
   ]
  },
  {
   "cell_type": "code",
   "execution_count": 17,
   "metadata": {},
   "outputs": [],
   "source": [
    "# Data Parameters\n",
    "TRAIN_RATIO = 0.7\n",
    "VAL_RATIO   = 0.15\n",
    "TEST_RATIO  = 0.15\n",
    "\n",
    "BATCH_SIZE  = 128\n",
    "MAX_LENGTH = 32"
   ]
  },
  {
   "cell_type": "markdown",
   "metadata": {},
   "source": [
    "## Train Validation Test Split"
   ]
  },
  {
   "cell_type": "code",
   "execution_count": 18,
   "metadata": {},
   "outputs": [
    {
     "name": "stdout",
     "output_type": "stream",
     "text": [
      "Total number of samples      : 790\n",
      "Number of training samples   : 553\n",
      "Number of validation samples : 118\n",
      "Number of testing samples    : 119\n",
      "\n",
      "Data Shapes:\n",
      "----------------------------------------------------------------------------------------------------\n",
      "Training Text     : (553,)\n",
      "Validation Text   : (118,)\n",
      "Testing Text      : (119,)\n",
      "\n",
      "Training Intent   : (553,)\n",
      "Validation Intent : (118,)\n",
      "Testing Intent    : (119,)\n",
      "\n",
      "Training Slots    : (553,)\n",
      "Validation Slots  : (118,)\n",
      "Testing Slots     : (119,)\n"
     ]
    }
   ],
   "source": [
    "# Train Test Split\n",
    "# Stratified based on intent class\n",
    "\n",
    "indices = range(len(text))\n",
    "\n",
    "idx_train, idx_val_test, intent_train, intent_val_test = train_test_split(indices, intent, train_size=TRAIN_RATIO, stratify=intent, random_state=seed)\n",
    "idx_val, idx_test, intent_val, intent_test = train_test_split(idx_val_test, intent_val_test, train_size=VAL_RATIO/(VAL_RATIO+TEST_RATIO), stratify=intent_val_test, random_state=seed)\n",
    "\n",
    "text_train = text[idx_train].reset_index(drop=True)\n",
    "text_val = text[idx_val].reset_index(drop=True)\n",
    "text_test = text[idx_test].reset_index(drop=True)\n",
    "\n",
    "intent_train = intent[idx_train]\n",
    "intent_val = intent[idx_val]\n",
    "intent_test = intent[idx_test]\n",
    "\n",
    "bio_train = bio[idx_train].reset_index(drop=True)\n",
    "bio_val = bio[idx_val].reset_index(drop=True)\n",
    "bio_test = bio[idx_test].reset_index(drop=True)\n",
    "\n",
    "print('Total number of samples      :', len(indices))\n",
    "print('Number of training samples   :', len(idx_train))\n",
    "print('Number of validation samples :', len(idx_val))\n",
    "print('Number of testing samples    :', len(idx_test))\n",
    "print('')\n",
    "print('Data Shapes:')\n",
    "print('-' * 100)\n",
    "print('Training Text     :', text_train.shape)\n",
    "print('Validation Text   :', text_val.shape)\n",
    "print('Testing Text      :', text_test.shape)\n",
    "print('')\n",
    "print('Training Intent   :', intent_train.shape)\n",
    "print('Validation Intent :', intent_val.shape)\n",
    "print('Testing Intent    :', intent_test.shape)\n",
    "print('')\n",
    "print('Training Slots    :', bio_train.shape)\n",
    "print('Validation Slots  :', bio_val.shape)\n",
    "print('Testing Slots     :', bio_test.shape)\n"
   ]
  },
  {
   "cell_type": "markdown",
   "metadata": {},
   "source": [
    "## Dataset & Dataloader"
   ]
  },
  {
   "cell_type": "code",
   "execution_count": 19,
   "metadata": {},
   "outputs": [],
   "source": [
    "# Initialize BERT Tokenizer from HuggingFace-Transformer\n",
    "\n",
    "tokenizer = BertTokenizerFast.from_pretrained('bert-base-uncased')"
   ]
  },
  {
   "cell_type": "code",
   "execution_count": 20,
   "metadata": {},
   "outputs": [
    {
     "name": "stdout",
     "output_type": "stream",
     "text": [
      "----------------------------------------------------------------------------------------------------\n",
      "Original Text:\n",
      "----------------------------------------------------------------------------------------------------\n",
      "Help me to find some films acted by Mari Natsu\n",
      "\n",
      "----------------------------------------------------------------------------------------------------\n",
      "Tokenization Outputs:\n",
      "----------------------------------------------------------------------------------------------------\n",
      "{'input_ids': tensor([[  101,  2393,  2033,  2000,  2424,  2070,  3152,  6051,  2011, 16266,\n",
      "         14085,  6342,   102,     0,     0,     0,     0,     0,     0,     0,\n",
      "             0,     0,     0,     0,     0,     0,     0,     0,     0,     0,\n",
      "             0,     0]]), 'token_type_ids': tensor([[0, 0, 0, 0, 0, 0, 0, 0, 0, 0, 0, 0, 0, 0, 0, 0, 0, 0, 0, 0, 0, 0, 0, 0,\n",
      "         0, 0, 0, 0, 0, 0, 0, 0]]), 'attention_mask': tensor([[1, 1, 1, 1, 1, 1, 1, 1, 1, 1, 1, 1, 1, 0, 0, 0, 0, 0, 0, 0, 0, 0, 0, 0,\n",
      "         0, 0, 0, 0, 0, 0, 0, 0]]), 'offset_mapping': tensor([[[ 0,  0],\n",
      "         [ 0,  4],\n",
      "         [ 5,  7],\n",
      "         [ 8, 10],\n",
      "         [11, 15],\n",
      "         [16, 20],\n",
      "         [21, 26],\n",
      "         [27, 32],\n",
      "         [33, 35],\n",
      "         [36, 40],\n",
      "         [41, 44],\n",
      "         [44, 46],\n",
      "         [ 0,  0],\n",
      "         [ 0,  0],\n",
      "         [ 0,  0],\n",
      "         [ 0,  0],\n",
      "         [ 0,  0],\n",
      "         [ 0,  0],\n",
      "         [ 0,  0],\n",
      "         [ 0,  0],\n",
      "         [ 0,  0],\n",
      "         [ 0,  0],\n",
      "         [ 0,  0],\n",
      "         [ 0,  0],\n",
      "         [ 0,  0],\n",
      "         [ 0,  0],\n",
      "         [ 0,  0],\n",
      "         [ 0,  0],\n",
      "         [ 0,  0],\n",
      "         [ 0,  0],\n",
      "         [ 0,  0],\n",
      "         [ 0,  0]]])}\n"
     ]
    }
   ],
   "source": [
    "# Testing tokenizer\n",
    "test_text = df['Text'][111]\n",
    "test_tokenized = tokenizer(test_text, \n",
    "                           padding='max_length', \n",
    "                           max_length=MAX_LENGTH, \n",
    "                           truncation=True, \n",
    "                           return_attention_mask = True,\n",
    "                           return_offsets_mapping = True,\n",
    "                           return_tensors = 'pt')\n",
    "print('-' * 100)\n",
    "print('Original Text:')\n",
    "print('-' * 100)\n",
    "print(test_text)\n",
    "print('')\n",
    "print('-' * 100)\n",
    "print('Tokenization Outputs:')\n",
    "print('-' * 100)\n",
    "print(test_tokenized)"
   ]
  },
  {
   "cell_type": "code",
   "execution_count": 21,
   "metadata": {},
   "outputs": [
    {
     "name": "stdout",
     "output_type": "stream",
     "text": [
      "101\n",
      "102\n"
     ]
    }
   ],
   "source": [
    "print(tokenizer.cls_token_id)\n",
    "print(tokenizer.sep_token_id)"
   ]
  },
  {
   "cell_type": "code",
   "execution_count": 22,
   "metadata": {},
   "outputs": [
    {
     "name": "stdout",
     "output_type": "stream",
     "text": [
      "Number of unmatched train samples (length of tokens vs length of slot labels)      : 0 0\n",
      "Number of unmatched validation samples (length of tokens vs length of slot labels) : 0 0\n",
      "Number of unmatched test samples (length of tokens vs length of slot labels)       : 0 0\n",
      "Longest number of tokens: 24\n"
     ]
    }
   ],
   "source": [
    "# Check for number of tokens and number of slot tags\n",
    "\n",
    "text_train_tokenized = text_train.apply(lambda x: tokenizer.tokenize(x))\n",
    "text_val_tokenized = text_val.apply(lambda x: tokenizer.tokenize(x))\n",
    "text_test_tokenized = text_test.apply(lambda x: tokenizer.tokenize(x))\n",
    "\n",
    "text_train_tokenized_len = text_train_tokenized.apply(lambda x: len(x))\n",
    "text_val_tokenized_len = text_val_tokenized.apply(lambda x: len(x))\n",
    "text_test_tokenized_len = text_test_tokenized.apply(lambda x: len(x))\n",
    "\n",
    "attn_train_len = np.array([len(x) for x in tokenizer.batch_encode_plus(text_train.to_list())['attention_mask']]) - 2 # Deduct mask count for [CLS] and [SEP]\n",
    "attn_val_len = np.array([len(x) for x in tokenizer.batch_encode_plus(text_val.to_list())['attention_mask']]) - 2 # Deduct mask count for [CLS] and [SEP]\n",
    "attn_test_len = np.array([len(x) for x in tokenizer.batch_encode_plus(text_test.to_list())['attention_mask']]) - 2 # Deduct mask count for [CLS] and [SEP]\n",
    "\n",
    "bio_train_len = bio_train.apply(lambda x: len(x))\n",
    "bio_val_len = bio_val.apply(lambda x: len(x))\n",
    "bio_test_len = bio_test.apply(lambda x: len(x))\n",
    "\n",
    "print('Number of unmatched train samples (length of tokens vs length of slot labels)      :', ((text_train_tokenized_len == bio_train_len)==False).sum(), ((attn_train_len == bio_train_len)==False).sum())\n",
    "print('Number of unmatched validation samples (length of tokens vs length of slot labels) :', ((text_val_tokenized_len == bio_val_len)==False).sum(), ((attn_val_len == bio_val_len)==False).sum())\n",
    "print('Number of unmatched test samples (length of tokens vs length of slot labels)       :', ((text_test_tokenized_len == bio_test_len)==False).sum(), ((attn_test_len == bio_test_len)==False).sum())\n",
    "print('Longest number of tokens:', max(attn_train_len.max(), attn_val_len.max(), attn_test_len.max()))"
   ]
  },
  {
   "cell_type": "code",
   "execution_count": 23,
   "metadata": {},
   "outputs": [],
   "source": [
    "# Pytorch Dataset\n",
    "# >> Encodes original text with BERT Tokenizer\n",
    "\n",
    "class IntentSlot_Dataset(torch.utils.data.Dataset):\n",
    "    def __init__(self, text, intent, bio, tokenizer, process_length):\n",
    "\n",
    "        # Tokenize Original Text\n",
    "        self.text = text.to_list()\n",
    "        self.tokenized_text = tokenizer.batch_encode_plus(self.text, \n",
    "                                                          padding='max_length', \n",
    "                                                          max_length=process_length, \n",
    "                                                          truncation=True, \n",
    "                                                          return_attention_mask = True,\n",
    "                                                          return_offsets_mapping = True,\n",
    "                                                          return_tensors = 'pt')\n",
    "        self.input_ids = self.tokenized_text['input_ids']\n",
    "        self.attention_mask = self.tokenized_text['attention_mask']\n",
    "        self.bio_offset_mapping = self.tokenized_text['offset_mapping']\n",
    "        \n",
    "        # Intent Class\n",
    "        self.intent = torch.tensor(intent)\n",
    "\n",
    "        # Slot Label - padded with -100 to non-active indices\n",
    "        self.bio = bio.apply(lambda x: np.append([-100, *x], np.ones(process_length - len(x) - 1) * -100)).to_numpy()\n",
    "\n",
    "    def __len__(self):\n",
    "        return len(self.intent)\n",
    "\n",
    "    def __getitem__(self, idx):\n",
    "        input_ids = self.input_ids[idx]\n",
    "        attention_mask = self.attention_mask[idx]\n",
    "        intent = self.intent[idx]\n",
    "        bio = self.bio[idx]\n",
    "        bio_offset_mapping = self.bio_offset_mapping[idx]\n",
    "        original_text = self.text[idx]\n",
    "\n",
    "        return input_ids, attention_mask, intent, bio, bio_offset_mapping, original_text"
   ]
  },
  {
   "cell_type": "code",
   "execution_count": 24,
   "metadata": {},
   "outputs": [],
   "source": [
    "# Create Dataset\n",
    "\n",
    "train_dataset = IntentSlot_Dataset(text_train, intent_train, bio_train, tokenizer, MAX_LENGTH)\n",
    "val_dataset = IntentSlot_Dataset(text_val, intent_val, bio_val, tokenizer, MAX_LENGTH)\n",
    "test_dataset = IntentSlot_Dataset(text_test, intent_test, bio_test, tokenizer, MAX_LENGTH)\n",
    "\n",
    "# Create Dataloader\n",
    "train_loader = torch.utils.data.DataLoader(train_dataset, batch_size=BATCH_SIZE, shuffle=True)\n",
    "val_loader   = torch.utils.data.DataLoader(val_dataset, batch_size=BATCH_SIZE, shuffle=True)\n",
    "test_loader  = torch.utils.data.DataLoader(test_dataset, batch_size=BATCH_SIZE, shuffle=False)"
   ]
  },
  {
   "cell_type": "code",
   "execution_count": 25,
   "metadata": {},
   "outputs": [
    {
     "name": "stdout",
     "output_type": "stream",
     "text": [
      "torch.Size([128, 32])\n",
      "torch.Size([128, 32])\n",
      "torch.Size([128])\n",
      "torch.Size([128, 32])\n",
      "torch.Size([128, 32, 2])\n",
      "128\n"
     ]
    }
   ],
   "source": [
    "# Check Dataloader\n",
    "\n",
    "for load_input_ids, load_attn_mask, load_intent, load_bio, load_offset_map, load_text in train_loader:\n",
    "    print(load_input_ids.size())\n",
    "    print(load_attn_mask.size())\n",
    "    print(load_intent.size())\n",
    "    print(load_bio.size())\n",
    "    print(load_offset_map.size())\n",
    "    print(len(load_text))\n",
    "    break"
   ]
  },
  {
   "cell_type": "markdown",
   "metadata": {
    "id": "SXOyXiN75Pov"
   },
   "source": [
    "# 2. Model Initialization"
   ]
  },
  {
   "cell_type": "markdown",
   "metadata": {
    "id": "KLiYIfom5SzC"
   },
   "source": [
    "## Model Definition"
   ]
  },
  {
   "cell_type": "code",
   "execution_count": 26,
   "metadata": {
    "id": "HXteFV1W5IKm"
   },
   "outputs": [],
   "source": [
    "# Define Intent and Slot Classifier:\n",
    "\n",
    "class IntentClassifier(nn.Module):\n",
    "    def __init__(self, in_dim, num_intent, dropout_rate=0.0):\n",
    "        super(IntentClassifier, self).__init__()\n",
    "        self.dropout = nn.Dropout(dropout_rate)\n",
    "        self.linear = nn.Linear(in_dim, num_intent)\n",
    "\n",
    "    def forward(self, input):\n",
    "        output = self.dropout(input)\n",
    "        output = self.linear(output)\n",
    "\n",
    "        return output\n",
    "\n",
    "class SlotClassifier(nn.Module):\n",
    "    def __init__(self, in_dim, num_slot_label, dropout_rate=0.0):\n",
    "        super(SlotClassifier, self).__init__()\n",
    "        self.dropout = nn.Dropout(dropout_rate)\n",
    "        self.linear = nn.Linear(in_dim, num_slot_label)\n",
    "\n",
    "    def forward(self, input):\n",
    "        output = self.dropout(input)\n",
    "        output = self.linear(output)\n",
    "\n",
    "        return output\n",
    "\n",
    "# Define Model\n",
    "class BERT_Joint_Intent_Slot(nn.Module):\n",
    "    def __init__(self, num_intent, num_slot_label, dropout_rate=0.0):\n",
    "        super(BERT_Joint_Intent_Slot, self).__init__()\n",
    "\n",
    "        options_name = \"bert-base-uncased\"\n",
    "        self.encoder = BertModel.from_pretrained(options_name)\n",
    "        self.hidden_size = self.encoder.config.hidden_size\n",
    "        self.dropout_rate = dropout_rate\n",
    "        self.IntentClassifier = IntentClassifier(self.hidden_size, num_intent, self.dropout_rate)\n",
    "        self.SlotClassifier = SlotClassifier(self.hidden_size, num_slot_label, self.dropout_rate)\n",
    "      \n",
    "    def forward(self, batch_ids, batch_mask):\n",
    "        output = self.encoder(input_ids=batch_ids, attention_mask=batch_mask)\n",
    "        sequence_output = output[0]\n",
    "        pooled_output = output[1]\n",
    "\n",
    "        intent_logits = self.IntentClassifier(pooled_output)\n",
    "        slot_logits = self.SlotClassifier(sequence_output)\n",
    "\n",
    "        return intent_logits, slot_logits"
   ]
  },
  {
   "cell_type": "code",
   "execution_count": 27,
   "metadata": {
    "colab": {
     "base_uri": "https://localhost:8080/"
    },
    "id": "Ik1CYqJx5VQD",
    "outputId": "9590cbb2-1d51-4da1-f01a-fe4d425aebdf"
   },
   "outputs": [
    {
     "name": "stderr",
     "output_type": "stream",
     "text": [
      "Some weights of the model checkpoint at bert-base-uncased were not used when initializing BertModel: ['cls.predictions.transform.dense.bias', 'cls.predictions.transform.LayerNorm.weight', 'cls.predictions.bias', 'cls.predictions.transform.dense.weight', 'cls.predictions.transform.LayerNorm.bias', 'cls.seq_relationship.weight', 'cls.seq_relationship.bias', 'cls.predictions.decoder.weight']\n",
      "- This IS expected if you are initializing BertModel from the checkpoint of a model trained on another task or with another architecture (e.g. initializing a BertForSequenceClassification model from a BertForPreTraining model).\n",
      "- This IS NOT expected if you are initializing BertModel from the checkpoint of a model that you expect to be exactly identical (initializing a BertForSequenceClassification model from a BertForSequenceClassification model).\n"
     ]
    },
    {
     "name": "stdout",
     "output_type": "stream",
     "text": [
      "================================================================================\n",
      "Layer (type:depth-idx)                                  Param #\n",
      "================================================================================\n",
      "BERT_Joint_Intent_Slot                                  --\n",
      "├─BertModel: 1-1                                        --\n",
      "│    └─BertEmbeddings: 2-1                              --\n",
      "│    │    └─Embedding: 3-1                              23,440,896\n",
      "│    │    └─Embedding: 3-2                              393,216\n",
      "│    │    └─Embedding: 3-3                              1,536\n",
      "│    │    └─LayerNorm: 3-4                              1,536\n",
      "│    │    └─Dropout: 3-5                                --\n",
      "│    └─BertEncoder: 2-2                                 --\n",
      "│    │    └─ModuleList: 3-6                             85,054,464\n",
      "│    └─BertPooler: 2-3                                  --\n",
      "│    │    └─Linear: 3-7                                 590,592\n",
      "│    │    └─Tanh: 3-8                                   --\n",
      "├─IntentClassifier: 1-2                                 --\n",
      "│    └─Dropout: 2-4                                     --\n",
      "│    └─Linear: 2-5                                      6,152\n",
      "├─SlotClassifier: 1-3                                   --\n",
      "│    └─Dropout: 2-6                                     --\n",
      "│    └─Linear: 2-7                                      6,921\n",
      "================================================================================\n",
      "Total params: 109,495,313\n",
      "Trainable params: 109,495,313\n",
      "Non-trainable params: 0\n",
      "================================================================================\n",
      "torch.Size([128, 8])\n",
      "torch.Size([128, 32, 9])\n"
     ]
    }
   ],
   "source": [
    "# Test Model - Fast Run Single Batch\n",
    "testmodel = BERT_Joint_Intent_Slot(len(intent_to_idx.keys()), len(bio_to_idx.keys()))\n",
    "print(summary(testmodel))\n",
    "\n",
    "for load_input_ids, load_attention_mask, load_intent, load_slot, _, _ in train_loader:\n",
    "    test_loader_input_ids = load_input_ids\n",
    "    test_loader_attention_mask = load_attention_mask\n",
    "    test_loader_intent = load_intent\n",
    "    test_loader_slot = load_slot\n",
    "    break\n",
    "\n",
    "intent_logits, slot_logits = testmodel(test_loader_input_ids, test_loader_attention_mask)\n",
    "print(intent_logits.size())\n",
    "print(slot_logits.size())"
   ]
  },
  {
   "cell_type": "markdown",
   "metadata": {
    "id": "fqJvw9c05YSi"
   },
   "source": [
    "## Train Step Function"
   ]
  },
  {
   "cell_type": "code",
   "execution_count": 28,
   "metadata": {
    "id": "guSBn8FT5VOA"
   },
   "outputs": [],
   "source": [
    "# Train Function\n",
    "\n",
    "def train_model(model, dataloaders, intent_criterion, slot_criterion, slot_criterion_coef, num_intent, num_slot_label, optimizer, num_epochs, callback_path):\n",
    "    start_time = time.time()\n",
    "  \n",
    "    train_hist = {'train_total_loss'  : [],\n",
    "                  'train_intent_loss' : [],\n",
    "                  'train_slot_loss'   : [],\n",
    "                  'train_intent_acc'  : [],\n",
    "                  'train_slot_acc'    : [],\n",
    "                  'val_total_loss'    : [],\n",
    "                  'val_intent_loss'   : [],\n",
    "                  'val_slot_loss'     : [],\n",
    "                  'val_intent_acc'    : [],\n",
    "                  'val_slot_acc'      : []\n",
    "                 }\n",
    "\n",
    "    best_total_loss = 10000.0\n",
    "    best_intent_loss = 10000.0\n",
    "    best_slot_loss = 10000.0\n",
    "    best_intent_acc = 0.0\n",
    "    best_slot_acc = 0.0\n",
    "    best_model_state = None\n",
    "        \n",
    "    for epoch in range(num_epochs):\n",
    "        time_0 = time.time()\n",
    "    \n",
    "        print('======== Epoch {:} / {:} ========'.format(epoch + 1, num_epochs))\n",
    "    \n",
    "        for phase in ['train', 'val']:\n",
    "            if phase == 'train':\n",
    "                model.train()\n",
    "            else:\n",
    "                model.eval()\n",
    "\n",
    "            running_intent_loss = 0.0\n",
    "            running_slot_loss = 0.0\n",
    "            running_correct_intent = 0\n",
    "            running_correct_slot = 0\n",
    "            running_sample_count = 0\n",
    "            running_slot_count = 0\n",
    "\n",
    "            # iterate over dataloader\n",
    "            for input_ids, attention_mask, intent, slot, _, _ in dataloaders[phase]:\n",
    "                # Send to GPU\n",
    "                input_ids = input_ids.to(device)\n",
    "                attention_mask = attention_mask.to(device)\n",
    "                intent = intent.to(device).long()\n",
    "                slot = slot.to(device).long()\n",
    "\n",
    "                # Get active slot labels\n",
    "                active_slot_mask = slot.view(-1) != -100\n",
    "                active_slot = slot.view(-1)[active_slot_mask]\n",
    "\n",
    "                # Initialize gradients\n",
    "                model.zero_grad()\n",
    "\n",
    "                # Fit to model\n",
    "                intent_logits, slot_logits = model(input_ids, attention_mask)\n",
    "                active_slot_logits = slot_logits.view(-1, num_slot_label)[active_slot_mask]\n",
    "                intent_pred = intent_logits.argmax(dim=-1)\n",
    "                slot_pred = active_slot_logits.argmax(dim=-1)\n",
    "\n",
    "                # Calculate Loss\n",
    "                intent_loss = intent_criterion(intent_logits, intent)\n",
    "                slot_loss = slot_criterion(active_slot_logits, active_slot)\n",
    "\n",
    "                loss = intent_loss + slot_loss * slot_criterion_coef\n",
    "\n",
    "                # Calculate Gradients & Backpropagation\n",
    "                if phase == 'train':\n",
    "                    loss.backward()\n",
    "                    optimizer.step()\n",
    "\n",
    "                # print(preds)\n",
    "\n",
    "                # Update Statistics\n",
    "                sample_count = input_ids.size()[0]\n",
    "                sample_active_slot_count = active_slot_mask.sum().detach().cpu()\n",
    "                running_intent_loss += intent_loss.detach().cpu() * sample_count\n",
    "                running_slot_loss += slot_loss.detach().cpu() * sample_active_slot_count\n",
    "                running_correct_intent += (intent_pred==intent).detach().cpu().sum()\n",
    "                running_correct_slot += (slot_pred==active_slot).detach().cpu().sum()\n",
    "                running_sample_count += sample_count\n",
    "                running_slot_count += sample_active_slot_count\n",
    "\n",
    "            # Calculate Epoch Statistics\n",
    "            epoch_intent_loss = running_intent_loss / running_sample_count\n",
    "            epoch_slot_loss = running_slot_loss / running_slot_count\n",
    "            epoch_total_loss = epoch_intent_loss + epoch_slot_loss\n",
    "            epoch_intent_acc = running_correct_intent / running_sample_count\n",
    "            epoch_slot_acc = running_correct_slot / running_slot_count\n",
    "            print('{} - Total_loss: {:.4f} | Intent_Loss: {:.4f} | Slot_Loss: {:.4f} |Intent_Acc: {:.4f} | Slot_Acc: {:.4f}'.format(phase, epoch_total_loss, epoch_intent_loss, epoch_slot_loss, epoch_intent_acc, epoch_slot_acc))\n",
    "            \n",
    "            # Update history & callback path based on validation loss\n",
    "            if phase == 'train':\n",
    "                train_hist['train_total_loss'].append(epoch_total_loss)\n",
    "                train_hist['train_intent_loss'].append(epoch_intent_loss)\n",
    "                train_hist['train_slot_loss'].append(epoch_slot_loss)\n",
    "                train_hist['train_intent_acc'].append(epoch_intent_acc)\n",
    "                train_hist['train_slot_acc'].append(epoch_slot_acc)\n",
    "            if phase == 'val':\n",
    "                train_hist['val_total_loss'].append(epoch_total_loss)\n",
    "                train_hist['val_intent_loss'].append(epoch_intent_loss)\n",
    "                train_hist['val_slot_loss'].append(epoch_slot_loss)\n",
    "                train_hist['val_intent_acc'].append(epoch_intent_acc)\n",
    "                train_hist['val_slot_acc'].append(epoch_slot_acc)  \n",
    "                \n",
    "                # Save model with lowest total loss\n",
    "                if epoch_total_loss < best_total_loss:\n",
    "                    best_total_loss = epoch_total_loss\n",
    "                    best_intent_loss = epoch_intent_loss\n",
    "                    best_slot_loss = epoch_slot_loss\n",
    "                    best_intent_acc = epoch_intent_acc\n",
    "                    best_slot_acc = epoch_slot_acc\n",
    "                    best_model_state = model.state_dict()\n",
    "                    torch.save(best_model_state, callback_path)\n",
    "                                                  \n",
    "        # Printing Epoch training info\n",
    "        time_elapsed = time.time() - time_0\n",
    "        print('Training complete in {:.0f}m {:.0f}s'.format(time_elapsed // 60, time_elapsed % 60))\n",
    "        print('')\n",
    "  \n",
    "    load_dict = torch.load(callback_path)\n",
    "    model.load_state_dict(load_dict)\n",
    "    \n",
    "    total_elapsed = round(time.time()-start_time,0)\n",
    "    avg_per_epoch = round((time.time()-start_time) / num_epochs, 0)\n",
    "    avg_per_batch = round((time.time()-start_time) / (num_epochs * dataloaders['train'].__len__()), 0)\n",
    "\n",
    "    print('-' * 70)\n",
    "    print('Training Complete!')\n",
    "    print('-' * 70)\n",
    "    print('Batch Size used                 : {0:d}'.format(dataloaders['train'].batch_size))\n",
    "    print('Total training took             : {:.0f}m {:.0f}s'.format(total_elapsed // 60, total_elapsed % 60))              \n",
    "    print('Average Training Time per Epoch : {:.0f}m {:.0f}s'.format(avg_per_epoch // 60, avg_per_epoch % 60))\n",
    "    print('')\n",
    "    print('-' * 70 )\n",
    "    print('Best Validation Total Loss      : {0:.2f}'.format(best_total_loss))\n",
    "    print('Best Validation Intent Loss     : {0:.2f}'.format(best_intent_loss))\n",
    "    print('Best Validation Slot Loss       : {0:.2f}'.format(best_slot_loss))\n",
    "    print('Best Validation Intent Accuracy : {0:.2f}'.format(best_intent_acc))\n",
    "    print('Best Validation Slot Accuracy   : {0:.2f}'.format(best_slot_acc))\n",
    "    print('-' * 70 )\n",
    "    print('Model callback completed!')  \n",
    "    print('Model callback based on lowest total loss')\n",
    "\n",
    "    return model, train_hist"
   ]
  },
  {
   "cell_type": "markdown",
   "metadata": {
    "id": "07nAiqMh5bgR"
   },
   "source": [
    "# 3. Model Training"
   ]
  },
  {
   "cell_type": "markdown",
   "metadata": {
    "id": "eIJJEz1-5bSQ"
   },
   "source": [
    "## >> MODEL PARAMTERS"
   ]
  },
  {
   "cell_type": "code",
   "execution_count": 29,
   "metadata": {
    "id": "hB6M5BfV5VLm"
   },
   "outputs": [],
   "source": [
    "# Model Setups\n",
    "MODEL_NAME = 'BERT_Intent_Slot'\n",
    "LR = 5e-5\n",
    "EPOCH = 20\n",
    "INTENT_LOSS_FN = nn.CrossEntropyLoss()\n",
    "SLOT_LOSS_FN = nn.CrossEntropyLoss()\n",
    "OPTIM = torch.optim.Adam\n",
    "\n",
    "NUM_INTENT_LABELS = len(intent_to_idx.keys()) # 8 intents\n",
    "NUM_SLOT_LABELS = len(bio_to_idx.keys()) # 9 slot labels\n",
    "SLOT_LOSS_COEF = 0.5\n",
    "\n",
    "# Callback Save Paths\n",
    "SAVE_FILE_NAME = MODEL_NAME + '_FINE_TUNE'\n",
    "CALLBACK_PATH = os.path.join(basedir, 'model_state\\\\'+ SAVE_FILE_NAME +'.pt')\n",
    "\n",
    "# Model Setup Paths\n",
    "MODEL_SETUP_PATH = os.path.join(basedir, 'model_setup\\\\'+ SAVE_FILE_NAME + '_SETUP' +'.pt')\n",
    "LOAD_STATE_DICT = False\n"
   ]
  },
  {
   "cell_type": "markdown",
   "metadata": {
    "id": "xqPULtl28Jjm"
   },
   "source": [
    "## Model Training"
   ]
  },
  {
   "cell_type": "code",
   "execution_count": 46,
   "metadata": {
    "colab": {
     "base_uri": "https://localhost:8080/"
    },
    "id": "G3U8hYCu5VJd",
    "outputId": "6aaf3a3a-1b3e-47da-bdd0-50c245f3f73f"
   },
   "outputs": [
    {
     "name": "stderr",
     "output_type": "stream",
     "text": [
      "Some weights of the model checkpoint at bert-base-uncased were not used when initializing BertModel: ['cls.predictions.decoder.weight', 'cls.predictions.transform.dense.weight', 'cls.predictions.bias', 'cls.seq_relationship.weight', 'cls.predictions.transform.LayerNorm.bias', 'cls.predictions.transform.dense.bias', 'cls.predictions.transform.LayerNorm.weight', 'cls.seq_relationship.bias']\n",
      "- This IS expected if you are initializing BertModel from the checkpoint of a model trained on another task or with another architecture (e.g. initializing a BertForSequenceClassification model from a BertForPreTraining model).\n",
      "- This IS NOT expected if you are initializing BertModel from the checkpoint of a model that you expect to be exactly identical (initializing a BertForSequenceClassification model from a BertForSequenceClassification model).\n"
     ]
    },
    {
     "name": "stdout",
     "output_type": "stream",
     "text": [
      "======== Epoch 1 / 20 ========\n",
      "train - Total_loss: 3.6390 | Intent_Loss: 1.9992 | Slot_Loss: 1.6398 |Intent_Acc: 0.2477 | Slot_Acc: 0.5190\n",
      "val - Total_loss: 2.6284 | Intent_Loss: 1.7282 | Slot_Loss: 0.9002 |Intent_Acc: 0.3136 | Slot_Acc: 0.7104\n",
      "Training complete in 0m 2s\n",
      "\n",
      "======== Epoch 2 / 20 ========\n",
      "train - Total_loss: 2.4576 | Intent_Loss: 1.6138 | Slot_Loss: 0.8437 |Intent_Acc: 0.4575 | Slot_Acc: 0.7116\n",
      "val - Total_loss: 2.0203 | Intent_Loss: 1.3664 | Slot_Loss: 0.6539 |Intent_Acc: 0.6271 | Slot_Acc: 0.7838\n",
      "Training complete in 0m 2s\n",
      "\n",
      "======== Epoch 3 / 20 ========\n",
      "train - Total_loss: 1.8899 | Intent_Loss: 1.2553 | Slot_Loss: 0.6346 |Intent_Acc: 0.6799 | Slot_Acc: 0.7910\n",
      "val - Total_loss: 1.5730 | Intent_Loss: 1.0502 | Slot_Loss: 0.5228 |Intent_Acc: 0.6610 | Slot_Acc: 0.8288\n",
      "Training complete in 0m 2s\n",
      "\n",
      "======== Epoch 4 / 20 ========\n",
      "train - Total_loss: 1.4665 | Intent_Loss: 0.9585 | Slot_Loss: 0.5080 |Intent_Acc: 0.7414 | Slot_Acc: 0.8491\n",
      "val - Total_loss: 1.2176 | Intent_Loss: 0.8000 | Slot_Loss: 0.4176 |Intent_Acc: 0.7542 | Slot_Acc: 0.8855\n",
      "Training complete in 0m 2s\n",
      "\n",
      "======== Epoch 5 / 20 ========\n",
      "train - Total_loss: 1.1357 | Intent_Loss: 0.7212 | Slot_Loss: 0.4145 |Intent_Acc: 0.8264 | Slot_Acc: 0.8990\n",
      "val - Total_loss: 1.0512 | Intent_Loss: 0.7143 | Slot_Loss: 0.3369 |Intent_Acc: 0.8136 | Slot_Acc: 0.9012\n",
      "Training complete in 0m 2s\n",
      "\n",
      "======== Epoch 6 / 20 ========\n",
      "train - Total_loss: 0.9190 | Intent_Loss: 0.5905 | Slot_Loss: 0.3285 |Intent_Acc: 0.8734 | Slot_Acc: 0.9155\n",
      "val - Total_loss: 0.7855 | Intent_Loss: 0.5102 | Slot_Loss: 0.2753 |Intent_Acc: 0.8644 | Slot_Acc: 0.9237\n",
      "Training complete in 0m 2s\n",
      "\n",
      "======== Epoch 7 / 20 ========\n",
      "train - Total_loss: 0.7040 | Intent_Loss: 0.4426 | Slot_Loss: 0.2614 |Intent_Acc: 0.9512 | Slot_Acc: 0.9456\n",
      "val - Total_loss: 0.7293 | Intent_Loss: 0.5269 | Slot_Loss: 0.2024 |Intent_Acc: 0.8644 | Slot_Acc: 0.9491\n",
      "Training complete in 0m 2s\n",
      "\n",
      "======== Epoch 8 / 20 ========\n",
      "train - Total_loss: 0.5605 | Intent_Loss: 0.3751 | Slot_Loss: 0.1854 |Intent_Acc: 0.9494 | Slot_Acc: 0.9669\n",
      "val - Total_loss: 0.4939 | Intent_Loss: 0.3595 | Slot_Loss: 0.1344 |Intent_Acc: 0.9153 | Slot_Acc: 0.9755\n",
      "Training complete in 0m 2s\n",
      "\n",
      "======== Epoch 9 / 20 ========\n",
      "train - Total_loss: 0.4179 | Intent_Loss: 0.2928 | Slot_Loss: 0.1251 |Intent_Acc: 0.9783 | Slot_Acc: 0.9819\n",
      "val - Total_loss: 0.5193 | Intent_Loss: 0.4254 | Slot_Loss: 0.0940 |Intent_Acc: 0.9068 | Slot_Acc: 0.9795\n",
      "Training complete in 0m 1s\n",
      "\n",
      "======== Epoch 10 / 20 ========\n",
      "train - Total_loss: 0.3509 | Intent_Loss: 0.2645 | Slot_Loss: 0.0864 |Intent_Acc: 0.9729 | Slot_Acc: 0.9855\n",
      "val - Total_loss: 0.3318 | Intent_Loss: 0.2568 | Slot_Loss: 0.0750 |Intent_Acc: 0.9576 | Slot_Acc: 0.9804\n",
      "Training complete in 0m 2s\n",
      "\n",
      "======== Epoch 11 / 20 ========\n",
      "train - Total_loss: 0.3169 | Intent_Loss: 0.2489 | Slot_Loss: 0.0680 |Intent_Acc: 0.9675 | Slot_Acc: 0.9902\n",
      "val - Total_loss: 0.3115 | Intent_Loss: 0.2511 | Slot_Loss: 0.0604 |Intent_Acc: 0.9492 | Slot_Acc: 0.9843\n",
      "Training complete in 0m 2s\n",
      "\n",
      "======== Epoch 12 / 20 ========\n",
      "train - Total_loss: 0.2287 | Intent_Loss: 0.1737 | Slot_Loss: 0.0550 |Intent_Acc: 0.9819 | Slot_Acc: 0.9927\n",
      "val - Total_loss: 0.4334 | Intent_Loss: 0.3786 | Slot_Loss: 0.0548 |Intent_Acc: 0.9153 | Slot_Acc: 0.9883\n",
      "Training complete in 0m 1s\n",
      "\n",
      "======== Epoch 13 / 20 ========\n",
      "train - Total_loss: 0.1765 | Intent_Loss: 0.1312 | Slot_Loss: 0.0453 |Intent_Acc: 0.9873 | Slot_Acc: 0.9974\n",
      "val - Total_loss: 0.2228 | Intent_Loss: 0.1732 | Slot_Loss: 0.0496 |Intent_Acc: 0.9661 | Slot_Acc: 0.9912\n",
      "Training complete in 0m 2s\n",
      "\n",
      "======== Epoch 14 / 20 ========\n",
      "train - Total_loss: 0.1490 | Intent_Loss: 0.1081 | Slot_Loss: 0.0409 |Intent_Acc: 0.9873 | Slot_Acc: 0.9983\n",
      "val - Total_loss: 0.2252 | Intent_Loss: 0.1821 | Slot_Loss: 0.0431 |Intent_Acc: 0.9492 | Slot_Acc: 0.9922\n",
      "Training complete in 0m 1s\n",
      "\n",
      "======== Epoch 15 / 20 ========\n",
      "train - Total_loss: 0.1163 | Intent_Loss: 0.0813 | Slot_Loss: 0.0350 |Intent_Acc: 0.9910 | Slot_Acc: 0.9981\n",
      "val - Total_loss: 0.1857 | Intent_Loss: 0.1472 | Slot_Loss: 0.0385 |Intent_Acc: 0.9492 | Slot_Acc: 0.9922\n",
      "Training complete in 0m 2s\n",
      "\n",
      "======== Epoch 16 / 20 ========\n",
      "train - Total_loss: 0.0926 | Intent_Loss: 0.0636 | Slot_Loss: 0.0289 |Intent_Acc: 0.9946 | Slot_Acc: 0.9983\n",
      "val - Total_loss: 0.2092 | Intent_Loss: 0.1745 | Slot_Loss: 0.0347 |Intent_Acc: 0.9492 | Slot_Acc: 0.9932\n",
      "Training complete in 0m 1s\n",
      "\n",
      "======== Epoch 17 / 20 ========\n",
      "train - Total_loss: 0.0741 | Intent_Loss: 0.0509 | Slot_Loss: 0.0232 |Intent_Acc: 0.9982 | Slot_Acc: 0.9996\n",
      "val - Total_loss: 0.3448 | Intent_Loss: 0.3136 | Slot_Loss: 0.0312 |Intent_Acc: 0.9153 | Slot_Acc: 0.9932\n",
      "Training complete in 0m 1s\n",
      "\n",
      "======== Epoch 18 / 20 ========\n",
      "train - Total_loss: 0.0640 | Intent_Loss: 0.0436 | Slot_Loss: 0.0204 |Intent_Acc: 0.9982 | Slot_Acc: 0.9994\n",
      "val - Total_loss: 0.3506 | Intent_Loss: 0.3229 | Slot_Loss: 0.0277 |Intent_Acc: 0.9153 | Slot_Acc: 0.9951\n",
      "Training complete in 0m 1s\n",
      "\n",
      "======== Epoch 19 / 20 ========\n",
      "train - Total_loss: 0.0563 | Intent_Loss: 0.0395 | Slot_Loss: 0.0168 |Intent_Acc: 0.9964 | Slot_Acc: 1.0000\n",
      "val - Total_loss: 0.2002 | Intent_Loss: 0.1761 | Slot_Loss: 0.0241 |Intent_Acc: 0.9407 | Slot_Acc: 0.9971\n",
      "Training complete in 0m 1s\n",
      "\n",
      "======== Epoch 20 / 20 ========\n",
      "train - Total_loss: 0.0457 | Intent_Loss: 0.0305 | Slot_Loss: 0.0152 |Intent_Acc: 1.0000 | Slot_Acc: 0.9996\n",
      "val - Total_loss: 0.3003 | Intent_Loss: 0.2787 | Slot_Loss: 0.0217 |Intent_Acc: 0.9237 | Slot_Acc: 0.9980\n",
      "Training complete in 0m 1s\n",
      "\n",
      "----------------------------------------------------------------------\n",
      "Training Complete!\n",
      "----------------------------------------------------------------------\n",
      "Batch Size used                 : 128\n",
      "Total training took             : 0m 31s\n",
      "Average Training Time per Epoch : 0m 2s\n",
      "\n",
      "----------------------------------------------------------------------\n",
      "Best Validation Total Loss      : 0.19\n",
      "Best Validation Intent Loss     : 0.15\n",
      "Best Validation Slot Loss       : 0.04\n",
      "Best Validation Intent Accuracy : 0.95\n",
      "Best Validation Slot Accuracy   : 0.99\n",
      "----------------------------------------------------------------------\n",
      "Model callback completed!\n",
      "Model callback based on lowest total loss\n"
     ]
    }
   ],
   "source": [
    "# Initialize Model\n",
    "model = BERT_Joint_Intent_Slot(NUM_INTENT_LABELS, NUM_SLOT_LABELS)\n",
    "\n",
    "# Continue from Previous Trainingtwq\n",
    "if LOAD_STATE_DICT:\n",
    "    load_dict = torch.load(CALLBACK_PATH)\n",
    "    model.load_state_dict(load_dict)\n",
    "\n",
    "# Data Dictionary for training\n",
    "dataloaders_dict = {'train':train_loader, 'val':val_loader}    \n",
    "\n",
    "# Optimizer Initialization\n",
    "params_to_update = model.parameters()\n",
    "optim_ft = OPTIM(params_to_update, lr=LR)\n",
    "\n",
    "# Secnd Model to GPU\n",
    "model.to(device)\n",
    "\n",
    "# Train Model\n",
    "model, hist = train_model(model, dataloaders_dict, INTENT_LOSS_FN, SLOT_LOSS_FN, SLOT_LOSS_COEF, NUM_INTENT_LABELS, NUM_SLOT_LABELS, optim_ft, EPOCH, CALLBACK_PATH)\n"
   ]
  },
  {
   "cell_type": "code",
   "execution_count": 47,
   "metadata": {
    "id": "OiSnPSoO5Ut5"
   },
   "outputs": [
    {
     "data": {
      "image/png": "[encoded data removed]",
      "text/plain": [
       "<Figure size 864x720 with 1 Axes>"
      ]
     },
     "metadata": {
      "needs_background": "light"
     },
     "output_type": "display_data"
    },
    {
     "data": {
      "image/png": "[encoded data removed]",
      "text/plain": [
       "<Figure size 864x720 with 1 Axes>"
      ]
     },
     "metadata": {
      "needs_background": "light"
     },
     "output_type": "display_data"
    }
   ],
   "source": [
    "import matplotlib.pyplot as plt\n",
    "x = np.arange(EPOCH) + 1\n",
    "\n",
    "train_total_loss = hist['train_total_loss']\n",
    "train_intent_loss = hist['train_intent_loss']\n",
    "train_slot_loss = hist['train_slot_loss']\n",
    "train_intent_acc = hist['train_intent_acc']\n",
    "train_slot_acc = hist['train_slot_acc']\n",
    "\n",
    "val_total_loss = hist['val_total_loss']\n",
    "val_intent_loss = hist['val_intent_loss']\n",
    "val_slot_loss = hist['val_slot_loss']\n",
    "val_intent_acc = hist['val_intent_acc']\n",
    "val_slot_acc = hist['val_slot_acc']\n",
    "\n",
    "plt.figure(figsize=(12,10))\n",
    "plt.plot(x, train_total_loss)\n",
    "plt.plot(x, val_total_loss)\n",
    "plt.plot(x, train_intent_loss)\n",
    "plt.plot(x, val_intent_loss)\n",
    "plt.plot(x, train_slot_loss)\n",
    "plt.plot(x, val_slot_loss)\n",
    "plt.xlabel('Epochs', fontsize=12)\n",
    "plt.ylabel('Loss', fontsize=12)\n",
    "plt.title('Loss vs Epoch', fontsize=20)\n",
    "plt.legend(['Training Total Loss', 'Validation Total Loss', 'Training Intent Loss', 'Validation Intent Loss', 'Training Slot Loss', 'Validation Slot Loss'])\n",
    "plt.show()\n",
    "\n",
    "plt.figure(figsize=(12,10))\n",
    "plt.plot(train_intent_acc)\n",
    "plt.plot(val_intent_acc)\n",
    "plt.plot(train_slot_acc)\n",
    "plt.plot(val_slot_acc)\n",
    "plt.xlabel('Epochs', fontsize=12)\n",
    "plt.ylabel('Accuracy', fontsize=12)\n",
    "plt.title('Accuracy vs Epoch', fontsize=20)\n",
    "plt.legend(['Training Intent Accuracy', 'Validation Intent Accuracy', 'Training Slot Accuracy', 'Validation Slot Accuracy'])\n",
    "plt.show()"
   ]
  },
  {
   "cell_type": "markdown",
   "metadata": {},
   "source": [
    "## Save Model Setup"
   ]
  },
  {
   "cell_type": "code",
   "execution_count": 48,
   "metadata": {},
   "outputs": [],
   "source": [
    "model_setup = {'BATCH_SIZE': BATCH_SIZE,\n",
    "               'EPOCH': EPOCH,\n",
    "               'OPTIMIZER': str(OPTIM),\n",
    "               'LEARNING_RATE:': LR,\n",
    "               'TRAINED_MODEL_STATE_FILE': SAVE_FILE_NAME,\n",
    "               'TRAINING_HISTORY': hist\n",
    "              }\n",
    "\n",
    "setup_file = open(MODEL_SETUP_PATH, 'wb')\n",
    "pickle.dump(model_setup, setup_file, protocol=pickle.HIGHEST_PROTOCOL)\n",
    "setup_file.close()"
   ]
  },
  {
   "cell_type": "markdown",
   "metadata": {
    "id": "3YFLPNKD8EZ-"
   },
   "source": [
    "# 4. Evaluation"
   ]
  },
  {
   "cell_type": "markdown",
   "metadata": {
    "id": "X1orUotz8RBd"
   },
   "source": [
    "## Predict Function"
   ]
  },
  {
   "cell_type": "code",
   "execution_count": 30,
   "metadata": {},
   "outputs": [],
   "source": [
    "# Functions to Extract Slot Values\n",
    "def extract_slot_values(input_text, bio_labels, offset_mapping, slot_B_index, slot_I_index):\n",
    "    slot_value = []\n",
    "    \n",
    "    start_char = None\n",
    "    \n",
    "    for i in range(len(bio_labels)):\n",
    "        if bio_labels[i] == slot_B_index:\n",
    "            if i == len(bio_labels)-1:\n",
    "                slot_value.append(input_text[offset_mapping[i][0]:offset_mapping[i][1]])\n",
    "            elif bio_labels[i+1] != slot_I_index:\n",
    "                slot_value.append(input_text[offset_mapping[i][0]:offset_mapping[i][1]])\n",
    "            else:\n",
    "                start_char = offset_mapping[i][0]\n",
    "        if bio_labels[i] == slot_I_index:\n",
    "            if i == len(bio_labels)-1:\n",
    "                end_char = offset_mapping[i][1]\n",
    "                slot_value.append(input_text[start_char : end_char])\n",
    "                start_char = None\n",
    "            elif bio_labels[i+1] != slot_I_index:\n",
    "                end_char = offset_mapping[i][1]\n",
    "                slot_value.append(input_text[start_char : end_char])\n",
    "                start_char = None\n",
    "        \n",
    "    return slot_value"
   ]
  },
  {
   "cell_type": "code",
   "execution_count": 31,
   "metadata": {
    "id": "zHomXCOp8Gys"
   },
   "outputs": [],
   "source": [
    "# Generate Predictions\n",
    "\n",
    "def predict_intent_slot(test_loader, model, idx_to_intent, idx_to_bio):\n",
    "    \n",
    "    start_time = time.time()\n",
    "    \n",
    "    # Generate Predictions\n",
    "    input_text = []\n",
    "    \n",
    "    actual_encoded_intent = []\n",
    "    actual_encoded_bio = []\n",
    "    actual_bio = []\n",
    "    actual_intent = []\n",
    "    actual_title = []\n",
    "    actual_genre = []\n",
    "    actual_actor = []\n",
    "    actual_director = []\n",
    "    \n",
    "    pred_encoded_intent = []\n",
    "    pred_encoded_bio = []\n",
    "    pred_bio = []\n",
    "    pred_intent = []\n",
    "    pred_title = []\n",
    "    pred_genre = []\n",
    "    pred_actor = []\n",
    "    pred_director = []\n",
    "    \n",
    "    model.to(device)\n",
    "    model.eval()\n",
    "    \n",
    "    with torch.no_grad():\n",
    "        for input_ids, attention_mask, intent, slot, slot_offset_mapping, original_text in test_loader:\n",
    "            # Send to GPU\n",
    "            input_ids = input_ids.to(device)\n",
    "            attention_mask = attention_mask.to(device)\n",
    "            \n",
    "            # Get Predictions\n",
    "            intent_logits, slot_logits = model(input_ids, attention_mask)\n",
    "            intent_pred = intent_logits.argmax(dim=-1)\n",
    "            \n",
    "            # Append Text Results\n",
    "            input_text.extend(original_text)\n",
    "            \n",
    "            # Append Intent Results\n",
    "            actual_encoded_intent.extend(intent.detach().cpu().numpy())\n",
    "            actual_intent.extend([idx_to_intent[x] for x in intent.detach().cpu().tolist()])\n",
    "            \n",
    "            pred_encoded_intent.extend(intent_pred.detach().cpu().numpy())\n",
    "            pred_intent.extend([idx_to_intent[x] for x in intent_pred.detach().cpu().tolist()])\n",
    "            \n",
    "            # Append BIO & Slots Results\n",
    "            for i in range(slot.size()[0]):\n",
    "                sample_active_slot_mask = slot[i] != -100\n",
    "                sample_active_actual_slot = slot[i][sample_active_slot_mask].detach().cpu().tolist()\n",
    "                sample_active_pred_slot = slot_logits[i].argmax(dim=-1)[sample_active_slot_mask].detach().cpu().tolist()\n",
    "                \n",
    "                sample_text = original_text[i]\n",
    "                sample_offset_mapping = slot_offset_mapping[i][sample_active_slot_mask, :]\n",
    "                \n",
    "                sample_actual_bio = [idx_to_bio[x] for x in sample_active_actual_slot]\n",
    "                sample_actual_actor = extract_slot_values(sample_text, sample_active_actual_slot, sample_offset_mapping, 0, 4)\n",
    "                sample_actual_director = extract_slot_values(sample_text, sample_active_actual_slot, sample_offset_mapping, 1, 5)\n",
    "                sample_actual_genre = extract_slot_values(sample_text, sample_active_actual_slot, sample_offset_mapping, 2, 6)\n",
    "                sample_actual_title = extract_slot_values(sample_text, sample_active_actual_slot, sample_offset_mapping, 3, 7)\n",
    "                \n",
    "                sample_pred_bio = [idx_to_bio[x] for x in sample_active_pred_slot]\n",
    "                sample_pred_actor = extract_slot_values(sample_text, sample_active_pred_slot, sample_offset_mapping, 0, 4)\n",
    "                sample_pred_director = extract_slot_values(sample_text, sample_active_pred_slot, sample_offset_mapping, 1, 5)\n",
    "                sample_pred_genre = extract_slot_values(sample_text, sample_active_pred_slot, sample_offset_mapping, 2, 6)\n",
    "                sample_pred_title = extract_slot_values(sample_text, sample_active_pred_slot, sample_offset_mapping, 3, 7)\n",
    "                \n",
    "                actual_encoded_bio.append(', '.join([str(int(x)) for x in sample_active_actual_slot]))\n",
    "                actual_bio.append(', '.join(sample_actual_bio))\n",
    "                actual_actor.append(' | '.join(sample_actual_actor))\n",
    "                actual_director.append(' | '.join(sample_actual_director))\n",
    "                actual_genre.append(' | '.join(sample_actual_genre))\n",
    "                actual_title.append(' | '.join(sample_actual_title))\n",
    "                \n",
    "                pred_encoded_bio.append(', '.join([str(int(x)) for x in sample_active_pred_slot]))\n",
    "                pred_bio.append(', '.join(sample_pred_bio))\n",
    "                pred_actor.append(' | '.join(sample_pred_actor))\n",
    "                pred_director.append(' | '.join(sample_pred_director))\n",
    "                pred_genre.append(' | '.join(sample_pred_genre))\n",
    "                pred_title.append(' | '.join(sample_pred_title))\n",
    "                \n",
    "    result_actual = {'Encoded_Intent': actual_encoded_intent,\n",
    "                     'Intent': actual_intent,\n",
    "                     'Encoded_BIO': actual_encoded_bio,\n",
    "                     'BIO': actual_bio,\n",
    "                     'Slot_Actor': actual_actor,\n",
    "                     'Slot_Director': actual_director,\n",
    "                     'Slot_Genre': actual_genre,\n",
    "                     'Slot_Title': actual_title\n",
    "                    }\n",
    "    \n",
    "    result_pred = {'Encoded_Intent': pred_encoded_intent,\n",
    "                   'Intent': pred_intent,\n",
    "                   'Encoded_BIO': pred_encoded_bio,\n",
    "                   'BIO': pred_bio,\n",
    "                   'Slot_Actor': pred_actor,\n",
    "                   'Slot_Director': pred_director,\n",
    "                   'Slot_Genre': pred_genre,\n",
    "                   'Slot_Title': pred_title\n",
    "                  }\n",
    "    \n",
    "    df = pd.DataFrame(np.array([input_text, actual_encoded_intent, actual_intent, pred_encoded_intent, pred_intent, actual_encoded_bio, actual_bio, pred_encoded_bio, pred_bio, \\\n",
    "                                actual_actor, pred_actor, actual_director, pred_director, actual_genre, pred_genre, actual_title, pred_title]).T, \\\n",
    "                      columns=['Original_Text', 'GT_Encoded_Intent', 'GT_Intent', 'PRED_Encoded_Intent', 'PRED_Intent', 'GT_Encoded_BIO', 'GT_BIO', 'PRED_Encoded_BIO', 'PRED_BIO', \\\n",
    "                               'GT_Actor', 'PRED_Actor', 'GT_Director', 'PRED_Director', 'GT_Genre', 'PRED_Genre', 'GT_Title', 'PRED_Title'])\n",
    "    result = {'Original_Text': input_text, 'Ground_Truth': result_actual, 'Predictions': result_pred}\n",
    "            \n",
    "    return result, df\n",
    "    \n",
    "    "
   ]
  },
  {
   "cell_type": "markdown",
   "metadata": {},
   "source": [
    "## Generate Results on Test Dataset"
   ]
  },
  {
   "cell_type": "code",
   "execution_count": 33,
   "metadata": {},
   "outputs": [
    {
     "name": "stderr",
     "output_type": "stream",
     "text": [
      "Some weights of the model checkpoint at bert-base-uncased were not used when initializing BertModel: ['cls.predictions.bias', 'cls.predictions.decoder.weight', 'cls.predictions.transform.LayerNorm.weight', 'cls.predictions.transform.dense.bias', 'cls.predictions.transform.dense.weight', 'cls.seq_relationship.weight', 'cls.predictions.transform.LayerNorm.bias', 'cls.seq_relationship.bias']\n",
      "- This IS expected if you are initializing BertModel from the checkpoint of a model trained on another task or with another architecture (e.g. initializing a BertForSequenceClassification model from a BertForPreTraining model).\n",
      "- This IS NOT expected if you are initializing BertModel from the checkpoint of a model that you expect to be exactly identical (initializing a BertForSequenceClassification model from a BertForSequenceClassification model).\n"
     ]
    }
   ],
   "source": [
    "# Load_Model\n",
    "\n",
    "MODEL_NAME = 'BERT_Intent_Slot'\n",
    "EVAL_MODEL_LOAD_PATH = CALLBACK_PATH\n",
    "eval_model = BERT_Joint_Intent_Slot(NUM_INTENT_LABELS, NUM_SLOT_LABELS)\n",
    "\n",
    "load_dict = torch.load(EVAL_MODEL_LOAD_PATH)\n",
    "eval_model.load_state_dict(load_dict)\n",
    "\n",
    "# Run on Test dataset\n",
    "result_dict, result_df = predict_intent_slot(test_loader, eval_model, idx_to_intent, idx_to_bio)"
   ]
  },
  {
   "cell_type": "code",
   "execution_count": 34,
   "metadata": {},
   "outputs": [
    {
     "data": {
      "text/html": [
       "<div>\n",
       "<style scoped>\n",
       "    .dataframe tbody tr th:only-of-type {\n",
       "        vertical-align: middle;\n",
       "    }\n",
       "\n",
       "    .dataframe tbody tr th {\n",
       "        vertical-align: top;\n",
       "    }\n",
       "\n",
       "    .dataframe thead th {\n",
       "        text-align: right;\n",
       "    }\n",
       "</style>\n",
       "<table border=\"1\" class=\"dataframe\">\n",
       "  <thead>\n",
       "    <tr style=\"text-align: right;\">\n",
       "      <th></th>\n",
       "      <th>Original_Text</th>\n",
       "      <th>GT_Encoded_Intent</th>\n",
       "      <th>GT_Intent</th>\n",
       "      <th>PRED_Encoded_Intent</th>\n",
       "      <th>PRED_Intent</th>\n",
       "      <th>GT_Encoded_BIO</th>\n",
       "      <th>GT_BIO</th>\n",
       "      <th>PRED_Encoded_BIO</th>\n",
       "      <th>PRED_BIO</th>\n",
       "      <th>GT_Actor</th>\n",
       "      <th>PRED_Actor</th>\n",
       "      <th>GT_Director</th>\n",
       "      <th>PRED_Director</th>\n",
       "      <th>GT_Genre</th>\n",
       "      <th>PRED_Genre</th>\n",
       "      <th>GT_Title</th>\n",
       "      <th>PRED_Title</th>\n",
       "    </tr>\n",
       "  </thead>\n",
       "  <tbody>\n",
       "    <tr>\n",
       "      <th>0</th>\n",
       "      <td>family movies directed by M. Night Shyamalan a...</td>\n",
       "      <td>2</td>\n",
       "      <td>INFORM</td>\n",
       "      <td>2</td>\n",
       "      <td>INFORM</td>\n",
       "      <td>2, 8, 8, 8, 1, 5, 5, 5, 5, 5, 8, 8, 0, 4, 4</td>\n",
       "      <td>B-genre, O, O, O, B-director, I-director, I-di...</td>\n",
       "      <td>2, 8, 8, 8, 1, 5, 5, 5, 5, 5, 8, 8, 0, 4, 4</td>\n",
       "      <td>B-genre, O, O, O, B-director, I-director, I-di...</td>\n",
       "      <td>Bonnie Bedelia</td>\n",
       "      <td>Bonnie Bedelia</td>\n",
       "      <td>M. Night Shyamalan</td>\n",
       "      <td>M. Night Shyamalan</td>\n",
       "      <td>family</td>\n",
       "      <td>family</td>\n",
       "      <td></td>\n",
       "      <td></td>\n",
       "    </tr>\n",
       "    <tr>\n",
       "      <th>1</th>\n",
       "      <td>What is the overall feedback of The Hobbit</td>\n",
       "      <td>4</td>\n",
       "      <td>INFORM_INTENT_MOVIE_SENTIMENT</td>\n",
       "      <td>4</td>\n",
       "      <td>INFORM_INTENT_MOVIE_SENTIMENT</td>\n",
       "      <td>8, 8, 8, 8, 8, 8, 3, 7, 7, 7</td>\n",
       "      <td>O, O, O, O, O, O, B-title, I-title, I-title, I...</td>\n",
       "      <td>8, 8, 8, 8, 8, 8, 8, 7, 7, 7</td>\n",
       "      <td>O, O, O, O, O, O, O, I-title, I-title, I-title</td>\n",
       "      <td></td>\n",
       "      <td></td>\n",
       "      <td></td>\n",
       "      <td></td>\n",
       "      <td></td>\n",
       "      <td></td>\n",
       "      <td>The Hobbit</td>\n",
       "      <td>What is the overall feedback of The Hobbit</td>\n",
       "    </tr>\n",
       "    <tr>\n",
       "      <th>2</th>\n",
       "      <td>Can you show me some films starring María Marull</td>\n",
       "      <td>3</td>\n",
       "      <td>INFORM_INTENT_MOVIE_RECOMMENDATION</td>\n",
       "      <td>3</td>\n",
       "      <td>INFORM_INTENT_MOVIE_RECOMMENDATION</td>\n",
       "      <td>8, 8, 8, 8, 8, 8, 8, 0, 4, 4</td>\n",
       "      <td>O, O, O, O, O, O, O, B-actor, I-actor, I-actor</td>\n",
       "      <td>8, 8, 8, 8, 8, 8, 8, 0, 4, 4</td>\n",
       "      <td>O, O, O, O, O, O, O, B-actor, I-actor, I-actor</td>\n",
       "      <td>María Marull</td>\n",
       "      <td>María Marull</td>\n",
       "      <td></td>\n",
       "      <td></td>\n",
       "      <td></td>\n",
       "      <td></td>\n",
       "      <td></td>\n",
       "      <td></td>\n",
       "    </tr>\n",
       "    <tr>\n",
       "      <th>3</th>\n",
       "      <td>Suggest me some drama films by director Giusep...</td>\n",
       "      <td>3</td>\n",
       "      <td>INFORM_INTENT_MOVIE_RECOMMENDATION</td>\n",
       "      <td>3</td>\n",
       "      <td>INFORM_INTENT_MOVIE_RECOMMENDATION</td>\n",
       "      <td>8, 8, 8, 2, 8, 8, 8, 1, 5, 5, 5, 8, 0, 4, 4, 4, 4</td>\n",
       "      <td>O, O, O, B-genre, O, O, O, B-director, I-direc...</td>\n",
       "      <td>8, 8, 8, 2, 8, 8, 8, 1, 5, 5, 5, 8, 0, 4, 4, 4, 4</td>\n",
       "      <td>O, O, O, B-genre, O, O, O, B-director, I-direc...</td>\n",
       "      <td>Robert Downey Jr.</td>\n",
       "      <td>Robert Downey Jr.</td>\n",
       "      <td>Giuseppe Tornatore</td>\n",
       "      <td>Giuseppe Tornatore</td>\n",
       "      <td>drama</td>\n",
       "      <td>drama</td>\n",
       "      <td></td>\n",
       "      <td></td>\n",
       "    </tr>\n",
       "    <tr>\n",
       "      <th>4</th>\n",
       "      <td>Can you search for the public sentiment of a film</td>\n",
       "      <td>4</td>\n",
       "      <td>INFORM_INTENT_MOVIE_SENTIMENT</td>\n",
       "      <td>4</td>\n",
       "      <td>INFORM_INTENT_MOVIE_SENTIMENT</td>\n",
       "      <td>8, 8, 8, 8, 8, 8, 8, 8, 8, 8</td>\n",
       "      <td>O, O, O, O, O, O, O, O, O, O</td>\n",
       "      <td>8, 8, 8, 8, 8, 8, 8, 8, 8, 8</td>\n",
       "      <td>O, O, O, O, O, O, O, O, O, O</td>\n",
       "      <td></td>\n",
       "      <td></td>\n",
       "      <td></td>\n",
       "      <td></td>\n",
       "      <td></td>\n",
       "      <td></td>\n",
       "      <td></td>\n",
       "      <td></td>\n",
       "    </tr>\n",
       "    <tr>\n",
       "      <th>...</th>\n",
       "      <td>...</td>\n",
       "      <td>...</td>\n",
       "      <td>...</td>\n",
       "      <td>...</td>\n",
       "      <td>...</td>\n",
       "      <td>...</td>\n",
       "      <td>...</td>\n",
       "      <td>...</td>\n",
       "      <td>...</td>\n",
       "      <td>...</td>\n",
       "      <td>...</td>\n",
       "      <td>...</td>\n",
       "      <td>...</td>\n",
       "      <td>...</td>\n",
       "      <td>...</td>\n",
       "      <td>...</td>\n",
       "      <td>...</td>\n",
       "    </tr>\n",
       "    <tr>\n",
       "      <th>114</th>\n",
       "      <td>that's all for now</td>\n",
       "      <td>0</td>\n",
       "      <td>CLOSING</td>\n",
       "      <td>0</td>\n",
       "      <td>CLOSING</td>\n",
       "      <td>8, 8, 8, 8, 8, 8</td>\n",
       "      <td>O, O, O, O, O, O</td>\n",
       "      <td>8, 8, 8, 8, 8, 8</td>\n",
       "      <td>O, O, O, O, O, O</td>\n",
       "      <td></td>\n",
       "      <td></td>\n",
       "      <td></td>\n",
       "      <td></td>\n",
       "      <td></td>\n",
       "      <td></td>\n",
       "      <td></td>\n",
       "      <td></td>\n",
       "    </tr>\n",
       "    <tr>\n",
       "      <th>115</th>\n",
       "      <td>Show me some adventure films acted by Kevin Sp...</td>\n",
       "      <td>3</td>\n",
       "      <td>INFORM_INTENT_MOVIE_RECOMMENDATION</td>\n",
       "      <td>3</td>\n",
       "      <td>INFORM_INTENT_MOVIE_RECOMMENDATION</td>\n",
       "      <td>8, 8, 8, 2, 8, 8, 8, 0, 4, 4</td>\n",
       "      <td>O, O, O, B-genre, O, O, O, B-actor, I-actor, I...</td>\n",
       "      <td>8, 8, 8, 2, 8, 8, 8, 0, 4, 4</td>\n",
       "      <td>O, O, O, B-genre, O, O, O, B-actor, I-actor, I...</td>\n",
       "      <td>Kevin Spacey</td>\n",
       "      <td>Kevin Spacey</td>\n",
       "      <td></td>\n",
       "      <td></td>\n",
       "      <td>adventure</td>\n",
       "      <td>adventure</td>\n",
       "      <td></td>\n",
       "      <td></td>\n",
       "    </tr>\n",
       "    <tr>\n",
       "      <th>116</th>\n",
       "      <td>The name of the film is The Battle of Algiers</td>\n",
       "      <td>2</td>\n",
       "      <td>INFORM</td>\n",
       "      <td>2</td>\n",
       "      <td>INFORM</td>\n",
       "      <td>8, 8, 8, 8, 8, 8, 3, 7, 7, 7</td>\n",
       "      <td>O, O, O, O, O, O, B-title, I-title, I-title, I...</td>\n",
       "      <td>8, 8, 8, 8, 8, 8, 3, 7, 7, 7</td>\n",
       "      <td>O, O, O, O, O, O, B-title, I-title, I-title, I...</td>\n",
       "      <td></td>\n",
       "      <td></td>\n",
       "      <td></td>\n",
       "      <td></td>\n",
       "      <td></td>\n",
       "      <td></td>\n",
       "      <td>The Battle of Algiers</td>\n",
       "      <td>The Battle of Algiers</td>\n",
       "    </tr>\n",
       "    <tr>\n",
       "      <th>117</th>\n",
       "      <td>Looking for suggestions on western movies acte...</td>\n",
       "      <td>3</td>\n",
       "      <td>INFORM_INTENT_MOVIE_RECOMMENDATION</td>\n",
       "      <td>3</td>\n",
       "      <td>INFORM_INTENT_MOVIE_RECOMMENDATION</td>\n",
       "      <td>8, 8, 8, 8, 2, 8, 8, 8, 0, 4</td>\n",
       "      <td>O, O, O, O, B-genre, O, O, O, B-actor, I-actor</td>\n",
       "      <td>8, 8, 8, 8, 2, 8, 8, 8, 0, 4</td>\n",
       "      <td>O, O, O, O, B-genre, O, O, O, B-actor, I-actor</td>\n",
       "      <td>Hugo Weaving</td>\n",
       "      <td>Hugo Weaving</td>\n",
       "      <td></td>\n",
       "      <td></td>\n",
       "      <td>western</td>\n",
       "      <td>western</td>\n",
       "      <td></td>\n",
       "      <td></td>\n",
       "    </tr>\n",
       "    <tr>\n",
       "      <th>118</th>\n",
       "      <td>Recommend me some films with biography theme</td>\n",
       "      <td>3</td>\n",
       "      <td>INFORM_INTENT_MOVIE_RECOMMENDATION</td>\n",
       "      <td>3</td>\n",
       "      <td>INFORM_INTENT_MOVIE_RECOMMENDATION</td>\n",
       "      <td>8, 8, 8, 8, 8, 2, 8</td>\n",
       "      <td>O, O, O, O, O, B-genre, O</td>\n",
       "      <td>8, 8, 8, 8, 8, 2, 8</td>\n",
       "      <td>O, O, O, O, O, B-genre, O</td>\n",
       "      <td></td>\n",
       "      <td></td>\n",
       "      <td></td>\n",
       "      <td></td>\n",
       "      <td>biography</td>\n",
       "      <td>biography</td>\n",
       "      <td></td>\n",
       "      <td></td>\n",
       "    </tr>\n",
       "  </tbody>\n",
       "</table>\n",
       "<p>119 rows × 17 columns</p>\n",
       "</div>"
      ],
      "text/plain": [
       "                                         Original_Text GT_Encoded_Intent  \\\n",
       "0    family movies directed by M. Night Shyamalan a...                 2   \n",
       "1           What is the overall feedback of The Hobbit                 4   \n",
       "2     Can you show me some films starring María Marull                 3   \n",
       "3    Suggest me some drama films by director Giusep...                 3   \n",
       "4    Can you search for the public sentiment of a film                 4   \n",
       "..                                                 ...               ...   \n",
       "114                                 that's all for now                 0   \n",
       "115  Show me some adventure films acted by Kevin Sp...                 3   \n",
       "116      The name of the film is The Battle of Algiers                 2   \n",
       "117  Looking for suggestions on western movies acte...                 3   \n",
       "118       Recommend me some films with biography theme                 3   \n",
       "\n",
       "                              GT_Intent PRED_Encoded_Intent  \\\n",
       "0                                INFORM                   2   \n",
       "1         INFORM_INTENT_MOVIE_SENTIMENT                   4   \n",
       "2    INFORM_INTENT_MOVIE_RECOMMENDATION                   3   \n",
       "3    INFORM_INTENT_MOVIE_RECOMMENDATION                   3   \n",
       "4         INFORM_INTENT_MOVIE_SENTIMENT                   4   \n",
       "..                                  ...                 ...   \n",
       "114                             CLOSING                   0   \n",
       "115  INFORM_INTENT_MOVIE_RECOMMENDATION                   3   \n",
       "116                              INFORM                   2   \n",
       "117  INFORM_INTENT_MOVIE_RECOMMENDATION                   3   \n",
       "118  INFORM_INTENT_MOVIE_RECOMMENDATION                   3   \n",
       "\n",
       "                            PRED_Intent  \\\n",
       "0                                INFORM   \n",
       "1         INFORM_INTENT_MOVIE_SENTIMENT   \n",
       "2    INFORM_INTENT_MOVIE_RECOMMENDATION   \n",
       "3    INFORM_INTENT_MOVIE_RECOMMENDATION   \n",
       "4         INFORM_INTENT_MOVIE_SENTIMENT   \n",
       "..                                  ...   \n",
       "114                             CLOSING   \n",
       "115  INFORM_INTENT_MOVIE_RECOMMENDATION   \n",
       "116                              INFORM   \n",
       "117  INFORM_INTENT_MOVIE_RECOMMENDATION   \n",
       "118  INFORM_INTENT_MOVIE_RECOMMENDATION   \n",
       "\n",
       "                                        GT_Encoded_BIO  \\\n",
       "0          2, 8, 8, 8, 1, 5, 5, 5, 5, 5, 8, 8, 0, 4, 4   \n",
       "1                         8, 8, 8, 8, 8, 8, 3, 7, 7, 7   \n",
       "2                         8, 8, 8, 8, 8, 8, 8, 0, 4, 4   \n",
       "3    8, 8, 8, 2, 8, 8, 8, 1, 5, 5, 5, 8, 0, 4, 4, 4, 4   \n",
       "4                         8, 8, 8, 8, 8, 8, 8, 8, 8, 8   \n",
       "..                                                 ...   \n",
       "114                                   8, 8, 8, 8, 8, 8   \n",
       "115                       8, 8, 8, 2, 8, 8, 8, 0, 4, 4   \n",
       "116                       8, 8, 8, 8, 8, 8, 3, 7, 7, 7   \n",
       "117                       8, 8, 8, 8, 2, 8, 8, 8, 0, 4   \n",
       "118                                8, 8, 8, 8, 8, 2, 8   \n",
       "\n",
       "                                                GT_BIO  \\\n",
       "0    B-genre, O, O, O, B-director, I-director, I-di...   \n",
       "1    O, O, O, O, O, O, B-title, I-title, I-title, I...   \n",
       "2       O, O, O, O, O, O, O, B-actor, I-actor, I-actor   \n",
       "3    O, O, O, B-genre, O, O, O, B-director, I-direc...   \n",
       "4                         O, O, O, O, O, O, O, O, O, O   \n",
       "..                                                 ...   \n",
       "114                                   O, O, O, O, O, O   \n",
       "115  O, O, O, B-genre, O, O, O, B-actor, I-actor, I...   \n",
       "116  O, O, O, O, O, O, B-title, I-title, I-title, I...   \n",
       "117     O, O, O, O, B-genre, O, O, O, B-actor, I-actor   \n",
       "118                          O, O, O, O, O, B-genre, O   \n",
       "\n",
       "                                      PRED_Encoded_BIO  \\\n",
       "0          2, 8, 8, 8, 1, 5, 5, 5, 5, 5, 8, 8, 0, 4, 4   \n",
       "1                         8, 8, 8, 8, 8, 8, 8, 7, 7, 7   \n",
       "2                         8, 8, 8, 8, 8, 8, 8, 0, 4, 4   \n",
       "3    8, 8, 8, 2, 8, 8, 8, 1, 5, 5, 5, 8, 0, 4, 4, 4, 4   \n",
       "4                         8, 8, 8, 8, 8, 8, 8, 8, 8, 8   \n",
       "..                                                 ...   \n",
       "114                                   8, 8, 8, 8, 8, 8   \n",
       "115                       8, 8, 8, 2, 8, 8, 8, 0, 4, 4   \n",
       "116                       8, 8, 8, 8, 8, 8, 3, 7, 7, 7   \n",
       "117                       8, 8, 8, 8, 2, 8, 8, 8, 0, 4   \n",
       "118                                8, 8, 8, 8, 8, 2, 8   \n",
       "\n",
       "                                              PRED_BIO           GT_Actor  \\\n",
       "0    B-genre, O, O, O, B-director, I-director, I-di...     Bonnie Bedelia   \n",
       "1       O, O, O, O, O, O, O, I-title, I-title, I-title                      \n",
       "2       O, O, O, O, O, O, O, B-actor, I-actor, I-actor       María Marull   \n",
       "3    O, O, O, B-genre, O, O, O, B-director, I-direc...  Robert Downey Jr.   \n",
       "4                         O, O, O, O, O, O, O, O, O, O                      \n",
       "..                                                 ...                ...   \n",
       "114                                   O, O, O, O, O, O                      \n",
       "115  O, O, O, B-genre, O, O, O, B-actor, I-actor, I...       Kevin Spacey   \n",
       "116  O, O, O, O, O, O, B-title, I-title, I-title, I...                      \n",
       "117     O, O, O, O, B-genre, O, O, O, B-actor, I-actor       Hugo Weaving   \n",
       "118                          O, O, O, O, O, B-genre, O                      \n",
       "\n",
       "            PRED_Actor         GT_Director       PRED_Director   GT_Genre  \\\n",
       "0       Bonnie Bedelia  M. Night Shyamalan  M. Night Shyamalan     family   \n",
       "1                                                                           \n",
       "2         María Marull                                                      \n",
       "3    Robert Downey Jr.  Giuseppe Tornatore  Giuseppe Tornatore      drama   \n",
       "4                                                                           \n",
       "..                 ...                 ...                 ...        ...   \n",
       "114                                                                         \n",
       "115       Kevin Spacey                                          adventure   \n",
       "116                                                                         \n",
       "117       Hugo Weaving                                            western   \n",
       "118                                                             biography   \n",
       "\n",
       "    PRED_Genre               GT_Title  \\\n",
       "0       family                          \n",
       "1                          The Hobbit   \n",
       "2                                       \n",
       "3        drama                          \n",
       "4                                       \n",
       "..         ...                    ...   \n",
       "114                                     \n",
       "115  adventure                          \n",
       "116             The Battle of Algiers   \n",
       "117    western                          \n",
       "118  biography                          \n",
       "\n",
       "                                     PRED_Title  \n",
       "0                                                \n",
       "1    What is the overall feedback of The Hobbit  \n",
       "2                                                \n",
       "3                                                \n",
       "4                                                \n",
       "..                                          ...  \n",
       "114                                              \n",
       "115                                              \n",
       "116                       The Battle of Algiers  \n",
       "117                                              \n",
       "118                                              \n",
       "\n",
       "[119 rows x 17 columns]"
      ]
     },
     "execution_count": 34,
     "metadata": {},
     "output_type": "execute_result"
    }
   ],
   "source": [
    "result_df"
   ]
  },
  {
   "cell_type": "markdown",
   "metadata": {},
   "source": [
    "## Save Generated Results"
   ]
  },
  {
   "cell_type": "code",
   "execution_count": 54,
   "metadata": {},
   "outputs": [],
   "source": [
    "result_savepath = os.path.join(basedir, 'eval_result\\\\' + MODEL_NAME + '_eval.csv')\n",
    "\n",
    "result_df.to_csv(result_savepath, encoding=\"utf-8\")"
   ]
  },
  {
   "cell_type": "markdown",
   "metadata": {},
   "source": [
    "## Evaluation"
   ]
  },
  {
   "cell_type": "code",
   "execution_count": 67,
   "metadata": {},
   "outputs": [
    {
     "name": "stdout",
     "output_type": "stream",
     "text": [
      "                                    precision    recall  f1-score   support\n",
      "\n",
      "                           CLOSING       0.86      1.00      0.92         6\n",
      "                           CONFIRM       0.83      0.83      0.83         6\n",
      "                            INFORM       1.00      1.00      1.00        38\n",
      "INFORM_INTENT_MOVIE_RECOMMENDATION       1.00      1.00      1.00        38\n",
      "     INFORM_INTENT_MOVIE_SENTIMENT       1.00      1.00      1.00        12\n",
      "                            NEGATE       1.00      0.83      0.91         6\n",
      "                               OOS       1.00      1.00      1.00         7\n",
      "                         THANK_YOU       1.00      1.00      1.00         6\n",
      "\n",
      "                          accuracy                           0.98       119\n",
      "                         macro avg       0.96      0.96      0.96       119\n",
      "                      weighted avg       0.98      0.98      0.98       119\n",
      "\n"
     ]
    }
   ],
   "source": [
    "# Intent\n",
    "intent_labels = [idx_to_intent[x] for x in range(len(idx_to_intent.keys()))]\n",
    "eval_actual_intent = result_df['GT_Intent']\n",
    "eval_pred_intent = result_df['PRED_Intent']\n",
    "print(classification_report(eval_actual_intent, eval_pred_intent, target_names=intent_labels))"
   ]
  },
  {
   "cell_type": "code",
   "execution_count": 76,
   "metadata": {},
   "outputs": [
    {
     "name": "stdout",
     "output_type": "stream",
     "text": [
      "              precision    recall  f1-score   support\n",
      "\n",
      "     B-actor       1.00      1.00      1.00        41\n",
      "  B-director       1.00      1.00      1.00        34\n",
      "     B-genre       1.00      0.97      0.99        36\n",
      "     B-title       0.89      0.89      0.89         9\n",
      "     I-actor       1.00      1.00      1.00        97\n",
      "  I-director       1.00      1.00      1.00        83\n",
      "     I-genre       1.00      1.00      1.00        12\n",
      "     I-title       1.00      0.95      0.97        20\n",
      "           O       1.00      1.00      1.00       716\n",
      "\n",
      "    accuracy                           1.00      1048\n",
      "   macro avg       0.99      0.98      0.98      1048\n",
      "weighted avg       1.00      1.00      1.00      1048\n",
      "\n"
     ]
    }
   ],
   "source": [
    "# BIO Tags\n",
    "bio_labels = [idx_to_bio[x] for x in range(len(idx_to_bio.keys()))]\n",
    "eval_actual_bio = []\n",
    "eval_pred_bio = []\n",
    "for i in range(len(result_df)):\n",
    "    sample_gt_bio = result_df['GT_Encoded_BIO'].to_list()[i].split(', ')\n",
    "    sample_pred_bio = result_df['PRED_Encoded_BIO'].to_list()[i].split(', ')\n",
    "    for j in range(len(sample_gt_bio)):\n",
    "        eval_actual_bio.append(int(sample_gt_bio[j]))\n",
    "    for j in range(len(sample_pred_bio)):\n",
    "        eval_pred_bio.append(int(sample_pred_bio[j]))\n",
    "\n",
    "print(classification_report(eval_actual_bio, eval_pred_bio, target_names=bio_labels))"
   ]
  },
  {
   "cell_type": "code",
   "execution_count": 80,
   "metadata": {},
   "outputs": [],
   "source": [
    "check_mask = result_df['GT_Encoded_BIO'] == result_df['PRED_Encoded_BIO']"
   ]
  },
  {
   "cell_type": "code",
   "execution_count": 82,
   "metadata": {},
   "outputs": [
    {
     "data": {
      "text/html": [
       "<div>\n",
       "<style scoped>\n",
       "    .dataframe tbody tr th:only-of-type {\n",
       "        vertical-align: middle;\n",
       "    }\n",
       "\n",
       "    .dataframe tbody tr th {\n",
       "        vertical-align: top;\n",
       "    }\n",
       "\n",
       "    .dataframe thead th {\n",
       "        text-align: right;\n",
       "    }\n",
       "</style>\n",
       "<table border=\"1\" class=\"dataframe\">\n",
       "  <thead>\n",
       "    <tr style=\"text-align: right;\">\n",
       "      <th></th>\n",
       "      <th>Original_Text</th>\n",
       "      <th>GT_Encoded_Intent</th>\n",
       "      <th>GT_Intent</th>\n",
       "      <th>PRED_Encoded_Intent</th>\n",
       "      <th>PRED_Intent</th>\n",
       "      <th>GT_Encoded_BIO</th>\n",
       "      <th>GT_BIO</th>\n",
       "      <th>PRED_Encoded_BIO</th>\n",
       "      <th>PRED_BIO</th>\n",
       "      <th>GT_Actor</th>\n",
       "      <th>PRED_Actor</th>\n",
       "      <th>GT_Director</th>\n",
       "      <th>PRED_Director</th>\n",
       "      <th>GT_Genre</th>\n",
       "      <th>PRED_Genre</th>\n",
       "      <th>GT_Title</th>\n",
       "      <th>PRED_Title</th>\n",
       "    </tr>\n",
       "  </thead>\n",
       "  <tbody>\n",
       "    <tr>\n",
       "      <th>1</th>\n",
       "      <td>What is the overall feedback of The Hobbit</td>\n",
       "      <td>4</td>\n",
       "      <td>INFORM_INTENT_MOVIE_SENTIMENT</td>\n",
       "      <td>4</td>\n",
       "      <td>INFORM_INTENT_MOVIE_SENTIMENT</td>\n",
       "      <td>8, 8, 8, 8, 8, 8, 3, 7, 7, 7</td>\n",
       "      <td>O, O, O, O, O, O, B-title, I-title, I-title, I...</td>\n",
       "      <td>8, 8, 8, 8, 8, 8, 8, 7, 7, 7</td>\n",
       "      <td>O, O, O, O, O, O, O, I-title, I-title, I-title</td>\n",
       "      <td></td>\n",
       "      <td></td>\n",
       "      <td></td>\n",
       "      <td></td>\n",
       "      <td></td>\n",
       "      <td></td>\n",
       "      <td>The Hobbit</td>\n",
       "      <td>What is the overall feedback of The Hobbit</td>\n",
       "    </tr>\n",
       "    <tr>\n",
       "      <th>18</th>\n",
       "      <td>Looking for musical genre</td>\n",
       "      <td>2</td>\n",
       "      <td>INFORM</td>\n",
       "      <td>2</td>\n",
       "      <td>INFORM</td>\n",
       "      <td>8, 8, 2, 8</td>\n",
       "      <td>O, O, B-genre, O</td>\n",
       "      <td>8, 8, 8, 8</td>\n",
       "      <td>O, O, O, O</td>\n",
       "      <td></td>\n",
       "      <td></td>\n",
       "      <td></td>\n",
       "      <td></td>\n",
       "      <td>musical</td>\n",
       "      <td></td>\n",
       "      <td></td>\n",
       "      <td></td>\n",
       "    </tr>\n",
       "    <tr>\n",
       "      <th>61</th>\n",
       "      <td>Looking at the film Full Metal Jacket</td>\n",
       "      <td>2</td>\n",
       "      <td>INFORM</td>\n",
       "      <td>2</td>\n",
       "      <td>INFORM</td>\n",
       "      <td>8, 8, 8, 8, 3, 7, 7</td>\n",
       "      <td>O, O, O, O, B-title, I-title, I-title</td>\n",
       "      <td>8, 8, 8, 8, 3, 3, 7</td>\n",
       "      <td>O, O, O, O, B-title, B-title, I-title</td>\n",
       "      <td></td>\n",
       "      <td></td>\n",
       "      <td></td>\n",
       "      <td></td>\n",
       "      <td></td>\n",
       "      <td></td>\n",
       "      <td>Full Metal Jacket</td>\n",
       "      <td>Full | Metal Jacket</td>\n",
       "    </tr>\n",
       "  </tbody>\n",
       "</table>\n",
       "</div>"
      ],
      "text/plain": [
       "                                 Original_Text GT_Encoded_Intent  \\\n",
       "1   What is the overall feedback of The Hobbit                 4   \n",
       "18                   Looking for musical genre                 2   \n",
       "61       Looking at the film Full Metal Jacket                 2   \n",
       "\n",
       "                        GT_Intent PRED_Encoded_Intent  \\\n",
       "1   INFORM_INTENT_MOVIE_SENTIMENT                   4   \n",
       "18                         INFORM                   2   \n",
       "61                         INFORM                   2   \n",
       "\n",
       "                      PRED_Intent                GT_Encoded_BIO  \\\n",
       "1   INFORM_INTENT_MOVIE_SENTIMENT  8, 8, 8, 8, 8, 8, 3, 7, 7, 7   \n",
       "18                         INFORM                    8, 8, 2, 8   \n",
       "61                         INFORM           8, 8, 8, 8, 3, 7, 7   \n",
       "\n",
       "                                               GT_BIO  \\\n",
       "1   O, O, O, O, O, O, B-title, I-title, I-title, I...   \n",
       "18                                   O, O, B-genre, O   \n",
       "61              O, O, O, O, B-title, I-title, I-title   \n",
       "\n",
       "                PRED_Encoded_BIO  \\\n",
       "1   8, 8, 8, 8, 8, 8, 8, 7, 7, 7   \n",
       "18                    8, 8, 8, 8   \n",
       "61           8, 8, 8, 8, 3, 3, 7   \n",
       "\n",
       "                                          PRED_BIO GT_Actor PRED_Actor  \\\n",
       "1   O, O, O, O, O, O, O, I-title, I-title, I-title                       \n",
       "18                                      O, O, O, O                       \n",
       "61           O, O, O, O, B-title, B-title, I-title                       \n",
       "\n",
       "   GT_Director PRED_Director GT_Genre PRED_Genre           GT_Title  \\\n",
       "1                                                        The Hobbit   \n",
       "18                            musical                                 \n",
       "61                                                Full Metal Jacket   \n",
       "\n",
       "                                    PRED_Title  \n",
       "1   What is the overall feedback of The Hobbit  \n",
       "18                                              \n",
       "61                         Full | Metal Jacket  "
      ]
     },
     "execution_count": 82,
     "metadata": {},
     "output_type": "execute_result"
    }
   ],
   "source": [
    "result_df[check_mask==False]"
   ]
  },
  {
   "cell_type": "code",
   "execution_count": 85,
   "metadata": {},
   "outputs": [
    {
     "data": {
      "text/plain": [
       "{'input_ids': [101, 2507, 2033, 2070, 3185, 11433, 102], 'token_type_ids': [0, 0, 0, 0, 0, 0, 0], 'attention_mask': [1, 1, 1, 1, 1, 1, 1]}"
      ]
     },
     "execution_count": 85,
     "metadata": {},
     "output_type": "execute_result"
    }
   ],
   "source": [
    "try_text = 'give me some movie recommendations'\n",
    "tokenizer(try_text, )"
   ]
  },
  {
   "cell_type": "markdown",
   "metadata": {},
   "source": [
    "# 5. Inference Function"
   ]
  },
  {
   "cell_type": "code",
   "execution_count": 1,
   "metadata": {},
   "outputs": [
    {
     "data": {
      "text/plain": [
       "0"
      ]
     },
     "execution_count": 1,
     "metadata": {},
     "output_type": "execute_result"
    }
   ],
   "source": [
    "len([])"
   ]
  },
  {
   "cell_type": "code",
   "execution_count": 35,
   "metadata": {},
   "outputs": [],
   "source": [
    "# Functions to Extract Slot Values\n",
    "def extract_slot_values(input_text, bio_labels, offset_mapping, slot_B_index, slot_I_index):\n",
    "    slot_value = []\n",
    "    \n",
    "    start_char = None\n",
    "    \n",
    "    for i in range(len(bio_labels)):\n",
    "        if bio_labels[i] == slot_B_index:\n",
    "            if i == len(bio_labels)-1:\n",
    "                slot_value.append(input_text[offset_mapping[i][0]:offset_mapping[i][1]])\n",
    "            elif bio_labels[i+1] != slot_I_index:\n",
    "                slot_value.append(input_text[offset_mapping[i][0]:offset_mapping[i][1]])\n",
    "            else:\n",
    "                start_char = offset_mapping[i][0]\n",
    "        if bio_labels[i] == slot_I_index:\n",
    "            if i == len(bio_labels)-1:\n",
    "                end_char = offset_mapping[i][1]\n",
    "                slot_value.append(input_text[start_char : end_char])\n",
    "                start_char = None\n",
    "            elif bio_labels[i+1] != slot_I_index:\n",
    "                end_char = offset_mapping[i][1]\n",
    "                slot_value.append(input_text[start_char : end_char])\n",
    "                start_char = None\n",
    "        \n",
    "    return slot_value"
   ]
  },
  {
   "cell_type": "code",
   "execution_count": 40,
   "metadata": {},
   "outputs": [],
   "source": [
    "# Inference Function\n",
    "def get_intent_slot(text, tokenizer, token_length, model, idx_to_intent, idx_to_bio):\n",
    "    tokenized_inputs = tokenizer(text, padding='max_length', max_length=token_length, truncation=True, return_attention_mask=True, return_offsets_mapping=True, return_tensors='pt')\n",
    "    input_ids = tokenized_inputs['input_ids']\n",
    "    attention_mask = tokenized_inputs['attention_mask']\n",
    "    offset_mapping = tokenized_inputs['offset_mapping']\n",
    "    excluded_ids = [101, 102, 0]\n",
    "    \n",
    "    print(input_ids.numpy().shape)\n",
    "    print(attention_mask.numpy().shape)\n",
    "    print(offset_mapping.numpy().shape)\n",
    "    token_mask = np.asarray([x not in excluded_ids for x in input_ids.detach().cpu().numpy()[0]])\n",
    "    offset_mapping_masked = offset_mapping[0][token_mask]\n",
    "    \n",
    "    model.to(device)\n",
    "    model.eval()\n",
    "    with torch.no_grad():\n",
    "        input_ids = input_ids.to(device)\n",
    "        attention_mask = attention_mask.to(device)\n",
    "        intent_logits, slot_logits = model(input_ids, attention_mask)\n",
    "        \n",
    "        encoded_intent = intent_logits[0].detach().cpu().numpy().argmax(axis=-1)\n",
    "        encoded_bio = slot_logits[0].detach().cpu().numpy().argmax(axis=-1)[token_mask]\n",
    "    \n",
    "    intent = idx_to_intent[encoded_intent]\n",
    "    bio = [idx_to_bio[x] for x in encoded_bio]\n",
    "    \n",
    "    slot_actor = extract_slot_values(text, encoded_bio, offset_mapping_masked, 0, 4)\n",
    "    slot_director = extract_slot_values(text, encoded_bio, offset_mapping_masked, 1, 5)\n",
    "    slot_genre = extract_slot_values(text, encoded_bio, offset_mapping_masked, 2, 6)\n",
    "    slot_title = extract_slot_values(text, encoded_bio, offset_mapping_masked, 3, 7)\n",
    "    \n",
    "    slot_values = {'Actor': slot_actor,\n",
    "                   'Director': slot_director,\n",
    "                   'Genre': slot_genre,\n",
    "                   'Title': slot_title}\n",
    "    \n",
    "    return encoded_intent, encoded_bio, intent, bio, slot_values\n",
    "    "
   ]
  },
  {
   "cell_type": "code",
   "execution_count": 37,
   "metadata": {},
   "outputs": [
    {
     "name": "stderr",
     "output_type": "stream",
     "text": [
      "Some weights of the model checkpoint at bert-base-uncased were not used when initializing BertModel: ['cls.predictions.bias', 'cls.predictions.decoder.weight', 'cls.predictions.transform.LayerNorm.weight', 'cls.predictions.transform.dense.bias', 'cls.predictions.transform.dense.weight', 'cls.seq_relationship.weight', 'cls.predictions.transform.LayerNorm.bias', 'cls.seq_relationship.bias']\n",
      "- This IS expected if you are initializing BertModel from the checkpoint of a model trained on another task or with another architecture (e.g. initializing a BertForSequenceClassification model from a BertForPreTraining model).\n",
      "- This IS NOT expected if you are initializing BertModel from the checkpoint of a model that you expect to be exactly identical (initializing a BertForSequenceClassification model from a BertForSequenceClassification model).\n"
     ]
    },
    {
     "data": {
      "text/plain": [
       "<All keys matched successfully>"
      ]
     },
     "execution_count": 37,
     "metadata": {},
     "output_type": "execute_result"
    }
   ],
   "source": [
    "# Load Tokenizer\n",
    "\n",
    "infer_tokenizer = BertTokenizerFast.from_pretrained('bert-base-uncased')\n",
    "\n",
    "# Load_Model\n",
    "\n",
    "MODEL_NAME = 'BERT_Intent_Slot'\n",
    "EVAL_MODEL_LOAD_PATH = CALLBACK_PATH\n",
    "NUM_INTENT_LABELS = len(idx_to_intent.keys())\n",
    "NUM_SLOT_LABELS = len(idx_to_bio.keys())\n",
    "infer_model = BERT_Joint_Intent_Slot(NUM_INTENT_LABELS, NUM_SLOT_LABELS)\n",
    "\n",
    "load_dict = torch.load(EVAL_MODEL_LOAD_PATH)\n",
    "infer_model.load_state_dict(load_dict)\n"
   ]
  },
  {
   "cell_type": "markdown",
   "metadata": {},
   "source": [
    "## Inference Examples"
   ]
  },
  {
   "cell_type": "markdown",
   "metadata": {},
   "source": [
    "### Sample 1"
   ]
  },
  {
   "cell_type": "code",
   "execution_count": 41,
   "metadata": {},
   "outputs": [
    {
     "name": "stdout",
     "output_type": "stream",
     "text": [
      "(1, 32)\n",
      "(1, 32)\n",
      "(1, 32, 2)\n",
      "Intent Predicted >>> \n",
      "3 | INFORM_INTENT_MOVIE_RECOMMENDATION\n",
      "----------------------------------------------------------------------\n",
      "BIO Predicted >>> \n",
      "[8 8 8 2 6 6 8 8 8 1]\n",
      "['O', 'O', 'O', 'B-genre', 'I-genre', 'I-genre', 'O', 'O', 'O', 'B-director']\n",
      "----------------------------------------------------------------------\n",
      "Predicted Slot Values >>>\n",
      "Actor    : []\n",
      "Director : ['Clyde']\n",
      "Genre    : ['sci-fi']\n",
      "Title    : []\n"
     ]
    }
   ],
   "source": [
    "text_input_infer = 'Show me some sci-fi movies directed by Clyde'\n",
    "\n",
    "infer_enc_intent, infer_enc_bio, infer_intent, infer_bio, slot_values = get_intent_slot(text_input_infer, infer_tokenizer, MAX_LENGTH, infer_model, idx_to_intent, idx_to_bio)\n",
    "print('Intent Predicted >>> ')\n",
    "print(f'{infer_enc_intent} |', infer_intent)\n",
    "print('-' * 70)\n",
    "print('BIO Predicted >>> ')\n",
    "print(infer_enc_bio)\n",
    "print(infer_bio)\n",
    "print('-' * 70)\n",
    "print('Predicted Slot Values >>>')\n",
    "print('Actor    :', slot_values['Actor'])\n",
    "print('Director :', slot_values['Director'])\n",
    "print('Genre    :', slot_values['Genre'])\n",
    "print('Title    :', slot_values['Title'])"
   ]
  },
  {
   "cell_type": "markdown",
   "metadata": {},
   "source": [
    "### Sample 2"
   ]
  },
  {
   "cell_type": "code",
   "execution_count": 39,
   "metadata": {},
   "outputs": [
    {
     "name": "stdout",
     "output_type": "stream",
     "text": [
      "Intent Predicted >>> \n",
      "3 | INFORM_INTENT_MOVIE_RECOMMENDATION\n",
      "----------------------------------------------------------------------\n",
      "BIO Predicted >>> \n",
      "[8 8 8 8 8 2 8 8 0 4]\n",
      "['O', 'O', 'O', 'O', 'O', 'B-genre', 'O', 'O', 'B-actor', 'I-actor']\n",
      "----------------------------------------------------------------------\n",
      "Predicted Slot Values >>>\n",
      "Actor    : ['Kimura']\n",
      "Director : []\n",
      "Genre    : ['music']\n",
      "Title    : []\n"
     ]
    }
   ],
   "source": [
    "text_input_infer = 'Looking for some recommendations on music movies starring Kimura'\n",
    "\n",
    "infer_enc_intent, infer_enc_bio, infer_intent, infer_bio, slot_values = get_intent_slot(text_input_infer, infer_tokenizer, MAX_LENGTH, infer_model, idx_to_intent, idx_to_bio)\n",
    "print('Intent Predicted >>> ')\n",
    "print(f'{infer_enc_intent} |', infer_intent)\n",
    "print('-' * 70)\n",
    "print('BIO Predicted >>> ')\n",
    "print(infer_enc_bio)\n",
    "print(infer_bio)\n",
    "print('-' * 70)\n",
    "print('Predicted Slot Values >>>')\n",
    "print('Actor    :', slot_values['Actor'])\n",
    "print('Director :', slot_values['Director'])\n",
    "print('Genre    :', slot_values['Genre'])\n",
    "print('Title    :', slot_values['Title'])"
   ]
  },
  {
   "cell_type": "markdown",
   "metadata": {},
   "source": [
    "### Sample 3"
   ]
  },
  {
   "cell_type": "code",
   "execution_count": 205,
   "metadata": {},
   "outputs": [
    {
     "name": "stdout",
     "output_type": "stream",
     "text": [
      "Intent Predicted >>> \n",
      "3 | INFORM_INTENT_MOVIE_RECOMMENDATION\n",
      "----------------------------------------------------------------------\n",
      "BIO Predicted >>> \n",
      "[8 8 8 2 8 8 8 1 5 5 5 8 0 4 4]\n",
      "['O', 'O', 'O', 'B-genre', 'O', 'O', 'O', 'B-director', 'I-director', 'I-director', 'I-director', 'O', 'B-actor', 'I-actor', 'I-actor']\n",
      "----------------------------------------------------------------------\n",
      "Predicted Slot Values >>>\n",
      "Actor    : ['Chris Hemsworth']\n",
      "Director : ['Ida Lupino']\n",
      "Genre    : ['action']\n",
      "Title    : []\n"
     ]
    }
   ],
   "source": [
    "text_input_infer = 'suggest me some action films by director Ida Lupino starring Chris Hemsworth'\n",
    "\n",
    "infer_enc_intent, infer_enc_bio, infer_intent, infer_bio, slot_values = get_intent_slot(text_input_infer, infer_tokenizer, MAX_LENGTH, infer_model, idx_to_intent, idx_to_bio)\n",
    "print('Intent Predicted >>> ')\n",
    "print(f'{infer_enc_intent} |', infer_intent)\n",
    "print('-' * 70)\n",
    "print('BIO Predicted >>> ')\n",
    "print(infer_enc_bio)\n",
    "print(infer_bio)\n",
    "print('-' * 70)\n",
    "print('Predicted Slot Values >>>')\n",
    "print('Actor    :', slot_values['Actor'])\n",
    "print('Director :', slot_values['Director'])\n",
    "print('Genre    :', slot_values['Genre'])\n",
    "print('Title    :', slot_values['Title'])"
   ]
  },
  {
   "cell_type": "markdown",
   "metadata": {},
   "source": [
    "### Sample 4"
   ]
  },
  {
   "cell_type": "code",
   "execution_count": 208,
   "metadata": {},
   "outputs": [
    {
     "name": "stdout",
     "output_type": "stream",
     "text": [
      "Intent Predicted >>> \n",
      "4 | INFORM_INTENT_MOVIE_SENTIMENT\n",
      "----------------------------------------------------------------------\n",
      "BIO Predicted >>> \n",
      "[8 8 8 8 8 8 8 8 3 7]\n",
      "['O', 'O', 'O', 'O', 'O', 'O', 'O', 'O', 'B-title', 'I-title']\n",
      "----------------------------------------------------------------------\n",
      "Predicted Slot Values >>>\n",
      "Actor    : []\n",
      "Director : []\n",
      "Genre    : []\n",
      "Title    : ['Frozen II']\n"
     ]
    }
   ],
   "source": [
    "text_input_infer = 'Looking for some comments on the movie named Frozen II'\n",
    "\n",
    "infer_enc_intent, infer_enc_bio, infer_intent, infer_bio, slot_values = get_intent_slot(text_input_infer, infer_tokenizer, MAX_LENGTH, infer_model, idx_to_intent, idx_to_bio)\n",
    "print('Intent Predicted >>> ')\n",
    "print(f'{infer_enc_intent} |', infer_intent)\n",
    "print('-' * 70)\n",
    "print('BIO Predicted >>> ')\n",
    "print(infer_enc_bio)\n",
    "print(infer_bio)\n",
    "print('-' * 70)\n",
    "print('Predicted Slot Values >>>')\n",
    "print('Actor    :', slot_values['Actor'])\n",
    "print('Director :', slot_values['Director'])\n",
    "print('Genre    :', slot_values['Genre'])\n",
    "print('Title    :', slot_values['Title'])"
   ]
  },
  {
   "cell_type": "markdown",
   "metadata": {},
   "source": [
    "### Sample 5"
   ]
  },
  {
   "cell_type": "code",
   "execution_count": 209,
   "metadata": {},
   "outputs": [
    {
     "name": "stdout",
     "output_type": "stream",
     "text": [
      "Intent Predicted >>> \n",
      "2 | INFORM\n",
      "----------------------------------------------------------------------\n",
      "BIO Predicted >>> \n",
      "[2 8 8 8 1 5 5 5 8 8 8 0 4 4 4]\n",
      "['B-genre', 'O', 'O', 'O', 'B-director', 'I-director', 'I-director', 'I-director', 'O', 'O', 'O', 'B-actor', 'I-actor', 'I-actor', 'I-actor']\n",
      "----------------------------------------------------------------------\n",
      "Predicted Slot Values >>>\n",
      "Actor    : ['François Cluzet']\n",
      "Director : ['Robert Mulligan']\n",
      "Genre    : ['western']\n",
      "Title    : []\n"
     ]
    }
   ],
   "source": [
    "text_input_infer = 'western movies directed by Robert Mulligan and acted by François Cluzet'\n",
    "\n",
    "infer_enc_intent, infer_enc_bio, infer_intent, infer_bio, slot_values = get_intent_slot(text_input_infer, infer_tokenizer, MAX_LENGTH, infer_model, idx_to_intent, idx_to_bio)\n",
    "print('Intent Predicted >>> ')\n",
    "print(f'{infer_enc_intent} |', infer_intent)\n",
    "print('-' * 70)\n",
    "print('BIO Predicted >>> ')\n",
    "print(infer_enc_bio)\n",
    "print(infer_bio)\n",
    "print('-' * 70)\n",
    "print('Predicted Slot Values >>>')\n",
    "print('Actor    :', slot_values['Actor'])\n",
    "print('Director :', slot_values['Director'])\n",
    "print('Genre    :', slot_values['Genre'])\n",
    "print('Title    :', slot_values['Title'])"
   ]
  },
  {
   "cell_type": "markdown",
   "metadata": {},
   "source": [
    "### Sample 6"
   ]
  },
  {
   "cell_type": "code",
   "execution_count": 211,
   "metadata": {},
   "outputs": [
    {
     "name": "stdout",
     "output_type": "stream",
     "text": [
      "Intent Predicted >>> \n",
      "2 | INFORM\n",
      "----------------------------------------------------------------------\n",
      "BIO Predicted >>> \n",
      "[8 1 5 8 8 0]\n",
      "['O', 'B-director', 'I-director', 'O', 'O', 'B-actor']\n",
      "----------------------------------------------------------------------\n",
      "Predicted Slot Values >>>\n",
      "Actor    : ['Steven']\n",
      "Director : ['Tom Holland']\n",
      "Genre    : []\n",
      "Title    : []\n"
     ]
    }
   ],
   "source": [
    "text_input_infer = 'Director Tom Holland and actor Steven'\n",
    "\n",
    "infer_enc_intent, infer_enc_bio, infer_intent, infer_bio, slot_values = get_intent_slot(text_input_infer, infer_tokenizer, MAX_LENGTH, infer_model, idx_to_intent, idx_to_bio)\n",
    "print('Intent Predicted >>> ')\n",
    "print(f'{infer_enc_intent} |', infer_intent)\n",
    "print('-' * 70)\n",
    "print('BIO Predicted >>> ')\n",
    "print(infer_enc_bio)\n",
    "print(infer_bio)\n",
    "print('-' * 70)\n",
    "print('Predicted Slot Values >>>')\n",
    "print('Actor    :', slot_values['Actor'])\n",
    "print('Director :', slot_values['Director'])\n",
    "print('Genre    :', slot_values['Genre'])\n",
    "print('Title    :', slot_values['Title'])"
   ]
  },
  {
   "cell_type": "markdown",
   "metadata": {},
   "source": [
    "### Sample 7"
   ]
  },
  {
   "cell_type": "code",
   "execution_count": 213,
   "metadata": {},
   "outputs": [
    {
     "name": "stdout",
     "output_type": "stream",
     "text": [
      "Intent Predicted >>> \n",
      "1 | CONFIRM\n",
      "----------------------------------------------------------------------\n",
      "BIO Predicted >>> \n",
      "[8 8]\n",
      "['O', 'O']\n",
      "----------------------------------------------------------------------\n",
      "Predicted Slot Values >>>\n",
      "Actor    : []\n",
      "Director : []\n",
      "Genre    : []\n",
      "Title    : []\n"
     ]
    }
   ],
   "source": [
    "text_input_infer = 'sure thing'\n",
    "\n",
    "infer_enc_intent, infer_enc_bio, infer_intent, infer_bio, slot_values = get_intent_slot(text_input_infer, infer_tokenizer, MAX_LENGTH, infer_model, idx_to_intent, idx_to_bio)\n",
    "print('Intent Predicted >>> ')\n",
    "print(f'{infer_enc_intent} |', infer_intent)\n",
    "print('-' * 70)\n",
    "print('BIO Predicted >>> ')\n",
    "print(infer_enc_bio)\n",
    "print(infer_bio)\n",
    "print('-' * 70)\n",
    "print('Predicted Slot Values >>>')\n",
    "print('Actor    :', slot_values['Actor'])\n",
    "print('Director :', slot_values['Director'])\n",
    "print('Genre    :', slot_values['Genre'])\n",
    "print('Title    :', slot_values['Title'])"
   ]
  },
  {
   "cell_type": "markdown",
   "metadata": {},
   "source": [
    "### Sample 8"
   ]
  },
  {
   "cell_type": "code",
   "execution_count": 216,
   "metadata": {},
   "outputs": [
    {
     "name": "stdout",
     "output_type": "stream",
     "text": [
      "Intent Predicted >>> \n",
      "7 | THANK_YOU\n",
      "----------------------------------------------------------------------\n",
      "BIO Predicted >>> \n",
      "[8 8 8 8 8 8 8 8 8 8 8 8 8 8 8 8]\n",
      "['O', 'O', 'O', 'O', 'O', 'O', 'O', 'O', 'O', 'O', 'O', 'O', 'O', 'O', 'O', 'O']\n",
      "----------------------------------------------------------------------\n",
      "Predicted Slot Values >>>\n",
      "Actor    : []\n",
      "Director : []\n",
      "Genre    : []\n",
      "Title    : []\n"
     ]
    }
   ],
   "source": [
    "text_input_infer = \"no, that's all i need, thank you so much for your help\"\n",
    "\n",
    "infer_enc_intent, infer_enc_bio, infer_intent, infer_bio, slot_values = get_intent_slot(text_input_infer, infer_tokenizer, MAX_LENGTH, infer_model, idx_to_intent, idx_to_bio)\n",
    "print('Intent Predicted >>> ')\n",
    "print(f'{infer_enc_intent} |', infer_intent)\n",
    "print('-' * 70)\n",
    "print('BIO Predicted >>> ')\n",
    "print(infer_enc_bio)\n",
    "print(infer_bio)\n",
    "print('-' * 70)\n",
    "print('Predicted Slot Values >>>')\n",
    "print('Actor    :', slot_values['Actor'])\n",
    "print('Director :', slot_values['Director'])\n",
    "print('Genre    :', slot_values['Genre'])\n",
    "print('Title    :', slot_values['Title'])"
   ]
  },
  {
   "cell_type": "markdown",
   "metadata": {},
   "source": [
    "### Sample 9"
   ]
  },
  {
   "cell_type": "code",
   "execution_count": 218,
   "metadata": {},
   "outputs": [
    {
     "name": "stdout",
     "output_type": "stream",
     "text": [
      "Intent Predicted >>> \n",
      "6 | OOS\n",
      "----------------------------------------------------------------------\n",
      "BIO Predicted >>> \n",
      "[8 8 8 8 8 8]\n",
      "['O', 'O', 'O', 'O', 'O', 'O']\n",
      "----------------------------------------------------------------------\n",
      "Predicted Slot Values >>>\n",
      "Actor    : []\n",
      "Director : []\n",
      "Genre    : []\n",
      "Title    : []\n"
     ]
    }
   ],
   "source": [
    "text_input_infer = \"what time is it now?\"\n",
    "\n",
    "infer_enc_intent, infer_enc_bio, infer_intent, infer_bio, slot_values = get_intent_slot(text_input_infer, infer_tokenizer, MAX_LENGTH, infer_model, idx_to_intent, idx_to_bio)\n",
    "print('Intent Predicted >>> ')\n",
    "print(f'{infer_enc_intent} |', infer_intent)\n",
    "print('-' * 70)\n",
    "print('BIO Predicted >>> ')\n",
    "print(infer_enc_bio)\n",
    "print(infer_bio)\n",
    "print('-' * 70)\n",
    "print('Predicted Slot Values >>>')\n",
    "print('Actor    :', slot_values['Actor'])\n",
    "print('Director :', slot_values['Director'])\n",
    "print('Genre    :', slot_values['Genre'])\n",
    "print('Title    :', slot_values['Title'])"
   ]
  },
  {
   "cell_type": "markdown",
   "metadata": {},
   "source": [
    "### Sample 10"
   ]
  },
  {
   "cell_type": "code",
   "execution_count": 222,
   "metadata": {},
   "outputs": [
    {
     "name": "stdout",
     "output_type": "stream",
     "text": [
      "Intent Predicted >>> \n",
      "3 | INFORM_INTENT_MOVIE_RECOMMENDATION\n",
      "----------------------------------------------------------------------\n",
      "BIO Predicted >>> \n",
      "[8 8 8 8 8]\n",
      "['O', 'O', 'O', 'O', 'O']\n",
      "----------------------------------------------------------------------\n",
      "Predicted Slot Values >>>\n",
      "Actor    : []\n",
      "Director : []\n",
      "Genre    : []\n",
      "Title    : []\n"
     ]
    }
   ],
   "source": [
    "text_input_infer = \"how about some other movie\"\n",
    "\n",
    "infer_enc_intent, infer_enc_bio, infer_intent, infer_bio, slot_values = get_intent_slot(text_input_infer, infer_tokenizer, MAX_LENGTH, infer_model, idx_to_intent, idx_to_bio)\n",
    "print('Intent Predicted >>> ')\n",
    "print(f'{infer_enc_intent} |', infer_intent)\n",
    "print('-' * 70)\n",
    "print('BIO Predicted >>> ')\n",
    "print(infer_enc_bio)\n",
    "print(infer_bio)\n",
    "print('-' * 70)\n",
    "print('Predicted Slot Values >>>')\n",
    "print('Actor    :', slot_values['Actor'])\n",
    "print('Director :', slot_values['Director'])\n",
    "print('Genre    :', slot_values['Genre'])\n",
    "print('Title    :', slot_values['Title'])"
   ]
  }
 ],
 "metadata": {
  "accelerator": "GPU",
  "colab": {
   "collapsed_sections": [],
   "name": "Intent_Slots_Classification.ipynb",
   "provenance": [],
   "toc_visible": true
  },
  "kernelspec": {
   "display_name": "Python [conda env:py39_gpu1]",
   "language": "python",
   "name": "conda-env-py39_gpu1-py"
  },
  "language_info": {
   "codemirror_mode": {
    "name": "ipython",
    "version": 3
   },
   "file_extension": ".py",
   "mimetype": "text/x-python",
   "name": "python",
   "nbconvert_exporter": "python",
   "pygments_lexer": "ipython3",
   "version": "3.9.0"
  }
 },
 "nbformat": 4,
 "nbformat_minor": 4
}
