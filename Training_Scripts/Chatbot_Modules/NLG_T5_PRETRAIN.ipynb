{
 "cells": [
  {
   "cell_type": "markdown",
   "metadata": {
    "id": "ue_FXUYkkYqp"
   },
   "source": [
    "# T5 Pre-Training on SGD Dataset\n",
    "\n",
    "Data-to-Text Conditional Generation \\\n",
    "System Response Text Generation\n",
    "\n",
    "---\n",
    "\n",
    "\n",
    "**Practice Module: Practical Language Processing (PLP)**\n",
    "\n",
    "**Group: 17**\n",
    "\n",
    "Members:\n",
    "\n",
    "`Lim Jun Ming`, `A0231523U`\n",
    "\n",
    "`Tadhg Kennedy`, \n",
    "\n",
    "`Gopan Ravikumar Girija`,"
   ]
  },
  {
   "cell_type": "markdown",
   "metadata": {
    "id": "b-in_pUAkjZu"
   },
   "source": [
    "# 0. Initialization"
   ]
  },
  {
   "cell_type": "markdown",
   "metadata": {
    "id": "EFGELXpYkqFy"
   },
   "source": [
    "## Install necessary modules"
   ]
  },
  {
   "cell_type": "code",
   "execution_count": 1,
   "metadata": {
    "colab": {
     "base_uri": "https://localhost:8080/"
    },
    "id": "eMj5ahZFkWOR",
    "outputId": "5070a8f2-6c14-4d91-c694-919e1a4283fa"
   },
   "outputs": [],
   "source": [
    "# !pip install -U transformers"
   ]
  },
  {
   "cell_type": "code",
   "execution_count": 2,
   "metadata": {
    "colab": {
     "base_uri": "https://localhost:8080/"
    },
    "id": "xqjNUmDH2JVo",
    "outputId": "fe6544cc-2768-48ae-c5fc-726675240c5b"
   },
   "outputs": [],
   "source": [
    "# !pip install sentencepiece"
   ]
  },
  {
   "cell_type": "code",
   "execution_count": 3,
   "metadata": {
    "colab": {
     "base_uri": "https://localhost:8080/"
    },
    "id": "LjRn4bRx0nlB",
    "outputId": "50b457ff-ad22-414c-9a38-78462fbbe1d0"
   },
   "outputs": [],
   "source": [
    "# !pip install datasets"
   ]
  },
  {
   "cell_type": "code",
   "execution_count": 4,
   "metadata": {
    "colab": {
     "base_uri": "https://localhost:8080/"
    },
    "id": "W8ehmZKuOfcD",
    "outputId": "733cb793-2bef-4b90-b508-92ca7a205352"
   },
   "outputs": [],
   "source": [
    "# !pip install sacrebleu"
   ]
  },
  {
   "cell_type": "code",
   "execution_count": 5,
   "metadata": {
    "colab": {
     "base_uri": "https://localhost:8080/"
    },
    "id": "NfW22mTwknC2",
    "outputId": "27789440-ee02-4b60-ce4c-5940fad9d951"
   },
   "outputs": [],
   "source": [
    "# !pip install torchinfo"
   ]
  },
  {
   "cell_type": "markdown",
   "metadata": {
    "id": "Xvj3piW4kwhH"
   },
   "source": [
    "## Imports"
   ]
  },
  {
   "cell_type": "code",
   "execution_count": 6,
   "metadata": {
    "id": "zrHrcrBiknjs"
   },
   "outputs": [],
   "source": [
    "import os\n",
    "# from google.colab import drive\n",
    "\n",
    "import numpy as np\n",
    "import pandas as pd\n",
    "import json\n",
    "import random\n",
    "import time\n",
    "import datetime\n",
    "import matplotlib.pyplot as plt\n",
    "import pickle\n",
    "from sklearn.model_selection import train_test_split\n",
    "\n",
    "# from sklearn.preprocessing import LabelEncoder, OneHotEncoder\n",
    "# from sklearn.model_selection import train_test_split\n",
    "\n",
    "from transformers import T5Tokenizer, T5ForConditionalGeneration, T5Config\n",
    "import datasets\n",
    "\n",
    "import torch\n",
    "import torch.nn as nn\n",
    "from torchinfo import summary\n",
    "from torch.utils.data import Dataset, DataLoader, RandomSampler, SequentialSampler\n"
   ]
  },
  {
   "cell_type": "markdown",
   "metadata": {
    "id": "9N_IM3Snk1uC"
   },
   "source": [
    "## Mounting Drive"
   ]
  },
  {
   "cell_type": "code",
   "execution_count": 7,
   "metadata": {
    "colab": {
     "base_uri": "https://localhost:8080/"
    },
    "id": "kFpLfwFMknoI",
    "outputId": "720e7054-bf29-41d2-9e89-1b402763c889"
   },
   "outputs": [],
   "source": [
    "# # Mounting to Google Drive\n",
    "# drive.mount('/content/gdrive')\n",
    "\n",
    "# # Change Working Directory\n",
    "# os.chdir('/content/gdrive/My Drive/iss/plp_pm/')"
   ]
  },
  {
   "cell_type": "markdown",
   "metadata": {
    "id": "zEqJ7Vy8k5uR"
   },
   "source": [
    "## Pytorch Setup"
   ]
  },
  {
   "cell_type": "code",
   "execution_count": 8,
   "metadata": {
    "colab": {
     "base_uri": "https://localhost:8080/"
    },
    "id": "4GdwS1BoknrB",
    "outputId": "1c0e744a-a019-45e7-f412-599360649259"
   },
   "outputs": [
    {
     "name": "stdout",
     "output_type": "stream",
     "text": [
      "1.10.1+cu113\n",
      "11.3\n",
      "8200\n",
      "----------\n",
      "There are 1 GPU(s) available.\n",
      "We will use the GPU: NVIDIA GeForce RTX 2080 Ti\n"
     ]
    }
   ],
   "source": [
    "# Print Torch version\n",
    "print(torch.__version__)\n",
    "print(torch.version.cuda)\n",
    "print(torch.backends.cudnn.version())\n",
    "print('-' * 10)\n",
    "\n",
    "# Check GPU\n",
    "if torch.cuda.is_available():    \n",
    "    device = torch.device(\"cuda\")\n",
    "    print('There are %d GPU(s) available.' % torch.cuda.device_count())\n",
    "    print('We will use the GPU:', torch.cuda.get_device_name(0))\n",
    "else:\n",
    "    print('No GPU available, using the CPU instead.')\n",
    "    device = torch.device(\"cpu\")"
   ]
  },
  {
   "cell_type": "code",
   "execution_count": 9,
   "metadata": {
    "id": "GTA7FVf8kntv"
   },
   "outputs": [],
   "source": [
    "seed=17\n",
    "\n",
    "random.seed(seed)\n",
    "np.random.seed(seed)\n",
    "torch.manual_seed(seed)\n",
    "torch.cuda.manual_seed_all(seed)\n",
    "\n",
    "# Device configuration\n",
    "device = torch.device(\"cuda\" if torch.cuda.is_available() else \"cpu\")\n",
    "\n",
    "os.environ['CUDA_VISIBLE_DEVICES'] = '0'\n",
    "torch.cuda.empty_cache()\n",
    "\n"
   ]
  },
  {
   "cell_type": "code",
   "execution_count": 10,
   "metadata": {
    "colab": {
     "base_uri": "https://localhost:8080/"
    },
    "id": "BdAOsqX-knwW",
    "outputId": "536c0005-4913-494a-eace-9d596baa11c7"
   },
   "outputs": [
    {
     "name": "stdout",
     "output_type": "stream",
     "text": [
      "Tue Apr 12 00:36:15 2022       \n",
      "+-----------------------------------------------------------------------------+\n",
      "| NVIDIA-SMI 512.15       Driver Version: 512.15       CUDA Version: 11.6     |\n",
      "|-------------------------------+----------------------+----------------------+\n",
      "| GPU  Name            TCC/WDDM | Bus-Id        Disp.A | Volatile Uncorr. ECC |\n",
      "| Fan  Temp  Perf  Pwr:Usage/Cap|         Memory-Usage | GPU-Util  Compute M. |\n",
      "|                               |                      |               MIG M. |\n",
      "|===============================+======================+======================|\n",
      "|   0  NVIDIA GeForce ... WDDM  | 00000000:01:00.0  On |                  N/A |\n",
      "| 17%   59C    P0    50W / 400W |   2907MiB / 11264MiB |      0%      Default |\n",
      "|                               |                      |                  N/A |\n",
      "+-------------------------------+----------------------+----------------------+\n",
      "                                                                               \n",
      "+-----------------------------------------------------------------------------+\n",
      "| Processes:                                                                  |\n",
      "|  GPU   GI   CI        PID   Type   Process name                  GPU Memory |\n",
      "|        ID   ID                                                   Usage      |\n",
      "|=============================================================================|\n",
      "|    0   N/A  N/A       588    C+G   ...e\\root\\Office16\\EXCEL.EXE    N/A      |\n",
      "|    0   N/A  N/A      2000    C+G   ...t\\Teams\\current\\Teams.exe    N/A      |\n",
      "|    0   N/A  N/A      4864    C+G   ...me\\Application\\chrome.exe    N/A      |\n",
      "|    0   N/A  N/A      6852    C+G   ...oot\\Office16\\POWERPNT.EXE    N/A      |\n",
      "|    0   N/A  N/A      7824    C+G   ...2txyewy\\TextInputHost.exe    N/A      |\n",
      "|    0   N/A  N/A     11304    C+G   ...ekyb3d8bbwe\\YourPhone.exe    N/A      |\n",
      "|    0   N/A  N/A     13592    C+G   ...cw5n1h2txyewy\\LockApp.exe    N/A      |\n",
      "|    0   N/A  N/A     14476    C+G                                   N/A      |\n",
      "|    0   N/A  N/A     15964    C+G   ...wekyb3d8bbwe\\Video.UI.exe    N/A      |\n",
      "|    0   N/A  N/A     16764    C+G   ...artMenuExperienceHost.exe    N/A      |\n",
      "|    0   N/A  N/A     17700    C+G   ...bbwe\\Microsoft.Photos.exe    N/A      |\n",
      "|    0   N/A  N/A     20456    C+G   ...t\\Teams\\current\\Teams.exe    N/A      |\n",
      "|    0   N/A  N/A     21752    C+G   C:\\Windows\\explorer.exe         N/A      |\n",
      "|    0   N/A  N/A     23248    C+G   ...y\\ShellExperienceHost.exe    N/A      |\n",
      "|    0   N/A  N/A     23616    C+G   ...root\\Office16\\OUTLOOK.EXE    N/A      |\n",
      "|    0   N/A  N/A     25088    C+G   ...ogi\\LogiBolt\\LogiBolt.exe    N/A      |\n",
      "|    0   N/A  N/A     25168    C+G   ...e\\Current\\LogiOverlay.exe    N/A      |\n",
      "|    0   N/A  N/A     25720    C+G   ...in7x64\\steamwebhelper.exe    N/A      |\n",
      "|    0   N/A  N/A     28456    C+G   ...8wekyb3d8bbwe\\Cortana.exe    N/A      |\n",
      "|    0   N/A  N/A     31076    C+G   ...5n1h2txyewy\\SearchApp.exe    N/A      |\n",
      "|    0   N/A  N/A     31144    C+G   ...kyb3d8bbwe\\Calculator.exe    N/A      |\n",
      "|    0   N/A  N/A     31248    C+G   ...lPanel\\SystemSettings.exe    N/A      |\n",
      "|    0   N/A  N/A     31720    C+G   ...ram Files\\LGHUB\\lghub.exe    N/A      |\n",
      "|    0   N/A  N/A     32048    C+G   ...IR iCUE Software\\iCUE.exe    N/A      |\n",
      "+-----------------------------------------------------------------------------+\n"
     ]
    }
   ],
   "source": [
    "!nvidia-smi"
   ]
  },
  {
   "cell_type": "markdown",
   "metadata": {
    "id": "pOp-89dhk_7U"
   },
   "source": [
    "## File Paths"
   ]
  },
  {
   "cell_type": "code",
   "execution_count": 11,
   "metadata": {
    "colab": {
     "base_uri": "https://localhost:8080/"
    },
    "id": "Ik5MxuMNknzE",
    "outputId": "8b989d32-f51c-4d12-d728-650eda4ff0cc"
   },
   "outputs": [
    {
     "name": "stdout",
     "output_type": "stream",
     "text": [
      "D:\\Personal\\Education\\NUS-ISS Mtech IS\\Course Materials\\4. Practical Language Processing (PLP)\\0. PLP Project\\Code\\NLG\n",
      "D:\\Personal\\Education\\NUS-ISS Mtech IS\\Course Materials\\4. Practical Language Processing (PLP)\\0. PLP Project\\Code\\NLG\\Data\n"
     ]
    }
   ],
   "source": [
    "basedir = os.getcwd()\n",
    "datadir = os.path.join(basedir, 'Data')\n",
    "print(basedir)\n",
    "print(datadir)\n",
    "\n"
   ]
  },
  {
   "cell_type": "markdown",
   "metadata": {
    "id": "USxnP5vzlwEm"
   },
   "source": [
    "# 1. Data Preparation"
   ]
  },
  {
   "cell_type": "markdown",
   "metadata": {},
   "source": [
    "## >> DATA PARAMETERS"
   ]
  },
  {
   "cell_type": "code",
   "execution_count": 12,
   "metadata": {},
   "outputs": [],
   "source": [
    "# Data Parameters\n",
    "\n",
    "BATCH_SIZE = 48\n",
    "MAX_LENGTH = 128 # With some buffer given the longest input number of token = 130\n",
    "MODEL_NAME = 't5-small'"
   ]
  },
  {
   "cell_type": "markdown",
   "metadata": {
    "id": "41flDj3Sl0F5"
   },
   "source": [
    "## Load Data"
   ]
  },
  {
   "cell_type": "code",
   "execution_count": 13,
   "metadata": {
    "colab": {
     "base_uri": "https://localhost:8080/",
     "height": 460
    },
    "id": "3rDS9ZkBkn1f",
    "outputId": "d21f82b8-dd40-47a9-bb69-76bef2ee54b4"
   },
   "outputs": [
    {
     "name": "stdout",
     "output_type": "stream",
     "text": [
      "Code    0\n",
      "Text    0\n",
      "dtype: int64\n",
      "Code    0\n",
      "Text    0\n",
      "dtype: int64\n",
      "Code    0\n",
      "Text    2\n",
      "dtype: int64\n",
      "                     Code Text\n",
      "1777  RideSharing GOODBYE  NaN\n",
      "4102     Services GOODBYE  NaN\n",
      "(164982, 2)\n",
      "Index(['Code', 'Text'], dtype='object')\n"
     ]
    },
    {
     "data": {
      "text/html": [
       "<div>\n",
       "<style scoped>\n",
       "    .dataframe tbody tr th:only-of-type {\n",
       "        vertical-align: middle;\n",
       "    }\n",
       "\n",
       "    .dataframe tbody tr th {\n",
       "        vertical-align: top;\n",
       "    }\n",
       "\n",
       "    .dataframe thead th {\n",
       "        text-align: right;\n",
       "    }\n",
       "</style>\n",
       "<table border=\"1\" class=\"dataframe\">\n",
       "  <thead>\n",
       "    <tr style=\"text-align: right;\">\n",
       "      <th></th>\n",
       "      <th>Code</th>\n",
       "      <th>Text</th>\n",
       "    </tr>\n",
       "  </thead>\n",
       "  <tbody>\n",
       "    <tr>\n",
       "      <th>0</th>\n",
       "      <td>Restaurants REQUEST ( city = ? )</td>\n",
       "      <td>Do you have a specific which you want the eati...</td>\n",
       "    </tr>\n",
       "    <tr>\n",
       "      <th>1</th>\n",
       "      <td>Restaurants REQUEST ( cuisine = Mexican , Ital...</td>\n",
       "      <td>Is there a specific cuisine type you enjoy, su...</td>\n",
       "    </tr>\n",
       "    <tr>\n",
       "      <th>2</th>\n",
       "      <td>Restaurants OFFER ( restaurant_name = 71 Saint...</td>\n",
       "      <td>I see that at 71 Saint Peter there is a good r...</td>\n",
       "    </tr>\n",
       "    <tr>\n",
       "      <th>3</th>\n",
       "      <td>Restaurants INFORM ( street_address = 71 North...</td>\n",
       "      <td>If you want to go to this restaurant you can f...</td>\n",
       "    </tr>\n",
       "    <tr>\n",
       "      <th>4</th>\n",
       "      <td>Restaurants INFORM ( phone_number = 408-971-85...</td>\n",
       "      <td>If you want to phone them you can at 408-971-8...</td>\n",
       "    </tr>\n",
       "  </tbody>\n",
       "</table>\n",
       "</div>"
      ],
      "text/plain": [
       "                                                Code  \\\n",
       "0                   Restaurants REQUEST ( city = ? )   \n",
       "1  Restaurants REQUEST ( cuisine = Mexican , Ital...   \n",
       "2  Restaurants OFFER ( restaurant_name = 71 Saint...   \n",
       "3  Restaurants INFORM ( street_address = 71 North...   \n",
       "4  Restaurants INFORM ( phone_number = 408-971-85...   \n",
       "\n",
       "                                                Text  \n",
       "0  Do you have a specific which you want the eati...  \n",
       "1  Is there a specific cuisine type you enjoy, su...  \n",
       "2  I see that at 71 Saint Peter there is a good r...  \n",
       "3  If you want to go to this restaurant you can f...  \n",
       "4  If you want to phone them you can at 408-971-8...  "
      ]
     },
     "execution_count": 13,
     "metadata": {},
     "output_type": "execute_result"
    }
   ],
   "source": [
    "# Read Data File\n",
    "\n",
    "train_path = os.path.join(datadir, 'SGD_Train_Code_SYS_1.csv')\n",
    "val_path = os.path.join(datadir, 'SGD_Dev_Code_SYS_1.csv')\n",
    "test_path = os.path.join(datadir, 'SGD_Test_Code_SYS_1.csv')\n",
    "\n",
    "train_df = pd.read_csv(train_path, index_col=0)\n",
    "val_df = pd.read_csv(val_path, index_col=0)\n",
    "test_df = pd.read_csv(test_path, index_col=0)\n",
    "\n",
    "# Check if NA data \n",
    "print(pd.isna(train_df).sum())\n",
    "print(pd.isna(val_df).sum())\n",
    "print(pd.isna(test_df).sum())\n",
    "\n",
    "print(test_df[pd.isna(test_df['Text'])])\n",
    "\n",
    "# Replace NA with empty string\n",
    "test_df['Text'] = test_df['Text'].apply(lambda x: '' if pd.isna(x) else x)\n",
    "\n",
    "# Code & Utterance\n",
    "\n",
    "train_code = train_df['Code']\n",
    "train_text = train_df['Text']\n",
    "\n",
    "val_code = val_df['Code']\n",
    "val_text = val_df['Text']\n",
    "\n",
    "test_code = test_df['Code']\n",
    "test_text = test_df['Text']\n",
    "\n",
    "print(train_df.shape)\n",
    "print(train_df.columns)\n",
    "train_df.head()\n"
   ]
  },
  {
   "cell_type": "code",
   "execution_count": null,
   "metadata": {},
   "outputs": [],
   "source": []
  },
  {
   "cell_type": "code",
   "execution_count": 14,
   "metadata": {
    "colab": {
     "base_uri": "https://localhost:8080/"
    },
    "id": "vOTfD9UtSM8W",
    "outputId": "eb8a3a99-ea35-4179-dc42-ea172cae2cf9"
   },
   "outputs": [
    {
     "name": "stdout",
     "output_type": "stream",
     "text": [
      "Number of samples in Train Dataset      : 164982\n",
      "Number of samples in Validation Dataset : 24363\n",
      "Number of samples in Test Dataset       : 42297\n"
     ]
    }
   ],
   "source": [
    "# Check Dataset\n",
    "\n",
    "print('Number of samples in Train Dataset      :', len(train_df))\n",
    "print('Number of samples in Validation Dataset :', len(val_df))\n",
    "print('Number of samples in Test Dataset       :', len(test_df))"
   ]
  },
  {
   "cell_type": "code",
   "execution_count": 15,
   "metadata": {
    "colab": {
     "base_uri": "https://localhost:8080/"
    },
    "id": "VG36z6NGuB8t",
    "outputId": "22884f6b-9acd-4357-f9bd-ad1662304781"
   },
   "outputs": [
    {
     "name": "stdout",
     "output_type": "stream",
     "text": [
      "Longest Input Number of Tokens for input code   : 47\n",
      "Shortest Input Number of Tokens for input code  : 2\n",
      "Longest Input Number of Tokens for output text  : 84\n",
      "Shortest Input Number of Tokens for output text : 1\n"
     ]
    }
   ],
   "source": [
    "# Quick Check for token length\n",
    "\n",
    "train_code_len = train_code.apply(lambda x: len(x.split(' ')) if not pd.isna(x) else 0).to_numpy()\n",
    "train_text_len = train_text.apply(lambda x: len(x.split(' ')) if not pd.isna(x) else 0).to_numpy()\n",
    "\n",
    "val_code_len   = val_code.apply(lambda x: len(x.split(' ')) if not pd.isna(x) else 0).to_numpy()\n",
    "val_text_len   = val_text.apply(lambda x: len(x.split(' ')) if not pd.isna(x) else 0).to_numpy()\n",
    "\n",
    "test_code_len  = test_code.apply(lambda x: len(x.split(' ')) if not pd.isna(x) else 0).to_numpy()\n",
    "test_text_len  = test_text.apply(lambda x: len(x.split(' ')) if not pd.isna(x) else 0).to_numpy()\n",
    "\n",
    "data_code_len = np.concatenate([train_code_len, val_code_len, test_code_len])\n",
    "data_text_len = np.concatenate([train_text_len, val_text_len, test_text_len])\n",
    "\n",
    "data_len = data_code_len + data_text_len\n",
    "\n",
    "print('Longest Input Number of Tokens for input code   :', data_code_len.max())\n",
    "print('Shortest Input Number of Tokens for input code  :', data_code_len.min())\n",
    "print('Longest Input Number of Tokens for output text  :', data_text_len.max())\n",
    "print('Shortest Input Number of Tokens for output text :', data_text_len.min())"
   ]
  },
  {
   "cell_type": "markdown",
   "metadata": {},
   "source": [
    "## Train-Val Split"
   ]
  },
  {
   "cell_type": "markdown",
   "metadata": {},
   "source": [
    "For full dataset pre-training"
   ]
  },
  {
   "cell_type": "code",
   "execution_count": 16,
   "metadata": {},
   "outputs": [
    {
     "name": "stdout",
     "output_type": "stream",
     "text": [
      "Number of samples: 231640\n",
      "======================================================================\n",
      "List of Domain in Dataset: \n",
      "------------------------------\n",
      "['Restaurants' 'Media' 'Events' 'Music' 'Movies' 'Flights' 'RideSharing'\n",
      " 'RentalCars' 'Buses' 'Hotels' 'Services' 'Homes' 'Banks' 'Calendar'\n",
      " 'Weather' 'Travel' 'Alarm' 'Payment' 'Trains' 'Messaging']\n",
      "======================================================================\n"
     ]
    },
    {
     "data": {
      "text/html": [
       "<div>\n",
       "<style scoped>\n",
       "    .dataframe tbody tr th:only-of-type {\n",
       "        vertical-align: middle;\n",
       "    }\n",
       "\n",
       "    .dataframe tbody tr th {\n",
       "        vertical-align: top;\n",
       "    }\n",
       "\n",
       "    .dataframe thead th {\n",
       "        text-align: right;\n",
       "    }\n",
       "</style>\n",
       "<table border=\"1\" class=\"dataframe\">\n",
       "  <thead>\n",
       "    <tr style=\"text-align: right;\">\n",
       "      <th></th>\n",
       "      <th>Code</th>\n",
       "      <th>Text</th>\n",
       "    </tr>\n",
       "  </thead>\n",
       "  <tbody>\n",
       "    <tr>\n",
       "      <th>0</th>\n",
       "      <td>Restaurants REQUEST ( city = ? )</td>\n",
       "      <td>Do you have a specific which you want the eati...</td>\n",
       "    </tr>\n",
       "    <tr>\n",
       "      <th>1</th>\n",
       "      <td>Restaurants REQUEST ( cuisine = Mexican , Ital...</td>\n",
       "      <td>Is there a specific cuisine type you enjoy, su...</td>\n",
       "    </tr>\n",
       "    <tr>\n",
       "      <th>2</th>\n",
       "      <td>Restaurants OFFER ( restaurant_name = 71 Saint...</td>\n",
       "      <td>I see that at 71 Saint Peter there is a good r...</td>\n",
       "    </tr>\n",
       "    <tr>\n",
       "      <th>3</th>\n",
       "      <td>Restaurants INFORM ( street_address = 71 North...</td>\n",
       "      <td>If you want to go to this restaurant you can f...</td>\n",
       "    </tr>\n",
       "    <tr>\n",
       "      <th>4</th>\n",
       "      <td>Restaurants INFORM ( phone_number = 408-971-85...</td>\n",
       "      <td>If you want to phone them you can at 408-971-8...</td>\n",
       "    </tr>\n",
       "  </tbody>\n",
       "</table>\n",
       "</div>"
      ],
      "text/plain": [
       "                                                Code  \\\n",
       "0                   Restaurants REQUEST ( city = ? )   \n",
       "1  Restaurants REQUEST ( cuisine = Mexican , Ital...   \n",
       "2  Restaurants OFFER ( restaurant_name = 71 Saint...   \n",
       "3  Restaurants INFORM ( street_address = 71 North...   \n",
       "4  Restaurants INFORM ( phone_number = 408-971-85...   \n",
       "\n",
       "                                                Text  \n",
       "0  Do you have a specific which you want the eati...  \n",
       "1  Is there a specific cuisine type you enjoy, su...  \n",
       "2  I see that at 71 Saint Peter there is a good r...  \n",
       "3  If you want to go to this restaurant you can f...  \n",
       "4  If you want to phone them you can at 408-971-8...  "
      ]
     },
     "execution_count": 16,
     "metadata": {},
     "output_type": "execute_result"
    }
   ],
   "source": [
    "# Combine Data \n",
    "\n",
    "data_df = pd.concat([train_df, val_df, test_df]).reset_index(drop=True)\n",
    "\n",
    "# Remove invalid data point\n",
    "\n",
    "data_df_mask = np.asarray([not(x=='') for x in data_df['Text']])\n",
    "data_df = data_df.iloc[data_df_mask, :].reset_index(drop=True)\n",
    "print(f'Number of samples: {len(data_df)}')\n",
    "print('=' * 70)\n",
    "\n",
    "\n",
    "# Extract first Domain of each samples\n",
    "\n",
    "data_domain = pd.Series([x.split(' ')[0] for x in data_df['Code']])\n",
    "print('List of Domain in Dataset: ')\n",
    "print('-' * 30)\n",
    "print(data_domain.unique())\n",
    "print('=' * 70)\n",
    "data_df.head()"
   ]
  },
  {
   "cell_type": "code",
   "execution_count": null,
   "metadata": {},
   "outputs": [],
   "source": [
    "\n"
   ]
  },
  {
   "cell_type": "code",
   "execution_count": 17,
   "metadata": {},
   "outputs": [
    {
     "name": "stdout",
     "output_type": "stream",
     "text": [
      "Number of training samples   : 185312\n",
      "Number of validation samples : 46328\n"
     ]
    }
   ],
   "source": [
    "# Train-Val Split\n",
    "idx = range(len(data_df))\n",
    "stratify_label = data_domain\n",
    "\n",
    "VAL_RATIO = 0.2\n",
    "\n",
    "train_idx, val_idx, _, _ = train_test_split(idx, stratify_label, stratify=stratify_label, test_size=VAL_RATIO, random_state=seed)\n",
    "\n",
    "data_train_df = data_df.iloc[train_idx, :].reset_index(drop=True)\n",
    "data_val_df = data_df.iloc[val_idx, :].reset_index(drop=True)\n",
    "\n",
    "print('Number of training samples   :', len(data_train_df))\n",
    "print('Number of validation samples :', len(data_val_df))"
   ]
  },
  {
   "cell_type": "markdown",
   "metadata": {
    "id": "Peh4iyREmq4k"
   },
   "source": [
    "## Load GPT2 Tokenizer"
   ]
  },
  {
   "cell_type": "code",
   "execution_count": 18,
   "metadata": {
    "colab": {
     "base_uri": "https://localhost:8080/"
    },
    "id": "mqFJa0oslkHi",
    "outputId": "8fadae42-c2f7-40fb-b9b9-3553970d47b4"
   },
   "outputs": [
    {
     "name": "stdout",
     "output_type": "stream",
     "text": [
      "Special Tokens Added, vocab size = 32100\n"
     ]
    }
   ],
   "source": [
    "# Initialize GPT2 Tokenizer from HuggingFace-Transformer\n",
    "\n",
    "tokenizer = T5Tokenizer.from_pretrained(MODEL_NAME)\n",
    "# num_special_tokens = tokenizer.add_special_tokens(SPECIAL_TOKENS)\n",
    "print(f'Special Tokens Added, vocab size = {len(tokenizer)}')"
   ]
  },
  {
   "cell_type": "code",
   "execution_count": 19,
   "metadata": {
    "colab": {
     "base_uri": "https://localhost:8080/"
    },
    "id": "HlWtaccslkFF",
    "outputId": "4083752b-dd15-4fd0-89ca-c1ee4f5aaa9d"
   },
   "outputs": [
    {
     "name": "stdout",
     "output_type": "stream",
     "text": [
      "----------------------------------------------------------------------------------------------------\n",
      "Original Text:\n",
      "----------------------------------------------------------------------------------------------------\n",
      "Flights CONFIRM ( origin_city = Mexico City ; destination_city = San Francisco ; airlines = American Airlines ; departure_date = March 11th ; return_date = March 13th ; outbound_departure_time = 2:55 pm ; inbound_departure_time = 1:20 pm ; seating_class = Economy ; passengers = 2 )\n",
      "Okay let's confirm the details. The flight is from Mexico City to San Francisco it is an American Airlines flight, the departure date is March 11th the return day is March 13th the onward flight leaves at 2:55 p.m. the return flight leaves at 1:20 p.m. The seating class is economy and the number of passengers is to the onward flight leaves at 2:55 pm the return flight leaves at 1:20 pm. The seating class is economy and the number of passengers is 2.\n",
      "\n",
      "----------------------------------------------------------------------------------------------------\n",
      "Tokenization Outputs:\n",
      "----------------------------------------------------------------------------------------------------\n",
      "{'input_ids': tensor([[16036,   752,    31,     7,  3606,     8,  1030,     5,    37,  3777,\n",
      "            19,    45,  4726,   896,    12,  1051,  5901,    34,    19,    46,\n",
      "           797, 15738,  3777,     6,     8, 12028,   833,    19,  1332,   850,\n",
      "           189,     8,  1205,   239,    19,  1332,  1179,   189,     8,    30,\n",
      "          2239,  3777,  3231,    44,   204,    10,  3769,     3,   102,     5,\n",
      "            51,     5,     8,  1205,  3777,  3231,    44,   209,    10,  1755,\n",
      "             3,   102,     5,    51,     5,    37, 10259,   853,    19,  2717,\n",
      "            11,     8,   381,    13,  9234,    19,    12,     8,    30,  2239,\n",
      "          3777,  3231,    44,   204,    10,  3769,  6366,     8,  1205,  3777,\n",
      "          3231,    44,   209,    10,  1755,  6366,     5,    37, 10259,   853,\n",
      "            19,  2717,    11,     8,   381,    13,  9234,    19,  1682,     1,\n",
      "             0,     0,     0,     0,     0,     0,     0,     0,     0,     0,\n",
      "             0,     0,     0,     0,     0,     0,     0,     0]]), 'attention_mask': tensor([[1, 1, 1, 1, 1, 1, 1, 1, 1, 1, 1, 1, 1, 1, 1, 1, 1, 1, 1, 1, 1, 1, 1, 1,\n",
      "         1, 1, 1, 1, 1, 1, 1, 1, 1, 1, 1, 1, 1, 1, 1, 1, 1, 1, 1, 1, 1, 1, 1, 1,\n",
      "         1, 1, 1, 1, 1, 1, 1, 1, 1, 1, 1, 1, 1, 1, 1, 1, 1, 1, 1, 1, 1, 1, 1, 1,\n",
      "         1, 1, 1, 1, 1, 1, 1, 1, 1, 1, 1, 1, 1, 1, 1, 1, 1, 1, 1, 1, 1, 1, 1, 1,\n",
      "         1, 1, 1, 1, 1, 1, 1, 1, 1, 1, 1, 1, 1, 1, 0, 0, 0, 0, 0, 0, 0, 0, 0, 0,\n",
      "         0, 0, 0, 0, 0, 0, 0, 0]])}\n",
      "Decoded Text:\n",
      "----------------------------------------------------------------------------------------------------\n",
      "Okay let's confirm the details. The flight is from Mexico City to San Francisco it is an American Airlines flight, the departure date is March 11th the return day is March 13th the onward flight leaves at 2:55 p.m. the return flight leaves at 1:20 p.m. The seating class is economy and the number of passengers is to the onward flight leaves at 2:55 pm the return flight leaves at 1:20 pm. The seating class is economy and the number of passengers is 2.</s> <pad> <pad> <pad> <pad> <pad> <pad> <pad> <pad> <pad> <pad> <pad> <pad> <pad> <pad> <pad> <pad> <pad> <pad>\n"
     ]
    }
   ],
   "source": [
    "# Test Tokenizer\n",
    "\n",
    "sample_id = 62539\n",
    "try_code = train_code[sample_id]\n",
    "try_text = train_text[sample_id]\n",
    "test_tokenized = tokenizer(try_text, \n",
    "                           padding='max_length', \n",
    "                           max_length=MAX_LENGTH, \n",
    "                           truncation=True, \n",
    "                           return_attention_mask = True,\n",
    "                           return_tensors = 'pt')\n",
    "print('-' * 100)\n",
    "print('Original Text:')\n",
    "print('-' * 100)\n",
    "print(try_code)\n",
    "print(try_text)\n",
    "print('')\n",
    "print('-' * 100)\n",
    "print('Tokenization Outputs:')\n",
    "print('-' * 100)\n",
    "print(test_tokenized)\n",
    "print('Decoded Text:')\n",
    "print('-' * 100)\n",
    "print(tokenizer.decode(token_ids=test_tokenized['input_ids'][0]))"
   ]
  },
  {
   "cell_type": "markdown",
   "metadata": {
    "id": "lfv-wD8WvBdF"
   },
   "source": [
    "## Pytorch Dataset"
   ]
  },
  {
   "cell_type": "code",
   "execution_count": 20,
   "metadata": {
    "id": "MoSy-bXGtJOh"
   },
   "outputs": [],
   "source": [
    "# Pytorch Dataset\n",
    "# >> Encodes original text with GPT2 Tokenizer\n",
    "# >> The control code and target utterance are structured into the following form:\n",
    "# >> [BOS] CONTROL_CODE [SEP] TARGET_UTTERANCE [EOS]\n",
    "\n",
    "\n",
    "class TOD_Dataset(torch.utils.data.Dataset):\n",
    "  def __init__(self, data, tokenizer, process_length):\n",
    "\n",
    "    self.input_code = data['Code']\n",
    "    self.output_target = data['Text']\n",
    "\n",
    "    # Tokenizer Input_code\n",
    "    self.input_tokenized = tokenizer.batch_encode_plus(self.input_code,\n",
    "                                                       padding='max_length',\n",
    "                                                       max_length=process_length,\n",
    "                                                       truncation=True, \n",
    "                                                       return_attention_mask = True, \n",
    "                                                       return_tensors = 'pt')\n",
    "\n",
    "    self.input_ids = self.input_tokenized['input_ids']\n",
    "    self.input_attn = self.input_tokenized['attention_mask']\n",
    "\n",
    "    # Tokenizer Input_code\n",
    "    self.target_tokenized = tokenizer.batch_encode_plus(self.output_target,\n",
    "                                                        padding='max_length',\n",
    "                                                        max_length=process_length,\n",
    "                                                        truncation=True, \n",
    "                                                        return_attention_mask = True, \n",
    "                                                        return_tensors = 'pt')\n",
    "\n",
    "    self.target_ids = self.target_tokenized['input_ids']\n",
    "    self.target_ids[self.target_ids == tokenizer.pad_token_id] = -100\n",
    "\n",
    "\n",
    "  def __len__(self):\n",
    "    return len(self.input_code)\n",
    "\n",
    "  def __getitem__(self, idx):\n",
    "    input_ids   = self.input_ids[idx]\n",
    "    input_mask  = self.input_attn[idx]\n",
    "    target_ids  = self.target_ids[idx]\n",
    "\n",
    "    \n",
    "    return input_ids, input_mask, target_ids"
   ]
  },
  {
   "cell_type": "markdown",
   "metadata": {
    "id": "6KD64aGSt0dt"
   },
   "source": [
    "## Dataset & Dataloader"
   ]
  },
  {
   "cell_type": "code",
   "execution_count": 21,
   "metadata": {
    "colab": {
     "base_uri": "https://localhost:8080/"
    },
    "id": "AmYshWNVlkCv",
    "outputId": "ea15466e-2e7f-4638-c9bd-96b458af4206"
   },
   "outputs": [],
   "source": [
    "# # Create Dataset\n",
    "# st = time.time()\n",
    "\n",
    "# train_dataset = TOD_Dataset(train_df, tokenizer, MAX_LENGTH)\n",
    "# val_dataset = TOD_Dataset(val_df, tokenizer, MAX_LENGTH)\n",
    "# test_dataset = TOD_Dataset(test_df, tokenizer, MAX_LENGTH)\n",
    "\n",
    "# en = time.time()\n",
    "\n",
    "# print('Total Processing Time : {0:d} secs'.format(int(en-st)))\n",
    "# # print('Average Processing Time per data point : {0:.2f} secs'.format(round((en-st)/(len(train_dataset) + len(val_dataset) + len(test_dataset))),2))\n"
   ]
  },
  {
   "cell_type": "code",
   "execution_count": 22,
   "metadata": {
    "id": "PSTDmeZg7PBf"
   },
   "outputs": [],
   "source": [
    "# # Create Dataloader\n",
    "# train_loader = torch.utils.data.DataLoader(train_dataset, batch_size=BATCH_SIZE, shuffle=True)\n",
    "# val_loader   = torch.utils.data.DataLoader(val_dataset, batch_size=BATCH_SIZE, shuffle=False)\n",
    "# test_loader  = torch.utils.data.DataLoader(test_dataset, batch_size=BATCH_SIZE, shuffle=False)\n"
   ]
  },
  {
   "cell_type": "code",
   "execution_count": 23,
   "metadata": {},
   "outputs": [
    {
     "name": "stdout",
     "output_type": "stream",
     "text": [
      "Total Processing Time : 53 secs\n"
     ]
    }
   ],
   "source": [
    "# Create Dataset (FUll for pre-training)\n",
    "\n",
    "st = time.time()\n",
    "\n",
    "train_dataset = TOD_Dataset(data_train_df, tokenizer, MAX_LENGTH)\n",
    "val_dataset = TOD_Dataset(data_val_df, tokenizer, MAX_LENGTH)\n",
    "\n",
    "en = time.time()\n",
    "\n",
    "print('Total Processing Time : {0:d} secs'.format(int(en-st)))\n",
    "\n"
   ]
  },
  {
   "cell_type": "code",
   "execution_count": 24,
   "metadata": {},
   "outputs": [],
   "source": [
    "# # Create Dataloader (FUll for pre-training)\n",
    "train_loader = torch.utils.data.DataLoader(train_dataset, batch_size=BATCH_SIZE, shuffle=True)\n",
    "val_loader   = torch.utils.data.DataLoader(val_dataset, batch_size=BATCH_SIZE, shuffle=False)\n"
   ]
  },
  {
   "cell_type": "markdown",
   "metadata": {
    "id": "6DWuZsejvsmo"
   },
   "source": [
    "## Check Dataloader"
   ]
  },
  {
   "cell_type": "code",
   "execution_count": 25,
   "metadata": {
    "colab": {
     "base_uri": "https://localhost:8080/"
    },
    "id": "7jne1aEZlkAV",
    "outputId": "3c9a2031-811d-4306-ce17-56ae88b968f2"
   },
   "outputs": [
    {
     "name": "stdout",
     "output_type": "stream",
     "text": [
      "3861\n",
      "48\n",
      "0\n",
      "torch.Size([48, 128])\n",
      "torch.Size([48, 128])\n",
      "torch.Size([48, 128])\n",
      "tensor([[11137,  4486,  6058,  ...,     0,     0,     0],\n",
      "        [16736,     7, 28299,  ...,     0,     0,     0],\n",
      "        [13300,  3347, 20805,  ...,     0,     0,     0],\n",
      "        ...,\n",
      "        [ 5703,    15,     7,  ...,     0,     0,     0],\n",
      "        [13300,  3388, 24030,  ...,     0,     0,     0],\n",
      "        [14093, 28299,   279,  ...,     0,     0,     0]])\n",
      "tensor([[1, 1, 1,  ..., 0, 0, 0],\n",
      "        [1, 1, 1,  ..., 0, 0, 0],\n",
      "        [1, 1, 1,  ..., 0, 0, 0],\n",
      "        ...,\n",
      "        [1, 1, 1,  ..., 0, 0, 0],\n",
      "        [1, 1, 1,  ..., 0, 0, 0],\n",
      "        [1, 1, 1,  ..., 0, 0, 0]])\n",
      "tensor([[ 696, 5038,   19,  ..., -100, -100, -100],\n",
      "        [ 499, 5565,    5,  ..., -100, -100, -100],\n",
      "        [  27,   54,   92,  ..., -100, -100, -100],\n",
      "        ...,\n",
      "        [ 363,   19,   39,  ..., -100, -100, -100],\n",
      "        [1129,  503,    6,  ..., -100, -100, -100],\n",
      "        [2321,   34,  514,  ..., -100, -100, -100]])\n"
     ]
    }
   ],
   "source": [
    "# Check Dataloader\n",
    "\n",
    "print(len(train_loader))\n",
    "print(train_loader.batch_size)\n",
    "\n",
    "for idx, (input_ids, input_mask, target_ids) in enumerate(train_loader):\n",
    "  print(idx)\n",
    "  print(input_ids.size())\n",
    "  print(input_mask.size())\n",
    "  print(target_ids.size())\n",
    "  # print(target_mask.size())\n",
    "  \n",
    "  print(input_ids) \n",
    "  print(input_mask)\n",
    "  print(target_ids)\n",
    "  # print(target_mask)\n",
    "  \n",
    "  break"
   ]
  },
  {
   "cell_type": "markdown",
   "metadata": {
    "id": "x4-IC12H4mfk"
   },
   "source": [
    "# 2. Model Defintion & Functions"
   ]
  },
  {
   "cell_type": "markdown",
   "metadata": {
    "id": "YbAoTmRYtPWF"
   },
   "source": [
    "## Test Model Run"
   ]
  },
  {
   "cell_type": "code",
   "execution_count": 26,
   "metadata": {
    "id": "SyseGDjxN5M1"
   },
   "outputs": [],
   "source": [
    "# import datasets\n",
    "\n",
    "# metric = datasets.load_metric('sacrebleu')\n",
    "# # reference_batch = [[\"hello there general kenobi\"], [\"foo bar foobar\"]]\n",
    "# # sys_batch = [\"hello there general kenobi\", \"foo bar foobar\"]\n",
    "# reference_batch = [[\"what are you doing\"], [\"what are you doing\"]]\n",
    "# sys_batch = ['what are test', 'testing']\n",
    "# metric.add_batch(predictions=sys_batch, references=reference_batch)\n",
    "# print(metric.compute(smooth_method=\"add-k\"))\n",
    "\n",
    "# metric = datasets.load_metric('sacrebleu')\n",
    "# reference_batch = [[\"what are you doing\"]]\n",
    "# sys_batch = ['what are test']\n",
    "# metric.add_batch(predictions=sys_batch, references=reference_batch)\n",
    "# print(metric.compute(smooth_method=\"add-k\"))\n",
    "\n",
    "# metric = datasets.load_metric('sacrebleu')\n",
    "# reference_batch = [[\"what are you doing\"]]\n",
    "# sys_batch = ['doing']\n",
    "# metric.add_batch(predictions=sys_batch, references=reference_batch)\n",
    "# print(metric.compute(smooth_method=\"add-k\"))"
   ]
  },
  {
   "cell_type": "code",
   "execution_count": 27,
   "metadata": {
    "colab": {
     "base_uri": "https://localhost:8080/"
    },
    "id": "rTXj_255lj5a",
    "outputId": "cd220e1c-dcf3-48ff-a87d-3b91c32a869b"
   },
   "outputs": [
    {
     "name": "stdout",
     "output_type": "stream",
     "text": [
      "================================================================================\n",
      "Layer (type:depth-idx)                                  Param #\n",
      "================================================================================\n",
      "T5ForConditionalGeneration                              --\n",
      "├─Embedding: 1-1                                        16,449,536\n",
      "├─T5Stack: 1-2                                          --\n",
      "│    └─Embedding: 2-1                                   (recursive)\n",
      "│    └─ModuleList: 2-2                                  --\n",
      "│    │    └─T5Block: 3-1                                3,147,008\n",
      "│    │    └─T5Block: 3-2                                3,146,752\n",
      "│    │    └─T5Block: 3-3                                3,146,752\n",
      "│    │    └─T5Block: 3-4                                3,146,752\n",
      "│    │    └─T5Block: 3-5                                3,146,752\n",
      "│    │    └─T5Block: 3-6                                3,146,752\n",
      "│    └─T5LayerNorm: 2-3                                 512\n",
      "│    └─Dropout: 2-4                                     --\n",
      "├─T5Stack: 1-3                                          --\n",
      "│    └─Embedding: 2-5                                   (recursive)\n",
      "│    └─ModuleList: 2-6                                  --\n",
      "│    │    └─T5Block: 3-7                                4,196,096\n",
      "│    │    └─T5Block: 3-8                                4,195,840\n",
      "│    │    └─T5Block: 3-9                                4,195,840\n",
      "│    │    └─T5Block: 3-10                               4,195,840\n",
      "│    │    └─T5Block: 3-11                               4,195,840\n",
      "│    │    └─T5Block: 3-12                               4,195,840\n",
      "│    └─T5LayerNorm: 2-7                                 512\n",
      "│    └─Dropout: 2-8                                     --\n",
      "├─Linear: 1-4                                           16,449,536\n",
      "================================================================================\n",
      "Total params: 76,956,160\n",
      "Trainable params: 76,956,160\n",
      "Non-trainable params: 0\n",
      "================================================================================\n",
      "torch.Size([48, 115])\n",
      "torch.Size([])\n",
      "torch.Size([48, 128, 32128])\n",
      "RideSharing INFORM ( ride_fare = $15.25 ; wait_time = 7 ) | RideSharing NOTIFY_SUCCESS\n",
      "RideSharing INFORM ( ride_fare = $15,25 ; wait_time = 7 ) | RideSharing NOTIFY_SUCCESS\n"
     ]
    },
    {
     "data": {
      "text/plain": [
       "{'score': 87.20178958045501,\n",
       " 'counts': [20, 19, 17, 15],\n",
       " 'totals': [21, 21, 20, 19],\n",
       " 'precisions': [95.23809523809524, 90.47619047619048, 85.0, 78.94736842105263],\n",
       " 'bp': 1.0,\n",
       " 'sys_len': 21,\n",
       " 'ref_len': 21}"
      ]
     },
     "execution_count": 27,
     "metadata": {},
     "output_type": "execute_result"
    }
   ],
   "source": [
    "# Test Model - Fast Run Single Batch\n",
    "testmodel_name = 't5-small'\n",
    "# testmodel = GPT2_Fine_Tune(model_name, tokenizer)\n",
    "\n",
    "config = T5Config.from_pretrained(testmodel_name, output_hidden_states=False)\n",
    "testmodel = T5ForConditionalGeneration.from_pretrained(testmodel_name, config=config)\n",
    "\n",
    "# if ADD_SPECIAL_TOKENS:\n",
    "#   testmodel.resize_token_embeddings(len(tokenizer))\n",
    "\n",
    "testmodel.eval()\n",
    "with torch.no_grad():\n",
    "  print(summary(testmodel))\n",
    "\n",
    "  for load_input_ids, load_input_mask, load_target_ids in train_loader:\n",
    "    test_loader_input_ids = load_input_ids\n",
    "    test_loader_input_mask = load_input_mask\n",
    "    test_loader_target_ids = load_target_ids\n",
    "    break\n",
    "\n",
    "  test_output = testmodel(input_ids=load_input_ids , attention_mask=load_input_mask, labels=load_target_ids)\n",
    "  test_generate = testmodel.generate(input_ids=load_input_ids, max_length=MAX_LENGTH)\n",
    "  print(test_generate.size())\n",
    "  print(test_output[0].size())\n",
    "  print(test_output[1].size())\n",
    "  print(tokenizer.decode(load_input_ids[0], skip_special_tokens=True))\n",
    "  print(tokenizer.decode(test_generate[0], skip_special_tokens=True))\n",
    "metric = datasets.load_metric('sacrebleu')\n",
    "metric.add_batch(predictions=[tokenizer.decode(test_generate[0], skip_special_tokens=True)], references=[[tokenizer.decode(load_input_ids[0], skip_special_tokens=True)]])\n",
    "metric.compute(smooth_method=\"add-k\")"
   ]
  },
  {
   "cell_type": "markdown",
   "metadata": {
    "id": "uj6coS1OGT6c"
   },
   "source": [
    "## Train Step Function"
   ]
  },
  {
   "cell_type": "code",
   "execution_count": 28,
   "metadata": {
    "id": "kLJmhCoWlj3B"
   },
   "outputs": [],
   "source": [
    "# Train Function\n",
    "\n",
    "def train_model(model, tokenizer, dataloaders, optimizer, bleu_scorer, num_epochs, decode_beam, decode_topp, callback_path_greedy, callback_path_beam, callback_path_topp):\n",
    "    start_time = time.time()\n",
    "\n",
    "    train_hist = {'train_loss'      : [],\n",
    "                  'val_loss'        : [],\n",
    "                  'val_bleu_greedy' : [],\n",
    "                  'val_bleu_beam'   : [],\n",
    "                  'val_bleu_topp'   : []}\n",
    "    \n",
    "    best_val_bleu_greedy = 0\n",
    "    best_val_bleu_beam = 0\n",
    "    best_val_bleu_topp = 0\n",
    "    best_model_state_greedy = None\n",
    "    best_model_state_beam = None\n",
    "    best_model_state_topp = None\n",
    "\n",
    "    for epoch in range(num_epochs):\n",
    "        time_0 = time.time()\n",
    "\n",
    "        print('======== Epoch {:} / {:} ========'.format(epoch + 1, num_epochs))\n",
    "\n",
    "        for phase in ['train', 'val']:\n",
    "            if phase == 'train':\n",
    "                model.train()\n",
    "            else:\n",
    "                model.eval()\n",
    "\n",
    "            running_loss = 0.0\n",
    "            running_sample_count = 0\n",
    "            running_bleu_greedy = 0.0\n",
    "            running_bleu_beam = 0.0\n",
    "            running_bleu_topp = 0.0\n",
    "\n",
    "            # iterate over dataloader\n",
    "            for input_ids, attention_mask, labels in dataloaders[phase]:\n",
    "                # Send to GPU\n",
    "                input_ids = input_ids.to(device)\n",
    "                attention_mask = attention_mask.to(device)\n",
    "                labels = labels.to(device)\n",
    "\n",
    "                # Initialize gradients\n",
    "                model.zero_grad()\n",
    "\n",
    "                # Fit to model\n",
    "                output = model(input_ids=input_ids, attention_mask=attention_mask, labels=labels)\n",
    "                loss = output[0]\n",
    "                logits = output[1]\n",
    "\n",
    "                # Calculate Gradients & Backpropagation\n",
    "                if phase == 'train':\n",
    "                    loss.backward()\n",
    "                    optimizer.step()\n",
    "\n",
    "                # Update Loss History\n",
    "                sample_count = input_ids.size()[0] # Batch size\n",
    "                running_loss += loss.detach().cpu() * sample_count\n",
    "                running_sample_count += sample_count\n",
    "\n",
    "                # Calculate BLEU Score for validation\n",
    "                if phase == 'val':\n",
    "                    preds_greedy = model.generate(input_ids=input_ids, max_length=labels.size()[-1]).detach().cpu()\n",
    "                    preds_beam   = model.generate(input_ids=input_ids, max_length=labels.size()[-1], num_beams=decode_beam, early_stopping=True).detach().cpu()\n",
    "                    preds_topp   = model.generate(input_ids=input_ids, max_length=labels.size()[-1], top_p=decode_topp, top_k=0).detach().cpu()\n",
    "\n",
    "                    for i in range(preds_greedy.size()[0]):\n",
    "                        valid_ids_labels = torch.clone(labels[i]).detach().cpu()\n",
    "                        valid_ids_labels[valid_ids_labels==-100] = 0\n",
    "                        true_text = tokenizer.decode(valid_ids_labels, skip_special_tokens=True)\n",
    "\n",
    "                        pred_text_greedy = tokenizer.decode(preds_greedy[i], skip_special_tokens=True)\n",
    "                        pred_text_beam = tokenizer.decode(preds_beam[i], skip_special_tokens=True)\n",
    "                        pred_text_topp = tokenizer.decode(preds_topp[i], skip_special_tokens=True)\n",
    "\n",
    "                        # Greedy Search BLEU\n",
    "                        bleu_scorer.add_batch(predictions=[pred_text_greedy], references=[[true_text]])\n",
    "                        score = bleu_scorer.compute(smooth_method=\"add-k\")['score']\n",
    "                        running_bleu_greedy += score\n",
    "\n",
    "                        # Beam Search BLEU\n",
    "                        bleu_scorer.add_batch(predictions=[pred_text_beam], references=[[true_text]])\n",
    "                        score = bleu_scorer.compute(smooth_method=\"add-k\")['score']\n",
    "                        running_bleu_beam += score\n",
    "\n",
    "                        # Topp Search BLEU\n",
    "                        bleu_scorer.add_batch(predictions=[pred_text_topp], references=[[true_text]])\n",
    "                        score = bleu_scorer.compute(smooth_method=\"add-k\")['score']\n",
    "                        running_bleu_topp += score\n",
    "\n",
    "            # Calculate Epoch Statistics\n",
    "            epoch_loss = running_loss / running_sample_count\n",
    "            epoch_val_bleu_greedy = round(running_bleu_greedy / running_sample_count, 2)\n",
    "            epoch_val_bleu_beam = round(running_bleu_beam / running_sample_count, 2)\n",
    "            epoch_val_bleu_topp = round(running_bleu_topp / running_sample_count, 2)\n",
    "\n",
    "            print('{} - Loss: {:.4f}'.format(phase, epoch_loss))\n",
    "            if phase == 'val':\n",
    "                print('val - Greedy-BLEU: {:.2f} | Beam-BLEU: {:.2f} | Topp-BLEU: {:.2f}'.format(epoch_val_bleu_greedy, epoch_val_bleu_beam, epoch_val_bleu_topp))\n",
    "\n",
    "            # Update Callback for Best Loss Model State Dict - Greedy Search\n",
    "            if epoch_val_bleu_greedy > best_val_bleu_greedy:\n",
    "                best_val_bleu_greedy = epoch_val_bleu_greedy\n",
    "                best_model_state_greedy = model.state_dict()\n",
    "                torch.save(best_model_state_greedy, callback_path_greedy)\n",
    "\n",
    "            # Update Callback for Best Loss Model State Dict - Beam Search\n",
    "            if epoch_val_bleu_beam > best_val_bleu_beam:\n",
    "                best_val_bleu_beam = epoch_val_bleu_beam\n",
    "                best_model_state_beam = model.state_dict()\n",
    "                torch.save(best_model_state_beam, callback_path_beam)\n",
    "\n",
    "            # Update Callback for Best Loss Model State Dict - Top-p Search\n",
    "            if epoch_val_bleu_topp > best_val_bleu_topp:\n",
    "                best_val_bleu_topp = epoch_val_bleu_topp\n",
    "                best_model_state_topp = model.state_dict()\n",
    "                torch.save(best_model_state_topp, callback_path_topp)\n",
    "\n",
    "            # Update history\n",
    "            if phase == 'train':\n",
    "                train_hist['train_loss'].append(epoch_loss.detach().cpu())\n",
    "            if phase == 'val':\n",
    "                train_hist['val_loss'].append(epoch_loss.detach().cpu())\n",
    "                train_hist['val_bleu_greedy'].append(epoch_val_bleu_greedy)\n",
    "                train_hist['val_bleu_beam'].append(epoch_val_bleu_beam)\n",
    "                train_hist['val_bleu_topp'].append(epoch_val_bleu_topp)\n",
    "\n",
    "        # Printing Epoch training info\n",
    "        time_elapsed = round(time.time() - time_0,0)\n",
    "        print('Training complete in {:.0f}m {:.0f}s'.format(time_elapsed // 60, time_elapsed % 60))\n",
    "        print('')\n",
    "\n",
    "    load_dict = torch.load(callback_path_greedy)\n",
    "    model.load_state_dict(load_dict)\n",
    "\n",
    "    total_elapsed = round(time.time()-start_time,0)\n",
    "    avg_per_epoch = round((time.time()-start_time) / num_epochs, 0)\n",
    "    avg_per_batch = round((time.time()-start_time) / (num_epochs * dataloaders['train'].__len__()), 0)\n",
    "    total_training_time = str(datetime.timedelta(seconds=total_elapsed))\n",
    "    avg_epoch_training_time = str(datetime.timedelta(seconds=avg_per_epoch))\n",
    "    avg_batch_training_time = str(datetime.timedelta(seconds=avg_per_batch))\n",
    "\n",
    "    print('-' * 70)\n",
    "    print('Training Complete!')\n",
    "    print('-' * 70)\n",
    "    print('Batch Size used                 : {0:d}'.format(dataloaders['train'].batch_size))\n",
    "    print('Total training took             : {:} (h:mm:ss)'.format(total_training_time))              \n",
    "    print('Average Training Time per Epoch : {:} (h:mm:ss)'.format(avg_epoch_training_time))\n",
    "    print('Average Training Time per batch : {:} (h:mm:ss)'.format(avg_batch_training_time))  \n",
    "    print('')\n",
    "    print('-' * 70 )\n",
    "    print('Best Validation BLEU Score - Greedy Search : {0:.2f}'.format(best_val_bleu_greedy))\n",
    "    print('Best Validation BLEU Score - Beam Search   : {0:.2f}'.format(best_val_bleu_beam))\n",
    "    print('Best Validation BLEU Score - Topp Search   : {0:.2f}'.format(best_val_bleu_topp))\n",
    "    print('Model callback complete')\n",
    "    return model, train_hist\n",
    "\n"
   ]
  },
  {
   "cell_type": "markdown",
   "metadata": {
    "id": "WRRBGmJpJbYK"
   },
   "source": [
    "# 3. Model Training"
   ]
  },
  {
   "cell_type": "markdown",
   "metadata": {
    "id": "j4ruveCoJfkR"
   },
   "source": [
    "## >> MODEL PARAMETERS"
   ]
  },
  {
   "cell_type": "code",
   "execution_count": 29,
   "metadata": {
    "id": "GGyVTfS7J7zm"
   },
   "outputs": [],
   "source": [
    "# testrun_train_dataset = TOD_Dataset(data_train_df[:20], tokenizer, MAX_LENGTH)\n",
    "# testrun_train_loader = torch.utils.data.DataLoader(testrun_train_dataset, batch_size=BATCH_SIZE, shuffle=False)\n",
    "# testrun_val_dataset = TOD_Dataset(data_val_df[:2], tokenizer, MAX_LENGTH)\n",
    "# testrun_val_loader = torch.utils.data.DataLoader(testrun_val_dataset, batch_size=BATCH_SIZE, shuffle=False)\n",
    "# print(testrun_train_loader.batch_size)\n",
    "# print(testrun_train_loader.__len__())"
   ]
  },
  {
   "cell_type": "code",
   "execution_count": 32,
   "metadata": {
    "id": "nN_iIdU8lj0f",
    "tags": []
   },
   "outputs": [],
   "source": [
    "# Model Training Parameters\n",
    "MODEL_NAME = 't5-small'\n",
    "LR = 5e-4\n",
    "EPOCH = 10\n",
    "OPTIM = torch.optim.Adam\n",
    "\n",
    "# Text Generation Decoding Parameters\n",
    "DECODE_BEAM = 5\n",
    "DECODE_TOPP = 0.8\n",
    "\n",
    "# Callback Save Paths\n",
    "SAVE_FILE_NAME = MODEL_NAME + '_FULL_PRETRAIN'\n",
    "CALLBACK_PATH_GREEDY = os.path.join(basedir, 'model_state\\\\'+ SAVE_FILE_NAME +'_GREEDY.pt')\n",
    "CALLBACK_PATH_BEAM   = os.path.join(basedir, 'model_state\\\\'+ SAVE_FILE_NAME +'_BEAM.pt')\n",
    "CALLBACK_PATH_TOPP   = os.path.join(basedir, 'model_state\\\\'+ SAVE_FILE_NAME +'_TOPP.pt')\n",
    "\n",
    "# Model State Parameters\n",
    "MODEL_SETUP_PATH = os.path.join(basedir, 'model_setup\\\\'+ SAVE_FILE_NAME + '_SETUP' +'.pt')\n",
    "LOAD_STATE_DICT = False"
   ]
  },
  {
   "cell_type": "markdown",
   "metadata": {
    "id": "egTmlv6hJp2A"
   },
   "source": [
    "## Model Training"
   ]
  },
  {
   "cell_type": "code",
   "execution_count": 34,
   "metadata": {
    "colab": {
     "base_uri": "https://localhost:8080/"
    },
    "id": "RsbuMxj7JcTL",
    "outputId": "bf70adff-e873-4da7-cbe2-dc9c466797c2"
   },
   "outputs": [
    {
     "name": "stdout",
     "output_type": "stream",
     "text": [
      "======== Epoch 1 / 10 ========\n",
      "train - Loss: 1.2071\n",
      "val - Loss: 0.9872\n",
      "val - Greedy-BLEU: 35.12 | Beam-BLEU: 35.33 | Topp-BLEU: 35.12\n",
      "Training complete in 101m 48s\n",
      "\n",
      "======== Epoch 2 / 10 ========\n",
      "train - Loss: 1.0296\n",
      "val - Loss: 0.9416\n",
      "val - Greedy-BLEU: 35.18 | Beam-BLEU: 35.47 | Topp-BLEU: 35.18\n",
      "Training complete in 103m 0s\n",
      "\n",
      "======== Epoch 3 / 10 ========\n",
      "train - Loss: 0.9763\n",
      "val - Loss: 0.9148\n",
      "val - Greedy-BLEU: 35.65 | Beam-BLEU: 35.36 | Topp-BLEU: 35.65\n",
      "Training complete in 102m 45s\n",
      "\n",
      "======== Epoch 4 / 10 ========\n",
      "train - Loss: 0.9420\n",
      "val - Loss: 0.9005\n",
      "val - Greedy-BLEU: 35.59 | Beam-BLEU: 35.17 | Topp-BLEU: 35.59\n",
      "Training complete in 104m 12s\n",
      "\n",
      "======== Epoch 5 / 10 ========\n",
      "train - Loss: 0.9157\n",
      "val - Loss: 0.8898\n",
      "val - Greedy-BLEU: 35.46 | Beam-BLEU: 34.83 | Topp-BLEU: 35.46\n",
      "Training complete in 104m 16s\n",
      "\n",
      "======== Epoch 6 / 10 ========\n",
      "train - Loss: 0.8948\n",
      "val - Loss: 0.8845\n",
      "val - Greedy-BLEU: 35.38 | Beam-BLEU: 35.21 | Topp-BLEU: 35.38\n",
      "Training complete in 103m 38s\n",
      "\n",
      "======== Epoch 7 / 10 ========\n",
      "train - Loss: 0.8770\n",
      "val - Loss: 0.8752\n",
      "val - Greedy-BLEU: 35.42 | Beam-BLEU: 35.44 | Topp-BLEU: 35.42\n",
      "Training complete in 104m 39s\n",
      "\n",
      "======== Epoch 8 / 10 ========\n",
      "train - Loss: 0.8609\n",
      "val - Loss: 0.8741\n",
      "val - Greedy-BLEU: 35.35 | Beam-BLEU: 35.19 | Topp-BLEU: 35.35\n",
      "Training complete in 107m 12s\n",
      "\n",
      "======== Epoch 9 / 10 ========\n",
      "train - Loss: 0.8473\n",
      "val - Loss: 0.8699\n",
      "val - Greedy-BLEU: 35.47 | Beam-BLEU: 35.17 | Topp-BLEU: 35.47\n",
      "Training complete in 106m 15s\n",
      "\n",
      "======== Epoch 10 / 10 ========\n",
      "train - Loss: 0.8346\n",
      "val - Loss: 0.8688\n",
      "val - Greedy-BLEU: 35.30 | Beam-BLEU: 34.81 | Topp-BLEU: 35.30\n",
      "Training complete in 107m 27s\n",
      "\n",
      "----------------------------------------------------------------------\n",
      "Training Complete!\n",
      "----------------------------------------------------------------------\n",
      "Batch Size used                 : 48\n",
      "Total training took             : 17:25:13 (h:mm:ss)\n",
      "Average Training Time per Epoch : 1:44:31 (h:mm:ss)\n",
      "Average Training Time per batch : 0:00:02 (h:mm:ss)\n",
      "\n",
      "----------------------------------------------------------------------\n",
      "Best Validation BLEU Score - Greedy Search : 35.65\n",
      "Best Validation BLEU Score - Beam Search   : 35.47\n",
      "Best Validation BLEU Score - Topp Search   : 35.65\n",
      "Model callback complete\n"
     ]
    }
   ],
   "source": [
    "# Initialize Model\n",
    "\n",
    "config = T5Config.from_pretrained(MODEL_NAME, output_hidden_states=False)\n",
    "model = T5ForConditionalGeneration.from_pretrained(MODEL_NAME, config=config)\n",
    "\n",
    "# Continue from Previous Trainingtwq\n",
    "if LOAD_STATE_DICT:\n",
    "  load_dict = torch.load(CALLBACK_PATH)\n",
    "  model.load_state_dict(load_dict)\n",
    "\n",
    "# Data Dictionary for training\n",
    "dataloaders_dict = {'train':train_loader, 'val':val_loader}\n",
    "\n",
    "# Optimizer Initialization\n",
    "params_to_update = model.parameters()\n",
    "optim_ft = OPTIM(params_to_update, lr=LR)\n",
    "\n",
    "# BLEU Metric Scorer\n",
    "bleu = datasets.load_metric('sacrebleu')\n",
    "\n",
    "# Secnd Model to GPU\n",
    "model.to(device)\n",
    "\n",
    "# Train Model\n",
    "model, hist = train_model(model, tokenizer, dataloaders_dict, optim_ft, bleu, EPOCH, DECODE_BEAM, DECODE_TOPP, CALLBACK_PATH_GREEDY, CALLBACK_PATH_BEAM, CALLBACK_PATH_TOPP)\n"
   ]
  },
  {
   "cell_type": "code",
   "execution_count": 34,
   "metadata": {},
   "outputs": [
    {
     "data": {
      "text/plain": [
       "False"
      ]
     },
     "execution_count": 34,
     "metadata": {},
     "output_type": "execute_result"
    }
   ],
   "source": [
    "data_val_df.iloc[575, :]\n",
    "data_val_df['Text'][575] == ''"
   ]
  },
  {
   "cell_type": "markdown",
   "metadata": {},
   "source": [
    "## Save Model Setup"
   ]
  },
  {
   "cell_type": "code",
   "execution_count": 41,
   "metadata": {},
   "outputs": [],
   "source": [
    "model_setup = {'BATCH_SIZE': BATCH_SIZE,\n",
    "               'EPOCH': EPOCH,\n",
    "               'OPTIMIZER': str(OPTIM),\n",
    "               'LEARNING_RATE:': LR,\n",
    "               'TRAINED_MODEL_STATE_FILE': SAVE_FILE_NAME,\n",
    "               'TRAINING_HISTORY': hist\n",
    "              }\n",
    "\n",
    "setup_file = open(MODEL_SETUP_PATH, 'wb')\n",
    "pickle.dump(model_setup, setup_file, protocol=pickle.HIGHEST_PROTOCOL)\n",
    "setup_file.close()"
   ]
  },
  {
   "cell_type": "code",
   "execution_count": 39,
   "metadata": {},
   "outputs": [],
   "source": [
    "load_file = open(MODEL_SETUP_PATH, 'rb')\n",
    "load_hist = pickle.load(load_file)\n",
    "load_file.close()"
   ]
  },
  {
   "cell_type": "code",
   "execution_count": 40,
   "metadata": {},
   "outputs": [
    {
     "data": {
      "image/png": "[encoded data removed]",
      "text/plain": [
       "<Figure size 720x576 with 1 Axes>"
      ]
     },
     "metadata": {
      "needs_background": "light"
     },
     "output_type": "display_data"
    },
    {
     "data": {
      "image/png": "[encoded data removed]",
      "text/plain": [
       "<Figure size 720x576 with 1 Axes>"
      ]
     },
     "metadata": {
      "needs_background": "light"
     },
     "output_type": "display_data"
    }
   ],
   "source": [
    "# Loss Chart\n",
    "train_loss = load_hist['TRAINING_HISTORY']['train_loss'][:10]\n",
    "val_loss = load_hist['TRAINING_HISTORY']['val_loss'][:10]\n",
    "val_BLEU = load_hist['TRAINING_HISTORY']['val_bleu'][:10]\n",
    "\n",
    "x = np.arange(10)+1\n",
    "plt.figure(figsize=(10,8))\n",
    "plt.plot(x, train_loss)\n",
    "plt.plot(x, val_loss)\n",
    "plt.xlabel('Epochs', fontsize=12)\n",
    "plt.ylabel('Loss', fontsize=12)\n",
    "plt.title('Loss vs Epoch', fontsize=20)\n",
    "plt.legend(['Training Loss', 'Validation Loss'])\n",
    "plt.show()\n",
    "plt.figure(figsize=(10,8))\n",
    "plt.plot(x, val_BLEU)\n",
    "# plt.plot(x, val_BLEU_beam)\n",
    "# plt.plot(x, val_BLEU_topp)\n",
    "plt.xlabel('Epochs', fontsize=12)\n",
    "plt.ylabel('BLEU Scores', fontsize=12)\n",
    "plt.title('BLEU Scores vs Epoch', fontsize=20)\n",
    "# plt.legend(['Greedy Search', 'Topp Search', 'Beam Search'])\n",
    "plt.show()"
   ]
  },
  {
   "cell_type": "code",
   "execution_count": null,
   "metadata": {},
   "outputs": [],
   "source": []
  },
  {
   "cell_type": "markdown",
   "metadata": {},
   "source": [
    "# 4. Evaluation"
   ]
  },
  {
   "cell_type": "markdown",
   "metadata": {},
   "source": [
    "## Evaluation Function"
   ]
  },
  {
   "cell_type": "code",
   "execution_count": 41,
   "metadata": {},
   "outputs": [],
   "source": [
    "def calc_bleu(test_loader, model, tokenizer, text_length, beam_size, top_p):\n",
    "    \n",
    "    start_time = time.time()\n",
    "    \n",
    "    # Generate Predictions\n",
    "    input_code = []\n",
    "    actual_text = []\n",
    "    pred_text_greedy = []\n",
    "    pred_text_beam = []\n",
    "    pred_text_topp = []\n",
    "    \n",
    "    model.to(device)\n",
    "    model.eval()\n",
    "    \n",
    "    with torch.no_grad():\n",
    "        for input_ids, attention_mask, labels in test_loader:\n",
    "            \n",
    "            labels[labels==-100] = 0\n",
    "            batch_input_code = tokenizer.batch_decode(input_ids, skip_special_tokens=True)\n",
    "            batch_actual_text = tokenizer.batch_decode(labels, skip_special_tokens=True)\n",
    "            input_code.extend(batch_input_code)\n",
    "            actual_text.extend(batch_actual_text)\n",
    "            \n",
    "            \n",
    "            input_ids = input_ids.to(device)\n",
    "            \n",
    "            # Greedy Search Generation\n",
    "            batch_pred_ids_greedy = model.generate(input_ids=input_ids, max_length=text_length).detach().cpu()\n",
    "            \n",
    "            # Beam Search with Size = beam_size\n",
    "            batch_pred_ids_beam = model.generate(input_ids=input_ids, max_length=text_length, num_beams=beam_size, early_stopping=True).detach().cpu()\n",
    "            \n",
    "            # Top-p Sampling with probability = top_p\n",
    "            batch_pred_ids_topp = model.generate(input_ids=input_ids, max_length=text_length, top_p=top_p, top_k=0).detach().cpu()\n",
    "            \n",
    "            # Decoding\n",
    "            batch_pred_text_greedy = tokenizer.batch_decode(batch_pred_ids_greedy, skip_special_tokens=True)\n",
    "            batch_pred_text_beam = tokenizer.batch_decode(batch_pred_ids_beam, skip_special_tokens=True)\n",
    "            batch_pred_text_topp = tokenizer.batch_decode(batch_pred_ids_topp, skip_special_tokens=True)\n",
    "            \n",
    "            pred_text_greedy.extend(batch_pred_text_greedy)\n",
    "            pred_text_beam.extend(batch_pred_text_beam)\n",
    "            pred_text_topp.extend(batch_pred_text_topp)\n",
    "    \n",
    "    end_gen_time = time.time() \n",
    "    \n",
    "    print('Text Generation Completed ~')\n",
    "    \n",
    "    # Calculate BLEU Score\n",
    "    num_sample = len(actual_text)\n",
    "    bleu = datasets.load_metric('sacrebleu')\n",
    "    \n",
    "    # Greedy Search BLEU Score\n",
    "    score_greedy = []\n",
    "    for i in range(num_sample):\n",
    "        ref_text = actual_text[i]\n",
    "        single_pred = pred_text_greedy[i]\n",
    "        bleu.add_batch(predictions=[single_pred], references=[[ref_text]])\n",
    "        bleu_score = round(bleu.compute(smooth_method=\"add-k\")['score'],2)\n",
    "        score_greedy.append(bleu_score)\n",
    "        \n",
    "    # Beam Search BLEU Score\n",
    "    score_beam = []\n",
    "    for i in range(num_sample):\n",
    "        ref_text = actual_text[i]\n",
    "        single_pred = pred_text_beam[i]\n",
    "        bleu.add_batch(predictions=[single_pred], references=[[ref_text]])\n",
    "        bleu_score = round(bleu.compute(smooth_method=\"add-k\")['score'],2)\n",
    "        score_beam.append(bleu_score)\n",
    "        \n",
    "    # Top-p search generation BLEU Score\n",
    "    score_topp = []\n",
    "    for i in range(num_sample):\n",
    "        ref_text = actual_text[i]\n",
    "        single_pred = pred_text_topp[i]\n",
    "        bleu.add_batch(predictions=[single_pred], references=[[ref_text]])\n",
    "        bleu_score = round(bleu.compute(smooth_method=\"add-k\")['score'],2)\n",
    "        score_topp.append(bleu_score)\n",
    "        \n",
    "    \n",
    "    df = pd.DataFrame(np.array([input_code, actual_text, pred_text_greedy, score_greedy, pred_text_beam, score_beam, pred_text_topp, score_topp]).T, \n",
    "                      columns=['Input_Code', 'Original_Text', 'Generated_Text_Greedy', 'BLEU_Score_Greedy', 'Generated_Text_Beam', 'BLEU_Score_Beam', 'Generated_Text_Topp', 'BLEU_Score_Topp'])\n",
    "    \n",
    "    end_time = time.time()\n",
    "    \n",
    "    print('BLEU Score Calculation Completed ~')\n",
    "\n",
    "    total_time_elapsed = round(end_time-start_time)\n",
    "    text_generation_time = round(end_gen_time-start_time)\n",
    "    bleu_calculation_time = round(end_time-end_gen_time)\n",
    "    avg_generation_time = round(text_generation_time / num_sample, 5)\n",
    "    avg_bleu_time = round(bleu_calculation_time / num_sample, 5)\n",
    "    \n",
    "    print('-' * 70)\n",
    "    print('Total time taken for running evaluation           : {:.0f}m {:.0f}s'.format(total_time_elapsed // 60, total_time_elapsed % 60))\n",
    "    print('Total time taken for text generation              : {:.0f}m {:.0f}s'.format(text_generation_time // 60, text_generation_time % 60))\n",
    "    print('Total time taken for BLEU score calculations      : {:.0f}m {:.0f}s'.format(bleu_calculation_time // 60, bleu_calculation_time % 60))\n",
    "    print('Average time taken to generate text 1 sample      : {:.3f}s'.format(avg_generation_time))\n",
    "    print('Average time taken to calculate BLUE for 1 sample : {:.3f}s'.format(avg_bleu_time))\n",
    "    print('-' * 70)\n",
    "    print('Total number of samples generated  :', len(actual_text))\n",
    "    print('Batch size used in text generation :', test_loader.batch_size)\n",
    "    \n",
    "    return df"
   ]
  },
  {
   "cell_type": "code",
   "execution_count": 42,
   "metadata": {},
   "outputs": [
    {
     "name": "stdout",
     "output_type": "stream",
     "text": [
      "10\n",
      "1\n"
     ]
    }
   ],
   "source": [
    "try_dataset = TOD_Dataset(test_df[:10], tokenizer, MAX_LENGTH)\n",
    "try_loader = torch.utils.data.DataLoader(try_dataset, batch_size=BATCH_SIZE, shuffle=False)\n",
    "print(len(try_dataset))\n",
    "print(len(try_loader))"
   ]
  },
  {
   "cell_type": "markdown",
   "metadata": {},
   "source": [
    "## Run Evaluation on Test Dataset"
   ]
  },
  {
   "cell_type": "code",
   "execution_count": 44,
   "metadata": {},
   "outputs": [
    {
     "name": "stdout",
     "output_type": "stream",
     "text": [
      "Text Generation Completed ~\n",
      "BLEU Score Calculation Completed ~\n",
      "----------------------------------------------------------------------\n",
      "Total time taken for running evaluation           : 0m 7s\n",
      "Total time taken for text generation              : 0m 5s\n",
      "Total time taken for BLEU score calculations      : 0m 2s\n",
      "Average time taken to generate text 1 sample      : 0.500s\n",
      "Average time taken to calculate BLUE for 1 sample : 0.200s\n",
      "----------------------------------------------------------------------\n",
      "Total number of samples generated  : 10\n",
      "Batch size used in text generation : 48\n"
     ]
    }
   ],
   "source": [
    "# Load Model\n",
    "MODEL_NAME = 't5-small'\n",
    "eval_model = T5ForConditionalGeneration.from_pretrained(MODEL_NAME, config=config)\n",
    "\n",
    "load_dict = torch.load(CALLBACK_PATH)\n",
    "eval_model.load_state_dict(load_dict)\n",
    "\n",
    "# Generate Text and Calculate BLEU\n",
    "eval_df = calc_bleu(try_loader, eval_model, tokenizer, MAX_LENGTH, 4, 0.8)"
   ]
  },
  {
   "cell_type": "markdown",
   "metadata": {},
   "source": [
    "## BLEU Score Statistics"
   ]
  },
  {
   "cell_type": "code",
   "execution_count": 45,
   "metadata": {},
   "outputs": [
    {
     "data": {
      "text/html": [
       "<div>\n",
       "<style scoped>\n",
       "    .dataframe tbody tr th:only-of-type {\n",
       "        vertical-align: middle;\n",
       "    }\n",
       "\n",
       "    .dataframe tbody tr th {\n",
       "        vertical-align: top;\n",
       "    }\n",
       "\n",
       "    .dataframe thead th {\n",
       "        text-align: right;\n",
       "    }\n",
       "</style>\n",
       "<table border=\"1\" class=\"dataframe\">\n",
       "  <thead>\n",
       "    <tr style=\"text-align: right;\">\n",
       "      <th></th>\n",
       "      <th>Input_Code</th>\n",
       "      <th>Original_Text</th>\n",
       "      <th>Generated_Text_Greedy</th>\n",
       "      <th>BLEU_Score_Greedy</th>\n",
       "      <th>Generated_Text_Beam</th>\n",
       "      <th>BLEU_Score_Beam</th>\n",
       "      <th>Generated_Text_Topp</th>\n",
       "      <th>BLEU_Score_Topp</th>\n",
       "    </tr>\n",
       "  </thead>\n",
       "  <tbody>\n",
       "    <tr>\n",
       "      <th>0</th>\n",
       "      <td>Restaurants REQUEST ( time =? ; restaurant_nam...</td>\n",
       "      <td>Any preference on the restaurant, location and...</td>\n",
       "      <td>Restaurants REQUEST ( time =? ; restaurant_nam...</td>\n",
       "      <td>4.53</td>\n",
       "      <td>Restaurants REQUEST ( time =? ; restaurant_nam...</td>\n",
       "      <td>8.71</td>\n",
       "      <td>Restaurants REQUEST ( time =? ; restaurant_nam...</td>\n",
       "      <td>4.53</td>\n",
       "    </tr>\n",
       "    <tr>\n",
       "      <th>1</th>\n",
       "      <td>Restaurants CONFIRM ( restaurant_name = P.f. C...</td>\n",
       "      <td>Please confirm your reservation at P.f. Chang'...</td>\n",
       "      <td>Restaurants CONFIRM ( restaurant_name = P.f. C...</td>\n",
       "      <td>8.01</td>\n",
       "      <td>Restaurants CONFIRM ( restaurant_name = P.f. C...</td>\n",
       "      <td>16.53</td>\n",
       "      <td>Restaurants CONFIRM ( restaurant_name = P.f. C...</td>\n",
       "      <td>8.01</td>\n",
       "    </tr>\n",
       "    <tr>\n",
       "      <th>2</th>\n",
       "      <td>Restaurants NOTIFY_FAILURE | Restaurants REQ_MORE</td>\n",
       "      <td>Sorry, your reservation could not be made. Cou...</td>\n",
       "      <td>Restaurants NOTIFY_FAILURE | Restaurants REQ_M...</td>\n",
       "      <td>0.0</td>\n",
       "      <td>Restaurants NOTIFY_FAILURE | Restaurants REQ_M...</td>\n",
       "      <td>0.0</td>\n",
       "      <td>Restaurants NOTIFY_FAILURE | Restaurants REQ_M...</td>\n",
       "      <td>0.0</td>\n",
       "    </tr>\n",
       "    <tr>\n",
       "      <th>3</th>\n",
       "      <td>Restaurants CONFIRM ( restaurant_name = Beniss...</td>\n",
       "      <td>Sure, please confirm your reservation at Benis...</td>\n",
       "      <td>Restaurants CONFIRM ( restaurant_name = Beniss...</td>\n",
       "      <td>13.54</td>\n",
       "      <td>Restaurants CONFIRM ( restaurant_name = Beniss...</td>\n",
       "      <td>13.54</td>\n",
       "      <td>Restaurants CONFIRM ( restaurant_name = Beniss...</td>\n",
       "      <td>13.54</td>\n",
       "    </tr>\n",
       "    <tr>\n",
       "      <th>4</th>\n",
       "      <td>Restaurants INFORM ( price_range = moderate ; ...</td>\n",
       "      <td>Your reservation has been made. Unfortunately,...</td>\n",
       "      <td>Restaurants INFORM ( price_range = moderate ; ...</td>\n",
       "      <td>1.98</td>\n",
       "      <td>Restaurants INFORM ( price_range = moderate ; ...</td>\n",
       "      <td>1.98</td>\n",
       "      <td>Restaurants INFORM ( price_range = moderate ; ...</td>\n",
       "      <td>1.98</td>\n",
       "    </tr>\n",
       "    <tr>\n",
       "      <th>5</th>\n",
       "      <td>Restaurants REQ_MORE</td>\n",
       "      <td>No worries, could I further assist you?</td>\n",
       "      <td>Restaurants REQ_MORE REQ_MORE REQ_MORE REQ_MOR...</td>\n",
       "      <td>0.0</td>\n",
       "      <td>Restaurants REQ_MORE REQ_MORE REQ_MORE REQ_MOR...</td>\n",
       "      <td>0.0</td>\n",
       "      <td>Restaurants REQ_MORE REQ_MORE REQ_MORE REQ_MOR...</td>\n",
       "      <td>0.0</td>\n",
       "    </tr>\n",
       "    <tr>\n",
       "      <th>6</th>\n",
       "      <td>Restaurants GOODBYE</td>\n",
       "      <td>Have a great day ahead!</td>\n",
       "      <td>Restaurants GOODBYE GOODBYE GOODBYE GOODBYE GO...</td>\n",
       "      <td>0.0</td>\n",
       "      <td>Restaurants GOODBYE GOODBYE.</td>\n",
       "      <td>0.0</td>\n",
       "      <td>Restaurants GOODBYE GOODBYE GOODBYE GOODBYE GO...</td>\n",
       "      <td>0.0</td>\n",
       "    </tr>\n",
       "    <tr>\n",
       "      <th>7</th>\n",
       "      <td>Restaurants REQUEST ( location =? )</td>\n",
       "      <td>In which city are you trying to book the table?</td>\n",
       "      <td>Restaurants REQUEST ( location =? ) ( location...</td>\n",
       "      <td>8.91</td>\n",
       "      <td>Restaurants REQUEST ( location =? )</td>\n",
       "      <td>9.12</td>\n",
       "      <td>Restaurants REQUEST ( location =? ) ( location...</td>\n",
       "      <td>8.91</td>\n",
       "    </tr>\n",
       "    <tr>\n",
       "      <th>8</th>\n",
       "      <td>Restaurants CONFIRM ( restaurant_name = Butter...</td>\n",
       "      <td>Please confirm that you need a table for 2 at ...</td>\n",
       "      <td>Restaurants CONFIRM ( restaurant_name = Butter...</td>\n",
       "      <td>6.26</td>\n",
       "      <td>Restaurants CONFIRM ( restaurant_name = Butter...</td>\n",
       "      <td>6.63</td>\n",
       "      <td>Restaurants CONFIRM ( restaurant_name = Butter...</td>\n",
       "      <td>6.26</td>\n",
       "    </tr>\n",
       "    <tr>\n",
       "      <th>9</th>\n",
       "      <td>Restaurants INFORM ( category = Asian ) | Rest...</td>\n",
       "      <td>Your table has been booked successfully and th...</td>\n",
       "      <td>Restaurants INFORM ( category = Asian ) | Rest...</td>\n",
       "      <td>1.72</td>\n",
       "      <td>Restaurants INFORM ( category = Asian ) | Rest...</td>\n",
       "      <td>1.44</td>\n",
       "      <td>Restaurants INFORM ( category = Asian ) | Rest...</td>\n",
       "      <td>1.72</td>\n",
       "    </tr>\n",
       "  </tbody>\n",
       "</table>\n",
       "</div>"
      ],
      "text/plain": [
       "                                          Input_Code  \\\n",
       "0  Restaurants REQUEST ( time =? ; restaurant_nam...   \n",
       "1  Restaurants CONFIRM ( restaurant_name = P.f. C...   \n",
       "2  Restaurants NOTIFY_FAILURE | Restaurants REQ_MORE   \n",
       "3  Restaurants CONFIRM ( restaurant_name = Beniss...   \n",
       "4  Restaurants INFORM ( price_range = moderate ; ...   \n",
       "5                               Restaurants REQ_MORE   \n",
       "6                                Restaurants GOODBYE   \n",
       "7                Restaurants REQUEST ( location =? )   \n",
       "8  Restaurants CONFIRM ( restaurant_name = Butter...   \n",
       "9  Restaurants INFORM ( category = Asian ) | Rest...   \n",
       "\n",
       "                                       Original_Text  \\\n",
       "0  Any preference on the restaurant, location and...   \n",
       "1  Please confirm your reservation at P.f. Chang'...   \n",
       "2  Sorry, your reservation could not be made. Cou...   \n",
       "3  Sure, please confirm your reservation at Benis...   \n",
       "4  Your reservation has been made. Unfortunately,...   \n",
       "5            No worries, could I further assist you?   \n",
       "6                            Have a great day ahead!   \n",
       "7    In which city are you trying to book the table?   \n",
       "8  Please confirm that you need a table for 2 at ...   \n",
       "9  Your table has been booked successfully and th...   \n",
       "\n",
       "                               Generated_Text_Greedy BLEU_Score_Greedy  \\\n",
       "0  Restaurants REQUEST ( time =? ; restaurant_nam...              4.53   \n",
       "1  Restaurants CONFIRM ( restaurant_name = P.f. C...              8.01   \n",
       "2  Restaurants NOTIFY_FAILURE | Restaurants REQ_M...               0.0   \n",
       "3  Restaurants CONFIRM ( restaurant_name = Beniss...             13.54   \n",
       "4  Restaurants INFORM ( price_range = moderate ; ...              1.98   \n",
       "5  Restaurants REQ_MORE REQ_MORE REQ_MORE REQ_MOR...               0.0   \n",
       "6  Restaurants GOODBYE GOODBYE GOODBYE GOODBYE GO...               0.0   \n",
       "7  Restaurants REQUEST ( location =? ) ( location...              8.91   \n",
       "8  Restaurants CONFIRM ( restaurant_name = Butter...              6.26   \n",
       "9  Restaurants INFORM ( category = Asian ) | Rest...              1.72   \n",
       "\n",
       "                                 Generated_Text_Beam BLEU_Score_Beam  \\\n",
       "0  Restaurants REQUEST ( time =? ; restaurant_nam...            8.71   \n",
       "1  Restaurants CONFIRM ( restaurant_name = P.f. C...           16.53   \n",
       "2  Restaurants NOTIFY_FAILURE | Restaurants REQ_M...             0.0   \n",
       "3  Restaurants CONFIRM ( restaurant_name = Beniss...           13.54   \n",
       "4  Restaurants INFORM ( price_range = moderate ; ...            1.98   \n",
       "5  Restaurants REQ_MORE REQ_MORE REQ_MORE REQ_MOR...             0.0   \n",
       "6                       Restaurants GOODBYE GOODBYE.             0.0   \n",
       "7                Restaurants REQUEST ( location =? )            9.12   \n",
       "8  Restaurants CONFIRM ( restaurant_name = Butter...            6.63   \n",
       "9  Restaurants INFORM ( category = Asian ) | Rest...            1.44   \n",
       "\n",
       "                                 Generated_Text_Topp BLEU_Score_Topp  \n",
       "0  Restaurants REQUEST ( time =? ; restaurant_nam...            4.53  \n",
       "1  Restaurants CONFIRM ( restaurant_name = P.f. C...            8.01  \n",
       "2  Restaurants NOTIFY_FAILURE | Restaurants REQ_M...             0.0  \n",
       "3  Restaurants CONFIRM ( restaurant_name = Beniss...           13.54  \n",
       "4  Restaurants INFORM ( price_range = moderate ; ...            1.98  \n",
       "5  Restaurants REQ_MORE REQ_MORE REQ_MORE REQ_MOR...             0.0  \n",
       "6  Restaurants GOODBYE GOODBYE GOODBYE GOODBYE GO...             0.0  \n",
       "7  Restaurants REQUEST ( location =? ) ( location...            8.91  \n",
       "8  Restaurants CONFIRM ( restaurant_name = Butter...            6.26  \n",
       "9  Restaurants INFORM ( category = Asian ) | Rest...            1.72  "
      ]
     },
     "execution_count": 45,
     "metadata": {},
     "output_type": "execute_result"
    }
   ],
   "source": [
    "eval_df"
   ]
  },
  {
   "cell_type": "markdown",
   "metadata": {},
   "source": [
    "## Save Evaluation Results to File"
   ]
  },
  {
   "cell_type": "code",
   "execution_count": 58,
   "metadata": {},
   "outputs": [],
   "source": [
    "eval_result_savepath = os.path.join(basedir, 'eval_result\\\\' + MODEL_NAME + '_eval.csv')\n",
    "\n",
    "eval_df.to_csv(eval_result_savepath)"
   ]
  },
  {
   "cell_type": "code",
   "execution_count": 56,
   "metadata": {},
   "outputs": [
    {
     "data": {
      "text/plain": [
       "'D:\\\\Personal\\\\Education\\\\NUS-ISS Mtech IS\\\\Course Materials\\\\4. Practical Language Processing (PLP)\\\\0. PLP Project\\\\Code\\\\NLG'"
      ]
     },
     "execution_count": 56,
     "metadata": {},
     "output_type": "execute_result"
    }
   ],
   "source": [
    "basedir"
   ]
  },
  {
   "cell_type": "code",
   "execution_count": null,
   "metadata": {},
   "outputs": [],
   "source": []
  },
  {
   "cell_type": "code",
   "execution_count": null,
   "metadata": {},
   "outputs": [],
   "source": []
  },
  {
   "cell_type": "code",
   "execution_count": null,
   "metadata": {},
   "outputs": [],
   "source": []
  },
  {
   "cell_type": "code",
   "execution_count": null,
   "metadata": {},
   "outputs": [],
   "source": []
  },
  {
   "cell_type": "code",
   "execution_count": null,
   "metadata": {},
   "outputs": [],
   "source": []
  },
  {
   "cell_type": "code",
   "execution_count": null,
   "metadata": {},
   "outputs": [],
   "source": []
  },
  {
   "cell_type": "code",
   "execution_count": null,
   "metadata": {},
   "outputs": [],
   "source": [
    "# Initialize Model\n",
    "\n",
    "config = T5Config.from_pretrained(MODEL_NAME, output_hidden_states=False)\n",
    "model = T5ForConditionalGeneration.from_pretrained(MODEL_NAME, config=config)\n",
    "\n",
    "# Continue from Previous Trainingtwq\n",
    "if LOAD_STATE_DICT:\n",
    "  load_dict = torch.load(CALLBACK_PATH)\n",
    "  model.load_state_dict(load_dict)\n",
    "\n",
    "# Data Dictionary for training\n",
    "dataloaders_dict = {'train':train_loader, 'val':val_loader}\n",
    "\n",
    "# Optimizer Initialization\n",
    "params_to_update = model.parameters()\n",
    "optim_ft = OPTIM(params_to_update, lr=LR)\n",
    "\n",
    "# BLEU Metric Scorer\n",
    "bleu = datasets.load_metric('sacrebleu')\n",
    "\n",
    "# Secnd Model to GPU\n",
    "model.to(device)\n",
    "\n",
    "# Train Model\n",
    "model, hist = train_model(model, tokenizer, dataloaders_dict, optim_ft, bleu, EPOCH, CALLBACK_PATH)"
   ]
  },
  {
   "cell_type": "code",
   "execution_count": null,
   "metadata": {
    "colab": {
     "base_uri": "https://localhost:8080/"
    },
    "id": "spBVNEL3brk1",
    "outputId": "968dd03b-c164-4af5-ded6-8fc7a36493aa"
   },
   "outputs": [
    {
     "name": "stderr",
     "output_type": "stream",
     "text": [
      "Setting `pad_token_id` to `eos_token_id`:50256 for open-end generation.\n"
     ]
    },
    {
     "name": "stdout",
     "output_type": "stream",
     "text": [
      "======================================================================\n",
      "Original Data Point:\n",
      "----------------------------------------------------------------------\n",
      "Control Code String           : Restaurants REQUEST ( city )\n",
      "Target Text String            : Do you have a specific which you want the eating place to be located at?\n",
      "Tokenized Control Code Tokens : [BOS] Restaurants REQUEST ( city ) [SEP]\n",
      "======================================================================\n",
      "Model Predictions:\n",
      "----------------------------------------------------------------------\n",
      "Full Prediction String        : Restaurants REQUEST ( city )I see that city. I would like to make a reservation there.\n"
     ]
    }
   ],
   "source": [
    "eval_sample_idx = 1\n",
    "eval_sample_code = train_code[eval_sample_idx]\n",
    "eval_sample_text = train_text[eval_sample_idx]\n",
    "# eval_ids = tokenizer.encode('[BOS]' + eval_sample_code + '[SEP]', return_tensors='pt')\n",
    "eval_ids = tokenizer.encode('[BOS]' + eval_sample_code + '[SEP]', return_tensors='pt')\n",
    "\n",
    "eval_ids = eval_ids.to(device)\n",
    "model.to(device)\n",
    "model.eval()\n",
    "eval_greedy_output = model.generate(eval_ids, max_length=192)\n",
    "eval_greedy_text = tokenizer.decode(eval_greedy_output[0], skip_special_tokens=True)\n",
    "\n",
    "print('=' * 70)\n",
    "print('Original Data Point:')\n",
    "print('-' * 70)\n",
    "print('Control Code String           :', eval_sample_code)\n",
    "print('Target Text String            :', eval_sample_text)\n",
    "print('Tokenized Control Code Tokens :', tokenizer.decode(eval_ids[0]))\n",
    "print('=' * 70)\n",
    "print('Model Predictions:')\n",
    "print('-' * 70)\n",
    "print('Full Prediction String        :', eval_greedy_text)"
   ]
  },
  {
   "cell_type": "code",
   "execution_count": null,
   "metadata": {
    "colab": {
     "base_uri": "https://localhost:8080/"
    },
    "id": "KdWQ43WYJcMb",
    "outputId": "e4cd7d86-4e20-4d1f-ad8e-b01b4796b5f9"
   },
   "outputs": [
    {
     "name": "stderr",
     "output_type": "stream",
     "text": [
      "Setting `pad_token_id` to `eos_token_id`:50256 for open-end generation.\n"
     ]
    },
    {
     "name": "stdout",
     "output_type": "stream",
     "text": [
      "Flights CONFIRM ( origin_city = Mexico City ; destination_city = San Francisco ; airlines = American Airlines ; departure_date = March 11th ; return_date = March 13th ; outbound_departure_time = 2:55 pm ; inbound_departure_time = 1:20 pm ; seating_class = Economy ; passengers = 2 )\n",
      "--------------------------------------------------\n",
      "Flights CONFIRM ( origin_city = Mexico City ; destination_city = San Francisco ; airlines = American Airlines ; departure_date = March 11th ; return_date = March 13th ; outbound_departure_time = 2:55 pm ; inbound_departure_time = 1:20 pm ; seating_class = Economy ; passengers = 2 ) ; [PAD] [PAD] [PAD] [PAD] [PAD] [PAD] [PAD] [PAD] [PAD] [PAD] [PAD] [PAD] [PAD] [PAD] [PAD] [PAD] [PAD] [PAD] [PAD] [PAD] [PAD] [PAD] [PAD] [PAD] [PAD] [PAD] [PAD] [PAD] [PAD] [PAD] [PAD] [PAD] [PAD] [PAD] [PAD] [PAD] [PAD] [PAD] [PAD] [PAD] [PAD] [PAD] [PAD] [PAD] [PAD] [PAD] [PAD] [PAD] [PAD] [PAD] [PAD] [PAD] [PAD] [PAD] [PAD] [PAD] [PAD] [PAD] [PAD] [PAD] [PAD] [PAD] [PAD] [PAD] [PAD] [PAD] [PAD] [PAD] [PAD] [PAD] [PAD] [PAD] [PAD] [PAD] [PAD] [PAD] [PAD] [PAD] [PAD] [PAD] [PAD] [PAD] [PAD] [PAD] [PAD] [PAD] [PAD] [PAD] [PAD] [PAD] [PAD] [PAD] [PAD] [PAD] [PAD] [PAD] [PAD] [PAD] [PAD] [PAD] [PAD] [PAD] [PAD] [PAD] [PAD] [PAD] [PAD] [PAD] [PAD] [PAD] [PAD] [PAD]\n"
     ]
    }
   ],
   "source": [
    "play_text = train_code[sample_id]\n",
    "play_input_ids = tokenizer.encode(play_text, return_tensors='pt')\n",
    "\n",
    "model1 = GPT2LMHeadModel.from_pretrained(\"gpt2\", pad_token_id=tokenizer.eos_token_id)\n",
    "model.cpu()\n",
    "greedy_output = model.generate(play_input_ids, max_length=192)\n",
    "\n",
    "print(play_text)\n",
    "print('-' * 50)\n",
    "print(tokenizer.decode(greedy_output[0]))"
   ]
  },
  {
   "cell_type": "code",
   "execution_count": null,
   "metadata": {
    "colab": {
     "base_uri": "https://localhost:8080/"
    },
    "id": "UU1hfCG7haoz",
    "outputId": "401ea518-3ffc-4c3e-eadb-3faaec1bd3e6"
   },
   "outputs": [
    {
     "data": {
      "text/plain": [
       "tensor([[   40,  2883,  6155,   351,   616, 13779,  3290]])"
      ]
     },
     "execution_count": 43,
     "metadata": {},
     "output_type": "execute_result"
    }
   ],
   "source": [
    "play_input_ids"
   ]
  },
  {
   "cell_type": "code",
   "execution_count": null,
   "metadata": {
    "colab": {
     "base_uri": "https://localhost:8080/"
    },
    "id": "ycgwOhOZJcKP",
    "outputId": "ce5a7050-b20f-4e8a-c56e-4173bf367042"
   },
   "outputs": [
    {
     "name": "stdout",
     "output_type": "stream",
     "text": [
      "I enjoy walking with my cute dog, but I'm not sure if I'll ever be able to walk with my dog. I'm not sure if I'll ever be able to walk with my dog.\n",
      "\n",
      "I'm not sure if I'll\n"
     ]
    }
   ],
   "source": [
    "greedy_output = model1.generate(play_input_ids, max_length=50)\n",
    "print(tokenizer.decode(greedy_output[0]))"
   ]
  },
  {
   "cell_type": "code",
   "execution_count": null,
   "metadata": {
    "id": "f8mKwk7tJbvP"
   },
   "outputs": [],
   "source": []
  }
 ],
 "metadata": {
  "accelerator": "GPU",
  "colab": {
   "collapsed_sections": [],
   "name": "T5_Fine_Tune.ipynb",
   "provenance": [],
   "toc_visible": true
  },
  "kernelspec": {
   "display_name": "Python [conda env:py39_gpu1]",
   "language": "python",
   "name": "conda-env-py39_gpu1-py"
  },
  "language_info": {
   "codemirror_mode": {
    "name": "ipython",
    "version": 3
   },
   "file_extension": ".py",
   "mimetype": "text/x-python",
   "name": "python",
   "nbconvert_exporter": "python",
   "pygments_lexer": "ipython3",
   "version": "3.9.0"
  }
 },
 "nbformat": 4,
 "nbformat_minor": 4
}
